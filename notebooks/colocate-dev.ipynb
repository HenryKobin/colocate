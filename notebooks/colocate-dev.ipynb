{
 "cells": [
  {
   "cell_type": "code",
   "execution_count": null,
   "metadata": {},
   "outputs": [],
   "source": [
    "%load_ext autoreload\n",
    "%autoreload 2\n",
    "from colocate import ui, erddap_query, run, plot\n",
    "\n",
    "#import holoviews as hv\n",
    "#hv.extension(case_sensitive_completion=True)\n",
    "\n",
    "import hvplot\n",
    "import hvplot.pandas"
   ]
  },
  {
   "cell_type": "code",
   "execution_count": null,
   "metadata": {},
   "outputs": [],
   "source": [
    "ui.m"
   ]
  },
  {
   "cell_type": "code",
   "execution_count": null,
   "metadata": {},
   "outputs": [],
   "source": [
    "ui.dates"
   ]
  },
  {
   "cell_type": "code",
   "execution_count": null,
   "metadata": {},
   "outputs": [],
   "source": [
    "ui.drpdwn"
   ]
  },
  {
   "cell_type": "code",
   "execution_count": null,
   "metadata": {},
   "outputs": [],
   "source": [
    "ui.kw"
   ]
  },
  {
   "cell_type": "code",
   "execution_count": null,
   "metadata": {},
   "outputs": [],
   "source": [
    "ui.button"
   ]
  },
  {
   "cell_type": "code",
   "execution_count": null,
   "metadata": {},
   "outputs": [],
   "source": [
    "ui.df"
   ]
  },
  {
   "cell_type": "code",
   "execution_count": null,
   "metadata": {},
   "outputs": [],
   "source": [
    "all_coords = erddap_query.get_coordinates(ui.df, **ui.kw)"
   ]
  },
  {
   "cell_type": "code",
   "execution_count": null,
   "metadata": {},
   "outputs": [],
   "source": [
    "all_coords"
   ]
  },
  {
   "cell_type": "code",
   "execution_count": null,
   "metadata": {},
   "outputs": [],
   "source": [
    "all_coords.columns"
   ]
  },
  {
   "cell_type": "code",
   "execution_count": null,
   "metadata": {},
   "outputs": [],
   "source": [
    "figure = plot.plot_datashader(all_coords)"
   ]
  },
  {
   "cell_type": "code",
   "execution_count": null,
   "metadata": {},
   "outputs": [],
   "source": [
    "figure"
   ]
  },
  {
   "cell_type": "code",
   "execution_count": null,
   "metadata": {},
   "outputs": [],
   "source": [
    "print(figure)"
   ]
  },
  {
   "cell_type": "code",
   "execution_count": null,
   "metadata": {},
   "outputs": [],
   "source": [
    "import panel as pn\n",
    "import param\n",
    "pn.extension()\n",
    "pn.__version__"
   ]
  },
  {
   "cell_type": "code",
   "execution_count": null,
   "metadata": {},
   "outputs": [],
   "source": [
    "# list type is necessary to add an empty value, otherwise could use numpy.ndarrays directly in ObjectSelector:\n",
    "server_list = ui.df['server'].unique().tolist()\n",
    "server_list[:0] = [None]\n",
    "institution_list = ui.df['Institution'].unique().tolist()\n",
    "institution_list[:0] = [None]\n",
    "dataset_id_list = servers = ui.df['Dataset ID'].unique().tolist()\n",
    "dataset_id_list[:0] = [None]\n",
    "\n",
    "class ErddapParams(param.Parameterized):\n",
    "    #sel_server = param.ObjectSelector(objects=servers)\n",
    "    #sel_institution = param.ObjectSelector(objects=institutions)\n",
    "    #sel_datatypes = param.ObjectSelector(objects=datatypes)\n",
    "    \n",
    "    sel_server = param.ObjectSelector(objects=server_list, default=None, allow_None=True, label=\"Select an ERDDAP Server:\")\n",
    "    sel_institution = param.ObjectSelector(objects=institution_list, default=None, allow_None=True, label=\"Select an Institution:\")\n",
    "    #sel_datatypes = param.ObjectSelector(objects=datatypes)\n",
    "\n",
    "    #sel_server = param.ObjectSelector(objects=servers, default=\"\", check_on_set=False, allow_None=True, label=\"Select an ERDDAP Server:\")\n",
    "    #sel_institution = param.ObjectSelector(objects=instiutions, default=\"\", check_on_set=False, allow_None=True, label=\"Select an Institution:\")\n",
    "\n",
    "#erddap_params = ErddapParams(servers=servers.tolist(), institutions=institutions.tolist())\n",
    "erddap_params = ErddapParams()"
   ]
  },
  {
   "cell_type": "code",
   "execution_count": null,
   "metadata": {},
   "outputs": [],
   "source": [
    "#filtered_ids_list = filtered_df['Dataset ID'].unique().tolist()\n",
    "#filtered_ids_list[:0] = [None]\n",
    "\n",
    "class ChartParams(param.Parameterized):\n",
    "    sel_datasetid = param.ObjectSelector(objects=filtered_ids_list, default=None, allow_None=True, label=\"Select Dataset to Plot:\")\n",
    "    \n",
    "chart_params = ChartParams()"
   ]
  },
  {
   "cell_type": "code",
   "execution_count": null,
   "metadata": {},
   "outputs": [],
   "source": [
    "filtered_df = ui.df\n",
    "\n",
    "@pn.depends(erddap_params.param.sel_server, erddap_params.param.sel_institution, chart_params.param.sel_datasetid)\n",
    "def filter_df(server, institution, datsetid):\n",
    "    \n",
    "    if server is not None:\n",
    "        try:\n",
    "            filter &= ui.df.server.str.contains(server)\n",
    "        except NameError:\n",
    "            filter = ui.df.server.str.contains(server) \n",
    "            \n",
    "    if institution is not None:\n",
    "        try:\n",
    "            filter &= ui.df.Institution.str.contains(institution)\n",
    "        except NameError:\n",
    "            filter = ui.df.Institution.str.contains(institution)\n",
    "    \n",
    "    #filter &=  ui.df.server=server if server is not None\n",
    "    #filter &=  ui.df.institution=institution if institution is not None\n",
    "    try:\n",
    "        \n",
    "        # below attempts to dynamically update the Params pulldown classes based on the updated DataFrame results, but doesn't work, yet...\n",
    "        server_list_filter = ui.df[filter].server.unique().tolist()\n",
    "        server_list_filter[:0] = [None]\n",
    "        #erddap_params.param.sel_server = param.ObjectSelector(objects=server_list_filter, default=None, allow_None=True, label=\"Select an ERDDAP Server:\")\n",
    "        #ErddapParams.param.sel_server = param.ObjectSelector(objects=server_list_filter, default=None, allow_None=True, label=\"Select an ERDDAP Server:\")\n",
    "        #server.objects = server_list_filter\n",
    "        \n",
    "        institution_list_filter = ui.df[filter].Institution.unique().tolist()\n",
    "        institution_list_filter[:0] = [None]\n",
    "        #erddap_params.param.sel_institution = param.ObjectSelector(objects=institution_list_filter, default=None, allow_None=True, label=\"Select an Institution:\")\n",
    "        #ErddapParams.param.sel_institution = param.ObjectSelector(objects=institution_list_filter, default=None, allow_None=True, label=\"Select an Institution:\")\n",
    "        #institution.objects = institution_list_filter\n",
    "        \n",
    "        #id_list_filter = ui.df[filter]['Dataset ID'].unique().tolist()\n",
    "        #datsetid.objects = id_list_filter\n",
    "        \n",
    "        filtered_df = ui.df[filter].drop(columns=['Summary']).head(10)\n",
    "        return ui.df[filter].drop(columns=['Summary']).head(10)\n",
    "    except Exception: \n",
    "        return ui.df.drop(columns=['Summary']).head(10)"
   ]
  },
  {
   "cell_type": "code",
   "execution_count": null,
   "metadata": {},
   "outputs": [],
   "source": [
    "#gspec = pn.GridSpec(sizing_mode='stretch_both', max_height=1000)\n",
    "gspec = pn.GridSpec(sizing_mode='stretch_both', height_policy='fit', width_policy='auto', height=1600)\n",
    "gspec[0, 0] = erddap_params\n",
    "gspec[0, 1:4] = pn.panel(filter_df, width=800, max_height=300)\n",
    "gspec[1, 0] = chart_params\n",
    "gspec[2, :] = pn.Spacer(background='purple', margin=0)\n",
    "gspec"
   ]
  },
  {
   "cell_type": "code",
   "execution_count": null,
   "metadata": {},
   "outputs": [],
   "source": []
  }
 ],
 "metadata": {
  "kernelspec": {
   "display_name": "Python 3",
   "language": "python",
   "name": "python3"
  },
  "language_info": {
   "codemirror_mode": {
    "name": "ipython",
    "version": 3
   },
   "file_extension": ".py",
   "mimetype": "text/x-python",
   "name": "python",
   "nbconvert_exporter": "python",
   "pygments_lexer": "ipython3",
   "version": "3.8.5"
  }
 },
 "nbformat": 4,
 "nbformat_minor": 4
}
