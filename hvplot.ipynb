{
 "cells": [
  {
   "cell_type": "code",
   "execution_count": null,
   "metadata": {},
   "outputs": [],
   "source": [
    "import pandas as pd\n",
    "\n",
    "\n",
    "df_coords = pd.read_csv(\"coordinates.zip\", index_col=0)\n",
    "#df_coords.head()"
   ]
  },
  {
   "cell_type": "code",
   "execution_count": null,
   "metadata": {},
   "outputs": [],
   "source": [
    "import geoviews as gv\n",
    "import hvplot.pandas\n",
    "from cmocean import cm\n",
    "\n",
    "\n",
    "gv.extension(\"bokeh\")"
   ]
  },
  {
   "cell_type": "code",
   "execution_count": null,
   "metadata": {},
   "outputs": [],
   "source": [
    "from bokeh.models import HoverTool\n",
    "from bokeh.models import ColumnDataSource, Range1d, LabelSet, Label\n",
    "from bokeh.plotting import figure, output_file, show, ColumnDataSource\n",
    "\n",
    "#source = ColumnDataSource(data=df_coords.iloc[:10])\n",
    "\n",
    "#hover = HoverTool(\n",
    "\n",
    "#tooltips=[(\"Dataset ID\", \"@Dataset ID\")]\n",
    "\n",
    "#my_hover.tooltips = [('Address of the point', '@address')]\n",
    "\n",
    "\n",
    "#p = figure(plot_width=400, plot_height=400, tooltips=tooltips,\n",
    "           #title=\"Mouse over the dots\")\n",
    "\n",
    "#p.circle('longitude (degrees_east)', 'latitude (degrees_north)', size=20, source=source)\n",
    "\n",
    "\n",
    "gv.tile_sources.ESRI * df_coords.iloc[:10].hvplot.points(\n",
    "    'longitude (degrees_east)', 'latitude (degrees_north)', \n",
    "    geo=True, color='red', alpha=0.2, height=500)\n",
    "\n",
    "\n",
    "#p = gv.tile_sources.EsriOceanBase * df_coords.hvplot.points(\n",
    "#    \"longitude (degrees_east)\",\n",
    "#    \"latitude (degrees_north)\",\n",
    "#    width=600,\n",
    "#    height=540,\n",
    "#)\n",
    "#     size=5,\n",
    "#    c=\"Dataset ID\",\n",
    "#    geo=True,\n",
    "#     cmap=cm.tempo,\n",
    "#     datashade=True,\n",
    "#     rasterize=True\n",
    "#.opts(tools=[hover])\n",
    "\n",
    "#labels = LabelSet(x=\"longitude (degrees_east)\", y=\"latitude (degrees_north)\", text=\"Dataset ID\", level='glyph',\n",
    "#              x_offset=5, y_offset=5, source=source, render_mode='canvas')\n",
    "#show(p)\n",
    "#p.add_layout(labels)\n",
    "print(\"Done\")"
   ]
  },
  {
   "cell_type": "code",
   "execution_count": null,
   "metadata": {
    "scrolled": true
   },
   "outputs": [],
   "source": [
    "import cartopy.io.shapereader as shpreader\n",
    "shpfilename = shpreader.natural_earth(resolution='10m',\n",
    "                                     category='physical',\n",
    "                                     name='coastline')"
   ]
  },
  {
   "cell_type": "code",
   "execution_count": null,
   "metadata": {},
   "outputs": [],
   "source": [
    "source.column_names"
   ]
  },
  {
   "cell_type": "code",
   "execution_count": null,
   "metadata": {},
   "outputs": [],
   "source": [
    "df_coords.iloc[:10]"
   ]
  },
  {
   "cell_type": "code",
   "execution_count": null,
   "metadata": {},
   "outputs": [],
   "source": []
  }
 ],
 "metadata": {
  "kernelspec": {
   "display_name": "Python 3",
   "language": "python",
   "name": "python3"
  },
  "language_info": {
   "codemirror_mode": {
    "name": "ipython",
    "version": 3
   },
   "file_extension": ".py",
   "mimetype": "text/x-python",
   "name": "python",
   "nbconvert_exporter": "python",
   "pygments_lexer": "ipython3",
   "version": "3.7.3"
  }
 },
 "nbformat": 4,
 "nbformat_minor": 4
}
