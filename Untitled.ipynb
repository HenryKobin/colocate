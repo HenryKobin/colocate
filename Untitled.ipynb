{
 "cells": [
  {
   "cell_type": "code",
   "execution_count": 1,
   "metadata": {},
   "outputs": [
    {
     "name": "stderr",
     "output_type": "stream",
     "text": [
      "/anaconda3/envs/OHW/lib/python3.7/site-packages/xarray/core/merge.py:17: FutureWarning: The Panel class is removed from pandas. Accessing it from the top-level namespace will also be removed in the next version\n",
      "  PANDAS_TYPES = (pd.Series, pd.DataFrame, pd.Panel)\n"
     ]
    },
    {
     "data": {
      "application/vnd.jupyter.widget-view+json": {
       "model_id": "53ef77e3ea0544739a408e24c377fab6",
       "version_major": 2,
       "version_minor": 0
      },
      "text/plain": [
       "FloatText(value=38.0, description='Min Lat:')"
      ]
     },
     "metadata": {},
     "output_type": "display_data"
    },
    {
     "data": {
      "application/vnd.jupyter.widget-view+json": {
       "model_id": "3c7a0500c1ea4bd583ff79d55fe48e4b",
       "version_major": 2,
       "version_minor": 0
      },
      "text/plain": [
       "FloatText(value=41.0, description='Max Lat:')"
      ]
     },
     "metadata": {},
     "output_type": "display_data"
    },
    {
     "data": {
      "application/vnd.jupyter.widget-view+json": {
       "model_id": "1766e28b69fe46da9d6b804693325d30",
       "version_major": 2,
       "version_minor": 0
      },
      "text/plain": [
       "FloatText(value=-72.0, description='Min Lon:')"
      ]
     },
     "metadata": {},
     "output_type": "display_data"
    },
    {
     "data": {
      "application/vnd.jupyter.widget-view+json": {
       "model_id": "c8dc0a9154404d438341749afd931d39",
       "version_major": 2,
       "version_minor": 0
      },
      "text/plain": [
       "FloatText(value=-69.0, description='Max Lon:')"
      ]
     },
     "metadata": {},
     "output_type": "display_data"
    },
    {
     "data": {
      "application/vnd.jupyter.widget-view+json": {
       "model_id": "afb57d99e74c4d5c8be61771488c41d3",
       "version_major": 2,
       "version_minor": 0
      },
      "text/plain": [
       "Text(value='2010-07-10', description='Start Date:', placeholder='YYYY-MM-DD')"
      ]
     },
     "metadata": {},
     "output_type": "display_data"
    },
    {
     "data": {
      "application/vnd.jupyter.widget-view+json": {
       "model_id": "760629105b764c8391f61efa948e1893",
       "version_major": 2,
       "version_minor": 0
      },
      "text/plain": [
       "Text(value='2010-08-10', description='End Date:', placeholder='YYYY-MM-DD')"
      ]
     },
     "metadata": {},
     "output_type": "display_data"
    }
   ],
   "source": [
    "from lc_widgets import boxClass\n",
    "box = boxClass()\n",
    "box.dispBox()\n",
    "%matplotlib inline"
   ]
  },
  {
   "cell_type": "code",
   "execution_count": null,
   "metadata": {},
   "outputs": [
    {
     "data": {
      "application/vnd.jupyter.widget-view+json": {
       "model_id": "",
       "version_major": 2,
       "version_minor": 0
      },
      "text/plain": [
       "FloatProgress(value=1.0, bar_style='info', description='Loading:', max=26.0)"
      ]
     },
     "metadata": {},
     "output_type": "display_data"
    },
    {
     "name": "stdout",
     "output_type": "stream",
     "text": [
      "['erdGtsppBest', 'erdGodaeSfcobs', 'cwwcNDBCMet', 'ndbcSosWTemp', 'ndbcSosWind', 'ndbcSosCurrents', 'ndbcSosSalinity', 'ndbcSosWLevel', 'nosSosATemp', 'nosSosBPres', 'nosSosWLevel', 'nosSosWTemp', 'nosSosCond', 'nosSosSalinity', 'neracoosSos']\n"
     ]
    }
   ],
   "source": [
    "from listVars import getVars\n",
    "kw=box.getDict()\n",
    "varNames = getVars(kw)"
   ]
  },
  {
   "cell_type": "code",
   "execution_count": null,
   "metadata": {},
   "outputs": [],
   "source": [
    "# print(len(varNames))\n",
    "# print(varNames)"
   ]
  },
  {
   "cell_type": "code",
   "execution_count": null,
   "metadata": {},
   "outputs": [],
   "source": []
  }
 ],
 "metadata": {
  "kernelspec": {
   "display_name": "Python 3",
   "language": "python",
   "name": "python3"
  },
  "language_info": {
   "codemirror_mode": {
    "name": "ipython",
    "version": 3
   },
   "file_extension": ".py",
   "mimetype": "text/x-python",
   "name": "python",
   "nbconvert_exporter": "python",
   "pygments_lexer": "ipython3",
   "version": "3.7.3"
  }
 },
 "nbformat": 4,
 "nbformat_minor": 2
}
