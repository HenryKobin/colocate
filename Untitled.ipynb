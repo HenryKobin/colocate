{
 "cells": [
  {
   "cell_type": "code",
   "execution_count": 1,
   "metadata": {},
   "outputs": [
    {
     "name": "stderr",
     "output_type": "stream",
     "text": [
      "/anaconda3/envs/OHW/lib/python3.7/site-packages/xarray/core/merge.py:17: FutureWarning: The Panel class is removed from pandas. Accessing it from the top-level namespace will also be removed in the next version\n",
      "  PANDAS_TYPES = (pd.Series, pd.DataFrame, pd.Panel)\n"
     ]
    },
    {
     "data": {
      "application/vnd.jupyter.widget-view+json": {
       "model_id": "15d45b3a0e774a7a95ae6bdde8950c17",
       "version_major": 2,
       "version_minor": 0
      },
      "text/plain": [
       "FloatText(value=38.0, description='Min Lat:')"
      ]
     },
     "metadata": {},
     "output_type": "display_data"
    },
    {
     "data": {
      "application/vnd.jupyter.widget-view+json": {
       "model_id": "e8238fe858a746498361f6a938c57613",
       "version_major": 2,
       "version_minor": 0
      },
      "text/plain": [
       "FloatText(value=41.0, description='Max Lat:')"
      ]
     },
     "metadata": {},
     "output_type": "display_data"
    },
    {
     "data": {
      "application/vnd.jupyter.widget-view+json": {
       "model_id": "448dce8033474bedaba015d0f51a8598",
       "version_major": 2,
       "version_minor": 0
      },
      "text/plain": [
       "FloatText(value=-72.0, description='Min Lon:')"
      ]
     },
     "metadata": {},
     "output_type": "display_data"
    },
    {
     "data": {
      "application/vnd.jupyter.widget-view+json": {
       "model_id": "6e165a3f933144cb86b40d489082dae6",
       "version_major": 2,
       "version_minor": 0
      },
      "text/plain": [
       "FloatText(value=-69.0, description='Max Lon:')"
      ]
     },
     "metadata": {},
     "output_type": "display_data"
    },
    {
     "data": {
      "application/vnd.jupyter.widget-view+json": {
       "model_id": "76867ebf275343d2b271a7e4b200e78c",
       "version_major": 2,
       "version_minor": 0
      },
      "text/plain": [
       "Text(value='2010-07-10', description='Start Date:', placeholder='YYYY-MM-DD')"
      ]
     },
     "metadata": {},
     "output_type": "display_data"
    },
    {
     "data": {
      "application/vnd.jupyter.widget-view+json": {
       "model_id": "edd64008247e4cf2b9ef75057143c063",
       "version_major": 2,
       "version_minor": 0
      },
      "text/plain": [
       "Text(value='2010-08-10', description='End Date:', placeholder='YYYY-MM-DD')"
      ]
     },
     "metadata": {},
     "output_type": "display_data"
    }
   ],
   "source": [
    "from lc_widgets import boxClass\n",
    "box = boxClass()\n",
    "box.dispBox()\n",
    "%matplotlib inline"
   ]
  },
  {
   "cell_type": "code",
   "execution_count": null,
   "metadata": {},
   "outputs": [
    {
     "name": "stdout",
     "output_type": "stream",
     "text": [
      "<class 'dict'>\n"
     ]
    },
    {
     "data": {
      "application/vnd.jupyter.widget-view+json": {
       "model_id": "",
       "version_major": 2,
       "version_minor": 0
      },
      "text/plain": [
       "FloatProgress(value=1.0, bar_style='info', description='Loading:', max=28.0)"
      ]
     },
     "metadata": {},
     "output_type": "display_data"
    },
    {
     "name": "stdout",
     "output_type": "stream",
     "text": [
      "['erdGtsppBest', 'erdGodaeSfcobs', 'cwwcNDBCMet', 'ndbcSosWTemp', 'ndbcSosWind', 'ndbcSosCurrents', 'ndbcSosSalinity', 'ndbcSosWLevel', 'nosSosATemp', 'nosSosBPres', 'nosSosWLevel', 'nosSosWTemp', 'nosSosCond', 'nosSosSalinity', 'neracoosSos']\n"
     ]
    },
    {
     "data": {
      "application/vnd.jupyter.widget-view+json": {
       "model_id": "",
       "version_major": 2,
       "version_minor": 0
      },
      "text/plain": [
       "FloatProgress(value=2.0, bar_style='info', description='Loading:', max=28.0)"
      ]
     },
     "metadata": {},
     "output_type": "display_data"
    },
    {
     "data": {
      "application/vnd.jupyter.widget-view+json": {
       "model_id": "",
       "version_major": 2,
       "version_minor": 0
      },
      "text/plain": [
       "FloatProgress(value=3.0, bar_style='info', description='Loading:', max=28.0)"
      ]
     },
     "metadata": {},
     "output_type": "display_data"
    },
    {
     "data": {
      "application/vnd.jupyter.widget-view+json": {
       "model_id": "",
       "version_major": 2,
       "version_minor": 0
      },
      "text/plain": [
       "FloatProgress(value=4.0, bar_style='info', description='Loading:', max=28.0)"
      ]
     },
     "metadata": {},
     "output_type": "display_data"
    },
    {
     "name": "stdout",
     "output_type": "stream",
     "text": [
      "['EP_INSITU_DRYT_TS', 'EP_INSITU_ATMP_TS', 'EP_INSITU_ATPT_TS', 'EP_INSITU_VTZA_TS', 'EP_INSITU_VCSP_TS', 'EP_INSITU_FLU2_TS', 'EP_INSITU_HCDT_TS', 'EP_INSITU_DEWT_TS', 'EP_INSITU_UDOX_PR', 'EP_INSITU_DOX1_PR', 'EP_INSITU_DOX2_PR', 'EP_INSITU_DOX2_TS', 'EP_INSITU_DOXY_TS', 'EP_INSITU_CHLT_PR', 'EP_INSITU_CNDC_PR', 'EP_INSITU_CNDC_TS', 'EP_INSITU_GSPD_TS', 'EP_INSITU_ALTS_TS', 'EP_INSITU_HCSP_TS', 'EP_INSITU_WSPD_TS', 'EP_INSITU_PRRT_TS', 'EP_INSITU_VZMX_TS', 'MEOP', 'EP_INSITU_OSAT_TS', 'EP_INSITU_PHPH_TS', 'EP_INSITU_PSAL_PR', 'EP_INSITU_PSAL_TS', 'EP_INSITU_PSAL_TR', 'EP_INSITU_RELH_TS', 'EP_INSITU_TEMP_PR', 'EP_INSITU_TEMP_TR', 'EP_INSITU_TEMP_DOXY_PR', 'EP_INSITU_TEMP_DOXY_TS', 'EP_INSITU_VTDH_TS', 'EP_INSITU_NSCT_TS', 'EP_INSITU_SWHT_TS', 'EP_INSITU_SWPR_TS', 'EP_INSITU_CPHL_PR', 'EP_INSITU_TUR4_PR', 'EP_INSITU_TUR4_TS', 'EP_INSITU_SLEV_TS', 'EP_INSITU_VDIR_TS', 'EP_INSITU_EWCT_TS', 'EP_INSITU_WDIR_TS']\n"
     ]
    },
    {
     "data": {
      "application/vnd.jupyter.widget-view+json": {
       "model_id": "",
       "version_major": 2,
       "version_minor": 0
      },
      "text/plain": [
       "FloatProgress(value=5.0, bar_style='info', description='Loading:', max=28.0)"
      ]
     },
     "metadata": {},
     "output_type": "display_data"
    },
    {
     "data": {
      "application/vnd.jupyter.widget-view+json": {
       "model_id": "",
       "version_major": 2,
       "version_minor": 0
      },
      "text/plain": [
       "FloatProgress(value=6.0, bar_style='info', description='Loading:', max=28.0)"
      ]
     },
     "metadata": {},
     "output_type": "display_data"
    },
    {
     "data": {
      "application/vnd.jupyter.widget-view+json": {
       "model_id": "",
       "version_major": 2,
       "version_minor": 0
      },
      "text/plain": [
       "FloatProgress(value=7.0, bar_style='info', description='Loading:', max=28.0)"
      ]
     },
     "metadata": {},
     "output_type": "display_data"
    },
    {
     "data": {
      "application/vnd.jupyter.widget-view+json": {
       "model_id": "",
       "version_major": 2,
       "version_minor": 0
      },
      "text/plain": [
       "FloatProgress(value=8.0, bar_style='info', description='Loading:', max=28.0)"
      ]
     },
     "metadata": {},
     "output_type": "display_data"
    },
    {
     "data": {
      "application/vnd.jupyter.widget-view+json": {
       "model_id": "",
       "version_major": 2,
       "version_minor": 0
      },
      "text/plain": [
       "FloatProgress(value=9.0, bar_style='info', description='Loading:', max=28.0)"
      ]
     },
     "metadata": {},
     "output_type": "display_data"
    },
    {
     "name": "stdout",
     "output_type": "stream",
     "text": [
      "['cwwcNDBCMet', 'UNH_WBD']\n"
     ]
    },
    {
     "data": {
      "application/vnd.jupyter.widget-view+json": {
       "model_id": "",
       "version_major": 2,
       "version_minor": 0
      },
      "text/plain": [
       "FloatProgress(value=10.0, bar_style='info', description='Loading:', max=28.0)"
      ]
     },
     "metadata": {},
     "output_type": "display_data"
    },
    {
     "data": {
      "application/vnd.jupyter.widget-view+json": {
       "model_id": "",
       "version_major": 2,
       "version_minor": 0
      },
      "text/plain": [
       "FloatProgress(value=11.0, bar_style='info', description='Loading:', max=28.0)"
      ]
     },
     "metadata": {},
     "output_type": "display_data"
    },
    {
     "data": {
      "application/vnd.jupyter.widget-view+json": {
       "model_id": "",
       "version_major": 2,
       "version_minor": 0
      },
      "text/plain": [
       "FloatProgress(value=12.0, bar_style='info', description='Loading:', max=28.0)"
      ]
     },
     "metadata": {},
     "output_type": "display_data"
    },
    {
     "data": {
      "application/vnd.jupyter.widget-view+json": {
       "model_id": "",
       "version_major": 2,
       "version_minor": 0
      },
      "text/plain": [
       "FloatProgress(value=13.0, bar_style='info', description='Loading:', max=28.0)"
      ]
     },
     "metadata": {},
     "output_type": "display_data"
    },
    {
     "data": {
      "application/vnd.jupyter.widget-view+json": {
       "model_id": "",
       "version_major": 2,
       "version_minor": 0
      },
      "text/plain": [
       "FloatProgress(value=14.0, bar_style='info', description='Loading:', max=28.0)"
      ]
     },
     "metadata": {},
     "output_type": "display_data"
    },
    {
     "data": {
      "application/vnd.jupyter.widget-view+json": {
       "model_id": "",
       "version_major": 2,
       "version_minor": 0
      },
      "text/plain": [
       "FloatProgress(value=15.0, bar_style='info', description='Loading:', max=28.0)"
      ]
     },
     "metadata": {},
     "output_type": "display_data"
    },
    {
     "name": "stdout",
     "output_type": "stream",
     "text": [
      "['MEOP_profiles']\n"
     ]
    },
    {
     "data": {
      "application/vnd.jupyter.widget-view+json": {
       "model_id": "",
       "version_major": 2,
       "version_minor": 0
      },
      "text/plain": [
       "FloatProgress(value=16.0, bar_style='info', description='Loading:', max=28.0)"
      ]
     },
     "metadata": {},
     "output_type": "display_data"
    },
    {
     "data": {
      "application/vnd.jupyter.widget-view+json": {
       "model_id": "",
       "version_major": 2,
       "version_minor": 0
      },
      "text/plain": [
       "FloatProgress(value=17.0, bar_style='info', description='Loading:', max=28.0)"
      ]
     },
     "metadata": {},
     "output_type": "display_data"
    },
    {
     "data": {
      "application/vnd.jupyter.widget-view+json": {
       "model_id": "",
       "version_major": 2,
       "version_minor": 0
      },
      "text/plain": [
       "FloatProgress(value=18.0, bar_style='info', description='Loading:', max=28.0)"
      ]
     },
     "metadata": {},
     "output_type": "display_data"
    },
    {
     "data": {
      "application/vnd.jupyter.widget-view+json": {
       "model_id": "",
       "version_major": 2,
       "version_minor": 0
      },
      "text/plain": [
       "FloatProgress(value=19.0, bar_style='info', description='Loading:', max=28.0)"
      ]
     },
     "metadata": {},
     "output_type": "display_data"
    },
    {
     "name": "stdout",
     "output_type": "stream",
     "text": [
      "['otn_aat_receivers', 'otn_aat_tag_releases', 'view_otn_aat_receivers']\n"
     ]
    },
    {
     "data": {
      "application/vnd.jupyter.widget-view+json": {
       "model_id": "",
       "version_major": 2,
       "version_minor": 0
      },
      "text/plain": [
       "FloatProgress(value=20.0, bar_style='info', description='Loading:', max=28.0)"
      ]
     },
     "metadata": {},
     "output_type": "display_data"
    },
    {
     "data": {
      "application/vnd.jupyter.widget-view+json": {
       "model_id": "",
       "version_major": 2,
       "version_minor": 0
      },
      "text/plain": [
       "FloatProgress(value=21.0, bar_style='info', description='Loading:', max=28.0)"
      ]
     },
     "metadata": {},
     "output_type": "display_data"
    },
    {
     "name": "stdout",
     "output_type": "stream",
     "text": [
      "['nefsc_emolt_data_local', 'NEFSC_PROCESSED_CTD_CASTS_QC', 'DOPPIO_REANALYSIS_OBS', 'ROMS_DOPPIO_DISCHARGE', 'SAMOS_TSG_DATA_DOPPIO', 'nefsc_study_fleet_data_local', 'nefsc_turtle_data_local']\n"
     ]
    },
    {
     "data": {
      "application/vnd.jupyter.widget-view+json": {
       "model_id": "",
       "version_major": 2,
       "version_minor": 0
      },
      "text/plain": [
       "FloatProgress(value=22.0, bar_style='info', description='Loading:', max=28.0)"
      ]
     },
     "metadata": {},
     "output_type": "display_data"
    },
    {
     "data": {
      "application/vnd.jupyter.widget-view+json": {
       "model_id": "",
       "version_major": 2,
       "version_minor": 0
      },
      "text/plain": [
       "FloatProgress(value=23.0, bar_style='info', description='Loading:', max=28.0)"
      ]
     },
     "metadata": {},
     "output_type": "display_data"
    },
    {
     "name": "stdout",
     "output_type": "stream",
     "text": [
      "['binnedGS']\n"
     ]
    },
    {
     "data": {
      "application/vnd.jupyter.widget-view+json": {
       "model_id": "",
       "version_major": 2,
       "version_minor": 0
      },
      "text/plain": [
       "FloatProgress(value=24.0, bar_style='info', description='Loading:', max=28.0)"
      ]
     },
     "metadata": {},
     "output_type": "display_data"
    },
    {
     "data": {
      "application/vnd.jupyter.widget-view+json": {
       "model_id": "5270d13ad3214fc0b5d08727f168fb2c",
       "version_major": 2,
       "version_minor": 0
      },
      "text/plain": [
       "FloatProgress(value=25.0, bar_style='info', description='Loading:', max=28.0)"
      ]
     },
     "metadata": {},
     "output_type": "display_data"
    }
   ],
   "source": [
    "from listVars import getVars\n",
    "kw=box.getDict()\n",
    "varNames = getVars(kw)"
   ]
  },
  {
   "cell_type": "code",
   "execution_count": null,
   "metadata": {},
   "outputs": [],
   "source": [
    "# print(len(varNames))\n",
    "# print(varNames)"
   ]
  },
  {
   "cell_type": "code",
   "execution_count": null,
   "metadata": {},
   "outputs": [],
   "source": []
  }
 ],
 "metadata": {
  "kernelspec": {
   "display_name": "Python 3",
   "language": "python",
   "name": "python3"
  },
  "language_info": {
   "codemirror_mode": {
    "name": "ipython",
    "version": 3
   },
   "file_extension": ".py",
   "mimetype": "text/x-python",
   "name": "python",
   "nbconvert_exporter": "python",
   "pygments_lexer": "ipython3",
   "version": "3.7.3"
  }
 },
 "nbformat": 4,
 "nbformat_minor": 2
}
