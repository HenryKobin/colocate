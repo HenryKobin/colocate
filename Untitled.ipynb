{
 "cells": [
  {
   "cell_type": "code",
   "execution_count": 1,
   "metadata": {
    "scrolled": true
   },
   "outputs": [
    {
     "name": "stderr",
     "output_type": "stream",
     "text": [
      "/anaconda3/envs/OHW/lib/python3.7/site-packages/xarray/core/merge.py:17: FutureWarning: The Panel class is removed from pandas. Accessing it from the top-level namespace will also be removed in the next version\n",
      "  PANDAS_TYPES = (pd.Series, pd.DataFrame, pd.Panel)\n"
     ]
    },
    {
     "data": {
      "application/vnd.jupyter.widget-view+json": {
       "model_id": "28408d7e2da146d1ae0d0bc404f79250",
       "version_major": 2,
       "version_minor": 0
      },
      "text/plain": [
       "FloatText(value=38.0, description='Min Lat:')"
      ]
     },
     "metadata": {},
     "output_type": "display_data"
    },
    {
     "data": {
      "application/vnd.jupyter.widget-view+json": {
       "model_id": "e66a724f053c4b1582e02ca9833d14a2",
       "version_major": 2,
       "version_minor": 0
      },
      "text/plain": [
       "FloatText(value=41.0, description='Max Lat:')"
      ]
     },
     "metadata": {},
     "output_type": "display_data"
    },
    {
     "data": {
      "application/vnd.jupyter.widget-view+json": {
       "model_id": "e8100938bbb241b5b321e2977fc03892",
       "version_major": 2,
       "version_minor": 0
      },
      "text/plain": [
       "FloatText(value=-72.0, description='Min Lon:')"
      ]
     },
     "metadata": {},
     "output_type": "display_data"
    },
    {
     "data": {
      "application/vnd.jupyter.widget-view+json": {
       "model_id": "da88f2c684204b66aaf5f0ba3e66175b",
       "version_major": 2,
       "version_minor": 0
      },
      "text/plain": [
       "FloatText(value=-69.0, description='Max Lon:')"
      ]
     },
     "metadata": {},
     "output_type": "display_data"
    },
    {
     "data": {
      "application/vnd.jupyter.widget-view+json": {
       "model_id": "2892b7b1b57b488191d473d721626059",
       "version_major": 2,
       "version_minor": 0
      },
      "text/plain": [
       "Text(value='2010-07-10', description='Start Date:', placeholder='YYYY-MM-DD')"
      ]
     },
     "metadata": {},
     "output_type": "display_data"
    },
    {
     "data": {
      "application/vnd.jupyter.widget-view+json": {
       "model_id": "199735b13eab4c4aaf0a9443c7fc47ed",
       "version_major": 2,
       "version_minor": 0
      },
      "text/plain": [
       "Text(value='2010-08-10', description='End Date:', placeholder='YYYY-MM-DD')"
      ]
     },
     "metadata": {},
     "output_type": "display_data"
    }
   ],
   "source": [
    "from lc_widgets import boxClass\n",
    "box = boxClass()\n",
    "box.dispBox()\n",
    "%matplotlib inline"
   ]
  },
  {
   "cell_type": "code",
   "execution_count": 2,
   "metadata": {},
   "outputs": [
    {
     "data": {
      "application/vnd.jupyter.widget-view+json": {
       "model_id": "",
       "version_major": 2,
       "version_minor": 0
      },
      "text/plain": [
       "FloatProgress(value=1.0, bar_style='info', description='Loading:', max=26.0)"
      ]
     },
     "metadata": {},
     "output_type": "display_data"
    },
    {
     "name": "stderr",
     "output_type": "stream",
     "text": [
      "/Users/ckhr.rai/Desktop/OHW_2019/ohw19-project-co_locators/listVars.py:71: SettingWithCopyWarning: \n",
      "A value is trying to be set on a copy of a slice from a DataFrame\n",
      "\n",
      "See the caveats in the documentation: http://pandas.pydata.org/pandas-docs/stable/user_guide/indexing.html#returning-a-view-versus-a-copy\n",
      "  datasets.dropna(subset=['tabledap'],inplace=True)\n"
     ]
    },
    {
     "data": {
      "application/vnd.jupyter.widget-view+json": {
       "model_id": "",
       "version_major": 2,
       "version_minor": 0
      },
      "text/plain": [
       "FloatProgress(value=2.0, bar_style='info', description='Loading:', max=26.0)"
      ]
     },
     "metadata": {},
     "output_type": "display_data"
    },
    {
     "data": {
      "application/vnd.jupyter.widget-view+json": {
       "model_id": "",
       "version_major": 2,
       "version_minor": 0
      },
      "text/plain": [
       "FloatProgress(value=3.0, bar_style='info', description='Loading:', max=26.0)"
      ]
     },
     "metadata": {},
     "output_type": "display_data"
    },
    {
     "data": {
      "application/vnd.jupyter.widget-view+json": {
       "model_id": "",
       "version_major": 2,
       "version_minor": 0
      },
      "text/plain": [
       "FloatProgress(value=4.0, bar_style='info', description='Loading:', max=26.0)"
      ]
     },
     "metadata": {},
     "output_type": "display_data"
    },
    {
     "data": {
      "application/vnd.jupyter.widget-view+json": {
       "model_id": "",
       "version_major": 2,
       "version_minor": 0
      },
      "text/plain": [
       "FloatProgress(value=5.0, bar_style='info', description='Loading:', max=26.0)"
      ]
     },
     "metadata": {},
     "output_type": "display_data"
    },
    {
     "data": {
      "application/vnd.jupyter.widget-view+json": {
       "model_id": "",
       "version_major": 2,
       "version_minor": 0
      },
      "text/plain": [
       "FloatProgress(value=6.0, bar_style='info', description='Loading:', max=26.0)"
      ]
     },
     "metadata": {},
     "output_type": "display_data"
    },
    {
     "data": {
      "application/vnd.jupyter.widget-view+json": {
       "model_id": "",
       "version_major": 2,
       "version_minor": 0
      },
      "text/plain": [
       "FloatProgress(value=7.0, bar_style='info', description='Loading:', max=26.0)"
      ]
     },
     "metadata": {},
     "output_type": "display_data"
    },
    {
     "data": {
      "application/vnd.jupyter.widget-view+json": {
       "model_id": "",
       "version_major": 2,
       "version_minor": 0
      },
      "text/plain": [
       "FloatProgress(value=8.0, bar_style='info', description='Loading:', max=26.0)"
      ]
     },
     "metadata": {},
     "output_type": "display_data"
    },
    {
     "data": {
      "application/vnd.jupyter.widget-view+json": {
       "model_id": "",
       "version_major": 2,
       "version_minor": 0
      },
      "text/plain": [
       "FloatProgress(value=9.0, bar_style='info', description='Loading:', max=26.0)"
      ]
     },
     "metadata": {},
     "output_type": "display_data"
    },
    {
     "data": {
      "application/vnd.jupyter.widget-view+json": {
       "model_id": "",
       "version_major": 2,
       "version_minor": 0
      },
      "text/plain": [
       "FloatProgress(value=10.0, bar_style='info', description='Loading:', max=26.0)"
      ]
     },
     "metadata": {},
     "output_type": "display_data"
    },
    {
     "data": {
      "application/vnd.jupyter.widget-view+json": {
       "model_id": "",
       "version_major": 2,
       "version_minor": 0
      },
      "text/plain": [
       "FloatProgress(value=11.0, bar_style='info', description='Loading:', max=26.0)"
      ]
     },
     "metadata": {},
     "output_type": "display_data"
    },
    {
     "data": {
      "application/vnd.jupyter.widget-view+json": {
       "model_id": "",
       "version_major": 2,
       "version_minor": 0
      },
      "text/plain": [
       "FloatProgress(value=12.0, bar_style='info', description='Loading:', max=26.0)"
      ]
     },
     "metadata": {},
     "output_type": "display_data"
    },
    {
     "data": {
      "application/vnd.jupyter.widget-view+json": {
       "model_id": "",
       "version_major": 2,
       "version_minor": 0
      },
      "text/plain": [
       "FloatProgress(value=13.0, bar_style='info', description='Loading:', max=26.0)"
      ]
     },
     "metadata": {},
     "output_type": "display_data"
    },
    {
     "data": {
      "application/vnd.jupyter.widget-view+json": {
       "model_id": "",
       "version_major": 2,
       "version_minor": 0
      },
      "text/plain": [
       "FloatProgress(value=14.0, bar_style='info', description='Loading:', max=26.0)"
      ]
     },
     "metadata": {},
     "output_type": "display_data"
    },
    {
     "data": {
      "application/vnd.jupyter.widget-view+json": {
       "model_id": "",
       "version_major": 2,
       "version_minor": 0
      },
      "text/plain": [
       "FloatProgress(value=15.0, bar_style='info', description='Loading:', max=26.0)"
      ]
     },
     "metadata": {},
     "output_type": "display_data"
    },
    {
     "data": {
      "application/vnd.jupyter.widget-view+json": {
       "model_id": "",
       "version_major": 2,
       "version_minor": 0
      },
      "text/plain": [
       "FloatProgress(value=16.0, bar_style='info', description='Loading:', max=26.0)"
      ]
     },
     "metadata": {},
     "output_type": "display_data"
    },
    {
     "data": {
      "application/vnd.jupyter.widget-view+json": {
       "model_id": "",
       "version_major": 2,
       "version_minor": 0
      },
      "text/plain": [
       "FloatProgress(value=17.0, bar_style='info', description='Loading:', max=26.0)"
      ]
     },
     "metadata": {},
     "output_type": "display_data"
    },
    {
     "data": {
      "application/vnd.jupyter.widget-view+json": {
       "model_id": "",
       "version_major": 2,
       "version_minor": 0
      },
      "text/plain": [
       "FloatProgress(value=18.0, bar_style='info', description='Loading:', max=26.0)"
      ]
     },
     "metadata": {},
     "output_type": "display_data"
    },
    {
     "data": {
      "application/vnd.jupyter.widget-view+json": {
       "model_id": "",
       "version_major": 2,
       "version_minor": 0
      },
      "text/plain": [
       "FloatProgress(value=19.0, bar_style='info', description='Loading:', max=26.0)"
      ]
     },
     "metadata": {},
     "output_type": "display_data"
    },
    {
     "data": {
      "application/vnd.jupyter.widget-view+json": {
       "model_id": "",
       "version_major": 2,
       "version_minor": 0
      },
      "text/plain": [
       "FloatProgress(value=20.0, bar_style='info', description='Loading:', max=26.0)"
      ]
     },
     "metadata": {},
     "output_type": "display_data"
    },
    {
     "data": {
      "application/vnd.jupyter.widget-view+json": {
       "model_id": "",
       "version_major": 2,
       "version_minor": 0
      },
      "text/plain": [
       "FloatProgress(value=21.0, bar_style='info', description='Loading:', max=26.0)"
      ]
     },
     "metadata": {},
     "output_type": "display_data"
    },
    {
     "data": {
      "application/vnd.jupyter.widget-view+json": {
       "model_id": "",
       "version_major": 2,
       "version_minor": 0
      },
      "text/plain": [
       "FloatProgress(value=22.0, bar_style='info', description='Loading:', max=26.0)"
      ]
     },
     "metadata": {},
     "output_type": "display_data"
    },
    {
     "data": {
      "application/vnd.jupyter.widget-view+json": {
       "model_id": "",
       "version_major": 2,
       "version_minor": 0
      },
      "text/plain": [
       "FloatProgress(value=23.0, bar_style='info', description='Loading:', max=26.0)"
      ]
     },
     "metadata": {},
     "output_type": "display_data"
    },
    {
     "data": {
      "application/vnd.jupyter.widget-view+json": {
       "model_id": "",
       "version_major": 2,
       "version_minor": 0
      },
      "text/plain": [
       "FloatProgress(value=24.0, bar_style='info', description='Loading:', max=26.0)"
      ]
     },
     "metadata": {},
     "output_type": "display_data"
    },
    {
     "data": {
      "application/vnd.jupyter.widget-view+json": {
       "model_id": "",
       "version_major": 2,
       "version_minor": 0
      },
      "text/plain": [
       "FloatProgress(value=25.0, bar_style='info', description='Loading:', max=26.0)"
      ]
     },
     "metadata": {},
     "output_type": "display_data"
    },
    {
     "data": {
      "application/vnd.jupyter.widget-view+json": {
       "model_id": "",
       "version_major": 2,
       "version_minor": 0
      },
      "text/plain": [
       "FloatProgress(value=26.0, bar_style='info', description='Loading:', max=26.0)"
      ]
     },
     "metadata": {},
     "output_type": "display_data"
    },
    {
     "name": "stdout",
     "output_type": "stream",
     "text": [
      "                                             Error {  \\\n",
      "0                                          code=404;   \n",
      "1      message=\"Not Found: Currently unknown data...   \n",
      "2                                                  }   \n",
      "\n",
      "                           server   Dataset ID  \n",
      "0  http://www.neracoos.org/erddap  cwwcNDBCMet  \n",
      "1  http://www.neracoos.org/erddap  cwwcNDBCMet  \n",
      "2  http://www.neracoos.org/erddap  cwwcNDBCMet  \n"
     ]
    },
    {
     "name": "stderr",
     "output_type": "stream",
     "text": [
      "/Users/ckhr.rai/Desktop/OHW_2019/ohw19-project-co_locators/listVars.py:103: FutureWarning: Sorting because non-concatenation axis is not aligned. A future version\n",
      "of pandas will change to not sort by default.\n",
      "\n",
      "To accept the future behavior, pass 'sort=False'.\n",
      "\n",
      "To retain the current behavior and silence the warning, pass 'sort=True'.\n",
      "\n",
      "  all_coords = pd.concat([all_coords,df])\n"
     ]
    },
    {
     "name": "stdout",
     "output_type": "stream",
     "text": [
      "  <!doctype html><html lang=\"en\"><head><title>HTTP Status 500 – Internal Server Error</title><style type=\"text/css\">h1 {font-family:Tahoma  \\\n",
      "0                                                NaN                                                                                         \n",
      "1                                                NaN                                                                                         \n",
      "2                                                NaN                                                                                         \n",
      "\n",
      "  Arial Arial.1 Arial.2 Arial.3 Arial.4 Arial.5   Dataset ID  \\\n",
      "0   NaN     NaN     NaN     NaN     NaN     NaN  cwwcNDBCMet   \n",
      "1   NaN     NaN     NaN     NaN     NaN     NaN  cwwcNDBCMet   \n",
      "2   NaN     NaN     NaN     NaN     NaN     NaN  cwwcNDBCMet   \n",
      "\n",
      "                                             Error {  \\\n",
      "0                                          code=404;   \n",
      "1      message=\"Not Found: Currently unknown data...   \n",
      "2                                                  }   \n",
      "\n",
      "  sans-serif;background:white;color:black;font-size:12px;} a {color:black;} a.name {color:black;} .line {height:1px;background-color:#525D76;border:none;}</style></head><body><h1>HTTP Status 500 – Internal Server Error</h1><hr class=\"line\" /><p><b>Type</b> Status Report</p><p><b>Message</b> Your query produced no matching results. (nRows = 0)</p><p><b>Description</b> The server encountered an unexpected condition that prevented it from fulfilling the request.</p><hr class=\"line\" /><h3>Apache Tomcat/8.5.34</h3></body></html>  \\\n",
      "0                                                NaN                                                                                                                                                                                                                                                                                                                                                                                                                                                                                                \n",
      "1                                                NaN                                                                                                                                                                                                                                                                                                                                                                                                                                                                                                \n",
      "2                                                NaN                                                                                                                                                                                                                                                                                                                                                                                                                                                                                                \n",
      "\n",
      "  sans-serif;color:black;background-color:white;} b {font-family:Tahoma  \\\n",
      "0                                                NaN                      \n",
      "1                                                NaN                      \n",
      "2                                                NaN                      \n",
      "\n",
      "  sans-serif;color:white;background-color:#525D76;font-size:14px;} body {font-family:Tahoma  \\\n",
      "0                                                NaN                                          \n",
      "1                                                NaN                                          \n",
      "2                                                NaN                                          \n",
      "\n",
      "  sans-serif;color:white;background-color:#525D76;font-size:16px;} h3 {font-family:Tahoma  \\\n",
      "0                                                NaN                                        \n",
      "1                                                NaN                                        \n",
      "2                                                NaN                                        \n",
      "\n",
      "  sans-serif;color:white;background-color:#525D76;font-size:22px;} h2 {font-family:Tahoma  \\\n",
      "0                                                NaN                                        \n",
      "1                                                NaN                                        \n",
      "2                                                NaN                                        \n",
      "\n",
      "  sans-serif;color:white;background-color:#525D76;} p {font-family:Tahoma  \\\n",
      "0                                                NaN                        \n",
      "1                                                NaN                        \n",
      "2                                                NaN                        \n",
      "\n",
      "                           server  \n",
      "0  http://www.neracoos.org/erddap  \n",
      "1  http://www.neracoos.org/erddap  \n",
      "2  http://www.neracoos.org/erddap  \n",
      "  <!doctype html><html lang=\"en\"><head><title>HTTP Status 500 – Internal Server Error</title><style type=\"text/css\">h1 {font-family:Tahoma  \\\n",
      "0                                                NaN                                                                                         \n",
      "1                                                NaN                                                                                         \n",
      "2                                                NaN                                                                                         \n",
      "0                                                NaN                                                                                         \n",
      "1                                                NaN                                                                                         \n",
      "\n",
      "  Arial Arial.1 Arial.2 Arial.3 Arial.4 Arial.5              Dataset ID  \\\n",
      "0   NaN     NaN     NaN     NaN     NaN     NaN             cwwcNDBCMet   \n",
      "1   NaN     NaN     NaN     NaN     NaN     NaN             cwwcNDBCMet   \n",
      "2   NaN     NaN     NaN     NaN     NaN     NaN             cwwcNDBCMet   \n",
      "0   NaN     NaN     NaN     NaN     NaN     NaN  nefsc_emolt_data_local   \n",
      "1   NaN     NaN     NaN     NaN     NaN     NaN  nefsc_emolt_data_local   \n",
      "\n",
      "                                             Error {  \\\n",
      "0                                          code=404;   \n",
      "1      message=\"Not Found: Currently unknown data...   \n",
      "2                                                  }   \n",
      "0                                                NaN   \n",
      "1                                                NaN   \n",
      "\n",
      "   latitude (degrees_north)  longitude (degrees_east)  \\\n",
      "0                       NaN                       NaN   \n",
      "1                       NaN                       NaN   \n",
      "2                       NaN                       NaN   \n",
      "0                     40.37                     -70.3   \n",
      "1                     40.37                     -70.3   \n",
      "\n",
      "  sans-serif;background:white;color:black;font-size:12px;} a {color:black;} a.name {color:black;} .line {height:1px;background-color:#525D76;border:none;}</style></head><body><h1>HTTP Status 500 – Internal Server Error</h1><hr class=\"line\" /><p><b>Type</b> Status Report</p><p><b>Message</b> Your query produced no matching results. (nRows = 0)</p><p><b>Description</b> The server encountered an unexpected condition that prevented it from fulfilling the request.</p><hr class=\"line\" /><h3>Apache Tomcat/8.5.34</h3></body></html>  \\\n",
      "0                                                NaN                                                                                                                                                                                                                                                                                                                                                                                                                                                                                                \n",
      "1                                                NaN                                                                                                                                                                                                                                                                                                                                                                                                                                                                                                \n",
      "2                                                NaN                                                                                                                                                                                                                                                                                                                                                                                                                                                                                                \n",
      "0                                                NaN                                                                                                                                                                                                                                                                                                                                                                                                                                                                                                \n",
      "1                                                NaN                                                                                                                                                                                                                                                                                                                                                                                                                                                                                                \n",
      "\n",
      "  sans-serif;color:black;background-color:white;} b {font-family:Tahoma  \\\n",
      "0                                                NaN                      \n",
      "1                                                NaN                      \n",
      "2                                                NaN                      \n",
      "0                                                NaN                      \n",
      "1                                                NaN                      \n",
      "\n",
      "  sans-serif;color:white;background-color:#525D76;font-size:14px;} body {font-family:Tahoma  \\\n",
      "0                                                NaN                                          \n",
      "1                                                NaN                                          \n",
      "2                                                NaN                                          \n",
      "0                                                NaN                                          \n",
      "1                                                NaN                                          \n",
      "\n",
      "  sans-serif;color:white;background-color:#525D76;font-size:16px;} h3 {font-family:Tahoma  \\\n",
      "0                                                NaN                                        \n",
      "1                                                NaN                                        \n",
      "2                                                NaN                                        \n",
      "0                                                NaN                                        \n",
      "1                                                NaN                                        \n",
      "\n",
      "  sans-serif;color:white;background-color:#525D76;font-size:22px;} h2 {font-family:Tahoma  \\\n",
      "0                                                NaN                                        \n",
      "1                                                NaN                                        \n",
      "2                                                NaN                                        \n",
      "0                                                NaN                                        \n",
      "1                                                NaN                                        \n",
      "\n",
      "  sans-serif;color:white;background-color:#525D76;} p {font-family:Tahoma  \\\n",
      "0                                                NaN                        \n",
      "1                                                NaN                        \n",
      "2                                                NaN                        \n",
      "0                                                NaN                        \n",
      "1                                                NaN                        \n",
      "\n",
      "                                 server            time (UTC)  \n",
      "0        http://www.neracoos.org/erddap                   NaN  \n",
      "1        http://www.neracoos.org/erddap                   NaN  \n",
      "2        http://www.neracoos.org/erddap                   NaN  \n",
      "0  http://tds.marine.rutgers.edu/erddap  2010-07-30T23:28:00Z  \n",
      "1  http://tds.marine.rutgers.edu/erddap  2010-07-31T00:28:00Z  \n"
     ]
    },
    {
     "name": "stdout",
     "output_type": "stream",
     "text": [
      "  <!doctype html><html lang=\"en\"><head><title>HTTP Status 500 – Internal Server Error</title><style type=\"text/css\">h1 {font-family:Tahoma  \\\n",
      "0                                                NaN                                                                                         \n",
      "1                                                NaN                                                                                         \n",
      "2                                                NaN                                                                                         \n",
      "0                                                NaN                                                                                         \n",
      "1                                                NaN                                                                                         \n",
      "\n",
      "  Arial Arial.1 Arial.2 Arial.3 Arial.4 Arial.5              Dataset ID  \\\n",
      "0   NaN     NaN     NaN     NaN     NaN     NaN             cwwcNDBCMet   \n",
      "1   NaN     NaN     NaN     NaN     NaN     NaN             cwwcNDBCMet   \n",
      "2   NaN     NaN     NaN     NaN     NaN     NaN             cwwcNDBCMet   \n",
      "0   NaN     NaN     NaN     NaN     NaN     NaN  nefsc_emolt_data_local   \n",
      "1   NaN     NaN     NaN     NaN     NaN     NaN  nefsc_emolt_data_local   \n",
      "\n",
      "                                             Error {  \\\n",
      "0                                          code=404;   \n",
      "1      message=\"Not Found: Currently unknown data...   \n",
      "2                                                  }   \n",
      "0                                                NaN   \n",
      "1                                                NaN   \n",
      "\n",
      "   latitude (degrees_north)  longitude (degrees_east)  \\\n",
      "0                       NaN                       NaN   \n",
      "1                       NaN                       NaN   \n",
      "2                       NaN                       NaN   \n",
      "0                     40.37                     -70.3   \n",
      "1                     40.37                     -70.3   \n",
      "\n",
      "  sans-serif;background:white;color:black;font-size:12px;} a {color:black;} a.name {color:black;} .line {height:1px;background-color:#525D76;border:none;}</style></head><body><h1>HTTP Status 500 – Internal Server Error</h1><hr class=\"line\" /><p><b>Type</b> Status Report</p><p><b>Message</b> Your query produced no matching results. (nRows = 0)</p><p><b>Description</b> The server encountered an unexpected condition that prevented it from fulfilling the request.</p><hr class=\"line\" /><h3>Apache Tomcat/8.5.34</h3></body></html>  \\\n",
      "0                                                NaN                                                                                                                                                                                                                                                                                                                                                                                                                                                                                                \n",
      "1                                                NaN                                                                                                                                                                                                                                                                                                                                                                                                                                                                                                \n",
      "2                                                NaN                                                                                                                                                                                                                                                                                                                                                                                                                                                                                                \n",
      "0                                                NaN                                                                                                                                                                                                                                                                                                                                                                                                                                                                                                \n",
      "1                                                NaN                                                                                                                                                                                                                                                                                                                                                                                                                                                                                                \n",
      "\n",
      "  sans-serif;color:black;background-color:white;} b {font-family:Tahoma  \\\n",
      "0                                                NaN                      \n",
      "1                                                NaN                      \n",
      "2                                                NaN                      \n",
      "0                                                NaN                      \n",
      "1                                                NaN                      \n",
      "\n",
      "  sans-serif;color:white;background-color:#525D76;font-size:14px;} body {font-family:Tahoma  \\\n",
      "0                                                NaN                                          \n",
      "1                                                NaN                                          \n",
      "2                                                NaN                                          \n",
      "0                                                NaN                                          \n",
      "1                                                NaN                                          \n",
      "\n",
      "  sans-serif;color:white;background-color:#525D76;font-size:16px;} h3 {font-family:Tahoma  \\\n",
      "0                                                NaN                                        \n",
      "1                                                NaN                                        \n",
      "2                                                NaN                                        \n",
      "0                                                NaN                                        \n",
      "1                                                NaN                                        \n",
      "\n",
      "  sans-serif;color:white;background-color:#525D76;font-size:22px;} h2 {font-family:Tahoma  \\\n",
      "0                                                NaN                                        \n",
      "1                                                NaN                                        \n",
      "2                                                NaN                                        \n",
      "0                                                NaN                                        \n",
      "1                                                NaN                                        \n",
      "\n",
      "  sans-serif;color:white;background-color:#525D76;} p {font-family:Tahoma  \\\n",
      "0                                                NaN                        \n",
      "1                                                NaN                        \n",
      "2                                                NaN                        \n",
      "0                                                NaN                        \n",
      "1                                                NaN                        \n",
      "\n",
      "                                 server            time (UTC)  \n",
      "0        http://www.neracoos.org/erddap                   NaN  \n",
      "1        http://www.neracoos.org/erddap                   NaN  \n",
      "2        http://www.neracoos.org/erddap                   NaN  \n",
      "0  http://tds.marine.rutgers.edu/erddap  2010-07-30T23:28:00Z  \n",
      "1  http://tds.marine.rutgers.edu/erddap  2010-07-31T00:28:00Z  \n",
      "  <!doctype html><html lang=\"en\"><head><title>HTTP Status 500 – Internal Server Error</title><style type=\"text/css\">h1 {font-family:Tahoma  \\\n",
      "0                                                NaN                                                                                         \n",
      "1                                                NaN                                                                                         \n",
      "2                                                NaN                                                                                         \n",
      "0                                                NaN                                                                                         \n",
      "1                                                NaN                                                                                         \n",
      "\n",
      "  Arial Arial.1 Arial.2 Arial.3 Arial.4 Arial.5              Dataset ID  \\\n",
      "0   NaN     NaN     NaN     NaN     NaN     NaN             cwwcNDBCMet   \n",
      "1   NaN     NaN     NaN     NaN     NaN     NaN             cwwcNDBCMet   \n",
      "2   NaN     NaN     NaN     NaN     NaN     NaN             cwwcNDBCMet   \n",
      "0   NaN     NaN     NaN     NaN     NaN     NaN  nefsc_emolt_data_local   \n",
      "1   NaN     NaN     NaN     NaN     NaN     NaN  nefsc_emolt_data_local   \n",
      "\n",
      "                                             Error {  \\\n",
      "0                                          code=404;   \n",
      "1      message=\"Not Found: Currently unknown data...   \n",
      "2                                                  }   \n",
      "0                                                NaN   \n",
      "1                                                NaN   \n",
      "\n",
      "   latitude (degrees_north)  longitude (degrees_east)  \\\n",
      "0                       NaN                       NaN   \n",
      "1                       NaN                       NaN   \n",
      "2                       NaN                       NaN   \n",
      "0                     40.37                     -70.3   \n",
      "1                     40.37                     -70.3   \n",
      "\n",
      "  sans-serif;background:white;color:black;font-size:12px;} a {color:black;} a.name {color:black;} .line {height:1px;background-color:#525D76;border:none;}</style></head><body><h1>HTTP Status 500 – Internal Server Error</h1><hr class=\"line\" /><p><b>Type</b> Status Report</p><p><b>Message</b> Your query produced no matching results. (nRows = 0)</p><p><b>Description</b> The server encountered an unexpected condition that prevented it from fulfilling the request.</p><hr class=\"line\" /><h3>Apache Tomcat/8.5.34</h3></body></html>  \\\n",
      "0                                                NaN                                                                                                                                                                                                                                                                                                                                                                                                                                                                                                \n",
      "1                                                NaN                                                                                                                                                                                                                                                                                                                                                                                                                                                                                                \n",
      "2                                                NaN                                                                                                                                                                                                                                                                                                                                                                                                                                                                                                \n",
      "0                                                NaN                                                                                                                                                                                                                                                                                                                                                                                                                                                                                                \n",
      "1                                                NaN                                                                                                                                                                                                                                                                                                                                                                                                                                                                                                \n",
      "\n",
      "  sans-serif;color:black;background-color:white;} b {font-family:Tahoma  \\\n",
      "0                                                NaN                      \n",
      "1                                                NaN                      \n",
      "2                                                NaN                      \n",
      "0                                                NaN                      \n",
      "1                                                NaN                      \n",
      "\n",
      "  sans-serif;color:white;background-color:#525D76;font-size:14px;} body {font-family:Tahoma  \\\n",
      "0                                                NaN                                          \n",
      "1                                                NaN                                          \n",
      "2                                                NaN                                          \n",
      "0                                                NaN                                          \n",
      "1                                                NaN                                          \n",
      "\n",
      "  sans-serif;color:white;background-color:#525D76;font-size:16px;} h3 {font-family:Tahoma  \\\n",
      "0                                                NaN                                        \n",
      "1                                                NaN                                        \n",
      "2                                                NaN                                        \n",
      "0                                                NaN                                        \n",
      "1                                                NaN                                        \n",
      "\n",
      "  sans-serif;color:white;background-color:#525D76;font-size:22px;} h2 {font-family:Tahoma  \\\n",
      "0                                                NaN                                        \n",
      "1                                                NaN                                        \n",
      "2                                                NaN                                        \n",
      "0                                                NaN                                        \n",
      "1                                                NaN                                        \n",
      "\n",
      "  sans-serif;color:white;background-color:#525D76;} p {font-family:Tahoma  \\\n",
      "0                                                NaN                        \n",
      "1                                                NaN                        \n",
      "2                                                NaN                        \n",
      "0                                                NaN                        \n",
      "1                                                NaN                        \n",
      "\n",
      "                                 server            time (UTC)  \n",
      "0        http://www.neracoos.org/erddap                   NaN  \n",
      "1        http://www.neracoos.org/erddap                   NaN  \n",
      "2        http://www.neracoos.org/erddap                   NaN  \n",
      "0  http://tds.marine.rutgers.edu/erddap  2010-07-30T23:28:00Z  \n",
      "1  http://tds.marine.rutgers.edu/erddap  2010-07-31T00:28:00Z  \n"
     ]
    },
    {
     "name": "stdout",
     "output_type": "stream",
     "text": [
      "  <!doctype html><html lang=\"en\"><head><title>HTTP Status 500 – Internal Server Error</title><style type=\"text/css\">h1 {font-family:Tahoma  \\\n",
      "0                                                NaN                                                                                         \n",
      "1                                                NaN                                                                                         \n",
      "2                                                NaN                                                                                         \n",
      "0                                                NaN                                                                                         \n",
      "1                                                NaN                                                                                         \n",
      "\n",
      "  Arial Arial.1 Arial.2 Arial.3 Arial.4 Arial.5              Dataset ID  \\\n",
      "0   NaN     NaN     NaN     NaN     NaN     NaN             cwwcNDBCMet   \n",
      "1   NaN     NaN     NaN     NaN     NaN     NaN             cwwcNDBCMet   \n",
      "2   NaN     NaN     NaN     NaN     NaN     NaN             cwwcNDBCMet   \n",
      "0   NaN     NaN     NaN     NaN     NaN     NaN  nefsc_emolt_data_local   \n",
      "1   NaN     NaN     NaN     NaN     NaN     NaN  nefsc_emolt_data_local   \n",
      "\n",
      "                                             Error {  \\\n",
      "0                                          code=404;   \n",
      "1      message=\"Not Found: Currently unknown data...   \n",
      "2                                                  }   \n",
      "0                                                NaN   \n",
      "1                                                NaN   \n",
      "\n",
      "   latitude (degrees_north)  longitude (degrees_east)  \\\n",
      "0                       NaN                       NaN   \n",
      "1                       NaN                       NaN   \n",
      "2                       NaN                       NaN   \n",
      "0                     40.37                     -70.3   \n",
      "1                     40.37                     -70.3   \n",
      "\n",
      "  sans-serif;background:white;color:black;font-size:12px;} a {color:black;} a.name {color:black;} .line {height:1px;background-color:#525D76;border:none;}</style></head><body><h1>HTTP Status 500 – Internal Server Error</h1><hr class=\"line\" /><p><b>Type</b> Status Report</p><p><b>Message</b> Your query produced no matching results. (nRows = 0)</p><p><b>Description</b> The server encountered an unexpected condition that prevented it from fulfilling the request.</p><hr class=\"line\" /><h3>Apache Tomcat/8.5.34</h3></body></html>  \\\n",
      "0                                                NaN                                                                                                                                                                                                                                                                                                                                                                                                                                                                                                \n",
      "1                                                NaN                                                                                                                                                                                                                                                                                                                                                                                                                                                                                                \n",
      "2                                                NaN                                                                                                                                                                                                                                                                                                                                                                                                                                                                                                \n",
      "0                                                NaN                                                                                                                                                                                                                                                                                                                                                                                                                                                                                                \n",
      "1                                                NaN                                                                                                                                                                                                                                                                                                                                                                                                                                                                                                \n",
      "\n",
      "  sans-serif;color:black;background-color:white;} b {font-family:Tahoma  \\\n",
      "0                                                NaN                      \n",
      "1                                                NaN                      \n",
      "2                                                NaN                      \n",
      "0                                                NaN                      \n",
      "1                                                NaN                      \n",
      "\n",
      "  sans-serif;color:white;background-color:#525D76;font-size:14px;} body {font-family:Tahoma  \\\n",
      "0                                                NaN                                          \n",
      "1                                                NaN                                          \n",
      "2                                                NaN                                          \n",
      "0                                                NaN                                          \n",
      "1                                                NaN                                          \n",
      "\n",
      "  sans-serif;color:white;background-color:#525D76;font-size:16px;} h3 {font-family:Tahoma  \\\n",
      "0                                                NaN                                        \n",
      "1                                                NaN                                        \n",
      "2                                                NaN                                        \n",
      "0                                                NaN                                        \n",
      "1                                                NaN                                        \n",
      "\n",
      "  sans-serif;color:white;background-color:#525D76;font-size:22px;} h2 {font-family:Tahoma  \\\n",
      "0                                                NaN                                        \n",
      "1                                                NaN                                        \n",
      "2                                                NaN                                        \n",
      "0                                                NaN                                        \n",
      "1                                                NaN                                        \n",
      "\n",
      "  sans-serif;color:white;background-color:#525D76;} p {font-family:Tahoma  \\\n",
      "0                                                NaN                        \n",
      "1                                                NaN                        \n",
      "2                                                NaN                        \n",
      "0                                                NaN                        \n",
      "1                                                NaN                        \n",
      "\n",
      "                                 server            time (UTC)  \n",
      "0        http://www.neracoos.org/erddap                   NaN  \n",
      "1        http://www.neracoos.org/erddap                   NaN  \n",
      "2        http://www.neracoos.org/erddap                   NaN  \n",
      "0  http://tds.marine.rutgers.edu/erddap  2010-07-30T23:28:00Z  \n",
      "1  http://tds.marine.rutgers.edu/erddap  2010-07-31T00:28:00Z  \n",
      "  <!doctype html><html lang=\"en\"><head><title>HTTP Status 500 – Internal Server Error</title><style type=\"text/css\">h1 {font-family:Tahoma  \\\n",
      "0                                                NaN                                                                                         \n",
      "1                                                NaN                                                                                         \n",
      "2                                                NaN                                                                                         \n",
      "0                                                NaN                                                                                         \n",
      "1                                                NaN                                                                                         \n",
      "\n",
      "  Arial Arial.1 Arial.2 Arial.3 Arial.4 Arial.5              Dataset ID  \\\n",
      "0   NaN     NaN     NaN     NaN     NaN     NaN             cwwcNDBCMet   \n",
      "1   NaN     NaN     NaN     NaN     NaN     NaN             cwwcNDBCMet   \n",
      "2   NaN     NaN     NaN     NaN     NaN     NaN             cwwcNDBCMet   \n",
      "0   NaN     NaN     NaN     NaN     NaN     NaN  nefsc_emolt_data_local   \n",
      "1   NaN     NaN     NaN     NaN     NaN     NaN  nefsc_emolt_data_local   \n",
      "\n",
      "                                             Error {  \\\n",
      "0                                          code=404;   \n",
      "1      message=\"Not Found: Currently unknown data...   \n",
      "2                                                  }   \n",
      "0                                                NaN   \n",
      "1                                                NaN   \n",
      "\n",
      "   latitude (degrees_north)  longitude (degrees_east)  \\\n",
      "0                       NaN                       NaN   \n",
      "1                       NaN                       NaN   \n",
      "2                       NaN                       NaN   \n",
      "0                     40.37                     -70.3   \n",
      "1                     40.37                     -70.3   \n",
      "\n",
      "  sans-serif;background:white;color:black;font-size:12px;} a {color:black;} a.name {color:black;} .line {height:1px;background-color:#525D76;border:none;}</style></head><body><h1>HTTP Status 500 – Internal Server Error</h1><hr class=\"line\" /><p><b>Type</b> Status Report</p><p><b>Message</b> Your query produced no matching results. (nRows = 0)</p><p><b>Description</b> The server encountered an unexpected condition that prevented it from fulfilling the request.</p><hr class=\"line\" /><h3>Apache Tomcat/8.5.34</h3></body></html>  \\\n",
      "0                                                NaN                                                                                                                                                                                                                                                                                                                                                                                                                                                                                                \n",
      "1                                                NaN                                                                                                                                                                                                                                                                                                                                                                                                                                                                                                \n",
      "2                                                NaN                                                                                                                                                                                                                                                                                                                                                                                                                                                                                                \n",
      "0                                                NaN                                                                                                                                                                                                                                                                                                                                                                                                                                                                                                \n",
      "1                                                NaN                                                                                                                                                                                                                                                                                                                                                                                                                                                                                                \n",
      "\n",
      "  sans-serif;color:black;background-color:white;} b {font-family:Tahoma  \\\n",
      "0                                                NaN                      \n",
      "1                                                NaN                      \n",
      "2                                                NaN                      \n",
      "0                                                NaN                      \n",
      "1                                                NaN                      \n",
      "\n",
      "  sans-serif;color:white;background-color:#525D76;font-size:14px;} body {font-family:Tahoma  \\\n",
      "0                                                NaN                                          \n",
      "1                                                NaN                                          \n",
      "2                                                NaN                                          \n",
      "0                                                NaN                                          \n",
      "1                                                NaN                                          \n",
      "\n",
      "  sans-serif;color:white;background-color:#525D76;font-size:16px;} h3 {font-family:Tahoma  \\\n",
      "0                                                NaN                                        \n",
      "1                                                NaN                                        \n",
      "2                                                NaN                                        \n",
      "0                                                NaN                                        \n",
      "1                                                NaN                                        \n",
      "\n",
      "  sans-serif;color:white;background-color:#525D76;font-size:22px;} h2 {font-family:Tahoma  \\\n",
      "0                                                NaN                                        \n",
      "1                                                NaN                                        \n",
      "2                                                NaN                                        \n",
      "0                                                NaN                                        \n",
      "1                                                NaN                                        \n",
      "\n",
      "  sans-serif;color:white;background-color:#525D76;} p {font-family:Tahoma  \\\n",
      "0                                                NaN                        \n",
      "1                                                NaN                        \n",
      "2                                                NaN                        \n",
      "0                                                NaN                        \n",
      "1                                                NaN                        \n",
      "\n",
      "                                 server            time (UTC)  \n",
      "0        http://www.neracoos.org/erddap                   NaN  \n",
      "1        http://www.neracoos.org/erddap                   NaN  \n",
      "2        http://www.neracoos.org/erddap                   NaN  \n",
      "0  http://tds.marine.rutgers.edu/erddap  2010-07-30T23:28:00Z  \n",
      "1  http://tds.marine.rutgers.edu/erddap  2010-07-31T00:28:00Z  \n"
     ]
    }
   ],
   "source": [
    "from listVars import getGetTableDapDS_collec, getLatLon\n",
    "kw=box.getDict()\n",
    "all_server_all_ds_collec = getGetTableDapDS_collec(kw)\n",
    "allLatLon = getLatLon(all_server_all_ds_collec,kw)"
   ]
  },
  {
   "cell_type": "code",
   "execution_count": 73,
   "metadata": {},
   "outputs": [
    {
     "data": {
      "text/plain": [
       "[0        40.999320\n",
       " 1        40.996230\n",
       " 2        40.993170\n",
       " 3        40.990120\n",
       " 4        40.987080\n",
       "            ...    \n",
       " 10509    40.994846\n",
       " 10510    40.995766\n",
       " 10511    40.996883\n",
       " 10512    40.997986\n",
       " 10513    40.999100\n",
       " Name: latitude (degrees_north), Length: 10514, dtype: float64]"
      ]
     },
     "execution_count": 73,
     "metadata": {},
     "output_type": "execute_result"
    }
   ],
   "source": [
    "from classes import plotsLatLon    \n",
    "datasetIDs = allLatLon['Dataset ID'].unique()\n",
    "number_of_Datasets = len(datasetIDs)\n",
    "plots = [plotsLatLon() for j in range(number_of_Datasets)]\n",
    "for i in range(number_of_Datasets):\n",
    "    plots[i].datasetID = datasetIDs[i]\n",
    "    selectBool = allLatLon['Dataset ID'] == datasetIDs[i]\n",
    "    subset = allLatLon[selectBool]\n",
    "    \n",
    "        #print(subset.keys())\n",
    "        #print(subset['longitude (degrees_east)'])\\\n",
    "    lat = [subset['latitude (degrees_north)']]\n",
    "    plots[i].assignLat(lat)\n",
    "    lon = [subset['longitude (degrees_east)']]\n",
    "    plots[i].assignLon(lon)\n",
    "#     if i == 3:\n",
    "#         print(plots[i].lat )\n",
    "#     print(plots[i].lat)\n",
    "#     print('\\n\\n')\n",
    "\n",
    "plots[3].lat\n",
    "    "
   ]
  },
  {
   "cell_type": "code",
   "execution_count": 17,
   "metadata": {},
   "outputs": [
    {
     "data": {
      "text/html": [
       "<div>\n",
       "<style scoped>\n",
       "    .dataframe tbody tr th:only-of-type {\n",
       "        vertical-align: middle;\n",
       "    }\n",
       "\n",
       "    .dataframe tbody tr th {\n",
       "        vertical-align: top;\n",
       "    }\n",
       "\n",
       "    .dataframe thead th {\n",
       "        text-align: right;\n",
       "    }\n",
       "</style>\n",
       "<table border=\"1\" class=\"dataframe\">\n",
       "  <thead>\n",
       "    <tr style=\"text-align: right;\">\n",
       "      <th></th>\n",
       "      <th>&lt;!doctype html&gt;&lt;html lang=\"en\"&gt;&lt;head&gt;&lt;title&gt;HTTP Status 500 – Internal Server Error&lt;/title&gt;&lt;style type=\"text/css\"&gt;h1 {font-family:Tahoma</th>\n",
       "      <th>Arial</th>\n",
       "      <th>Arial.1</th>\n",
       "      <th>Arial.2</th>\n",
       "      <th>Arial.3</th>\n",
       "      <th>Arial.4</th>\n",
       "      <th>Arial.5</th>\n",
       "      <th>Dataset ID</th>\n",
       "      <th>Error {</th>\n",
       "      <th>latitude (degrees_north)</th>\n",
       "      <th>longitude (degrees_east)</th>\n",
       "      <th>sans-serif;background:white;color:black;font-size:12px;} a {color:black;} a.name {color:black;} .line {height:1px;background-color:#525D76;border:none;}&lt;/style&gt;&lt;/head&gt;&lt;body&gt;&lt;h1&gt;HTTP Status 500 – Internal Server Error&lt;/h1&gt;&lt;hr class=\"line\" /&gt;&lt;p&gt;&lt;b&gt;Type&lt;/b&gt; Status Report&lt;/p&gt;&lt;p&gt;&lt;b&gt;Message&lt;/b&gt; Your query produced no matching results. (nRows = 0)&lt;/p&gt;&lt;p&gt;&lt;b&gt;Description&lt;/b&gt; The server encountered an unexpected condition that prevented it from fulfilling the request.&lt;/p&gt;&lt;hr class=\"line\" /&gt;&lt;h3&gt;Apache Tomcat/8.5.34&lt;/h3&gt;&lt;/body&gt;&lt;/html&gt;</th>\n",
       "      <th>sans-serif;color:black;background-color:white;} b {font-family:Tahoma</th>\n",
       "      <th>sans-serif;color:white;background-color:#525D76;font-size:14px;} body {font-family:Tahoma</th>\n",
       "      <th>sans-serif;color:white;background-color:#525D76;font-size:16px;} h3 {font-family:Tahoma</th>\n",
       "      <th>sans-serif;color:white;background-color:#525D76;font-size:22px;} h2 {font-family:Tahoma</th>\n",
       "      <th>sans-serif;color:white;background-color:#525D76;} p {font-family:Tahoma</th>\n",
       "      <th>server</th>\n",
       "      <th>time (UTC)</th>\n",
       "    </tr>\n",
       "  </thead>\n",
       "  <tbody>\n",
       "    <tr>\n",
       "      <td>0</td>\n",
       "      <td>NaN</td>\n",
       "      <td>NaN</td>\n",
       "      <td>NaN</td>\n",
       "      <td>NaN</td>\n",
       "      <td>NaN</td>\n",
       "      <td>NaN</td>\n",
       "      <td>NaN</td>\n",
       "      <td>cwwcNDBCMet</td>\n",
       "      <td>code=404;</td>\n",
       "      <td>NaN</td>\n",
       "      <td>NaN</td>\n",
       "      <td>NaN</td>\n",
       "      <td>NaN</td>\n",
       "      <td>NaN</td>\n",
       "      <td>NaN</td>\n",
       "      <td>NaN</td>\n",
       "      <td>NaN</td>\n",
       "      <td>http://www.neracoos.org/erddap</td>\n",
       "      <td>NaN</td>\n",
       "    </tr>\n",
       "    <tr>\n",
       "      <td>1</td>\n",
       "      <td>NaN</td>\n",
       "      <td>NaN</td>\n",
       "      <td>NaN</td>\n",
       "      <td>NaN</td>\n",
       "      <td>NaN</td>\n",
       "      <td>NaN</td>\n",
       "      <td>NaN</td>\n",
       "      <td>cwwcNDBCMet</td>\n",
       "      <td>message=\"Not Found: Currently unknown data...</td>\n",
       "      <td>NaN</td>\n",
       "      <td>NaN</td>\n",
       "      <td>NaN</td>\n",
       "      <td>NaN</td>\n",
       "      <td>NaN</td>\n",
       "      <td>NaN</td>\n",
       "      <td>NaN</td>\n",
       "      <td>NaN</td>\n",
       "      <td>http://www.neracoos.org/erddap</td>\n",
       "      <td>NaN</td>\n",
       "    </tr>\n",
       "    <tr>\n",
       "      <td>2</td>\n",
       "      <td>NaN</td>\n",
       "      <td>NaN</td>\n",
       "      <td>NaN</td>\n",
       "      <td>NaN</td>\n",
       "      <td>NaN</td>\n",
       "      <td>NaN</td>\n",
       "      <td>NaN</td>\n",
       "      <td>cwwcNDBCMet</td>\n",
       "      <td>}</td>\n",
       "      <td>NaN</td>\n",
       "      <td>NaN</td>\n",
       "      <td>NaN</td>\n",
       "      <td>NaN</td>\n",
       "      <td>NaN</td>\n",
       "      <td>NaN</td>\n",
       "      <td>NaN</td>\n",
       "      <td>NaN</td>\n",
       "      <td>http://www.neracoos.org/erddap</td>\n",
       "      <td>NaN</td>\n",
       "    </tr>\n",
       "    <tr>\n",
       "      <td>0</td>\n",
       "      <td>NaN</td>\n",
       "      <td>NaN</td>\n",
       "      <td>NaN</td>\n",
       "      <td>NaN</td>\n",
       "      <td>NaN</td>\n",
       "      <td>NaN</td>\n",
       "      <td>NaN</td>\n",
       "      <td>nefsc_emolt_data_local</td>\n",
       "      <td>NaN</td>\n",
       "      <td>40.37</td>\n",
       "      <td>-70.3</td>\n",
       "      <td>NaN</td>\n",
       "      <td>NaN</td>\n",
       "      <td>NaN</td>\n",
       "      <td>NaN</td>\n",
       "      <td>NaN</td>\n",
       "      <td>NaN</td>\n",
       "      <td>http://tds.marine.rutgers.edu/erddap</td>\n",
       "      <td>2010-07-30T23:28:00Z</td>\n",
       "    </tr>\n",
       "    <tr>\n",
       "      <td>1</td>\n",
       "      <td>NaN</td>\n",
       "      <td>NaN</td>\n",
       "      <td>NaN</td>\n",
       "      <td>NaN</td>\n",
       "      <td>NaN</td>\n",
       "      <td>NaN</td>\n",
       "      <td>NaN</td>\n",
       "      <td>nefsc_emolt_data_local</td>\n",
       "      <td>NaN</td>\n",
       "      <td>40.37</td>\n",
       "      <td>-70.3</td>\n",
       "      <td>NaN</td>\n",
       "      <td>NaN</td>\n",
       "      <td>NaN</td>\n",
       "      <td>NaN</td>\n",
       "      <td>NaN</td>\n",
       "      <td>NaN</td>\n",
       "      <td>http://tds.marine.rutgers.edu/erddap</td>\n",
       "      <td>2010-07-31T00:28:00Z</td>\n",
       "    </tr>\n",
       "  </tbody>\n",
       "</table>\n",
       "</div>"
      ],
      "text/plain": [
       "  <!doctype html><html lang=\"en\"><head><title>HTTP Status 500 – Internal Server Error</title><style type=\"text/css\">h1 {font-family:Tahoma  \\\n",
       "0                                                NaN                                                                                         \n",
       "1                                                NaN                                                                                         \n",
       "2                                                NaN                                                                                         \n",
       "0                                                NaN                                                                                         \n",
       "1                                                NaN                                                                                         \n",
       "\n",
       "  Arial Arial.1 Arial.2 Arial.3 Arial.4 Arial.5              Dataset ID  \\\n",
       "0   NaN     NaN     NaN     NaN     NaN     NaN             cwwcNDBCMet   \n",
       "1   NaN     NaN     NaN     NaN     NaN     NaN             cwwcNDBCMet   \n",
       "2   NaN     NaN     NaN     NaN     NaN     NaN             cwwcNDBCMet   \n",
       "0   NaN     NaN     NaN     NaN     NaN     NaN  nefsc_emolt_data_local   \n",
       "1   NaN     NaN     NaN     NaN     NaN     NaN  nefsc_emolt_data_local   \n",
       "\n",
       "                                             Error {  \\\n",
       "0                                          code=404;   \n",
       "1      message=\"Not Found: Currently unknown data...   \n",
       "2                                                  }   \n",
       "0                                                NaN   \n",
       "1                                                NaN   \n",
       "\n",
       "   latitude (degrees_north)  longitude (degrees_east)  \\\n",
       "0                       NaN                       NaN   \n",
       "1                       NaN                       NaN   \n",
       "2                       NaN                       NaN   \n",
       "0                     40.37                     -70.3   \n",
       "1                     40.37                     -70.3   \n",
       "\n",
       "  sans-serif;background:white;color:black;font-size:12px;} a {color:black;} a.name {color:black;} .line {height:1px;background-color:#525D76;border:none;}</style></head><body><h1>HTTP Status 500 – Internal Server Error</h1><hr class=\"line\" /><p><b>Type</b> Status Report</p><p><b>Message</b> Your query produced no matching results. (nRows = 0)</p><p><b>Description</b> The server encountered an unexpected condition that prevented it from fulfilling the request.</p><hr class=\"line\" /><h3>Apache Tomcat/8.5.34</h3></body></html>  \\\n",
       "0                                                NaN                                                                                                                                                                                                                                                                                                                                                                                                                                                                                                \n",
       "1                                                NaN                                                                                                                                                                                                                                                                                                                                                                                                                                                                                                \n",
       "2                                                NaN                                                                                                                                                                                                                                                                                                                                                                                                                                                                                                \n",
       "0                                                NaN                                                                                                                                                                                                                                                                                                                                                                                                                                                                                                \n",
       "1                                                NaN                                                                                                                                                                                                                                                                                                                                                                                                                                                                                                \n",
       "\n",
       "  sans-serif;color:black;background-color:white;} b {font-family:Tahoma  \\\n",
       "0                                                NaN                      \n",
       "1                                                NaN                      \n",
       "2                                                NaN                      \n",
       "0                                                NaN                      \n",
       "1                                                NaN                      \n",
       "\n",
       "  sans-serif;color:white;background-color:#525D76;font-size:14px;} body {font-family:Tahoma  \\\n",
       "0                                                NaN                                          \n",
       "1                                                NaN                                          \n",
       "2                                                NaN                                          \n",
       "0                                                NaN                                          \n",
       "1                                                NaN                                          \n",
       "\n",
       "  sans-serif;color:white;background-color:#525D76;font-size:16px;} h3 {font-family:Tahoma  \\\n",
       "0                                                NaN                                        \n",
       "1                                                NaN                                        \n",
       "2                                                NaN                                        \n",
       "0                                                NaN                                        \n",
       "1                                                NaN                                        \n",
       "\n",
       "  sans-serif;color:white;background-color:#525D76;font-size:22px;} h2 {font-family:Tahoma  \\\n",
       "0                                                NaN                                        \n",
       "1                                                NaN                                        \n",
       "2                                                NaN                                        \n",
       "0                                                NaN                                        \n",
       "1                                                NaN                                        \n",
       "\n",
       "  sans-serif;color:white;background-color:#525D76;} p {font-family:Tahoma  \\\n",
       "0                                                NaN                        \n",
       "1                                                NaN                        \n",
       "2                                                NaN                        \n",
       "0                                                NaN                        \n",
       "1                                                NaN                        \n",
       "\n",
       "                                 server            time (UTC)  \n",
       "0        http://www.neracoos.org/erddap                   NaN  \n",
       "1        http://www.neracoos.org/erddap                   NaN  \n",
       "2        http://www.neracoos.org/erddap                   NaN  \n",
       "0  http://tds.marine.rutgers.edu/erddap  2010-07-30T23:28:00Z  \n",
       "1  http://tds.marine.rutgers.edu/erddap  2010-07-31T00:28:00Z  "
      ]
     },
     "execution_count": 17,
     "metadata": {},
     "output_type": "execute_result"
    }
   ],
   "source": [
    "allLatLon.head()"
   ]
  },
  {
   "cell_type": "code",
   "execution_count": 82,
   "metadata": {},
   "outputs": [
    {
     "data": {
      "image/png": "[encoded data removed]",
      "text/plain": [
       "<Figure size 360x360 with 1 Axes>"
      ]
     },
     "metadata": {
      "needs_background": "light"
     },
     "output_type": "display_data"
    }
   ],
   "source": [
    "#print(len(plots))\n",
    "allLon, allLat = plots[3].lon, plots[3].lat\n",
    "%matplotlib inline\n",
    "\n",
    "import matplotlib.pyplot as plt\n",
    "import cartopy.crs as ccrs\n",
    "\n",
    "from pandas.plotting import register_matplotlib_converters\n",
    "register_matplotlib_converters()\n",
    "\n",
    "dx, dy = 0.1, 0.1\n",
    "fig, ax = plt.subplots(figsize=(5, 5))#,\n",
    "                       #subplot_kw={\"projection\": ccrs.PlateCarree()}\n",
    "                       #)\n",
    "cs = ax.scatter(allLon, allLat)# c=df[r\"sci_water_temp (\\u00baC)\"],\n",
    "                #s=50, alpha=0.5, edgecolor='none')\n",
    "# cbar = fig.colorbar(cs, orientation='vertical',\n",
    "#                     fraction=0.1, shrink=0.9, extend='both')\n",
    "# #ax.coastlines('10m')\n",
    "#ax.set_extent([allLon.min()-dx, allLon.max()+dx, allLat.min()-dy, allLat.max()+dy])\n",
    "\n"
   ]
  },
  {
   "cell_type": "code",
   "execution_count": 84,
   "metadata": {},
   "outputs": [
    {
     "data": {
      "text/plain": [
       "'SAMOS_TSG_DATA_DOPPIO'"
      ]
     },
     "execution_count": 84,
     "metadata": {},
     "output_type": "execute_result"
    }
   ],
   "source": [
    "allLon\n",
    "plots[3].datasetID\n"
   ]
  },
  {
   "cell_type": "code",
   "execution_count": null,
   "metadata": {},
   "outputs": [],
   "source": []
  }
 ],
 "metadata": {
  "kernelspec": {
   "display_name": "Python 3",
   "language": "python",
   "name": "python3"
  },
  "language_info": {
   "codemirror_mode": {
    "name": "ipython",
    "version": 3
   },
   "file_extension": ".py",
   "mimetype": "text/x-python",
   "name": "python",
   "nbconvert_exporter": "python",
   "pygments_lexer": "ipython3",
   "version": "3.7.3"
  }
 },
 "nbformat": 4,
 "nbformat_minor": 2
}
