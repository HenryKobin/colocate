{
 "cells": [
  {
   "cell_type": "code",
   "execution_count": 1,
   "metadata": {
    "inputHidden": false,
    "outputHidden": false
   },
   "outputs": [],
   "source": [
    "from erddapy import ERDDAP\n",
    "from erddapy import utilities"
   ]
  },
  {
   "cell_type": "code",
   "execution_count": 2,
   "metadata": {},
   "outputs": [
    {
     "data": {
      "text/plain": [
       "200"
      ]
     },
     "execution_count": 2,
     "metadata": {},
     "output_type": "execute_result"
    }
   ],
   "source": [
    "import json\n",
    "import urllib\n",
    "import requests\n",
    "file = urllib.request.urlopen('https://raw.githubusercontent.com/IrishMarineInstitute/search-erddaps/master/erddaps.json')\n",
    "servers = json.loads(file.read())\n",
    "file.getcode()"
   ]
  },
  {
   "cell_type": "code",
   "execution_count": 3,
   "metadata": {
    "inputHidden": false,
    "outputHidden": false
   },
   "outputs": [],
   "source": [
    "servers=servers[:1]"
   ]
  },
  {
   "cell_type": "code",
   "execution_count": 4,
   "metadata": {
    "inputHidden": false,
    "outputHidden": false
   },
   "outputs": [
    {
     "name": "stdout",
     "output_type": "stream",
     "text": [
      "[{'url': 'https://coastwatch.pfeg.noaa.gov/erddap/'}]\n"
     ]
    }
   ],
   "source": [
    "print(servers)"
   ]
  },
  {
   "cell_type": "code",
   "execution_count": 5,
   "metadata": {},
   "outputs": [],
   "source": [
    "time_min = '2010-07-10T00:00:00Z'\n",
    "time_max = '2016-08-10T00:00:00Z'\n",
    "bbox = [-72.0, -69, 38, 41]\n",
    "\n",
    "kw = {\n",
    "   'search_for': 'all',\n",
    "   'min_lon': bbox[0],\n",
    "   'max_lon': bbox[1],\n",
    "   'min_lat': bbox[2],\n",
    "   'max_lat': bbox[3],\n",
    "   'min_time': time_min,\n",
    "   'max_time': time_max,\n",
    "}"
   ]
  },
  {
   "cell_type": "code",
   "execution_count": 6,
   "metadata": {
    "inputHidden": false,
    "outputHidden": false
   },
   "outputs": [
    {
     "name": "stdout",
     "output_type": "stream",
     "text": [
      "https://coastwatch.pfeg.noaa.gov/erddap/search/advanced.csv?page=1&itemsPerPage=1000&protocol=(ANY)&cdm_data_type=(ANY)&institution=(ANY)&ioos_category=(ANY)&keywords=(ANY)&long_name=(ANY)&standard_name=(ANY)&variableName=(ANY)&minLon=-72.0&maxLon=-69&minLat=38&maxLat=41&minTime=1278720000.0&maxTime=1470787200.0&searchFor=all\n"
     ]
    },
    {
     "name": "stderr",
     "output_type": "stream",
     "text": [
      "/srv/conda/envs/notebook/lib/python3.7/site-packages/ipykernel_launcher.py:30: SettingWithCopyWarning: \n",
      "A value is trying to be set on a copy of a slice from a DataFrame\n",
      "\n",
      "See the caveats in the documentation: http://pandas.pydata.org/pandas-docs/stable/indexing.html#indexing-view-versus-copy\n"
     ]
    }
   ],
   "source": [
    "import pandas as pd\n",
    "all_datasets=pd.DataFrame()\n",
    "\n",
    "for key in servers:\n",
    "    url = key['url']\n",
    "    url = url.rstrip(\"/\")\n",
    "    r = requests.get(url)\n",
    "    try:\n",
    "        r.raise_for_status()\n",
    "        e = ERDDAP(\n",
    "                 server=url,\n",
    "                 protocol='tabledap',\n",
    "                 response='csv'\n",
    "           )\n",
    "        print(e.get_search_url(**kw))\n",
    "    except requests.exceptions.RequestException as err:\n",
    "        print(\"Bad ERDDAP!!! {}\".format(url))\n",
    "    except requests.exceptions.HTTPError as errh:\n",
    "        print(\"Bad ERDDAP!!! {}\".format(url))\n",
    "    except requests.exceptions.ConnectionError as errc:\n",
    "        print(\"Bad ERDDAP!!! {}\".format(url))\n",
    "    except requests.exceptions.Timeout as errt:\n",
    "        print(\"Bad ERDDAP!!! {}\".format(url))\n",
    "        \n",
    "    ds = pd.read_csv('%s'%e.get_search_url(**kw))\n",
    "    ds['server'] = url\n",
    "    \n",
    "    datasets = ds[['server','Dataset ID','tabledap']]\n",
    "    \n",
    "    datasets.dropna(subset=['tabledap'],inplace=True)\n",
    "    \n",
    "    all_datasets = pd.concat([all_datasets,datasets])"
   ]
  },
  {
   "cell_type": "code",
   "execution_count": null,
   "metadata": {},
   "outputs": [],
   "source": [
    "all_datasets"
   ]
  },
  {
   "cell_type": "code",
   "execution_count": null,
   "metadata": {},
   "outputs": [
    {
     "name": "stdout",
     "output_type": "stream",
     "text": [
      "        latitude (degrees_north)  longitude (degrees_east)  \\\n",
      "0                     -12.519775                154.414450   \n",
      "1                     -12.509975                154.452650   \n",
      "2                     -12.507925                154.467025   \n",
      "3                     -12.500825                154.486075   \n",
      "4                     -12.499300                154.469275   \n",
      "5                     -12.499025                154.498275   \n",
      "6                     -12.498950                154.519175   \n",
      "7                     -12.498325                154.528225   \n",
      "8                     -12.493425                154.503150   \n",
      "9                     -12.491875                154.607825   \n",
      "10                    -12.490350                154.548125   \n",
      "11                    -12.490275                154.474450   \n",
      "12                    -12.490150                154.512075   \n",
      "13                    -12.487200                154.557075   \n",
      "14                    -12.486350                154.502825   \n",
      "15                    -12.486175                154.553550   \n",
      "16                    -12.485375                154.554925   \n",
      "17                    -12.485225                154.572800   \n",
      "18                    -12.483925                154.581600   \n",
      "19                    -12.483025                154.544400   \n",
      "20                    -12.482600                154.560900   \n",
      "21                    -12.482300                154.552525   \n",
      "22                    -12.482150                154.580850   \n",
      "23                    -12.482050                154.405425   \n",
      "24                    -12.479475                154.662775   \n",
      "25                    -12.476125                154.629075   \n",
      "26                    -12.475700                154.603825   \n",
      "27                    -12.475525                154.456250   \n",
      "28                    -12.474800                154.633650   \n",
      "29                    -12.474700                154.527525   \n",
      "...                          ...                       ...   \n",
      "112150                 40.933294                -70.896214   \n",
      "112151                 40.935861                -70.895882   \n",
      "112152                 40.938839                -70.894369   \n",
      "112153                 40.942012                -70.892692   \n",
      "112154                 40.945471                -70.890865   \n",
      "112155                 40.948881                -70.889062   \n",
      "112156                 40.952150                -70.887335   \n",
      "112157                 40.955239                -70.885702   \n",
      "112158                 40.958450                -70.882050   \n",
      "112159                 40.961610                -70.878155   \n",
      "112160                 40.964835                -70.874180   \n",
      "112161                 40.967984                -70.870299   \n",
      "112162                 40.970101                -70.867689   \n",
      "112163                 40.972762                -70.864410   \n",
      "112164                 40.974861                -70.858971   \n",
      "112165                 40.976337                -70.854740   \n",
      "112166                 40.977150                -70.849250   \n",
      "112167                 41.395403                -72.860284   \n",
      "112168                 45.616843                -83.211886   \n",
      "112169                 49.592850                -92.961650   \n",
      "112170                 51.672526                -98.057880   \n",
      "112171                       NaN                       NaN   \n",
      "112172                       NaN                       NaN   \n",
      "112173                       NaN                       NaN   \n",
      "112174                       NaN                       NaN   \n",
      "112175                       NaN                       NaN   \n",
      "112176                       NaN                       NaN   \n",
      "112177                       NaN                       NaN   \n",
      "112178                       NaN                       NaN   \n",
      "112179                       NaN                       NaN   \n",
      "\n",
      "                  time (UTC)  \n",
      "0       2017-01-23T16:51:00Z  \n",
      "1       2015-04-29T16:35:45Z  \n",
      "2       2017-01-23T11:33:45Z  \n",
      "3       2019-08-03T14:19:30Z  \n",
      "4       2017-02-25T05:49:30Z  \n",
      "5       2015-04-29T11:03:30Z  \n",
      "6       2017-01-23T06:10:15Z  \n",
      "7       2014-10-23T19:07:30Z  \n",
      "8       2014-12-06T16:34:45Z  \n",
      "9       2017-06-30T17:30:30Z  \n",
      "10      2019-08-03T08:53:30Z  \n",
      "11      2014-10-24T00:21:30Z  \n",
      "12      2017-02-25T00:42:45Z  \n",
      "13      2017-08-13T11:16:45Z  \n",
      "14      2015-08-25T20:35:00Z  \n",
      "15      2015-08-25T14:57:15Z  \n",
      "16      2017-02-24T19:42:15Z  \n",
      "17      2017-01-23T00:56:30Z  \n",
      "18      2014-10-23T13:52:45Z  \n",
      "19      2015-04-29T05:28:30Z  \n",
      "20      2017-06-30T22:48:00Z  \n",
      "21      2014-12-06T11:19:15Z  \n",
      "22      2014-08-22T18:45:00Z  \n",
      "23      2017-01-23T22:09:00Z  \n",
      "24      2017-06-30T12:23:00Z  \n",
      "25      2017-01-22T19:40:00Z  \n",
      "26      2017-02-24T14:37:00Z  \n",
      "27      2015-08-26T02:07:45Z  \n",
      "28      2014-10-23T08:39:15Z  \n",
      "29      2014-08-22T23:42:45Z  \n",
      "...                      ...  \n",
      "112150  2016-01-07T07:39:19Z  \n",
      "112151  2016-01-07T08:00:40Z  \n",
      "112152  2016-01-07T08:24:04Z  \n",
      "112153  2016-01-07T08:44:57Z  \n",
      "112154  2016-01-07T09:07:42Z  \n",
      "112155  2016-01-07T09:30:09Z  \n",
      "112156  2016-01-07T09:51:40Z  \n",
      "112157  2016-01-07T10:11:59Z  \n",
      "112158  2016-01-07T10:39:37Z  \n",
      "112159  2016-01-07T11:05:31Z  \n",
      "112160  2016-01-07T11:31:57Z  \n",
      "112161  2016-01-07T11:57:46Z  \n",
      "112162  2016-01-07T12:15:08Z  \n",
      "112163  2016-01-07T12:36:56Z  \n",
      "112164  2016-01-07T13:08:44Z  \n",
      "112165  2016-01-07T13:33:49Z  \n",
      "112166  2016-01-07T14:08:30Z  \n",
      "112167  2018-06-04T11:44:03Z  \n",
      "112168  2018-06-04T11:12:59Z  \n",
      "112169  2018-06-04T10:43:45Z  \n",
      "112170  2018-06-04T10:13:23Z  \n",
      "112171  2017-05-19T04:43:12Z  \n",
      "112172  2017-05-20T00:17:52Z  \n",
      "112173  2017-05-20T05:54:46Z  \n",
      "112174  2017-05-20T11:33:02Z  \n",
      "112175  2017-05-20T17:01:40Z  \n",
      "112176  2017-05-20T22:24:00Z  \n",
      "112177  2017-05-21T03:49:04Z  \n",
      "112178  2017-05-21T09:18:14Z  \n",
      "112179                   NaN  \n",
      "\n",
      "[112180 rows x 3 columns]\n"
     ]
    }
   ],
   "source": [
    "#tabledap = all_datasets.loc[all_datasets['tabledap'].notnull(),'Info']\n",
    "#ii=0\n",
    "#varnames=pd.DataFrame()\n",
    "#varnames = []\n",
    "for i in range(2):#all_datasets.shape[0]):\n",
    "    dataset_url = '%s/tabledap/%s.csvp?latitude,longitude,time&distinct()' % (all_datasets['server'].iloc[int(i)],all_datasets['Dataset ID'].iloc[int(i)])\n",
    "    coords = pd.read_csv(dataset_url)\n",
    "    print(coords)\n",
    "    #varnames.extend(meta['Variable Name'].unique())\n",
    "    #varnames = pd.merge(varnames,meta.loc[meta['Attribute Name'] == \"long_name\",['Variable Name','Value']])\n",
    "\n",
    "    #e = ERDDAP(\n",
    "    #    server=all_datasets['server'].iloc[ii],\n",
    "    #    protocol='tabledap')\n",
    "\n",
    "    #e.dataset_id = all_datasets['Dataset ID'].unique()\n",
    "    #e.protocol = \"tabledap\"\n",
    "    #ii+=1\n",
    "#print(varnames)    "
   ]
  },
  {
   "cell_type": "code",
   "execution_count": null,
   "metadata": {},
   "outputs": [],
   "source": [
    "all_datasets['Dataset ID'].iloc[int(i)]"
   ]
  },
  {
   "cell_type": "code",
   "execution_count": null,
   "metadata": {},
   "outputs": [],
   "source": [
    "all_datasets['server'].iloc[0]"
   ]
  },
  {
   "cell_type": "code",
   "execution_count": null,
   "metadata": {},
   "outputs": [],
   "source": [
    "# from erddapy import ERDDAP\n",
    "\n",
    "\n",
    "# e = ERDDAP(\n",
    "#   server='https://data.ioos.us/gliders/erddap',\n",
    "#   protocol='tabledap',\n",
    "# )\n",
    "\n",
    "# e.response = 'csv'\n",
    "# e.dataset_id = 'whoi_406-20160902T1700'\n",
    "# e.constraints = {\n",
    "#     'time>=': '2016-07-10T00:00:00Z',\n",
    "#     'time<=': '2017-02-10T00:00:00Z',\n",
    "#     'latitude>=': 38.0,\n",
    "#     'latitude<=': 41.0,\n",
    "#     'longitude>=': -72.0,\n",
    "#     'longitude<=': -69.0,\n",
    "# }\n",
    "# e.variables = [\n",
    "#     'depth',\n",
    "#     'latitude',\n",
    "#     'longitude',\n",
    "#     'salinity',\n",
    "#     'temperature',\n",
    "#     'time',\n",
    "# ]"
   ]
  },
  {
   "cell_type": "code",
   "execution_count": null,
   "metadata": {},
   "outputs": [],
   "source": [
    "#     if url != 'http://erddap.emodnet-physics.eu/erddap' and \\\n",
    "#     url != 'https://erddap.marine.ie/erddap' and \\\n",
    "#     url != 'http://oos.soest.hawaii.edu/erddap' and \\\n",
    "#     url != 'http://erddap.secoora.org/erddap' and \\\n",
    "#     url != 'https://ecowatch.ncddc.noaa.gov/erddap' and \\\n",
    "#     url != 'http://dap.onc.uvic.ca/erddap':"
   ]
  },
  {
   "cell_type": "code",
   "execution_count": null,
   "metadata": {},
   "outputs": [],
   "source": [
    "# laturl = 'http://erddap.bco-dmo.org/erddap/categorize/variableName/latitude/index.csv'\n",
    "# lonurl = 'http://erddap.bco-dmo.org/erddap/categorize/variableName/longitude/index.csv'\n",
    "\n",
    "# df_lat = pd.read_csv(laturl, header=[0])\n",
    "# df_lon = pd.read_csv(lonurl, header=[0])\n",
    "\n",
    "# df_datasets = pd.merge(df_lat, df_lon, on='Dataset ID')\n",
    "# df_final = pd.DataFrame(columns=['latitude (degrees_north)', 'longitude (degrees_east)', 'Dataset ID'])\n",
    "\n",
    "# for did in df_datasets['Dataset ID']:\n",
    "#     if did != 'bcodmo_dataset_739309': # remove this once we reload all the datasets again.\n",
    "#         dataset_url = 'http://erddap.bco-dmo.org/erddap/tabledap/%s.csvp?latitude,longitude&distinct()' % did\n",
    "#         df_data = pd.read_csv(dataset_url, header=0, usecols=['latitude (degrees_north)', 'longitude (degrees_east)'])\n",
    "#         df_data['Dataset ID'] = did\n",
    "#         df_final = pd.concat([df_final, df_data], sort=False, ignore_index=True)\n",
    "#         print(df_final.shape)\n",
    "\n",
    "# lon = df_final['longitude (degrees_east)'].values\n",
    "# lat = df_final['latitude (degrees_north)'].values"
   ]
  },
  {
   "cell_type": "code",
   "execution_count": null,
   "metadata": {},
   "outputs": [],
   "source": []
  },
  {
   "cell_type": "code",
   "execution_count": null,
   "metadata": {},
   "outputs": [],
   "source": []
  }
 ],
 "metadata": {
  "kernel_info": {
   "name": "python3"
  },
  "kernelspec": {
   "display_name": "Python 3",
   "language": "python",
   "name": "python3"
  },
  "language_info": {
   "codemirror_mode": {
    "name": "ipython",
    "version": 3
   },
   "file_extension": ".py",
   "mimetype": "text/x-python",
   "name": "python",
   "nbconvert_exporter": "python",
   "pygments_lexer": "ipython3",
   "version": "3.7.3"
  },
  "nteract": {
   "version": "0.14.5"
  }
 },
 "nbformat": 4,
 "nbformat_minor": 4
}
