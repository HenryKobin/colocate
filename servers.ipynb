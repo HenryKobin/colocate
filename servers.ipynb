{
 "cells": [
  {
   "cell_type": "code",
   "execution_count": 1,
   "metadata": {
    "inputHidden": false,
    "outputHidden": false
   },
   "outputs": [],
   "source": [
    "from erddapy import ERDDAP\n",
    "from erddapy import utilities"
   ]
  },
  {
   "cell_type": "code",
   "execution_count": 2,
   "metadata": {},
   "outputs": [
    {
     "data": {
      "text/plain": [
       "200"
      ]
     },
     "execution_count": 2,
     "metadata": {},
     "output_type": "execute_result"
    }
   ],
   "source": [
    "import json\n",
    "import urllib\n",
    "import requests\n",
    "file = urllib.request.urlopen('https://raw.githubusercontent.com/IrishMarineInstitute/search-erddaps/master/erddaps.json')\n",
    "servers = json.loads(file.read())\n",
    "file.getcode()"
   ]
  },
  {
   "cell_type": "code",
   "execution_count": 3,
   "metadata": {
    "inputHidden": false,
    "outputHidden": false
   },
   "outputs": [],
   "source": [
    "servers=servers[:3]"
   ]
  },
  {
   "cell_type": "code",
   "execution_count": 4,
   "metadata": {
    "inputHidden": false,
    "outputHidden": false
   },
   "outputs": [
    {
     "name": "stdout",
     "output_type": "stream",
     "text": [
      "[{'url': 'https://coastwatch.pfeg.noaa.gov/erddap/'}, {'url': 'https://apdrc.soest.hawaii.edu/erddap/'}, {'url': 'https://erddap.bco-dmo.org/erddap/'}]\n"
     ]
    }
   ],
   "source": [
    "print(servers)"
   ]
  },
  {
   "cell_type": "code",
   "execution_count": 26,
   "metadata": {},
   "outputs": [],
   "source": [
    "time_min = '2010-07-10T00:00:00Z'\n",
    "time_max = '2016-08-10T00:00:00Z'\n",
    "bbox = [-72.0, -69, 38, 41]\n",
    "\n",
    "kw = {\n",
    "   'search_for': 'all',\n",
    "   'min_lon': bbox[0],\n",
    "   'max_lon': bbox[1],\n",
    "   'min_lat': bbox[2],\n",
    "   'max_lat': bbox[3],\n",
    "   'min_time': time_min,\n",
    "   'max_time': time_max,\n",
    "}"
   ]
  },
  {
   "cell_type": "code",
   "execution_count": 55,
   "metadata": {
    "inputHidden": false,
    "outputHidden": false
   },
   "outputs": [
    {
     "name": "stdout",
     "output_type": "stream",
     "text": [
      "https://coastwatch.pfeg.noaa.gov/erddap/search/advanced.csv?page=1&itemsPerPage=1000&protocol=(ANY)&cdm_data_type=(ANY)&institution=(ANY)&ioos_category=(ANY)&keywords=(ANY)&long_name=(ANY)&standard_name=(ANY)&variableName=(ANY)&minLon=-72.0&maxLon=-69&minLat=38&maxLat=41&minTime=1278720000.0&maxTime=1470787200.0&searchFor=all\n",
      "https://apdrc.soest.hawaii.edu/erddap/search/advanced.csv?page=1&itemsPerPage=1000&protocol=(ANY)&cdm_data_type=(ANY)&institution=(ANY)&ioos_category=(ANY)&keywords=(ANY)&long_name=(ANY)&standard_name=(ANY)&variableName=(ANY)&minLon=-72.0&maxLon=-69&minLat=38&maxLat=41&minTime=1278720000.0&maxTime=1470787200.0&searchFor=all\n",
      "https://erddap.bco-dmo.org/erddap/search/advanced.csv?page=1&itemsPerPage=1000&protocol=(ANY)&cdm_data_type=(ANY)&institution=(ANY)&ioos_category=(ANY)&keywords=(ANY)&long_name=(ANY)&standard_name=(ANY)&variableName=(ANY)&minLon=-72.0&maxLon=-69&minLat=38&maxLat=41&minTime=1278720000.0&maxTime=1470787200.0&searchFor=all\n"
     ]
    },
    {
     "name": "stderr",
     "output_type": "stream",
     "text": [
      "/anaconda3/envs/erddap/lib/python3.7/site-packages/ipykernel_launcher.py:26: FutureWarning: Sorting because non-concatenation axis is not aligned. A future version\n",
      "of pandas will change to not sort by default.\n",
      "\n",
      "To accept the future behavior, pass 'sort=False'.\n",
      "\n",
      "To retain the current behavior and silence the warning, pass 'sort=True'.\n",
      "\n"
     ]
    }
   ],
   "source": [
    "import pandas as pd\n",
    "all_datasets=pd.DataFrame()\n",
    "\n",
    "for key in servers:\n",
    "    url = key['url']\n",
    "    url = url.rstrip(\"/\")\n",
    "    r = requests.get(url)\n",
    "    try:\n",
    "        r.raise_for_status()\n",
    "        e = ERDDAP(\n",
    "                 server=url,\n",
    "                 protocol='tabledap',\n",
    "                 response='csv'\n",
    "           )\n",
    "        print(e.get_search_url(**kw))\n",
    "    except requests.exceptions.RequestException as err:\n",
    "        print(\"Bad ERDDAP!!! {}\".format(url))\n",
    "    except requests.exceptions.HTTPError as errh:\n",
    "        print(\"Bad ERDDAP!!! {}\".format(url))\n",
    "    except requests.exceptions.ConnectionError as errc:\n",
    "        print(\"Bad ERDDAP!!! {}\".format(url))\n",
    "    except requests.exceptions.Timeout as errt:\n",
    "        print(\"Bad ERDDAP!!! {}\".format(url))\n",
    "    datasets = pd.read_csv('%s'%e.get_search_url(**kw))\n",
    "    datasets['server'] = url\n",
    "    all_datasets = pd.concat([all_datasets,datasets])"
   ]
  },
  {
   "cell_type": "code",
   "execution_count": 76,
   "metadata": {},
   "outputs": [
    {
     "name": "stdout",
     "output_type": "stream",
     "text": [
      "['NC_GLOBAL' 'trajectory' 'institution' 'platform_id' 'platform_type'\n",
      " 'wmo_id' 'ctd_make_model' 'segment_id' 'time_uv' 'lat_uv' 'lon_uv' 'u'\n",
      " 'v' 'uv_qc' 'profile_id' 'profile_qc' 'time' 'latitude' 'longitude'\n",
      " 'depth' 'd_qc' 'pressure' 'p_qc' 'temperature' 't_qc' 'salinity' 's_qc'\n",
      " 'conductivity' 'c_qc' 'precise_time' 'precise_time_qc' 'precise_lat'\n",
      " 'precise_lat_qc' 'precise_lon' 'precise_lon_qc']\n",
      "\n",
      "['NC_GLOBAL' 'trajectory' 'org' 'type' 'platform' 'cruise' 'station_id'\n",
      " 'longitude' 'latitude' 'time' 'depth' 'temperature' 'salinity']\n",
      "\n",
      "['NC_GLOBAL' 'longitude' 'latitude' 'time' 'ob_clm' 'ob_csgm' 'ob_glb'\n",
      " 'ob_gsgm' 'ob_qc' 'ob_rcpt' 'ob_rgn' 'ob_rsgm' 'ob_sign' 'ob_sst'\n",
      " 'ob_typ' 'ob_wm']\n",
      "\n",
      "['NC_GLOBAL' 'vehicleName' 'ais' 'feed_version' 'time' 'latitude'\n",
      " 'longitude' 'MMSI' 'COG' 'SOG' 'ROT' 'Heading' 'NavigationStatus']\n",
      "\n",
      "['NC_GLOBAL' 'vehicleName' 'board_id' 'task_id' 'time' 'latitude'\n",
      " 'longitude' 'wave_height' 'average_wave_period' 'dominant_wave_period'\n",
      " 'wave_direction' 'number_averaged_spectra'\n",
      " 'number_of_samples_per_spectrum' 'number_of_sample_gaps']\n",
      "\n",
      "['NC_GLOBAL' 'station' 'longitude' 'latitude' 'time' 'wd' 'wspd' 'gst'\n",
      " 'wvht' 'dpd' 'apd' 'mwd' 'bar' 'atmp' 'wtmp' 'dewp' 'vis' 'ptdy' 'tide'\n",
      " 'wspu' 'wspv']\n",
      "\n",
      "['NC_GLOBAL' 'longitude' 'latitude' 'station_id' 'altitude' 'time'\n",
      " 'sensor_id' 'sea_water_temperature']\n",
      "\n",
      "['NC_GLOBAL' 'longitude' 'latitude' 'station_id' 'altitude' 'time'\n",
      " 'sensor_id' 'wind_from_direction' 'wind_speed' 'wind_speed_of_gust'\n",
      " 'upward_air_velocity']\n",
      "\n",
      "['NC_GLOBAL' 'longitude' 'latitude' 'station_id' 'altitude' 'time'\n",
      " 'sensor_id' 'bin' 'direction_of_sea_water_velocity' 'sea_water_speed'\n",
      " 'upward_sea_water_velocity' 'error_velocity' 'platform_orientation'\n",
      " 'platform_pitch_angle' 'platform_roll_angle' 'sea_water_temperature'\n",
      " 'pct_good_3_beam' 'pct_good_4_beam' 'pct_rejected' 'pct_bad'\n",
      " 'echo_intensity_beam1' 'echo_intensity_beam2' 'echo_intensity_beam3'\n",
      " 'echo_intensity_beam4' 'correlation_magnitude_beam1'\n",
      " 'correlation_magnitude_beam2' 'correlation_magnitude_beam3'\n",
      " 'correlation_magnitude_beam4' 'quality_flags']\n",
      "\n",
      "['NC_GLOBAL' 'longitude' 'latitude' 'station_id' 'altitude' 'time'\n",
      " 'sensor_id' 'sea_water_salinity']\n",
      "\n",
      "['NC_GLOBAL' 'longitude' 'latitude' 'station_id' 'altitude' 'time'\n",
      " 'sensor_id' 'averaging_interval']\n",
      "\n",
      "['NC_GLOBAL' 'longitude' 'latitude' 'station_id' 'altitude' 'time'\n",
      " 'sensor_id' 'air_temperature' 'quality_flags']\n",
      "\n",
      "['NC_GLOBAL' 'longitude' 'latitude' 'station_id' 'altitude' 'time'\n",
      " 'sensor_id' 'air_pressure' 'quality_flags']\n",
      "\n",
      "['NC_GLOBAL' 'longitude' 'latitude' 'station_id' 'altitude' 'time'\n",
      " 'sensor_id' 'water_level' 'datum_id' 'vertical_position' 'sigma'\n",
      " 'quality_flags']\n",
      "\n",
      "['NC_GLOBAL' 'longitude' 'latitude' 'station_id' 'altitude' 'time'\n",
      " 'sensor_id' 'sea_water_temperature' 'quality_flags']\n",
      "\n",
      "['NC_GLOBAL' 'longitude' 'latitude' 'station_id' 'altitude' 'time'\n",
      " 'sensor_id' 'conductivity' 'quality_flags']\n",
      "\n",
      "['NC_GLOBAL' 'longitude' 'latitude' 'station_id' 'altitude' 'time'\n",
      " 'sensor_id' 'sea_water_salinity']\n",
      "\n",
      "['NC_GLOBAL' 'longitude' 'latitude' 'station_id' 'altitude' 'time'\n",
      " 'air_temperature' 'chlorophyll' 'direction_of_sea_water_velocity'\n",
      " 'dominant_wave_period' 'sea_level_pressure' 'sea_water_density'\n",
      " 'sea_water_electrical_conductivity' 'sea_water_salinity'\n",
      " 'sea_water_speed' 'sea_water_temperature' 'wave_height'\n",
      " 'visibility_in_air' 'wind_from_direction' 'wind_gust' 'wind_speed']\n",
      "\n",
      "['NC_GLOBAL' 'cruise_id' 'project' 'station_GEOTRC' 'sta_PI' 'latitude'\n",
      " 'longitude' 'cast_GEOTRC' 'event_GEOTRC' 'depth' 'depth_GEOTRC_CTD_round'\n",
      " 'sample_GEOTRC' 'sample_bottle_GEOTRC' 'bottle_GEOTRC' 'grid_type'\n",
      " 'grid_num' 'SXRF_run' 'mda_id' 'cell_type' 'cell_vol' 'cell_C' 'cell_Si'\n",
      " 'cell_P' 'cell_S' 'cell_Mn' 'cell_Fe' 'cell_Co' 'cell_Ni' 'cell_Cu'\n",
      " 'cell_Zn' 'light_image_filename' 'chl_image_filename' 'SXRF_map_filename'\n",
      " 'SXRF_spectrum_filename' 'time']\n",
      "\n"
     ]
    }
   ],
   "source": [
    "tabledap = all_datasets.loc[all_datasets['tabledap'].notnull(),'Info']\n",
    "ii=0\n",
    "for csv_url in tabledap:\n",
    "    \n",
    "    meta = pd.read_csv(str(csv_url))\n",
    "    print(meta['Variable Name'].unique())\n",
    "    print()\n",
    "    e = ERDDAP(\n",
    "        server=all_datasets['server'].iloc[ii],\n",
    "        protocol='tabledap')\n",
    "\n",
    "    e.dataset_id = all_datasets['Dataset ID'].unique()\n",
    "    e.protocol = \"tabledap\"\n",
    "    ii+=1\n",
    "    "
   ]
  },
  {
   "cell_type": "code",
   "execution_count": 75,
   "metadata": {},
   "outputs": [
    {
     "data": {
      "text/plain": [
       "0    https://coastwatch.pfeg.noaa.gov/erddap\n",
       "0      https://apdrc.soest.hawaii.edu/erddap\n",
       "0          https://erddap.bco-dmo.org/erddap\n",
       "Name: server, dtype: object"
      ]
     },
     "execution_count": 75,
     "metadata": {},
     "output_type": "execute_result"
    }
   ],
   "source": [
    "all_datasets['server'][ii]\n"
   ]
  },
  {
   "cell_type": "code",
   "execution_count": 51,
   "metadata": {},
   "outputs": [
    {
     "data": {
      "text/plain": [
       "array(['NC_GLOBAL', 'cruise_id', 'project', 'station_GEOTRC', 'sta_PI',\n",
       "       'latitude', 'longitude', 'cast_GEOTRC', 'event_GEOTRC', 'depth',\n",
       "       'depth_GEOTRC_CTD_round', 'sample_GEOTRC', 'sample_bottle_GEOTRC',\n",
       "       'bottle_GEOTRC', 'grid_type', 'grid_num', 'SXRF_run', 'mda_id',\n",
       "       'cell_type', 'cell_vol', 'cell_C', 'cell_Si', 'cell_P', 'cell_S',\n",
       "       'cell_Mn', 'cell_Fe', 'cell_Co', 'cell_Ni', 'cell_Cu', 'cell_Zn',\n",
       "       'light_image_filename', 'chl_image_filename', 'SXRF_map_filename',\n",
       "       'SXRF_spectrum_filename', 'time'], dtype=object)"
      ]
     },
     "execution_count": 51,
     "metadata": {},
     "output_type": "execute_result"
    }
   ],
   "source": [
    "meta['Variable Name'].unique()"
   ]
  },
  {
   "cell_type": "code",
   "execution_count": 8,
   "metadata": {},
   "outputs": [],
   "source": [
    "# from erddapy import ERDDAP\n",
    "\n",
    "\n",
    "# e = ERDDAP(\n",
    "#   server='https://data.ioos.us/gliders/erddap',\n",
    "#   protocol='tabledap',\n",
    "# )\n",
    "\n",
    "# e.response = 'csv'\n",
    "# e.dataset_id = 'whoi_406-20160902T1700'\n",
    "# e.constraints = {\n",
    "#     'time>=': '2016-07-10T00:00:00Z',\n",
    "#     'time<=': '2017-02-10T00:00:00Z',\n",
    "#     'latitude>=': 38.0,\n",
    "#     'latitude<=': 41.0,\n",
    "#     'longitude>=': -72.0,\n",
    "#     'longitude<=': -69.0,\n",
    "# }\n",
    "# e.variables = [\n",
    "#     'depth',\n",
    "#     'latitude',\n",
    "#     'longitude',\n",
    "#     'salinity',\n",
    "#     'temperature',\n",
    "#     'time',\n",
    "# ]"
   ]
  },
  {
   "cell_type": "code",
   "execution_count": 9,
   "metadata": {},
   "outputs": [
    {
     "ename": "SyntaxError",
     "evalue": "unexpected EOF while parsing (<ipython-input-9-a1f1d5c2bc5d>, line 6)",
     "output_type": "error",
     "traceback": [
      "\u001b[0;36m  File \u001b[0;32m\"<ipython-input-9-a1f1d5c2bc5d>\"\u001b[0;36m, line \u001b[0;32m6\u001b[0m\n\u001b[0;31m    url != 'http://dap.onc.uvic.ca/erddap':\u001b[0m\n\u001b[0m                                           ^\u001b[0m\n\u001b[0;31mSyntaxError\u001b[0m\u001b[0;31m:\u001b[0m unexpected EOF while parsing\n"
     ]
    }
   ],
   "source": [
    "    if url != 'http://erddap.emodnet-physics.eu/erddap' and \\\n",
    "    url != 'https://erddap.marine.ie/erddap' and \\\n",
    "    url != 'http://oos.soest.hawaii.edu/erddap' and \\\n",
    "    url != 'http://erddap.secoora.org/erddap' and \\\n",
    "    url != 'https://ecowatch.ncddc.noaa.gov/erddap' and \\\n",
    "    url != 'http://dap.onc.uvic.ca/erddap':"
   ]
  },
  {
   "cell_type": "code",
   "execution_count": null,
   "metadata": {},
   "outputs": [],
   "source": []
  },
  {
   "cell_type": "code",
   "execution_count": null,
   "metadata": {},
   "outputs": [],
   "source": []
  },
  {
   "cell_type": "code",
   "execution_count": null,
   "metadata": {},
   "outputs": [],
   "source": []
  }
 ],
 "metadata": {
  "kernel_info": {
   "name": "python3"
  },
  "kernelspec": {
   "display_name": "Python 3",
   "language": "python",
   "name": "python3"
  },
  "language_info": {
   "codemirror_mode": {
    "name": "ipython",
    "version": 3
   },
   "file_extension": ".py",
   "mimetype": "text/x-python",
   "name": "python",
   "nbconvert_exporter": "python",
   "pygments_lexer": "ipython3",
   "version": "3.7.3"
  },
  "nteract": {
   "version": "0.14.5"
  }
 },
 "nbformat": 4,
 "nbformat_minor": 1
}
