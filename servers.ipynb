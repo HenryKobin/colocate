{
  "cells": [
    {
      "cell_type": "code",
      "source": [
        "from erddapy import ERDDAP\n",
        "from erddapy import utilities"
      ],
      "outputs": [],
      "execution_count": 3,
      "metadata": {
        "collapsed": false,
        "outputHidden": false,
        "inputHidden": false
      }
    },
    {
      "cell_type": "code",
      "source": [
        "servers = utilities.servers"
      ],
      "outputs": [],
      "execution_count": 10,
      "metadata": {
        "collapsed": false,
        "outputHidden": false,
        "inputHidden": false
      }
    },
    {
      "cell_type": "code",
      "source": [
        "print(servers)"
      ],
      "outputs": [
        {
          "output_type": "stream",
          "name": "stdout",
          "text": [
            "{'MDA': server(description='Marine Domain Awareness (MDA) - Italy', url='https://bluehub.jrc.ec.europa.eu/erddap/'), 'MII': server(description='Marine Institute - Ireland', url='https://erddap.marine.ie/erddap/'), 'CSCGOM': server(description='CoastWatch Caribbean/Gulf of Mexico Node', url='http://cwcgom.aoml.noaa.gov/erddap/'), 'CSWC': server(description='CoastWatch West Coast Node', url='https://coastwatch.pfeg.noaa.gov/erddap/'), 'CeNCOOS': server(description='NOAA IOOS CeNCOOS (Central and Northern California Ocean Observing System)', url='http://erddap.axiomalaska.com/erddap/'), 'NERACOOS': server(description='NOAA IOOS NERACOOS (Northeastern Regional Association of Coastal and Ocean Observing Systems)', url='http://www.neracoos.org/erddap/'), 'NGDAC': server(description='NOAA IOOS NGDAC (National Glider Data Assembly Center)', url='https://data.ioos.us/gliders/erddap/'), 'PacIOOS': server(description='NOAA IOOS PacIOOS (Pacific Islands Ocean Observing System) at the University of Hawaii (UH)', url='http://oos.soest.hawaii.edu/erddap/'), 'SECOORA': server(description='NOAA IOOS SECOORA (Southeast Coastal Ocean Observing Regional Association)', url='http://erddap.secoora.org/erddap/'), 'NCEI': server(description='NOAA NCEI (National Centers for Environmental Information) / NCDDC', url='https://ecowatch.ncddc.noaa.gov/erddap/'), 'OSMC': server(description='NOAA OSMC (Observing System Monitoring Center)', url='http://osmc.noaa.gov/erddap/'), 'UAF': server(description='NOAA UAF (Unified Access Framework)', url='https://upwell.pfeg.noaa.gov/erddap/'), 'ONC': server(description='ONC (Ocean Networks Canada)', url='http://dap.onc.uvic.ca/erddap/'), 'BMLSC': server(description='UC Davis BML (University of California at Davis, Bodega Marine Laboratory)', url='http://bmlsc.ucdavis.edu:8080/erddap/'), 'RTECH': server(description='R.Tech Engineering', url='https://meteo.rtech.fr/erddap/'), 'IFREMER': server(description='French Research Institute for the Exploitation of the Sea', url='http://www.ifremer.fr/erddap/'), 'UBC': server(description='UBC Earth, Ocean & Atmospheric Sciences SalishSeaCast Project', url='https://salishsea.eos.ubc.ca/erddap/')}\n"
          ]
        }
      ],
      "execution_count": 13,
      "metadata": {
        "collapsed": false,
        "outputHidden": false,
        "inputHidden": false
      }
    },
    {
      "cell_type": "code",
      "source": [],
      "outputs": [],
      "execution_count": null,
      "metadata": {
        "collapsed": false,
        "outputHidden": false,
        "inputHidden": false
      }
    }
  ],
  "metadata": {
    "kernel_info": {
      "name": "python3"
    },
    "language_info": {
      "name": "python",
      "version": "3.7.3",
      "mimetype": "text/x-python",
      "codemirror_mode": {
        "name": "ipython",
        "version": 3
      },
      "pygments_lexer": "ipython3",
      "nbconvert_exporter": "python",
      "file_extension": ".py"
    },
    "kernelspec": {
      "name": "python3",
      "language": "python",
      "display_name": "Python 3"
    },
    "nteract": {
      "version": "0.14.5"
    }
  },
  "nbformat": 4,
  "nbformat_minor": 0
}