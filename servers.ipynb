{
 "cells": [
  {
   "cell_type": "code",
   "execution_count": 1,
   "metadata": {
    "inputHidden": false,
    "outputHidden": false
   },
   "outputs": [],
   "source": [
    "from erddapy import ERDDAP # /anaconda3/envs/colocators-ohw19/lib/python3.7/site-packages/erddapy\n",
    "from erddapy import utilities"
   ]
  },
  {
   "cell_type": "code",
   "execution_count": 2,
   "metadata": {},
   "outputs": [],
   "source": [
    "import json\n",
    "import urllib\n",
    "import requests\n",
    "file = urllib.request.urlopen('https://raw.githubusercontent.com/IrishMarineInstitute/search-erddaps/master/erddaps.json')\n",
    "all_servers = json.loads(file.read())\n",
    "#file.getcode()"
   ]
  },
  {
   "cell_type": "code",
   "execution_count": 3,
   "metadata": {
    "inputHidden": false,
    "outputHidden": false
   },
   "outputs": [],
   "source": [
    "servers=all_servers"
   ]
  },
  {
   "cell_type": "code",
   "execution_count": 17,
   "metadata": {
    "inputHidden": false,
    "outputHidden": false
   },
   "outputs": [
    {
     "data": {
      "text/plain": [
       "24"
      ]
     },
     "execution_count": 17,
     "metadata": {},
     "output_type": "execute_result"
    }
   ],
   "source": [
    "del servers[16] # skipping scoos server\n",
    "#del servers[4]\n",
    "len(servers)"
   ]
  },
  {
   "cell_type": "code",
   "execution_count": 5,
   "metadata": {},
   "outputs": [],
   "source": [
    "time_min = '2016-07-10T00:00:00Z'\n",
    "time_max = '2016-08-10T00:00:00Z'\n",
    "bbox = [-72.0, -69, 38, 41]\n",
    "\n",
    "kw = {\n",
    "   'search_for': 'all',\n",
    "   'min_lon': bbox[0],\n",
    "   'max_lon': bbox[1],\n",
    "   'min_lat': bbox[2],\n",
    "   'max_lat': bbox[3],\n",
    "   'min_time': time_min,\n",
    "   'max_time': time_max,\n",
    "   'standard_name': 'depth'\n",
    "}"
   ]
  },
  {
   "cell_type": "code",
   "execution_count": 6,
   "metadata": {
    "inputHidden": false,
    "outputHidden": false
   },
   "outputs": [
    {
     "name": "stdout",
     "output_type": "stream",
     "text": [
      "https://coastwatch.pfeg.noaa.gov/erddap/search/advanced.csv?page=1&itemsPerPage=1000&protocol=(ANY)&cdm_data_type=(ANY)&institution=(ANY)&ioos_category=(ANY)&keywords=(ANY)&long_name=(ANY)&standard_name=depth&variableName=(ANY)&minLon=-72.0&maxLon=-69&minLat=38&maxLat=41&minTime=1468108800.0&maxTime=1470787200.0&searchFor=all\n"
     ]
    },
    {
     "name": "stderr",
     "output_type": "stream",
     "text": [
      "/anaconda3/envs/colocators-ohw19/lib/python3.7/site-packages/ipykernel_launcher.py:21: SettingWithCopyWarning: \n",
      "A value is trying to be set on a copy of a slice from a DataFrame\n",
      "\n",
      "See the caveats in the documentation: http://pandas.pydata.org/pandas-docs/stable/user_guide/indexing.html#returning-a-view-versus-a-copy\n"
     ]
    },
    {
     "name": "stdout",
     "output_type": "stream",
     "text": [
      "Bad ERDDAP!!! https://apdrc.soest.hawaii.edu/erddap\n",
      "https://erddap.bco-dmo.org/erddap/search/advanced.csv?page=1&itemsPerPage=1000&protocol=(ANY)&cdm_data_type=(ANY)&institution=(ANY)&ioos_category=(ANY)&keywords=(ANY)&long_name=(ANY)&standard_name=depth&variableName=(ANY)&minLon=-72.0&maxLon=-69&minLat=38&maxLat=41&minTime=1468108800.0&maxTime=1470787200.0&searchFor=all\n",
      "http://erddap.emodnet-physics.eu/erddap/search/advanced.csv?page=1&itemsPerPage=1000&protocol=(ANY)&cdm_data_type=(ANY)&institution=(ANY)&ioos_category=(ANY)&keywords=(ANY)&long_name=(ANY)&standard_name=depth&variableName=(ANY)&minLon=-72.0&maxLon=-69&minLat=38&maxLat=41&minTime=1468108800.0&maxTime=1470787200.0&searchFor=all\n",
      "Bad ERDDAP!!! https://erddap.marine.ie/erddap\n",
      "Bad ERDDAP!!! https://cwcgom.aoml.noaa.gov/erddap\n",
      "http://erddap.sensors.ioos.us/erddap/search/advanced.csv?page=1&itemsPerPage=1000&protocol=(ANY)&cdm_data_type=(ANY)&institution=(ANY)&ioos_category=(ANY)&keywords=(ANY)&long_name=(ANY)&standard_name=depth&variableName=(ANY)&minLon=-72.0&maxLon=-69&minLat=38&maxLat=41&minTime=1468108800.0&maxTime=1470787200.0&searchFor=all\n",
      "http://erddap.axiomdatascience.com/erddap/search/advanced.csv?page=1&itemsPerPage=1000&protocol=(ANY)&cdm_data_type=(ANY)&institution=(ANY)&ioos_category=(ANY)&keywords=(ANY)&long_name=(ANY)&standard_name=depth&variableName=(ANY)&minLon=-72.0&maxLon=-69&minLat=38&maxLat=41&minTime=1468108800.0&maxTime=1470787200.0&searchFor=all\n",
      "http://www.neracoos.org/erddap/search/advanced.csv?page=1&itemsPerPage=1000&protocol=(ANY)&cdm_data_type=(ANY)&institution=(ANY)&ioos_category=(ANY)&keywords=(ANY)&long_name=(ANY)&standard_name=depth&variableName=(ANY)&minLon=-72.0&maxLon=-69&minLat=38&maxLat=41&minTime=1468108800.0&maxTime=1470787200.0&searchFor=all\n",
      "https://data.ioos.us/gliders/erddap/search/advanced.csv?page=1&itemsPerPage=1000&protocol=(ANY)&cdm_data_type=(ANY)&institution=(ANY)&ioos_category=(ANY)&keywords=(ANY)&long_name=(ANY)&standard_name=depth&variableName=(ANY)&minLon=-72.0&maxLon=-69&minLat=38&maxLat=41&minTime=1468108800.0&maxTime=1470787200.0&searchFor=all\n",
      "Bad ERDDAP!!! http://oos.soest.hawaii.edu/erddap\n",
      "Bad ERDDAP!!! http://sccoos.org/erddap\n",
      "Bad ERDDAP!!! http://erddap.secoora.org/erddap\n",
      "Bad ERDDAP!!! https://ecowatch.ncddc.noaa.gov/erddap\n",
      "Bad ERDDAP!!! http://osmc.noaa.gov/erddap\n",
      "Bad ERDDAP!!! http://dap.onc.uvic.ca/erddap\n",
      "Bad ERDDAP!!! https://erddap-uncabled.oceanobservatories.org/uncabled/erddap\n",
      "https://members.oceantrack.org/erddap/search/advanced.csv?page=1&itemsPerPage=1000&protocol=(ANY)&cdm_data_type=(ANY)&institution=(ANY)&ioos_category=(ANY)&keywords=(ANY)&long_name=(ANY)&standard_name=depth&variableName=(ANY)&minLon=-72.0&maxLon=-69&minLat=38&maxLat=41&minTime=1468108800.0&maxTime=1470787200.0&searchFor=all\n",
      "http://www.myroms.org:8080/erddap/search/advanced.csv?page=1&itemsPerPage=1000&protocol=(ANY)&cdm_data_type=(ANY)&institution=(ANY)&ioos_category=(ANY)&keywords=(ANY)&long_name=(ANY)&standard_name=depth&variableName=(ANY)&minLon=-72.0&maxLon=-69&minLat=38&maxLat=41&minTime=1468108800.0&maxTime=1470787200.0&searchFor=all\n",
      "http://tds.marine.rutgers.edu/erddap/search/advanced.csv?page=1&itemsPerPage=1000&protocol=(ANY)&cdm_data_type=(ANY)&institution=(ANY)&ioos_category=(ANY)&keywords=(ANY)&long_name=(ANY)&standard_name=depth&variableName=(ANY)&minLon=-72.0&maxLon=-69&minLat=38&maxLat=41&minTime=1468108800.0&maxTime=1470787200.0&searchFor=all\n",
      "Bad ERDDAP!!! http://sfbaynutrients.sfei.org/erddap\n",
      "https://spraydata.ucsd.edu/erddap/search/advanced.csv?page=1&itemsPerPage=1000&protocol=(ANY)&cdm_data_type=(ANY)&institution=(ANY)&ioos_category=(ANY)&keywords=(ANY)&long_name=(ANY)&standard_name=depth&variableName=(ANY)&minLon=-72.0&maxLon=-69&minLat=38&maxLat=41&minTime=1468108800.0&maxTime=1470787200.0&searchFor=all\n",
      "Bad ERDDAP!!! https://salishsea.eos.ubc.ca/erddap\n",
      "Bad ERDDAP!!! http://bmlsc.ucdavis.edu:8080/erddap\n",
      "https://upwell.pfeg.noaa.gov/erddap/search/advanced.csv?page=1&itemsPerPage=1000&protocol=(ANY)&cdm_data_type=(ANY)&institution=(ANY)&ioos_category=(ANY)&keywords=(ANY)&long_name=(ANY)&standard_name=depth&variableName=(ANY)&minLon=-72.0&maxLon=-69&minLat=38&maxLat=41&minTime=1468108800.0&maxTime=1470787200.0&searchFor=all\n",
      "Bad ERDDAP!!! http://gcoos5.geos.tamu.edu:6060/erddap\n",
      "Bad ERDDAP!!! http://gcoos4.tamu.edu:8080/erddap\n"
     ]
    }
   ],
   "source": [
    "import pandas as pd\n",
    "all_datasets=pd.DataFrame()\n",
    "\n",
    "for key in servers:\n",
    "    url = key['url']\n",
    "    url = url.rstrip(\"/\")\n",
    "    e = ERDDAP(\n",
    "                 server=url,\n",
    "                 protocol='tabledap',\n",
    "                 response='csv'\n",
    "           )\n",
    "    r = requests.get(e.get_search_url(**kw))\n",
    "    try:\n",
    "        r.raise_for_status()\n",
    "        print(e.get_search_url(**kw))\n",
    "        ds = pd.read_csv('%s'%e.get_search_url(**kw))\n",
    "        ds['server'] = url\n",
    "    \n",
    "        datasets = ds[['server','Dataset ID','tabledap']]\n",
    "    \n",
    "        datasets.dropna(subset=['tabledap'],inplace=True)\n",
    "    \n",
    "        all_datasets = pd.concat([all_datasets,datasets])\n",
    "    except requests.exceptions.HTTPError as err:\n",
    "        print(\"Bad ERDDAP!!! {}\".format(url))\n",
    "    except requests.exceptions.RequestException as err:\n",
    "        print(\"Bad ERDDAP!!! {}\".format(url))\n",
    "    except requests.exceptions.ConnectionError as err:\n",
    "        print(\"Bad ERDDAP!!! {}\".format(url))\n",
    "    except requests.exceptions.Timeout as err:\n",
    "        print(\"Bad ERDDAP!!! {}\".format(url))\n",
    "    except requests.exceptions.ConnectTimeout as err:\n",
    "        print(\"Bad ERDDAP!!! {}\").format(url)\n",
    "        \n"
   ]
  },
  {
   "cell_type": "code",
   "execution_count": null,
   "metadata": {},
   "outputs": [],
   "source": []
  },
  {
   "cell_type": "code",
   "execution_count": null,
   "metadata": {},
   "outputs": [],
   "source": []
  },
  {
   "cell_type": "code",
   "execution_count": 7,
   "metadata": {},
   "outputs": [
    {
     "name": "stdout",
     "output_type": "stream",
     "text": [
      "122 datasets found.\n"
     ]
    }
   ],
   "source": [
    "print('%i datasets found.' %all_datasets.shape[0])"
   ]
  },
  {
   "cell_type": "code",
   "execution_count": 23,
   "metadata": {},
   "outputs": [
    {
     "name": "stdout",
     "output_type": "stream",
     "text": [
      "0\n",
      "HTTPError data not within bounds!!! https://coastwatch.pfeg.noaa.gov/erddap/tabledap/scrippsGliders.csv?latitude,longitude,time&time>=1468108800.0&time<=1470787200.0&longitude>=-72.0&longitude<=-69&latitude>=38&latitude<=41&distinct()\n",
      "1\n",
      "https://coastwatch.pfeg.noaa.gov/erddap/tabledap/erdGtsppBest.csv?latitude,longitude,time&time>=1468108800.0&time<=1470787200.0&longitude>=-72.0&longitude<=-69&latitude>=38&latitude<=41&distinct()\n",
      "2\n",
      "HTTPError data not within bounds!!! https://erddap.bco-dmo.org/erddap/tabledap/bcodmo_dataset_549122.csv?latitude,longitude,time&time>=1468108800.0&time<=1470787200.0&longitude>=-72.0&longitude<=-69&latitude>=38&latitude<=41&distinct()\n",
      "3\n",
      "http://erddap.emodnet-physics.eu/erddap/tabledap/EP_INSITU_DRYT_TS.csv?latitude,longitude,time&time>=1468108800.0&time<=1470787200.0&longitude>=-72.0&longitude<=-69&latitude>=38&latitude<=41&distinct()\n",
      "4\n",
      "HTTPError data not within bounds!!! http://erddap.emodnet-physics.eu/erddap/tabledap/EP_INSITU_DRYT_TR.csv?latitude,longitude,time&time>=1468108800.0&time<=1470787200.0&longitude>=-72.0&longitude<=-69&latitude>=38&latitude<=41&distinct()\n",
      "5\n",
      "HTTPError data not within bounds!!! http://erddap.emodnet-physics.eu/erddap/tabledap/EP_INSITU_ATMP_TS.csv?latitude,longitude,time&time>=1468108800.0&time<=1470787200.0&longitude>=-72.0&longitude<=-69&latitude>=38&latitude<=41&distinct()\n",
      "6\n",
      "HTTPError data not within bounds!!! http://erddap.emodnet-physics.eu/erddap/tabledap/EP_INSITU_ATMP_TR.csv?latitude,longitude,time&time>=1468108800.0&time<=1470787200.0&longitude>=-72.0&longitude<=-69&latitude>=38&latitude<=41&distinct()\n",
      "7\n",
      "HTTPError data not within bounds!!! http://erddap.emodnet-physics.eu/erddap/tabledap/EP_INSITU_ATMS_TR.csv?latitude,longitude,time&time>=1468108800.0&time<=1470787200.0&longitude>=-72.0&longitude<=-69&latitude>=38&latitude<=41&distinct()\n",
      "8\n",
      "HTTPError data not within bounds!!! http://erddap.emodnet-physics.eu/erddap/tabledap/EP_INSITU_ATPT_TS.csv?latitude,longitude,time&time>=1468108800.0&time<=1470787200.0&longitude>=-72.0&longitude<=-69&latitude>=38&latitude<=41&distinct()\n",
      "9\n",
      "HTTPError data not within bounds!!! http://erddap.emodnet-physics.eu/erddap/tabledap/EP_INSITU_VTZA_TS.csv?latitude,longitude,time&time>=1468108800.0&time<=1470787200.0&longitude>=-72.0&longitude<=-69&latitude>=38&latitude<=41&distinct()\n",
      "10\n",
      "HTTPError data not within bounds!!! http://erddap.emodnet-physics.eu/erddap/tabledap/EP_INSITU_VCSP_TS.csv?latitude,longitude,time&time>=1468108800.0&time<=1470787200.0&longitude>=-72.0&longitude<=-69&latitude>=38&latitude<=41&distinct()\n",
      "11\n",
      "HTTPError data not within bounds!!! http://erddap.emodnet-physics.eu/erddap/tabledap/EP_INSITU_FLU2_PR.csv?latitude,longitude,time&time>=1468108800.0&time<=1470787200.0&longitude>=-72.0&longitude<=-69&latitude>=38&latitude<=41&distinct()\n",
      "12\n",
      "HTTPError data not within bounds!!! http://erddap.emodnet-physics.eu/erddap/tabledap/EP_INSITU_FLU2_TS.csv?latitude,longitude,time&time>=1468108800.0&time<=1470787200.0&longitude>=-72.0&longitude<=-69&latitude>=38&latitude<=41&distinct()\n",
      "13\n",
      "HTTPError data not within bounds!!! http://erddap.emodnet-physics.eu/erddap/tabledap/EP_INSITU_CDOM_PR.csv?latitude,longitude,time&time>=1468108800.0&time<=1470787200.0&longitude>=-72.0&longitude<=-69&latitude>=38&latitude<=41&distinct()\n",
      "14\n",
      "HTTPError data not within bounds!!! http://erddap.emodnet-physics.eu/erddap/tabledap/EP_INSITU_CDOM_TS.csv?latitude,longitude,time&time>=1468108800.0&time<=1470787200.0&longitude>=-72.0&longitude<=-69&latitude>=38&latitude<=41&distinct()\n",
      "15\n",
      "HTTPError data not within bounds!!! http://erddap.emodnet-physics.eu/erddap/tabledap/EP_INSITU_HCDT_PR.csv?latitude,longitude,time&time>=1468108800.0&time<=1470787200.0&longitude>=-72.0&longitude<=-69&latitude>=38&latitude<=41&distinct()\n",
      "16\n",
      "HTTPError data not within bounds!!! http://erddap.emodnet-physics.eu/erddap/tabledap/EP_INSITU_HCDT_TS.csv?latitude,longitude,time&time>=1468108800.0&time<=1470787200.0&longitude>=-72.0&longitude<=-69&latitude>=38&latitude<=41&distinct()\n",
      "17\n",
      "HTTPError data not within bounds!!! http://erddap.emodnet-physics.eu/erddap/tabledap/EP_INSITU_HCDT_TR.csv?latitude,longitude,time&time>=1468108800.0&time<=1470787200.0&longitude>=-72.0&longitude<=-69&latitude>=38&latitude<=41&distinct()\n",
      "18\n",
      "http://erddap.emodnet-physics.eu/erddap/tabledap/EP_INSITU_DEWT_TS.csv?latitude,longitude,time&time>=1468108800.0&time<=1470787200.0&longitude>=-72.0&longitude<=-69&latitude>=38&latitude<=41&distinct()\n",
      "19\n",
      "HTTPError data not within bounds!!! http://erddap.emodnet-physics.eu/erddap/tabledap/EP_INSITU_DOX1_PR.csv?latitude,longitude,time&time>=1468108800.0&time<=1470787200.0&longitude>=-72.0&longitude<=-69&latitude>=38&latitude<=41&distinct()\n",
      "20\n",
      "HTTPError data not within bounds!!! http://erddap.emodnet-physics.eu/erddap/tabledap/EP_INSITU_DOX2_PR.csv?latitude,longitude,time&time>=1468108800.0&time<=1470787200.0&longitude>=-72.0&longitude<=-69&latitude>=38&latitude<=41&distinct()\n",
      "21\n",
      "HTTPError data not within bounds!!! http://erddap.emodnet-physics.eu/erddap/tabledap/EP_INSITU_DOX2_TS.csv?latitude,longitude,time&time>=1468108800.0&time<=1470787200.0&longitude>=-72.0&longitude<=-69&latitude>=38&latitude<=41&distinct()\n",
      "22\n",
      "HTTPError data not within bounds!!! http://erddap.emodnet-physics.eu/erddap/tabledap/EP_INSITU_DOXY_PR.csv?latitude,longitude,time&time>=1468108800.0&time<=1470787200.0&longitude>=-72.0&longitude<=-69&latitude>=38&latitude<=41&distinct()\n",
      "23\n",
      "HTTPError data not within bounds!!! http://erddap.emodnet-physics.eu/erddap/tabledap/EP_INSITU_DOXY_TS.csv?latitude,longitude,time&time>=1468108800.0&time<=1470787200.0&longitude>=-72.0&longitude<=-69&latitude>=38&latitude<=41&distinct()\n",
      "24\n",
      "HTTPError data not within bounds!!! http://erddap.emodnet-physics.eu/erddap/tabledap/EP_INSITU_CNDC_PR.csv?latitude,longitude,time&time>=1468108800.0&time<=1470787200.0&longitude>=-72.0&longitude<=-69&latitude>=38&latitude<=41&distinct()\n",
      "25\n",
      "HTTPError data not within bounds!!! http://erddap.emodnet-physics.eu/erddap/tabledap/EP_INSITU_CNDC_TS.csv?latitude,longitude,time&time>=1468108800.0&time<=1470787200.0&longitude>=-72.0&longitude<=-69&latitude>=38&latitude<=41&distinct()\n",
      "26\n",
      "http://erddap.emodnet-physics.eu/erddap/tabledap/EP_INSITU_CNDC_TR.csv?latitude,longitude,time&time>=1468108800.0&time<=1470787200.0&longitude>=-72.0&longitude<=-69&latitude>=38&latitude<=41&distinct()\n",
      "27\n",
      "HTTPError data not within bounds!!! http://erddap.emodnet-physics.eu/erddap/tabledap/EP_INSITU_VGTA_TS.csv?latitude,longitude,time&time>=1468108800.0&time<=1470787200.0&longitude>=-72.0&longitude<=-69&latitude>=38&latitude<=41&distinct()\n",
      "28\n",
      "HTTPError data not within bounds!!! http://erddap.emodnet-physics.eu/erddap/tabledap/EP_INSITU_VGTA_TR.csv?latitude,longitude,time&time>=1468108800.0&time<=1470787200.0&longitude>=-72.0&longitude<=-69&latitude>=38&latitude<=41&distinct()\n",
      "29\n",
      "HTTPError data not within bounds!!! http://erddap.emodnet-physics.eu/erddap/tabledap/EP_INSITU_VGHS_TS.csv?latitude,longitude,time&time>=1468108800.0&time<=1470787200.0&longitude>=-72.0&longitude<=-69&latitude>=38&latitude<=41&distinct()\n",
      "30\n",
      "HTTPError data not within bounds!!! http://erddap.emodnet-physics.eu/erddap/tabledap/EP_INSITU_VGHS_TR.csv?latitude,longitude,time&time>=1468108800.0&time<=1470787200.0&longitude>=-72.0&longitude<=-69&latitude>=38&latitude<=41&distinct()\n",
      "31\n",
      "http://erddap.emodnet-physics.eu/erddap/tabledap/EP_INSITU_GSPD_TS.csv?latitude,longitude,time&time>=1468108800.0&time<=1470787200.0&longitude>=-72.0&longitude<=-69&latitude>=38&latitude<=41&distinct()\n",
      "32\n",
      "HTTPError data not within bounds!!! http://erddap.emodnet-physics.eu/erddap/tabledap/EP_INSITU_HCSP_PR.csv?latitude,longitude,time&time>=1468108800.0&time<=1470787200.0&longitude>=-72.0&longitude<=-69&latitude>=38&latitude<=41&distinct()\n",
      "33\n",
      "HTTPError data not within bounds!!! http://erddap.emodnet-physics.eu/erddap/tabledap/EP_INSITU_HCSP_TS.csv?latitude,longitude,time&time>=1468108800.0&time<=1470787200.0&longitude>=-72.0&longitude<=-69&latitude>=38&latitude<=41&distinct()\n",
      "34\n",
      "HTTPError data not within bounds!!! http://erddap.emodnet-physics.eu/erddap/tabledap/EP_INSITU_HCSP_TR.csv?latitude,longitude,time&time>=1468108800.0&time<=1470787200.0&longitude>=-72.0&longitude<=-69&latitude>=38&latitude<=41&distinct()\n",
      "35\n"
     ]
    },
    {
     "name": "stdout",
     "output_type": "stream",
     "text": [
      "http://erddap.emodnet-physics.eu/erddap/tabledap/EP_INSITU_WSPD_TS.csv?latitude,longitude,time&time>=1468108800.0&time<=1470787200.0&longitude>=-72.0&longitude<=-69&latitude>=38&latitude<=41&distinct()\n",
      "36\n",
      "HTTPError data not within bounds!!! http://erddap.emodnet-physics.eu/erddap/tabledap/EP_INSITU_WSPD_TR.csv?latitude,longitude,time&time>=1468108800.0&time<=1470787200.0&longitude>=-72.0&longitude<=-69&latitude>=38&latitude<=41&distinct()\n",
      "37\n",
      "HTTPError data not within bounds!!! http://erddap.emodnet-physics.eu/erddap/tabledap/EP_INSITU_PRRT_TS.csv?latitude,longitude,time&time>=1468108800.0&time<=1470787200.0&longitude>=-72.0&longitude<=-69&latitude>=38&latitude<=41&distinct()\n",
      "38\n",
      "HTTPError data not within bounds!!! http://erddap.emodnet-physics.eu/erddap/tabledap/EP_INSITU_LGHT_PR.csv?latitude,longitude,time&time>=1468108800.0&time<=1470787200.0&longitude>=-72.0&longitude<=-69&latitude>=38&latitude<=41&distinct()\n",
      "39\n",
      "HTTPError data not within bounds!!! http://erddap.emodnet-physics.eu/erddap/tabledap/EP_INSITU_VZMX_TS.csv?latitude,longitude,time&time>=1468108800.0&time<=1470787200.0&longitude>=-72.0&longitude<=-69&latitude>=38&latitude<=41&distinct()\n",
      "40\n",
      "http://erddap.emodnet-physics.eu/erddap/tabledap/EP_INSITU_VMDR_TS.csv?latitude,longitude,time&time>=1468108800.0&time<=1470787200.0&longitude>=-72.0&longitude<=-69&latitude>=38&latitude<=41&distinct()\n",
      "41\n",
      "HTTPError data not within bounds!!! http://erddap.emodnet-physics.eu/erddap/tabledap/EP_INSITU_NTAW_PR.csv?latitude,longitude,time&time>=1468108800.0&time<=1470787200.0&longitude>=-72.0&longitude<=-69&latitude>=38&latitude<=41&distinct()\n",
      "42\n",
      "HTTPError data not within bounds!!! http://erddap.emodnet-physics.eu/erddap/tabledap/EP_INSITU_OSAT_TS.csv?latitude,longitude,time&time>=1468108800.0&time<=1470787200.0&longitude>=-72.0&longitude<=-69&latitude>=38&latitude<=41&distinct()\n",
      "43\n",
      "HTTPError data not within bounds!!! http://erddap.emodnet-physics.eu/erddap/tabledap/EP_INSITU_VTZM_TS.csv?latitude,longitude,time&time>=1468108800.0&time<=1470787200.0&longitude>=-72.0&longitude<=-69&latitude>=38&latitude<=41&distinct()\n",
      "44\n",
      "HTTPError data not within bounds!!! http://erddap.emodnet-physics.eu/erddap/tabledap/EP_INSITU_PHPH_PR.csv?latitude,longitude,time&time>=1468108800.0&time<=1470787200.0&longitude>=-72.0&longitude<=-69&latitude>=38&latitude<=41&distinct()\n",
      "45\n",
      "HTTPError data not within bounds!!! http://erddap.emodnet-physics.eu/erddap/tabledap/EP_INSITU_PHPH_TS.csv?latitude,longitude,time&time>=1468108800.0&time<=1470787200.0&longitude>=-72.0&longitude<=-69&latitude>=38&latitude<=41&distinct()\n",
      "46\n",
      "http://erddap.emodnet-physics.eu/erddap/tabledap/EP_INSITU_PSAL_PR.csv?latitude,longitude,time&time>=1468108800.0&time<=1470787200.0&longitude>=-72.0&longitude<=-69&latitude>=38&latitude<=41&distinct()\n",
      "47\n",
      "HTTPError data not within bounds!!! http://erddap.emodnet-physics.eu/erddap/tabledap/EP_INSITU_PSAL_TS.csv?latitude,longitude,time&time>=1468108800.0&time<=1470787200.0&longitude>=-72.0&longitude<=-69&latitude>=38&latitude<=41&distinct()\n",
      "48\n",
      "http://erddap.emodnet-physics.eu/erddap/tabledap/EP_INSITU_PSAL_TR.csv?latitude,longitude,time&time>=1468108800.0&time<=1470787200.0&longitude>=-72.0&longitude<=-69&latitude>=38&latitude<=41&distinct()\n",
      "49\n",
      "HTTPError data not within bounds!!! http://erddap.emodnet-physics.eu/erddap/tabledap/EP_INSITU_RELH_TS.csv?latitude,longitude,time&time>=1468108800.0&time<=1470787200.0&longitude>=-72.0&longitude<=-69&latitude>=38&latitude<=41&distinct()\n",
      "50\n",
      "HTTPError data not within bounds!!! http://erddap.emodnet-physics.eu/erddap/tabledap/EP_INSITU_RELH_TR.csv?latitude,longitude,time&time>=1468108800.0&time<=1470787200.0&longitude>=-72.0&longitude<=-69&latitude>=38&latitude<=41&distinct()\n",
      "51\n",
      "http://erddap.emodnet-physics.eu/erddap/tabledap/EP_INSITU_TEMP_PR.csv?latitude,longitude,time&time>=1468108800.0&time<=1470787200.0&longitude>=-72.0&longitude<=-69&latitude>=38&latitude<=41&distinct()\n",
      "52\n",
      "http://erddap.emodnet-physics.eu/erddap/tabledap/EP_INSITU_TEMP_TR.csv?latitude,longitude,time&time>=1468108800.0&time<=1470787200.0&longitude>=-72.0&longitude<=-69&latitude>=38&latitude<=41&distinct()\n",
      "53\n",
      "HTTPError data not within bounds!!! http://erddap.emodnet-physics.eu/erddap/tabledap/EP_INSITU_TEMP_DOXY_PR.csv?latitude,longitude,time&time>=1468108800.0&time<=1470787200.0&longitude>=-72.0&longitude<=-69&latitude>=38&latitude<=41&distinct()\n",
      "54\n",
      "HTTPError data not within bounds!!! http://erddap.emodnet-physics.eu/erddap/tabledap/EP_INSITU_TEMP_DOXY_TS.csv?latitude,longitude,time&time>=1468108800.0&time<=1470787200.0&longitude>=-72.0&longitude<=-69&latitude>=38&latitude<=41&distinct()\n",
      "55\n",
      "http://erddap.emodnet-physics.eu/erddap/tabledap/EP_INSITU_SSJT_TR.csv?latitude,longitude,time&time>=1468108800.0&time<=1470787200.0&longitude>=-72.0&longitude<=-69&latitude>=38&latitude<=41&distinct()\n",
      "56\n",
      "HTTPError data not within bounds!!! http://erddap.emodnet-physics.eu/erddap/tabledap/EP_INSITU_DENS_TS.csv?latitude,longitude,time&time>=1468108800.0&time<=1470787200.0&longitude>=-72.0&longitude<=-69&latitude>=38&latitude<=41&distinct()\n",
      "57\n",
      "HTTPError data not within bounds!!! http://erddap.emodnet-physics.eu/erddap/tabledap/EP_INSITU_VTDH_TS.csv?latitude,longitude,time&time>=1468108800.0&time<=1470787200.0&longitude>=-72.0&longitude<=-69&latitude>=38&latitude<=41&distinct()\n",
      "58\n",
      "HTTPError data not within bounds!!! http://erddap.emodnet-physics.eu/erddap/tabledap/EP_INSITU_SVEL_TS.csv?latitude,longitude,time&time>=1468108800.0&time<=1470787200.0&longitude>=-72.0&longitude<=-69&latitude>=38&latitude<=41&distinct()\n",
      "59\n",
      "HTTPError data not within bounds!!! http://erddap.emodnet-physics.eu/erddap/tabledap/EP_INSITU_NSCT_TS.csv?latitude,longitude,time&time>=1468108800.0&time<=1470787200.0&longitude>=-72.0&longitude<=-69&latitude>=38&latitude<=41&distinct()\n",
      "60\n",
      "HTTPError data not within bounds!!! http://erddap.emodnet-physics.eu/erddap/tabledap/EP_INSITU_NSCT_TR.csv?latitude,longitude,time&time>=1468108800.0&time<=1470787200.0&longitude>=-72.0&longitude<=-69&latitude>=38&latitude<=41&distinct()\n",
      "61\n",
      "http://erddap.emodnet-physics.eu/erddap/tabledap/EP_INSITU_VTM02_TS.csv?latitude,longitude,time&time>=1468108800.0&time<=1470787200.0&longitude>=-72.0&longitude<=-69&latitude>=38&latitude<=41&distinct()\n",
      "62\n",
      "HTTPError data not within bounds!!! http://erddap.emodnet-physics.eu/erddap/tabledap/EP_INSITU_SWHT_TS.csv?latitude,longitude,time&time>=1468108800.0&time<=1470787200.0&longitude>=-72.0&longitude<=-69&latitude>=38&latitude<=41&distinct()\n",
      "63\n",
      "HTTPError data not within bounds!!! http://erddap.emodnet-physics.eu/erddap/tabledap/EP_INSITU_SWPR_TS.csv?latitude,longitude,time&time>=1468108800.0&time<=1470787200.0&longitude>=-72.0&longitude<=-69&latitude>=38&latitude<=41&distinct()\n",
      "64\n",
      "HTTPError data not within bounds!!! http://erddap.emodnet-physics.eu/erddap/tabledap/EP_INSITU_CPHL_PR.csv?latitude,longitude,time&time>=1468108800.0&time<=1470787200.0&longitude>=-72.0&longitude<=-69&latitude>=38&latitude<=41&distinct()\n",
      "65\n",
      "HTTPError data not within bounds!!! http://erddap.emodnet-physics.eu/erddap/tabledap/EP_INSITU_TUR4_PR.csv?latitude,longitude,time&time>=1468108800.0&time<=1470787200.0&longitude>=-72.0&longitude<=-69&latitude>=38&latitude<=41&distinct()\n",
      "66\n",
      "HTTPError data not within bounds!!! http://erddap.emodnet-physics.eu/erddap/tabledap/EP_INSITU_TUR4_TS.csv?latitude,longitude,time&time>=1468108800.0&time<=1470787200.0&longitude>=-72.0&longitude<=-69&latitude>=38&latitude<=41&distinct()\n",
      "67\n",
      "HTTPError data not within bounds!!! http://erddap.emodnet-physics.eu/erddap/tabledap/EP_INSITU_SLEV_TS.csv?latitude,longitude,time&time>=1468108800.0&time<=1470787200.0&longitude>=-72.0&longitude<=-69&latitude>=38&latitude<=41&distinct()\n",
      "68\n",
      "HTTPError data not within bounds!!! http://erddap.emodnet-physics.eu/erddap/tabledap/EP_INSITU_VDIR_TS.csv?latitude,longitude,time&time>=1468108800.0&time<=1470787200.0&longitude>=-72.0&longitude<=-69&latitude>=38&latitude<=41&distinct()\n",
      "69\n",
      "HTTPError data not within bounds!!! http://erddap.emodnet-physics.eu/erddap/tabledap/EP_INSITU_EWCT_TS.csv?latitude,longitude,time&time>=1468108800.0&time<=1470787200.0&longitude>=-72.0&longitude<=-69&latitude>=38&latitude<=41&distinct()\n",
      "70\n",
      "HTTPError data not within bounds!!! http://erddap.emodnet-physics.eu/erddap/tabledap/EP_INSITU_EWCT_TR.csv?latitude,longitude,time&time>=1468108800.0&time<=1470787200.0&longitude>=-72.0&longitude<=-69&latitude>=38&latitude<=41&distinct()\n",
      "71\n"
     ]
    },
    {
     "name": "stdout",
     "output_type": "stream",
     "text": [
      "http://erddap.emodnet-physics.eu/erddap/tabledap/EP_INSITU_WDIR_TS.csv?latitude,longitude,time&time>=1468108800.0&time<=1470787200.0&longitude>=-72.0&longitude<=-69&latitude>=38&latitude<=41&distinct()\n",
      "72\n",
      "HTTPError data not within bounds!!! http://erddap.emodnet-physics.eu/erddap/tabledap/EP_INSITU_WDIR_TR.csv?latitude,longitude,time&time>=1468108800.0&time<=1470787200.0&longitude>=-72.0&longitude<=-69&latitude>=38&latitude<=41&distinct()\n",
      "73\n",
      "http://erddap.sensors.ioos.us/erddap/tabledap/cp_340_20160809t0230.csv?latitude,longitude,time&time>=1468108800.0&time<=1470787200.0&longitude>=-72.0&longitude<=-69&latitude>=38&latitude<=41&distinct()\n",
      "74\n",
      "http://erddap.sensors.ioos.us/erddap/tabledap/cp_374_20160529t0035.csv?latitude,longitude,time&time>=1468108800.0&time<=1470787200.0&longitude>=-72.0&longitude<=-69&latitude>=38&latitude<=41&distinct()\n",
      "75\n",
      "http://erddap.sensors.ioos.us/erddap/tabledap/cp_376_20160527t2050.csv?latitude,longitude,time&time>=1468108800.0&time<=1470787200.0&longitude>=-72.0&longitude<=-69&latitude>=38&latitude<=41&distinct()\n",
      "76\n",
      "http://erddap.sensors.ioos.us/erddap/tabledap/cp_387_20160404t1858.csv?latitude,longitude,time&time>=1468108800.0&time<=1470787200.0&longitude>=-72.0&longitude<=-69&latitude>=38&latitude<=41&distinct()\n",
      "77\n",
      "http://erddap.sensors.ioos.us/erddap/tabledap/cp_388_20160809t1409.csv?latitude,longitude,time&time>=1468108800.0&time<=1470787200.0&longitude>=-72.0&longitude<=-69&latitude>=38&latitude<=41&distinct()\n",
      "78\n",
      "HTTPError data not within bounds!!! http://erddap.sensors.ioos.us/erddap/tabledap/silbo_20160413t1534.csv?latitude,longitude,time&time>=1468108800.0&time<=1470787200.0&longitude>=-72.0&longitude<=-69&latitude>=38&latitude<=41&distinct()\n",
      "79\n",
      "http://erddap.axiomdatascience.com/erddap/tabledap/cp_340_20160809t0230.csv?latitude,longitude,time&time>=1468108800.0&time<=1470787200.0&longitude>=-72.0&longitude<=-69&latitude>=38&latitude<=41&distinct()\n",
      "80\n",
      "http://erddap.axiomdatascience.com/erddap/tabledap/cp_374_20160529t0035.csv?latitude,longitude,time&time>=1468108800.0&time<=1470787200.0&longitude>=-72.0&longitude<=-69&latitude>=38&latitude<=41&distinct()\n",
      "81\n",
      "http://erddap.axiomdatascience.com/erddap/tabledap/cp_376_20160527t2050.csv?latitude,longitude,time&time>=1468108800.0&time<=1470787200.0&longitude>=-72.0&longitude<=-69&latitude>=38&latitude<=41&distinct()\n",
      "82\n",
      "http://erddap.axiomdatascience.com/erddap/tabledap/cp_387_20160404t1858.csv?latitude,longitude,time&time>=1468108800.0&time<=1470787200.0&longitude>=-72.0&longitude<=-69&latitude>=38&latitude<=41&distinct()\n",
      "83\n",
      "http://erddap.axiomdatascience.com/erddap/tabledap/cp_388_20160809t1409.csv?latitude,longitude,time&time>=1468108800.0&time<=1470787200.0&longitude>=-72.0&longitude<=-69&latitude>=38&latitude<=41&distinct()\n",
      "84\n",
      "HTTPError data not within bounds!!! http://erddap.axiomdatascience.com/erddap/tabledap/silbo_20160413t1534.csv?latitude,longitude,time&time>=1468108800.0&time<=1470787200.0&longitude>=-72.0&longitude<=-69&latitude>=38&latitude<=41&distinct()\n",
      "85\n",
      "HTTPError data not within bounds!!! http://www.neracoos.org/erddap/tabledap/UNH_WBD.csv?latitude,longitude,time&time>=1468108800.0&time<=1470787200.0&longitude>=-72.0&longitude<=-69&latitude>=38&latitude<=41&distinct()\n",
      "86\n",
      "https://data.ioos.us/gliders/erddap/tabledap/cp_340-20160809T0230.csv?latitude,longitude,time&time>=1468108800.0&time<=1470787200.0&longitude>=-72.0&longitude<=-69&latitude>=38&latitude<=41&distinct()\n",
      "87\n",
      "https://data.ioos.us/gliders/erddap/tabledap/cp_374-20160529T0035.csv?latitude,longitude,time&time>=1468108800.0&time<=1470787200.0&longitude>=-72.0&longitude<=-69&latitude>=38&latitude<=41&distinct()\n",
      "88\n",
      "https://data.ioos.us/gliders/erddap/tabledap/cp_376-20160527T2050.csv?latitude,longitude,time&time>=1468108800.0&time<=1470787200.0&longitude>=-72.0&longitude<=-69&latitude>=38&latitude<=41&distinct()\n",
      "89\n",
      "https://data.ioos.us/gliders/erddap/tabledap/cp_387-20160404T1858.csv?latitude,longitude,time&time>=1468108800.0&time<=1470787200.0&longitude>=-72.0&longitude<=-69&latitude>=38&latitude<=41&distinct()\n",
      "90\n",
      "https://data.ioos.us/gliders/erddap/tabledap/cp_388-20160809T1409.csv?latitude,longitude,time&time>=1468108800.0&time<=1470787200.0&longitude>=-72.0&longitude<=-69&latitude>=38&latitude<=41&distinct()\n",
      "91\n",
      "HTTPError data not within bounds!!! https://data.ioos.us/gliders/erddap/tabledap/silbo-20160413T1534.csv?latitude,longitude,time&time>=1468108800.0&time<=1470787200.0&longitude>=-72.0&longitude<=-69&latitude>=38&latitude<=41&distinct()\n",
      "92\n",
      "HTTPError data not within bounds!!! https://members.oceantrack.org/erddap/tabledap/otn_aat_receivers.csv?latitude,longitude,time&time>=1468108800.0&time<=1470787200.0&longitude>=-72.0&longitude<=-69&latitude>=38&latitude<=41&distinct()\n",
      "93\n",
      "HTTPError data not within bounds!!! https://members.oceantrack.org/erddap/tabledap/view_otn_aat_receivers.csv?latitude,longitude,time&time>=1468108800.0&time<=1470787200.0&longitude>=-72.0&longitude<=-69&latitude>=38&latitude<=41&distinct()\n",
      "94\n",
      "HTTPError data not within bounds!!! http://www.myroms.org:8080/erddap/tabledap/PIONNER_MET_CP01CNSM.csv?latitude,longitude,time&time>=1468108800.0&time<=1470787200.0&longitude>=-72.0&longitude<=-69&latitude>=38&latitude<=41&distinct()\n",
      "95\n",
      "http://www.myroms.org:8080/erddap/tabledap/PIONNER_MET_CP03ISSM.csv?latitude,longitude,time&time>=1468108800.0&time<=1470787200.0&longitude>=-72.0&longitude<=-69&latitude>=38&latitude<=41&distinct()\n",
      "96\n",
      "http://www.myroms.org:8080/erddap/tabledap/PIONNER_MET_CP04OSSM.csv?latitude,longitude,time&time>=1468108800.0&time<=1470787200.0&longitude>=-72.0&longitude<=-69&latitude>=38&latitude<=41&distinct()\n",
      "97\n",
      "http://www.myroms.org:8080/erddap/tabledap/PIONEER_WFP_TEMP_SALT_CP02PMCI.csv?latitude,longitude,time&time>=1468108800.0&time<=1470787200.0&longitude>=-72.0&longitude<=-69&latitude>=38&latitude<=41&distinct()\n",
      "98\n",
      "http://www.myroms.org:8080/erddap/tabledap/PIONEER_WFP_TEMP_SALT_CP02PMCO.csv?latitude,longitude,time&time>=1468108800.0&time<=1470787200.0&longitude>=-72.0&longitude<=-69&latitude>=38&latitude<=41&distinct()\n",
      "99\n",
      "http://www.myroms.org:8080/erddap/tabledap/PIONEER_WFP_TEMP_SALT_CP02PMUI.csv?latitude,longitude,time&time>=1468108800.0&time<=1470787200.0&longitude>=-72.0&longitude<=-69&latitude>=38&latitude<=41&distinct()\n",
      "100\n",
      "http://www.myroms.org:8080/erddap/tabledap/PIONEER_WFP_TEMP_SALT_CP02PMUO.csv?latitude,longitude,time&time>=1468108800.0&time<=1470787200.0&longitude>=-72.0&longitude<=-69&latitude>=38&latitude<=41&distinct()\n",
      "101\n",
      "http://www.myroms.org:8080/erddap/tabledap/PIONEER_WFP_TEMP_SALT_CP04OSPM.csv?latitude,longitude,time&time>=1468108800.0&time<=1470787200.0&longitude>=-72.0&longitude<=-69&latitude>=38&latitude<=41&distinct()\n",
      "102\n",
      "HTTPError data not within bounds!!! http://www.myroms.org:8080/erddap/tabledap/PIONEER_MOAS_TEMP_SALT_GL335.csv?latitude,longitude,time&time>=1468108800.0&time<=1470787200.0&longitude>=-72.0&longitude<=-69&latitude>=38&latitude<=41&distinct()\n",
      "103\n",
      "http://www.myroms.org:8080/erddap/tabledap/PIONEER_MOAS_TEMP_SALT_GL336.csv?latitude,longitude,time&time>=1468108800.0&time<=1470787200.0&longitude>=-72.0&longitude<=-69&latitude>=38&latitude<=41&distinct()\n",
      "104\n",
      "HTTPError data not within bounds!!! http://www.myroms.org:8080/erddap/tabledap/PIONEER_MOAS_TEMP_SALT_GL339.csv?latitude,longitude,time&time>=1468108800.0&time<=1470787200.0&longitude>=-72.0&longitude<=-69&latitude>=38&latitude<=41&distinct()\n",
      "105\n",
      "http://www.myroms.org:8080/erddap/tabledap/PIONEER_MOAS_TEMP_SALT_GL340.csv?latitude,longitude,time&time>=1468108800.0&time<=1470787200.0&longitude>=-72.0&longitude<=-69&latitude>=38&latitude<=41&distinct()\n",
      "106\n",
      "http://www.myroms.org:8080/erddap/tabledap/PIONEER_MOAS_TEMP_SALT_GL374.csv?latitude,longitude,time&time>=1468108800.0&time<=1470787200.0&longitude>=-72.0&longitude<=-69&latitude>=38&latitude<=41&distinct()\n",
      "107\n",
      "http://www.myroms.org:8080/erddap/tabledap/PIONEER_MOAS_TEMP_SALT_GL376.csv?latitude,longitude,time&time>=1468108800.0&time<=1470787200.0&longitude>=-72.0&longitude<=-69&latitude>=38&latitude<=41&distinct()\n",
      "108\n",
      "HTTPError data not within bounds!!! http://www.myroms.org:8080/erddap/tabledap/PIONEER_MOAS_TEMP_SALT_GL379.csv?latitude,longitude,time&time>=1468108800.0&time<=1470787200.0&longitude>=-72.0&longitude<=-69&latitude>=38&latitude<=41&distinct()\n",
      "109\n"
     ]
    },
    {
     "name": "stdout",
     "output_type": "stream",
     "text": [
      "http://www.myroms.org:8080/erddap/tabledap/PIONEER_MOAS_TEMP_SALT_GL387.csv?latitude,longitude,time&time>=1468108800.0&time<=1470787200.0&longitude>=-72.0&longitude<=-69&latitude>=38&latitude<=41&distinct()\n",
      "110\n",
      "http://www.myroms.org:8080/erddap/tabledap/PIONEER_MOAS_TEMP_SALT_GL388.csv?latitude,longitude,time&time>=1468108800.0&time<=1470787200.0&longitude>=-72.0&longitude<=-69&latitude>=38&latitude<=41&distinct()\n",
      "111\n",
      "HTTPError data not within bounds!!! http://www.myroms.org:8080/erddap/tabledap/PIONEER_MOAS_TEMP_SALT_GL389.csv?latitude,longitude,time&time>=1468108800.0&time<=1470787200.0&longitude>=-72.0&longitude<=-69&latitude>=38&latitude<=41&distinct()\n",
      "112\n",
      "http://tds.marine.rutgers.edu/erddap/tabledap/CMEMS_CORA_DATA.csv?latitude,longitude,time&time>=1468108800.0&time<=1470787200.0&longitude>=-72.0&longitude<=-69&latitude>=38&latitude<=41&distinct()\n",
      "113\n",
      "http://tds.marine.rutgers.edu/erddap/tabledap/nefsc_emolt_data_local.csv?latitude,longitude,time&time>=1468108800.0&time<=1470787200.0&longitude>=-72.0&longitude<=-69&latitude>=38&latitude<=41&distinct()\n",
      "114\n",
      "http://tds.marine.rutgers.edu/erddap/tabledap/nefsc_emolt_haul.csv?latitude,longitude,time&time>=1468108800.0&time<=1470787200.0&longitude>=-72.0&longitude<=-69&latitude>=38&latitude<=41&distinct()\n",
      "115\n",
      "http://tds.marine.rutgers.edu/erddap/tabledap/NEFSC_PROCESSED_CTD_CASTS_QC.csv?latitude,longitude,time&time>=1468108800.0&time<=1470787200.0&longitude>=-72.0&longitude<=-69&latitude>=38&latitude<=41&distinct()\n",
      "Skipping http://tds.marine.rutgers.edu/erddapDOPPIO_REANALYSIS_OBS\n",
      "Skipping http://tds.marine.rutgers.edu/erddapDOPPIOobs\n",
      "Skipping http://tds.marine.rutgers.edu/erddapROMSSobs\n",
      "119\n",
      "HTTPError data not within bounds!!! https://spraydata.ucsd.edu/erddap/tabledap/binnedGS.csv?latitude,longitude,time&time>=1468108800.0&time<=1470787200.0&longitude>=-72.0&longitude<=-69&latitude>=38&latitude<=41&distinct()\n",
      "120\n",
      "HTTPError data not within bounds!!! https://upwell.pfeg.noaa.gov/erddap/tabledap/scrippsGliders.csv?latitude,longitude,time&time>=1468108800.0&time<=1470787200.0&longitude>=-72.0&longitude<=-69&latitude>=38&latitude<=41&distinct()\n",
      "121\n",
      "https://upwell.pfeg.noaa.gov/erddap/tabledap/erdGtsppBest.csv?latitude,longitude,time&time>=1468108800.0&time<=1470787200.0&longitude>=-72.0&longitude<=-69&latitude>=38&latitude<=41&distinct()\n",
      "Collected 3838895 unique coordinate pairs from 47 datasets\n"
     ]
    }
   ],
   "source": [
    "all_coords = pd.DataFrame()\n",
    "for i in range(all_datasets.shape[0]):\n",
    "    server_url = all_datasets['server'].iloc[int(i)]\n",
    "    dataset_id = all_datasets['Dataset ID'].iloc[int(i)]\n",
    "    if \"ROMS\" in dataset_id or \"DOP\" in dataset_id: # skip ROMS model output\n",
    "        print(\"Skipping %s\" % server_url + dataset_id)\n",
    "        continue\n",
    "    print(i)\n",
    "    e2 = ERDDAP(\n",
    "                 server=server_url,\n",
    "                 protocol='tabledap',\n",
    "                 response='csv'\n",
    "           )\n",
    "    e2.variables=[\"latitude\",\"longitude\",\"time\"]\n",
    "    e2.dataset_id = all_datasets['Dataset ID'].iloc[int(i)]\n",
    "    #e2.constraints = kw\n",
    "    e2.constraints = {\n",
    "           \"time>=\": time_min,\n",
    "           \"time<=\": time_max,\n",
    "           \"longitude>=\": bbox[0],\n",
    "           \"longitude<=\": bbox[1],\n",
    "           \"latitude>=\": bbox[2],\n",
    "           \"latitude<=\": bbox[3],\n",
    "           \"distinct\" : ()\n",
    "    }\n",
    "    r = requests.get(e2.get_download_url())\n",
    "    try:\n",
    "        r.raise_for_status()\n",
    "        print(e2.get_download_url())\n",
    "        df = e2.to_pandas()\n",
    "        df['dataset_count'] = i\n",
    "        df['download_url'] = e2.get_download_url()\n",
    "        df['server_url'] = server_url\n",
    "        df['dataset_id'] = dataset_id\n",
    "        #df['variables'] = e2.variables\n",
    "        all_coords = pd.concat([all_coords,df])\n",
    "    except requests.exceptions.HTTPError as err:\n",
    "        print(\"HTTPError data not within bounds!!! {}\".format(e2.get_download_url()))\n",
    "    except requests.exceptions.RequestException as err:\n",
    "        print(\"RequestException data not within bounds!!! {}\".format(e2.get_download_url()))\n",
    "    except requests.exceptions.ConnectionError as err:\n",
    "        print(\"ConnectionError data not within bounds!!! {}\".format(e2.get_download_url()))\n",
    "    except requests.exceptions.Timeout as err:\n",
    "        print(\"Timeout data not within bounds!!! {}\".format(e2.get_download_url()))\n",
    "    except requests.exceptions.ConnectTimeout as err:\n",
    "        print(\"ConnectionTimeout data not within bounds!!! {}\".format(e2.get_download_url()))\n",
    "    \n",
    "\n",
    "    #print(e.get_download_url(response=\"csv\"))\n",
    "    \n",
    "    #dataset_url = '%s/tabledap/%s.csvp?latitude,longitude,time&longitude>=-72.0&longitude<=-69&latitude>=38&latitude<=41&time>=1278720000.0&time<=1470787200.0&distinct()' % (all_datasets['server'].iloc[int(i)],all_datasets['Dataset ID'].iloc[int(i)])\n",
    "    #print(dataset_url)\n",
    "    #coords = pd.read_csv(str(dataset_url))\n",
    "    #all_coords = pd.concat([all_coords,coords])\n",
    "    #print(coords) \n",
    "all_coords.head()\n",
    "print(\"Collected %i unique coordinate pairs from %i datasets\" % \n",
    "      (all_coords.shape[0], len(all_coords['dataset_count'].unique())))"
   ]
  },
  {
   "cell_type": "code",
   "execution_count": 24,
   "metadata": {},
   "outputs": [
    {
     "data": {
      "text/plain": [
       "Text(0.5, 1.0, '47 datasets')"
      ]
     },
     "execution_count": 24,
     "metadata": {},
     "output_type": "execute_result"
    },
    {
     "data": {
      "image/png": "[encoded data removed]",
      "text/plain": [
       "<Figure size 864x864 with 2 Axes>"
      ]
     },
     "metadata": {
      "needs_background": "light"
     },
     "output_type": "display_data"
    }
   ],
   "source": [
    "import matplotlib.pyplot as plt\n",
    "plt.figure(figsize=(12, 12)) #make_map(extent, figsize=(6, 6))\\n\",\n",
    "#add_etopo2(extent, ax)\\n\",\n",
    "plt.scatter(all_coords['longitude (degrees_east)'],\n",
    "               all_coords['latitude (degrees_north)'],\n",
    "               s=3, c=all_coords['dataset_count'].values)\n",
    "plt.colorbar()\n",
    "plt.title(\"%i datasets\" % len(all_coords['dataset_count'].unique()))\n",
    "#df.plot(x='longitude (degrees_east)',y='latitude (degrees_north)')\""
   ]
  },
  {
   "cell_type": "code",
   "execution_count": 18,
   "metadata": {},
   "outputs": [
    {
     "data": {
      "text/plain": [
       "array([  1,   3,  18,  26,  31,  35,  40,  46,  48,  51,  52,  55,  61,\n",
       "        71,  73,  74,  75,  76,  77,  79,  80,  81,  82,  83,  86,  87,\n",
       "        88,  89,  90,  95,  96,  97,  98,  99, 100, 101, 103, 105, 106,\n",
       "       107, 109, 110, 112, 113, 114, 115, 116, 117, 118, 121])"
      ]
     },
     "execution_count": 18,
     "metadata": {},
     "output_type": "execute_result"
    }
   ],
   "source": [
    "all_coords['id'].unique()\n",
    "# need to skip ROMS data: http://tds.marine.rutgers.edu/erddap/tabledap/ROMSSobs.htmlTable?latitude,longitude,time&time%3E=1468108800.0&time%3C=1470787200.0&longitude%3E=-72.0&longitude%3C=-69&latitude%3E=38&latitude%3C=41&distinct()"
   ]
  },
  {
   "cell_type": "code",
   "execution_count": 22,
   "metadata": {},
   "outputs": [
    {
     "name": "stdout",
     "output_type": "stream",
     "text": [
      "Skipping https://upwell.pfeg.noaa.gov/erddaperdGtsppBest\n"
     ]
    }
   ],
   "source": [
    "print(\"Skipping %s\" % all_datasets['server'].iloc[int(i)] + all_datasets['Dataset ID'].iloc[int(i)])"
   ]
  },
  {
   "cell_type": "code",
   "execution_count": 27,
   "metadata": {},
   "outputs": [
    {
     "data": {
      "text/plain": [
       "['latitude', 'longitude', 'time']"
      ]
     },
     "execution_count": 27,
     "metadata": {},
     "output_type": "execute_result"
    }
   ],
   "source": [
    "e2.variables"
   ]
  },
  {
   "cell_type": "code",
   "execution_count": 11,
   "metadata": {},
   "outputs": [],
   "source": [
    "# from erddapy import ERDDAP\n",
    "\n",
    "\n",
    "# e = ERDDAP(\n",
    "#   server='https://data.ioos.us/gliders/erddap',\n",
    "#   protocol='tabledap',\n",
    "# )\n",
    "\n",
    "# e.response = 'csv'\n",
    "# e.dataset_id = 'whoi_406-20160902T1700'\n",
    "# e.constraints = {\n",
    "#     'time>=': '2016-07-10T00:00:00Z',\n",
    "#     'time<=': '2017-02-10T00:00:00Z',\n",
    "#     'latitude>=': 38.0,\n",
    "#     'latitude<=': 41.0,\n",
    "#     'longitude>=': -72.0,\n",
    "#     'longitude<=': -69.0,\n",
    "# }\n",
    "# e.variables = [\n",
    "#     'depth',\n",
    "#     'latitude',\n",
    "#     'longitude',\n",
    "#     'salinity',\n",
    "#     'temperature',\n",
    "#     'time',\n",
    "# ]"
   ]
  },
  {
   "cell_type": "code",
   "execution_count": 12,
   "metadata": {},
   "outputs": [],
   "source": [
    "#     if url != 'http://erddap.emodnet-physics.eu/erddap' and \\\n",
    "#     url != 'https://erddap.marine.ie/erddap' and \\\n",
    "#     url != 'http://oos.soest.hawaii.edu/erddap' and \\\n",
    "#     url != 'http://erddap.secoora.org/erddap' and \\\n",
    "#     url != 'https://ecowatch.ncddc.noaa.gov/erddap' and \\\n",
    "#     url != 'http://dap.onc.uvic.ca/erddap':"
   ]
  },
  {
   "cell_type": "code",
   "execution_count": 13,
   "metadata": {},
   "outputs": [],
   "source": [
    "# laturl = 'http://erddap.bco-dmo.org/erddap/categorize/variableName/latitude/index.csv'\n",
    "# lonurl = 'http://erddap.bco-dmo.org/erddap/categorize/variableName/longitude/index.csv'\n",
    "\n",
    "# df_lat = pd.read_csv(laturl, header=[0])\n",
    "# df_lon = pd.read_csv(lonurl, header=[0])\n",
    "\n",
    "# df_datasets = pd.merge(df_lat, df_lon, on='Dataset ID')\n",
    "# df_final = pd.DataFrame(columns=['latitude (degrees_north)', 'longitude (degrees_east)', 'Dataset ID'])\n",
    "\n",
    "# for did in df_datasets['Dataset ID']:\n",
    "#     if did != 'bcodmo_dataset_739309': # remove this once we reload all the datasets again.\n",
    "#         dataset_url = 'http://erddap.bco-dmo.org/erddap/tabledap/%s.csvp?latitude,longitude&distinct()' % did\n",
    "#         df_data = pd.read_csv(dataset_url, header=0, usecols=['latitude (degrees_north)', 'longitude (degrees_east)'])\n",
    "#         df_data['Dataset ID'] = did\n",
    "#         df_final = pd.concat([df_final, df_data], sort=False, ignore_index=True)\n",
    "#         print(df_final.shape)\n",
    "\n",
    "# lon = df_final['longitude (degrees_east)'].values\n",
    "# lat = df_final['latitude (degrees_north)'].values"
   ]
  },
  {
   "cell_type": "code",
   "execution_count": null,
   "metadata": {},
   "outputs": [],
   "source": []
  },
  {
   "cell_type": "code",
   "execution_count": null,
   "metadata": {},
   "outputs": [],
   "source": []
  }
 ],
 "metadata": {
  "kernel_info": {
   "name": "python3"
  },
  "kernelspec": {
   "display_name": "Python 3",
   "language": "python",
   "name": "python3"
  },
  "language_info": {
   "codemirror_mode": {
    "name": "ipython",
    "version": 3
   },
   "file_extension": ".py",
   "mimetype": "text/x-python",
   "name": "python",
   "nbconvert_exporter": "python",
   "pygments_lexer": "ipython3",
   "version": "3.7.3"
  },
  "nteract": {
   "version": "0.14.5"
  }
 },
 "nbformat": 4,
 "nbformat_minor": 4
}
