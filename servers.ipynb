{
 "cells": [
  {
   "cell_type": "code",
   "execution_count": 1,
   "metadata": {
    "inputHidden": false,
    "outputHidden": false
   },
   "outputs": [],
   "source": [
    "from erddapy import ERDDAP\n",
    "from erddapy import utilities"
   ]
  },
  {
   "cell_type": "code",
   "execution_count": 2,
   "metadata": {},
   "outputs": [
    {
     "data": {
      "text/plain": [
       "200"
      ]
     },
     "execution_count": 2,
     "metadata": {},
     "output_type": "execute_result"
    }
   ],
   "source": [
    "import json\n",
    "import urllib\n",
    "import requests\n",
    "file = urllib.request.urlopen('https://raw.githubusercontent.com/IrishMarineInstitute/search-erddaps/master/erddaps.json')\n",
    "servers = json.loads(file.read())\n",
    "file.getcode()"
   ]
  },
  {
   "cell_type": "code",
   "execution_count": 3,
   "metadata": {
    "inputHidden": false,
    "outputHidden": false
   },
   "outputs": [
    {
     "name": "stdout",
     "output_type": "stream",
     "text": [
      "[{'url': 'https://coastwatch.pfeg.noaa.gov/erddap/'}, {'url': 'https://apdrc.soest.hawaii.edu/erddap/'}, {'url': 'https://erddap.bco-dmo.org/erddap/'}, {'url': 'http://erddap.emodnet-physics.eu/erddap/'}, {'url': 'https://erddap.marine.ie/erddap/'}, {'url': 'https://cwcgom.aoml.noaa.gov/erddap/'}, {'url': 'http://erddap.sensors.ioos.us/erddap/'}, {'url': 'http://erddap.axiomdatascience.com/erddap/'}, {'url': 'http://www.neracoos.org/erddap/'}, {'url': 'https://data.ioos.us/gliders/erddap/'}, {'url': 'http://oos.soest.hawaii.edu/erddap/'}, {'url': 'http://sccoos.org/erddap/'}, {'url': 'http://erddap.secoora.org/erddap/'}, {'url': 'https://ecowatch.ncddc.noaa.gov/erddap/'}, {'url': 'http://osmc.noaa.gov/erddap/'}, {'url': 'http://dap.onc.uvic.ca/erddap/'}, {'url': 'https://oceanwatch.pifsc.noaa.gov/erddap/'}, {'url': 'https://erddap-uncabled.oceanobservatories.org/uncabled/erddap/'}, {'url': 'https://members.oceantrack.org/erddap/'}, {'url': 'http://www.myroms.org:8080/erddap/'}, {'url': 'http://tds.marine.rutgers.edu/erddap/'}, {'url': 'http://sfbaynutrients.sfei.org/erddap/'}, {'url': 'https://spraydata.ucsd.edu/erddap/'}, {'url': 'https://salishsea.eos.ubc.ca/erddap/'}, {'url': 'http://bmlsc.ucdavis.edu:8080/erddap/'}, {'url': 'https://upwell.pfeg.noaa.gov/erddap/'}]\n"
     ]
    }
   ],
   "source": [
    "print(servers)"
   ]
  },
  {
   "cell_type": "code",
   "execution_count": 4,
   "metadata": {
    "inputHidden": false,
    "outputHidden": false
   },
   "outputs": [
    {
     "name": "stdout",
     "output_type": "stream",
     "text": [
      "[{'url': 'https://coastwatch.pfeg.noaa.gov/erddap/'}, {'url': 'https://apdrc.soest.hawaii.edu/erddap/'}, {'url': 'https://erddap.bco-dmo.org/erddap/'}, {'url': 'http://erddap.emodnet-physics.eu/erddap/'}, {'url': 'https://erddap.marine.ie/erddap/'}, {'url': 'https://cwcgom.aoml.noaa.gov/erddap/'}, {'url': 'http://erddap.sensors.ioos.us/erddap/'}, {'url': 'http://erddap.axiomdatascience.com/erddap/'}, {'url': 'http://www.neracoos.org/erddap/'}, {'url': 'https://data.ioos.us/gliders/erddap/'}, {'url': 'http://oos.soest.hawaii.edu/erddap/'}, {'url': 'http://sccoos.org/erddap/'}, {'url': 'http://erddap.secoora.org/erddap/'}, {'url': 'https://ecowatch.ncddc.noaa.gov/erddap/'}, {'url': 'http://osmc.noaa.gov/erddap/'}, {'url': 'http://dap.onc.uvic.ca/erddap/'}, {'url': 'https://oceanwatch.pifsc.noaa.gov/erddap/'}, {'url': 'https://erddap-uncabled.oceanobservatories.org/uncabled/erddap/'}, {'url': 'https://members.oceantrack.org/erddap/'}, {'url': 'http://www.myroms.org:8080/erddap/'}, {'url': 'http://tds.marine.rutgers.edu/erddap/'}, {'url': 'http://sfbaynutrients.sfei.org/erddap/'}, {'url': 'https://spraydata.ucsd.edu/erddap/'}, {'url': 'https://salishsea.eos.ubc.ca/erddap/'}, {'url': 'http://bmlsc.ucdavis.edu:8080/erddap/'}, {'url': 'https://upwell.pfeg.noaa.gov/erddap/'}]\n"
     ]
    }
   ],
   "source": [
    "print(servers)"
   ]
  },
  {
   "cell_type": "code",
   "execution_count": 5,
   "metadata": {},
   "outputs": [],
   "source": [
    "time_min = '2010-07-10T00:00:00Z'\n",
    "time_max = '2016-08-10T00:00:00Z'\n",
    "bbox = [-72.0, -69, 38, 41]\n",
    "\n",
    "kw = {\n",
    "   'search_for': 'all',\n",
    "   'min_lon': bbox[0],\n",
    "   'max_lon': bbox[1],\n",
    "   'min_lat': bbox[2],\n",
    "   'max_lat': bbox[3],\n",
    "   'min_time': time_min,\n",
    "   'max_time': time_max,\n",
    "}"
   ]
  },
  {
   "cell_type": "code",
   "execution_count": 20,
   "metadata": {
    "inputHidden": false,
    "outputHidden": false
   },
   "outputs": [
    {
     "name": "stdout",
     "output_type": "stream",
     "text": [
      "https://coastwatch.pfeg.noaa.gov/erddap/search/advanced.csv?page=1&itemsPerPage=1000&protocol=(ANY)&cdm_data_type=(ANY)&institution=(ANY)&ioos_category=(ANY)&keywords=(ANY)&long_name=(ANY)&standard_name=(ANY)&variableName=(ANY)&minLon=-72.0&maxLon=-69&minLat=38&maxLat=41&minTime=1278720000.0&maxTime=1470787200.0&searchFor=all\n",
      "https://apdrc.soest.hawaii.edu/erddap/search/advanced.csv?page=1&itemsPerPage=1000&protocol=(ANY)&cdm_data_type=(ANY)&institution=(ANY)&ioos_category=(ANY)&keywords=(ANY)&long_name=(ANY)&standard_name=(ANY)&variableName=(ANY)&minLon=-72.0&maxLon=-69&minLat=38&maxLat=41&minTime=1278720000.0&maxTime=1470787200.0&searchFor=all\n",
      "https://erddap.bco-dmo.org/erddap/search/advanced.csv?page=1&itemsPerPage=1000&protocol=(ANY)&cdm_data_type=(ANY)&institution=(ANY)&ioos_category=(ANY)&keywords=(ANY)&long_name=(ANY)&standard_name=(ANY)&variableName=(ANY)&minLon=-72.0&maxLon=-69&minLat=38&maxLat=41&minTime=1278720000.0&maxTime=1470787200.0&searchFor=all\n",
      "Bad ERDDAP!!!http://erddap.emodnet-physics.eu/erddap\n",
      "Bad ERDDAP!!!https://erddap.marine.ie/erddap\n",
      "https://cwcgom.aoml.noaa.gov/erddap/search/advanced.csv?page=1&itemsPerPage=1000&protocol=(ANY)&cdm_data_type=(ANY)&institution=(ANY)&ioos_category=(ANY)&keywords=(ANY)&long_name=(ANY)&standard_name=(ANY)&variableName=(ANY)&minLon=-72.0&maxLon=-69&minLat=38&maxLat=41&minTime=1278720000.0&maxTime=1470787200.0&searchFor=all\n",
      "http://erddap.sensors.ioos.us/erddap/search/advanced.csv?page=1&itemsPerPage=1000&protocol=(ANY)&cdm_data_type=(ANY)&institution=(ANY)&ioos_category=(ANY)&keywords=(ANY)&long_name=(ANY)&standard_name=(ANY)&variableName=(ANY)&minLon=-72.0&maxLon=-69&minLat=38&maxLat=41&minTime=1278720000.0&maxTime=1470787200.0&searchFor=all\n",
      "http://erddap.axiomdatascience.com/erddap/search/advanced.csv?page=1&itemsPerPage=1000&protocol=(ANY)&cdm_data_type=(ANY)&institution=(ANY)&ioos_category=(ANY)&keywords=(ANY)&long_name=(ANY)&standard_name=(ANY)&variableName=(ANY)&minLon=-72.0&maxLon=-69&minLat=38&maxLat=41&minTime=1278720000.0&maxTime=1470787200.0&searchFor=all\n",
      "http://www.neracoos.org/erddap/search/advanced.csv?page=1&itemsPerPage=1000&protocol=(ANY)&cdm_data_type=(ANY)&institution=(ANY)&ioos_category=(ANY)&keywords=(ANY)&long_name=(ANY)&standard_name=(ANY)&variableName=(ANY)&minLon=-72.0&maxLon=-69&minLat=38&maxLat=41&minTime=1278720000.0&maxTime=1470787200.0&searchFor=all\n",
      "https://data.ioos.us/gliders/erddap/search/advanced.csv?page=1&itemsPerPage=1000&protocol=(ANY)&cdm_data_type=(ANY)&institution=(ANY)&ioos_category=(ANY)&keywords=(ANY)&long_name=(ANY)&standard_name=(ANY)&variableName=(ANY)&minLon=-72.0&maxLon=-69&minLat=38&maxLat=41&minTime=1278720000.0&maxTime=1470787200.0&searchFor=all\n",
      "http://oos.soest.hawaii.edu/erddap/search/advanced.csv?page=1&itemsPerPage=1000&protocol=(ANY)&cdm_data_type=(ANY)&institution=(ANY)&ioos_category=(ANY)&keywords=(ANY)&long_name=(ANY)&standard_name=(ANY)&variableName=(ANY)&minLon=-72.0&maxLon=-69&minLat=38&maxLat=41&minTime=1278720000.0&maxTime=1470787200.0&searchFor=all\n",
      "http://sccoos.org/erddap/search/advanced.csv?page=1&itemsPerPage=1000&protocol=(ANY)&cdm_data_type=(ANY)&institution=(ANY)&ioos_category=(ANY)&keywords=(ANY)&long_name=(ANY)&standard_name=(ANY)&variableName=(ANY)&minLon=-72.0&maxLon=-69&minLat=38&maxLat=41&minTime=1278720000.0&maxTime=1470787200.0&searchFor=all\n",
      "Bad ERDDAP!!!http://erddap.secoora.org/erddap\n",
      "Bad ERDDAP!!!https://ecowatch.ncddc.noaa.gov/erddap\n",
      "http://osmc.noaa.gov/erddap/search/advanced.csv?page=1&itemsPerPage=1000&protocol=(ANY)&cdm_data_type=(ANY)&institution=(ANY)&ioos_category=(ANY)&keywords=(ANY)&long_name=(ANY)&standard_name=(ANY)&variableName=(ANY)&minLon=-72.0&maxLon=-69&minLat=38&maxLat=41&minTime=1278720000.0&maxTime=1470787200.0&searchFor=all\n",
      "Bad ERDDAP!!!http://dap.onc.uvic.ca/erddap\n",
      "https://oceanwatch.pifsc.noaa.gov/erddap/search/advanced.csv?page=1&itemsPerPage=1000&protocol=(ANY)&cdm_data_type=(ANY)&institution=(ANY)&ioos_category=(ANY)&keywords=(ANY)&long_name=(ANY)&standard_name=(ANY)&variableName=(ANY)&minLon=-72.0&maxLon=-69&minLat=38&maxLat=41&minTime=1278720000.0&maxTime=1470787200.0&searchFor=all\n",
      "Bad ERDDAP!!!https://erddap-uncabled.oceanobservatories.org/uncabled/erddap\n",
      "https://members.oceantrack.org/erddap/search/advanced.csv?page=1&itemsPerPage=1000&protocol=(ANY)&cdm_data_type=(ANY)&institution=(ANY)&ioos_category=(ANY)&keywords=(ANY)&long_name=(ANY)&standard_name=(ANY)&variableName=(ANY)&minLon=-72.0&maxLon=-69&minLat=38&maxLat=41&minTime=1278720000.0&maxTime=1470787200.0&searchFor=all\n",
      "http://www.myroms.org:8080/erddap/search/advanced.csv?page=1&itemsPerPage=1000&protocol=(ANY)&cdm_data_type=(ANY)&institution=(ANY)&ioos_category=(ANY)&keywords=(ANY)&long_name=(ANY)&standard_name=(ANY)&variableName=(ANY)&minLon=-72.0&maxLon=-69&minLat=38&maxLat=41&minTime=1278720000.0&maxTime=1470787200.0&searchFor=all\n",
      "http://tds.marine.rutgers.edu/erddap/search/advanced.csv?page=1&itemsPerPage=1000&protocol=(ANY)&cdm_data_type=(ANY)&institution=(ANY)&ioos_category=(ANY)&keywords=(ANY)&long_name=(ANY)&standard_name=(ANY)&variableName=(ANY)&minLon=-72.0&maxLon=-69&minLat=38&maxLat=41&minTime=1278720000.0&maxTime=1470787200.0&searchFor=all\n",
      "Bad ERDDAP!!!http://sfbaynutrients.sfei.org/erddap\n",
      "https://spraydata.ucsd.edu/erddap/search/advanced.csv?page=1&itemsPerPage=1000&protocol=(ANY)&cdm_data_type=(ANY)&institution=(ANY)&ioos_category=(ANY)&keywords=(ANY)&long_name=(ANY)&standard_name=(ANY)&variableName=(ANY)&minLon=-72.0&maxLon=-69&minLat=38&maxLat=41&minTime=1278720000.0&maxTime=1470787200.0&searchFor=all\n",
      "Bad ERDDAP!!!https://salishsea.eos.ubc.ca/erddap\n",
      "Bad ERDDAP!!!http://bmlsc.ucdavis.edu:8080/erddap\n",
      "https://upwell.pfeg.noaa.gov/erddap/search/advanced.csv?page=1&itemsPerPage=1000&protocol=(ANY)&cdm_data_type=(ANY)&institution=(ANY)&ioos_category=(ANY)&keywords=(ANY)&long_name=(ANY)&standard_name=(ANY)&variableName=(ANY)&minLon=-72.0&maxLon=-69&minLat=38&maxLat=41&minTime=1278720000.0&maxTime=1470787200.0&searchFor=all\n"
     ]
    }
   ],
   "source": [
    "for key in servers:\n",
    "    url = key['url']\n",
    "    url = url.rstrip(\"/\")\n",
    "    r = requests.get(url)\n",
    "    try:\n",
    "        r.raise_for_status()\n",
    "        e = ERDDAP(\n",
    "                 server=url,\n",
    "                 protocol='tabledap',\n",
    "                 response='csv'\n",
    "           )\n",
    "        print(e.get_search_url(**kw))\n",
    "    except requests.exceptions.RequestException as err:\n",
    "        print(\"Bad ERDDAP!!! {}\".format(url))\n",
    "    except requests.exceptions.HTTPError as errh:\n",
    "        print(\"Bad ERDDAP!!! {}\".format(url))\n",
    "    except requests.exceptions.ConnectionError as errc:\n",
    "        print(\"Bad ERDDAP!!! {}\".format(url))\n",
    "    except requests.exceptions.Timeout as errt:\n",
    "        print(\"Bad ERDDAP!!! {}\".format(url))\n",
    "    \n"
   ]
  },
  {
   "cell_type": "code",
   "execution_count": null,
   "metadata": {},
   "outputs": [],
   "source": [
    "print(url)"
   ]
  },
  {
   "cell_type": "code",
   "execution_count": null,
   "metadata": {},
   "outputs": [],
   "source": [
    "# from erddapy import ERDDAP\n",
    "\n",
    "\n",
    "# e = ERDDAP(\n",
    "#   server='https://data.ioos.us/gliders/erddap',\n",
    "#   protocol='tabledap',\n",
    "# )\n",
    "\n",
    "# e.response = 'csv'\n",
    "# e.dataset_id = 'whoi_406-20160902T1700'\n",
    "# e.constraints = {\n",
    "#     'time>=': '2016-07-10T00:00:00Z',\n",
    "#     'time<=': '2017-02-10T00:00:00Z',\n",
    "#     'latitude>=': 38.0,\n",
    "#     'latitude<=': 41.0,\n",
    "#     'longitude>=': -72.0,\n",
    "#     'longitude<=': -69.0,\n",
    "# }\n",
    "# e.variables = [\n",
    "#     'depth',\n",
    "#     'latitude',\n",
    "#     'longitude',\n",
    "#     'salinity',\n",
    "#     'temperature',\n",
    "#     'time',\n",
    "# ]"
   ]
  },
  {
   "cell_type": "code",
   "execution_count": null,
   "metadata": {},
   "outputs": [],
   "source": [
    "    if url != 'http://erddap.emodnet-physics.eu/erddap' and \\\n",
    "    url != 'https://erddap.marine.ie/erddap' and \\\n",
    "    url != 'http://oos.soest.hawaii.edu/erddap' and \\\n",
    "    url != 'http://erddap.secoora.org/erddap' and \\\n",
    "    url != 'https://ecowatch.ncddc.noaa.gov/erddap' and \\\n",
    "    url != 'http://dap.onc.uvic.ca/erddap':"
   ]
  },
  {
   "cell_type": "code",
   "execution_count": null,
   "metadata": {},
   "outputs": [],
   "source": []
  },
  {
   "cell_type": "code",
   "execution_count": null,
   "metadata": {},
   "outputs": [],
   "source": []
  },
  {
   "cell_type": "code",
   "execution_count": null,
   "metadata": {},
   "outputs": [],
   "source": []
  }
 ],
 "metadata": {
  "kernel_info": {
   "name": "python3"
  },
  "kernelspec": {
   "display_name": "Python 3",
   "language": "python",
   "name": "python3"
  },
  "language_info": {
   "codemirror_mode": {
    "name": "ipython",
    "version": 3
   },
   "file_extension": ".py",
   "mimetype": "text/x-python",
   "name": "python",
   "nbconvert_exporter": "python",
   "pygments_lexer": "ipython3",
   "version": "3.7.3"
  },
  "nteract": {
   "version": "0.14.5"
  }
 },
 "nbformat": 4,
 "nbformat_minor": 1
}
