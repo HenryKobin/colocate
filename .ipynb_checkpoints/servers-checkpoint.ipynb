{
 "cells": [
  {
   "cell_type": "code",
   "execution_count": 1,
   "metadata": {
    "inputHidden": false,
    "outputHidden": false
   },
   "outputs": [],
   "source": [
    "from erddapy import ERDDAP\n",
    "from erddapy import utilities"
   ]
  },
  {
   "cell_type": "code",
   "execution_count": 2,
   "metadata": {},
   "outputs": [
    {
     "data": {
      "text/plain": [
       "200"
      ]
     },
     "execution_count": 2,
     "metadata": {},
     "output_type": "execute_result"
    }
   ],
   "source": [
    "import json\n",
    "import urllib\n",
    "import requests\n",
    "file = urllib.request.urlopen('https://raw.githubusercontent.com/IrishMarineInstitute/search-erddaps/master/erddaps.json')\n",
    "all_servers = json.loads(file.read())\n",
    "file.getcode()"
   ]
  },
  {
   "cell_type": "code",
   "execution_count": 3,
   "metadata": {
    "inputHidden": false,
    "outputHidden": false
   },
   "outputs": [],
   "source": [
    "servers=all_servers[:3]"
   ]
  },
  {
   "cell_type": "code",
   "execution_count": null,
   "metadata": {
    "inputHidden": false,
    "outputHidden": false
   },
   "outputs": [],
   "source": [
    "#servers=[{'url': 'https://cwcgom.aoml.noaa.gov/erddap/'}]"
   ]
  },
  {
   "cell_type": "code",
   "execution_count": 4,
   "metadata": {},
   "outputs": [],
   "source": [
    "time_min = '2015-07-10T00:00:00Z'\n",
    "time_max = '2016-08-10T00:00:00Z'\n",
    "bbox = [-72.0, -69, 38, 41]\n",
    "\n",
    "kw = {\n",
    "   'search_for': 'all',\n",
    "   'min_lon': bbox[0],\n",
    "   'max_lon': bbox[1],\n",
    "   'min_lat': bbox[2],\n",
    "   'max_lat': bbox[3],\n",
    "   'min_time': time_min,\n",
    "   'max_time': time_max,\n",
    "   'standard_name': 'depth'\n",
    "}"
   ]
  },
  {
   "cell_type": "code",
   "execution_count": 5,
   "metadata": {
    "inputHidden": false,
    "outputHidden": false
   },
   "outputs": [
    {
     "name": "stdout",
     "output_type": "stream",
     "text": [
      "https://coastwatch.pfeg.noaa.gov/erddap/search/advanced.csv?page=1&itemsPerPage=1000&protocol=(ANY)&cdm_data_type=(ANY)&institution=(ANY)&ioos_category=(ANY)&keywords=(ANY)&long_name=(ANY)&standard_name=depth&variableName=(ANY)&minLon=-72.0&maxLon=-69&minLat=38&maxLat=41&minTime=1436486400.0&maxTime=1470787200.0&searchFor=all\n"
     ]
    },
    {
     "name": "stderr",
     "output_type": "stream",
     "text": [
      "/anaconda3/envs/OHW/lib/python3.7/site-packages/ipykernel_launcher.py:30: SettingWithCopyWarning: \n",
      "A value is trying to be set on a copy of a slice from a DataFrame\n",
      "\n",
      "See the caveats in the documentation: http://pandas.pydata.org/pandas-docs/stable/user_guide/indexing.html#returning-a-view-versus-a-copy\n"
     ]
    },
    {
     "name": "stdout",
     "output_type": "stream",
     "text": [
      "https://apdrc.soest.hawaii.edu/erddap/search/advanced.csv?page=1&itemsPerPage=1000&protocol=(ANY)&cdm_data_type=(ANY)&institution=(ANY)&ioos_category=(ANY)&keywords=(ANY)&long_name=(ANY)&standard_name=depth&variableName=(ANY)&minLon=-72.0&maxLon=-69&minLat=38&maxLat=41&minTime=1436486400.0&maxTime=1470787200.0&searchFor=all\n",
      "https://erddap.bco-dmo.org/erddap/search/advanced.csv?page=1&itemsPerPage=1000&protocol=(ANY)&cdm_data_type=(ANY)&institution=(ANY)&ioos_category=(ANY)&keywords=(ANY)&long_name=(ANY)&standard_name=depth&variableName=(ANY)&minLon=-72.0&maxLon=-69&minLat=38&maxLat=41&minTime=1436486400.0&maxTime=1470787200.0&searchFor=all\n"
     ]
    }
   ],
   "source": [
    "import pandas as pd\n",
    "all_datasets=pd.DataFrame()\n",
    "\n",
    "for key in servers:\n",
    "    url = key['url']\n",
    "    url = url.rstrip(\"/\")\n",
    "    r = requests.get(url)\n",
    "    try:\n",
    "        r.raise_for_status()\n",
    "        e = ERDDAP(\n",
    "                 server=url,\n",
    "                 protocol='tabledap',\n",
    "                 response='csv'\n",
    "           )\n",
    "        print(e.get_search_url(**kw))\n",
    "    except requests.exceptions.RequestException as err:\n",
    "        print(\"Bad ERDDAP!!! {}\".format(url))\n",
    "    except requests.exceptions.HTTPError as errh:\n",
    "        print(\"Bad ERDDAP!!! {}\".format(url))\n",
    "    except requests.exceptions.ConnectionError as errc:\n",
    "        print(\"Bad ERDDAP!!! {}\".format(url))\n",
    "    except requests.exceptions.Timeout as errt:\n",
    "        print(\"Bad ERDDAP!!! {}\".format(url))\n",
    "        \n",
    "    ds = pd.read_csv('%s'%e.get_search_url(**kw))\n",
    "    ds['server'] = url\n",
    "    \n",
    "    datasets = ds[['server','Dataset ID','tabledap']]\n",
    "    \n",
    "    datasets.dropna(subset=['tabledap'],inplace=True)\n",
    "    \n",
    "    all_datasets = pd.concat([all_datasets,datasets])"
   ]
  },
  {
   "cell_type": "code",
   "execution_count": 6,
   "metadata": {},
   "outputs": [
    {
     "data": {
      "text/plain": [
       "3"
      ]
     },
     "execution_count": 6,
     "metadata": {},
     "output_type": "execute_result"
    }
   ],
   "source": [
    "all_datasets.shape[0]"
   ]
  },
  {
   "cell_type": "code",
   "execution_count": 8,
   "metadata": {},
   "outputs": [
    {
     "name": "stdout",
     "output_type": "stream",
     "text": [
      "0\n",
      "https://coastwatch.pfeg.noaa.gov/erddap/tabledap/scrippsGliders.csv?latitude,longitude,time&time>=1436486400.0&time<=1470787200.0&longitude>=-72.0&longitude<=-69&latitude>=38&latitude<=41\n"
     ]
    },
    {
     "data": {
      "text/html": [
       "<div>\n",
       "<style scoped>\n",
       "    .dataframe tbody tr th:only-of-type {\n",
       "        vertical-align: middle;\n",
       "    }\n",
       "\n",
       "    .dataframe tbody tr th {\n",
       "        vertical-align: top;\n",
       "    }\n",
       "\n",
       "    .dataframe thead th {\n",
       "        text-align: right;\n",
       "    }\n",
       "</style>\n",
       "<table border=\"1\" class=\"dataframe\">\n",
       "  <thead>\n",
       "    <tr style=\"text-align: right;\">\n",
       "      <th></th>\n",
       "      <th>latitude (degrees_north)</th>\n",
       "      <th>longitude (degrees_east)</th>\n",
       "      <th>time (UTC)</th>\n",
       "      <th>id</th>\n",
       "    </tr>\n",
       "  </thead>\n",
       "  <tbody>\n",
       "    <tr>\n",
       "      <td>0</td>\n",
       "      <td>39.929200</td>\n",
       "      <td>-69.056300</td>\n",
       "      <td>2015-12-24T02:19:45Z</td>\n",
       "      <td>0</td>\n",
       "    </tr>\n",
       "    <tr>\n",
       "      <td>1</td>\n",
       "      <td>39.910725</td>\n",
       "      <td>-69.123825</td>\n",
       "      <td>2015-12-24T08:02:45Z</td>\n",
       "      <td>0</td>\n",
       "    </tr>\n",
       "    <tr>\n",
       "      <td>2</td>\n",
       "      <td>39.899875</td>\n",
       "      <td>-69.187650</td>\n",
       "      <td>2015-12-24T13:48:45Z</td>\n",
       "      <td>0</td>\n",
       "    </tr>\n",
       "    <tr>\n",
       "      <td>3</td>\n",
       "      <td>39.880600</td>\n",
       "      <td>-69.257325</td>\n",
       "      <td>2015-12-24T19:34:00Z</td>\n",
       "      <td>0</td>\n",
       "    </tr>\n",
       "    <tr>\n",
       "      <td>4</td>\n",
       "      <td>39.857725</td>\n",
       "      <td>-69.339750</td>\n",
       "      <td>2015-12-25T01:14:15Z</td>\n",
       "      <td>0</td>\n",
       "    </tr>\n",
       "    <tr>\n",
       "      <td>...</td>\n",
       "      <td>...</td>\n",
       "      <td>...</td>\n",
       "      <td>...</td>\n",
       "      <td>...</td>\n",
       "    </tr>\n",
       "    <tr>\n",
       "      <td>662</td>\n",
       "      <td>40.644150</td>\n",
       "      <td>-70.742050</td>\n",
       "      <td>2016-04-06T15:30:00Z</td>\n",
       "      <td>0</td>\n",
       "    </tr>\n",
       "    <tr>\n",
       "      <td>663</td>\n",
       "      <td>40.645900</td>\n",
       "      <td>-70.746225</td>\n",
       "      <td>2016-04-06T16:04:00Z</td>\n",
       "      <td>0</td>\n",
       "    </tr>\n",
       "    <tr>\n",
       "      <td>664</td>\n",
       "      <td>40.647425</td>\n",
       "      <td>-70.751475</td>\n",
       "      <td>2016-04-06T16:39:30Z</td>\n",
       "      <td>0</td>\n",
       "    </tr>\n",
       "    <tr>\n",
       "      <td>665</td>\n",
       "      <td>40.649125</td>\n",
       "      <td>-70.757700</td>\n",
       "      <td>2016-04-06T17:14:00Z</td>\n",
       "      <td>0</td>\n",
       "    </tr>\n",
       "    <tr>\n",
       "      <td>666</td>\n",
       "      <td>40.651200</td>\n",
       "      <td>-70.764225</td>\n",
       "      <td>2016-04-06T17:48:45Z</td>\n",
       "      <td>0</td>\n",
       "    </tr>\n",
       "  </tbody>\n",
       "</table>\n",
       "<p>667 rows × 4 columns</p>\n",
       "</div>"
      ],
      "text/plain": [
       "     latitude (degrees_north)  longitude (degrees_east)            time (UTC)  \\\n",
       "0                   39.929200                -69.056300  2015-12-24T02:19:45Z   \n",
       "1                   39.910725                -69.123825  2015-12-24T08:02:45Z   \n",
       "2                   39.899875                -69.187650  2015-12-24T13:48:45Z   \n",
       "3                   39.880600                -69.257325  2015-12-24T19:34:00Z   \n",
       "4                   39.857725                -69.339750  2015-12-25T01:14:15Z   \n",
       "..                        ...                       ...                   ...   \n",
       "662                 40.644150                -70.742050  2016-04-06T15:30:00Z   \n",
       "663                 40.645900                -70.746225  2016-04-06T16:04:00Z   \n",
       "664                 40.647425                -70.751475  2016-04-06T16:39:30Z   \n",
       "665                 40.649125                -70.757700  2016-04-06T17:14:00Z   \n",
       "666                 40.651200                -70.764225  2016-04-06T17:48:45Z   \n",
       "\n",
       "     id  \n",
       "0     0  \n",
       "1     0  \n",
       "2     0  \n",
       "3     0  \n",
       "4     0  \n",
       "..   ..  \n",
       "662   0  \n",
       "663   0  \n",
       "664   0  \n",
       "665   0  \n",
       "666   0  \n",
       "\n",
       "[667 rows x 4 columns]"
      ]
     },
     "execution_count": 8,
     "metadata": {},
     "output_type": "execute_result"
    }
   ],
   "source": [
    "all_coords = pd.DataFrame()\n",
    "for i in range(all_datasets.shape[0]):\n",
    "    print(i)\n",
    "    e2 = ERDDAP(\n",
    "                 server=all_datasets['server'].iloc[int(i)],\n",
    "                 protocol='tabledap',\n",
    "                 response='csv'\n",
    "           )\n",
    "    e2.variables=[\"latitude\",\"longitude\",\"time\"]\n",
    "    e2.dataset_id = all_datasets['Dataset ID'].iloc[int(i)]\n",
    "    #e2.constraints = kw\n",
    "    e2.constraints = {\n",
    "           \"time>=\": time_min,\n",
    "           \"time<=\": time_max,\n",
    "           \"longitude>=\": bbox[0],\n",
    "           \"longitude<=\": bbox[1],\n",
    "           \"latitude>=\": bbox[2],\n",
    "           \"latitude<=\": bbox[3]\n",
    "    }\n",
    "    #print(e2.get_download_url())\n",
    "    df = e2.to_pandas()\n",
    "    df['id'] = i\n",
    "    all_coords = pd.concat([all_coords,df])\n",
    "    #print(e.get_download_url(response=\"csv\"))\n",
    "    \n",
    "    #dataset_url = '%s/tabledap/%s.csvp?latitude,longitude,time&longitude>=-72.0&longitude<=-69&latitude>=38&latitude<=41&time>=1278720000.0&time<=1470787200.0&distinct()' % (all_datasets['server'].iloc[int(i)],all_datasets['Dataset ID'].iloc[int(i)])\n",
    "    #print(dataset_url)\n",
    "    #coords = pd.read_csv(str(dataset_url))\n",
    "    #all_coords = pd.concat([all_coords,coords])\n",
    "    #print(coords) \n",
    "#df"
   ]
  },
  {
   "cell_type": "code",
   "execution_count": 10,
   "metadata": {},
   "outputs": [
    {
     "data": {
      "text/plain": [
       "<matplotlib.axes._subplots.AxesSubplot at 0x11e435400>"
      ]
     },
     "execution_count": 10,
     "metadata": {},
     "output_type": "execute_result"
    },
    {
     "data": {
      "image/png": "[encoded data removed]",
      "text/plain": [
       "<Figure size 432x432 with 1 Axes>"
      ]
     },
     "metadata": {
      "needs_background": "light"
     },
     "output_type": "display_data"
    },
    {
     "data": {
      "image/png": "[encoded data removed]",
      "text/plain": [
       "<Figure size 432x288 with 1 Axes>"
      ]
     },
     "metadata": {
      "needs_background": "light"
     },
     "output_type": "display_data"
    }
   ],
   "source": [
    "import matplotlib.pyplot as plt\n",
    "plt.figure(figsize=(6, 6)) #make_map(extent, figsize=(6, 6))\n",
    "#add_etopo2(extent, ax)\n",
    "cs = plt.scatter(all_coords['longitude (degrees_east)'],\n",
    "               all_coords['latitude (degrees_north)'],\n",
    "               s=40, c=all_coords['id'].values)\n",
    "df.plot(x='longitude (degrees_east)',y='latitude (degrees_north)')"
   ]
  },
  {
   "cell_type": "code",
   "execution_count": null,
   "metadata": {},
   "outputs": [],
   "source": []
  },
  {
   "cell_type": "code",
   "execution_count": null,
   "metadata": {},
   "outputs": [],
   "source": []
  },
  {
   "cell_type": "code",
   "execution_count": null,
   "metadata": {},
   "outputs": [],
   "source": [
    "# from erddapy import ERDDAP\n",
    "\n",
    "\n",
    "# e = ERDDAP(\n",
    "#   server='https://data.ioos.us/gliders/erddap',\n",
    "#   protocol='tabledap',\n",
    "# )\n",
    "\n",
    "# e.response = 'csv'\n",
    "# e.dataset_id = 'whoi_406-20160902T1700'\n",
    "# e.constraints = {\n",
    "#     'time>=': '2016-07-10T00:00:00Z',\n",
    "#     'time<=': '2017-02-10T00:00:00Z',\n",
    "#     'latitude>=': 38.0,\n",
    "#     'latitude<=': 41.0,\n",
    "#     'longitude>=': -72.0,\n",
    "#     'longitude<=': -69.0,\n",
    "# }\n",
    "# e.variables = [\n",
    "#     'depth',\n",
    "#     'latitude',\n",
    "#     'longitude',\n",
    "#     'salinity',\n",
    "#     'temperature',\n",
    "#     'time',\n",
    "# ]"
   ]
  },
  {
   "cell_type": "code",
   "execution_count": null,
   "metadata": {},
   "outputs": [],
   "source": [
    "#     if url != 'http://erddap.emodnet-physics.eu/erddap' and \\\n",
    "#     url != 'https://erddap.marine.ie/erddap' and \\\n",
    "#     url != 'http://oos.soest.hawaii.edu/erddap' and \\\n",
    "#     url != 'http://erddap.secoora.org/erddap' and \\\n",
    "#     url != 'https://ecowatch.ncddc.noaa.gov/erddap' and \\\n",
    "#     url != 'http://dap.onc.uvic.ca/erddap':"
   ]
  },
  {
   "cell_type": "code",
   "execution_count": null,
   "metadata": {},
   "outputs": [],
   "source": [
    "# laturl = 'http://erddap.bco-dmo.org/erddap/categorize/variableName/latitude/index.csv'\n",
    "# lonurl = 'http://erddap.bco-dmo.org/erddap/categorize/variableName/longitude/index.csv'\n",
    "\n",
    "# df_lat = pd.read_csv(laturl, header=[0])\n",
    "# df_lon = pd.read_csv(lonurl, header=[0])\n",
    "\n",
    "# df_datasets = pd.merge(df_lat, df_lon, on='Dataset ID')\n",
    "# df_final = pd.DataFrame(columns=['latitude (degrees_north)', 'longitude (degrees_east)', 'Dataset ID'])\n",
    "\n",
    "# for did in df_datasets['Dataset ID']:\n",
    "#     if did != 'bcodmo_dataset_739309': # remove this once we reload all the datasets again.\n",
    "#         dataset_url = 'http://erddap.bco-dmo.org/erddap/tabledap/%s.csvp?latitude,longitude&distinct()' % did\n",
    "#         df_data = pd.read_csv(dataset_url, header=0, usecols=['latitude (degrees_north)', 'longitude (degrees_east)'])\n",
    "#         df_data['Dataset ID'] = did\n",
    "#         df_final = pd.concat([df_final, df_data], sort=False, ignore_index=True)\n",
    "#         print(df_final.shape)\n",
    "\n",
    "# lon = df_final['longitude (degrees_east)'].values\n",
    "# lat = df_final['latitude (degrees_north)'].values"
   ]
  },
  {
   "cell_type": "code",
   "execution_count": null,
   "metadata": {},
   "outputs": [],
   "source": []
  },
  {
   "cell_type": "code",
   "execution_count": null,
   "metadata": {},
   "outputs": [],
   "source": []
  }
 ],
 "metadata": {
  "kernel_info": {
   "name": "python3"
  },
  "kernelspec": {
   "display_name": "Python 3",
   "language": "python",
   "name": "python3"
  },
  "language_info": {
   "codemirror_mode": {
    "name": "ipython",
    "version": 3
   },
   "file_extension": ".py",
   "mimetype": "text/x-python",
   "name": "python",
   "nbconvert_exporter": "python",
   "pygments_lexer": "ipython3",
   "version": "3.7.3"
  },
  "nteract": {
   "version": "0.14.5"
  }
 },
 "nbformat": 4,
 "nbformat_minor": 4
}
