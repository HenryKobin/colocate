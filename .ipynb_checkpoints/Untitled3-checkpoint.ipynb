{
 "cells": [
  {
   "cell_type": "code",
   "execution_count": 1,
   "metadata": {},
   "outputs": [],
   "source": [
    "from makeMetaData import *\n",
    "from classes import constraintClass\n",
    "\n",
    "time_min = '2010-07-10T00:00:00Z'\n",
    "time_max = '2016-08-10T00:00:00Z'\n",
    "bbox = [-72.0, -69, 38, 41]\n",
    "\n",
    "kw = {\n",
    "    'search_for': 'all',\n",
    "    'min_lon': bbox[0],\n",
    "    'max_lon': bbox[1],\n",
    "    'min_lat': bbox[2],\n",
    "    'max_lat': bbox[3],\n",
    "    'min_time': time_min,\n",
    "    'max_time': time_max,\n",
    "}\n",
    "\n",
    "constraint = constraintClass()\n",
    "\n",
    "# constraint.updatelonMin(-180)\n",
    "\n",
    "# constraint.updatelonMax(180)\n",
    "\n",
    "# constraint.updatelatMin(-90)\n",
    "\n",
    "# constraint.updatelatMax(90)\n",
    "\n",
    "MD = initMetadata()\n",
    "#MD = update_tableGridWms_Info(MD)\n"
   ]
  },
  {
   "cell_type": "code",
   "execution_count": 2,
   "metadata": {},
   "outputs": [],
   "source": [
    "from makeMetaData import *\n",
    "MD = fill_info_in_meta_acc_to_constrains(MD, kw)\n"
   ]
  },
  {
   "cell_type": "code",
   "execution_count": 3,
   "metadata": {},
   "outputs": [
    {
     "name": "stdout",
     "output_type": "stream",
     "text": [
      "28\n",
      "18\n"
     ]
    }
   ],
   "source": [
    "print(len(MD.servers))\n",
    "print(len(MD.servers[0].datasets))"
   ]
  },
  {
   "cell_type": "code",
   "execution_count": 4,
   "metadata": {},
   "outputs": [
    {
     "name": "stdout",
     "output_type": "stream",
     "text": [
      "could not get lon lat for dataset erdGodaeSfcobs in server https://coastwatch.pfeg.noaa.gov/erddap\n"
     ]
    }
   ],
   "source": [
    "MD = fill_lat_lonValue_to_AllDataset(MD,kw,constraint)\n",
    "#dataset_out = fill_lat_lonValue_to_Dataset(MD.servers[0], \\\n",
    "#                                                        MD.servers[0].datasets[2], kw, constraint)"
   ]
  },
  {
   "cell_type": "code",
   "execution_count": 5,
   "metadata": {},
   "outputs": [
    {
     "data": {
      "text/plain": [
       "<matplotlib.collections.PathCollection at 0x1191cec18>"
      ]
     },
     "execution_count": 5,
     "metadata": {},
     "output_type": "execute_result"
    },
    {
     "data": {
      "image/png": "[encoded data removed]",
      "text/plain": [
       "<Figure size 432x288 with 1 Axes>"
      ]
     },
     "metadata": {
      "needs_background": "light"
     },
     "output_type": "display_data"
    }
   ],
   "source": [
    "%matplotlib inline\n",
    "import matplotlib.pyplot as plt\n",
    "plt.scatter(MD.servers[0].datasets[0].lat, MD.servers[0].datasets[0].lon)\n",
    "\n",
    "#plt.scatter(dataset_out.lon, dataset_out.lat)\n",
    "\n",
    "\n"
   ]
  },
  {
   "cell_type": "code",
   "execution_count": 6,
   "metadata": {},
   "outputs": [
    {
     "data": {
      "text/plain": [
       "<matplotlib.collections.PathCollection at 0x1192d64a8>"
      ]
     },
     "execution_count": 6,
     "metadata": {},
     "output_type": "execute_result"
    },
    {
     "data": {
      "image/png": "[encoded data removed]",
      "text/plain": [
       "<Figure size 432x288 with 1 Axes>"
      ]
     },
     "metadata": {
      "needs_background": "light"
     },
     "output_type": "display_data"
    }
   ],
   "source": [
    "plt.scatter(MD.servers[0].datasets[7].lat, MD.servers[0].datasets[7].lon)"
   ]
  },
  {
   "cell_type": "code",
   "execution_count": 7,
   "metadata": {},
   "outputs": [
    {
     "data": {
      "text/plain": [
       "'scrippsGliders'"
      ]
     },
     "execution_count": 7,
     "metadata": {},
     "output_type": "execute_result"
    }
   ],
   "source": [
    "MD.servers[0].datasets[0].dataset_ID"
   ]
  },
  {
   "cell_type": "code",
   "execution_count": null,
   "metadata": {},
   "outputs": [],
   "source": []
  }
 ],
 "metadata": {
  "kernelspec": {
   "display_name": "Python 3",
   "language": "python",
   "name": "python3"
  },
  "language_info": {
   "codemirror_mode": {
    "name": "ipython",
    "version": 3
   },
   "file_extension": ".py",
   "mimetype": "text/x-python",
   "name": "python",
   "nbconvert_exporter": "python",
   "pygments_lexer": "ipython3",
   "version": "3.7.3"
  }
 },
 "nbformat": 4,
 "nbformat_minor": 2
}
