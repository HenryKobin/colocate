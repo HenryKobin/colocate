{
 "cells": [
  {
   "cell_type": "code",
   "execution_count": 1,
   "metadata": {},
   "outputs": [
    {
     "name": "stderr",
     "output_type": "stream",
     "text": [
      "/anaconda3/envs/OHW/lib/python3.7/site-packages/xarray/core/merge.py:17: FutureWarning: The Panel class is removed from pandas. Accessing it from the top-level namespace will also be removed in the next version\n",
      "  PANDAS_TYPES = (pd.Series, pd.DataFrame, pd.Panel)\n"
     ]
    },
    {
     "data": {
      "application/vnd.jupyter.widget-view+json": {
       "model_id": "1e89d4237e5d48b184692f387aa42c1a",
       "version_major": 2,
       "version_minor": 0
      },
      "text/plain": [
       "FloatText(value=38.0, description='Min Lat:')"
      ]
     },
     "metadata": {},
     "output_type": "display_data"
    },
    {
     "data": {
      "application/vnd.jupyter.widget-view+json": {
       "model_id": "c3737d1cf89445309da172a9061df9de",
       "version_major": 2,
       "version_minor": 0
      },
      "text/plain": [
       "FloatText(value=41.0, description='Max Lat:')"
      ]
     },
     "metadata": {},
     "output_type": "display_data"
    },
    {
     "data": {
      "application/vnd.jupyter.widget-view+json": {
       "model_id": "15a524aa57f943b481ecadb47e58fdc7",
       "version_major": 2,
       "version_minor": 0
      },
      "text/plain": [
       "FloatText(value=-72.0, description='Min Lon:')"
      ]
     },
     "metadata": {},
     "output_type": "display_data"
    },
    {
     "data": {
      "application/vnd.jupyter.widget-view+json": {
       "model_id": "bd8ccf1dbae74e359db683726a361ac8",
       "version_major": 2,
       "version_minor": 0
      },
      "text/plain": [
       "FloatText(value=-69.0, description='Max Lon:')"
      ]
     },
     "metadata": {},
     "output_type": "display_data"
    },
    {
     "data": {
      "application/vnd.jupyter.widget-view+json": {
       "model_id": "ea399d42f5ff4a039aa359ac2231765a",
       "version_major": 2,
       "version_minor": 0
      },
      "text/plain": [
       "Text(value='2010-07-10', description='Start Date:', placeholder='YYYY-MM-DD')"
      ]
     },
     "metadata": {},
     "output_type": "display_data"
    },
    {
     "data": {
      "application/vnd.jupyter.widget-view+json": {
       "model_id": "714f37515185411983df7a88af245e38",
       "version_major": 2,
       "version_minor": 0
      },
      "text/plain": [
       "Text(value='2010-08-10', description='End Date:', placeholder='YYYY-MM-DD')"
      ]
     },
     "metadata": {},
     "output_type": "display_data"
    }
   ],
   "source": [
    "from lc_widgets import boxClass\n",
    "box = boxClass()\n",
    "box.dispBox()\n",
    "%matplotlib inline"
   ]
  },
  {
   "cell_type": "code",
   "execution_count": 2,
   "metadata": {},
   "outputs": [
    {
     "data": {
      "application/vnd.jupyter.widget-view+json": {
       "model_id": "",
       "version_major": 2,
       "version_minor": 0
      },
      "text/plain": [
       "FloatProgress(value=1.0, bar_style='info', description='Loading:', max=26.0)"
      ]
     },
     "metadata": {},
     "output_type": "display_data"
    },
    {
     "name": "stdout",
     "output_type": "stream",
     "text": [
      "                                             griddap Subset tabledap  \\\n",
      "0  https://coastwatch.pfeg.noaa.gov/erddap/gridda...    NaN      NaN   \n",
      "1  https://coastwatch.pfeg.noaa.gov/erddap/gridda...    NaN      NaN   \n",
      "2  https://coastwatch.pfeg.noaa.gov/erddap/gridda...    NaN      NaN   \n",
      "3  https://coastwatch.pfeg.noaa.gov/erddap/gridda...    NaN      NaN   \n",
      "4  https://coastwatch.pfeg.noaa.gov/erddap/gridda...    NaN      NaN   \n",
      "\n",
      "                                        Make A Graph  \\\n",
      "0  https://coastwatch.pfeg.noaa.gov/erddap/gridda...   \n",
      "1  https://coastwatch.pfeg.noaa.gov/erddap/gridda...   \n",
      "2  https://coastwatch.pfeg.noaa.gov/erddap/gridda...   \n",
      "3  https://coastwatch.pfeg.noaa.gov/erddap/gridda...   \n",
      "4  https://coastwatch.pfeg.noaa.gov/erddap/gridda...   \n",
      "\n",
      "                                                 wms  \\\n",
      "0  https://coastwatch.pfeg.noaa.gov/erddap/wms/jp...   \n",
      "1  https://coastwatch.pfeg.noaa.gov/erddap/wms/nc...   \n",
      "2  https://coastwatch.pfeg.noaa.gov/erddap/wms/nc...   \n",
      "3  https://coastwatch.pfeg.noaa.gov/erddap/wms/jp...   \n",
      "4  https://coastwatch.pfeg.noaa.gov/erddap/wms/jp...   \n",
      "\n",
      "                                               files Accessible  \\\n",
      "0                                                NaN     public   \n",
      "1  https://coastwatch.pfeg.noaa.gov/erddap/files/...     public   \n",
      "2  https://coastwatch.pfeg.noaa.gov/erddap/files/...     public   \n",
      "3                                                NaN     public   \n",
      "4                                                NaN     public   \n",
      "\n",
      "                                               Title  \\\n",
      "0  AMSRE Model Output, obs4MIPs NASA-JPL, Global,...   \n",
      "1  AVHRR Pathfinder Version 5.3 L3-Collated (L3C)...   \n",
      "2  AVHRR Pathfinder Version 5.3 L3-Collated (L3C)...   \n",
      "3  AVISO Model Output, obs4MIPs NASA-JPL, Global,...   \n",
      "4  CCMP Winds, Atlas FLK v1.1 Derived Surface Win...   \n",
      "\n",
      "                                             Summary  \\\n",
      "0  This data set contains sea surface temperature...   \n",
      "1  Advanced Very High Resolution Radiometer (AVHR...   \n",
      "2  Advanced Very High Resolution Radiometer (AVHR...   \n",
      "3  This dataset contains absolute dynamic topogra...   \n",
      "4  This dataset is derived under the Cross-Calibr...   \n",
      "\n",
      "                                                FGDC  \\\n",
      "0  https://coastwatch.pfeg.noaa.gov/erddap/metada...   \n",
      "1  https://coastwatch.pfeg.noaa.gov/erddap/metada...   \n",
      "2  https://coastwatch.pfeg.noaa.gov/erddap/metada...   \n",
      "3  https://coastwatch.pfeg.noaa.gov/erddap/metada...   \n",
      "4  https://coastwatch.pfeg.noaa.gov/erddap/metada...   \n",
      "\n",
      "                                           ISO 19115  \\\n",
      "0  https://coastwatch.pfeg.noaa.gov/erddap/metada...   \n",
      "1  https://coastwatch.pfeg.noaa.gov/erddap/metada...   \n",
      "2  https://coastwatch.pfeg.noaa.gov/erddap/metada...   \n",
      "3  https://coastwatch.pfeg.noaa.gov/erddap/metada...   \n",
      "4  https://coastwatch.pfeg.noaa.gov/erddap/metada...   \n",
      "\n",
      "                                                Info  \\\n",
      "0  https://coastwatch.pfeg.noaa.gov/erddap/info/j...   \n",
      "1  https://coastwatch.pfeg.noaa.gov/erddap/info/n...   \n",
      "2  https://coastwatch.pfeg.noaa.gov/erddap/info/n...   \n",
      "3  https://coastwatch.pfeg.noaa.gov/erddap/info/j...   \n",
      "4  https://coastwatch.pfeg.noaa.gov/erddap/info/j...   \n",
      "\n",
      "                                     Background Info  \\\n",
      "0  https://podaac.jpl.nasa.gov/dataset/AMSRE_L3_S...   \n",
      "1  https://data.nodc.noaa.gov/cgi-bin/iso?id=gov....   \n",
      "2  https://data.nodc.noaa.gov/cgi-bin/iso?id=gov....   \n",
      "3  https://podaac.jpl.nasa.gov/dataset/AVISO_L4_D...   \n",
      "4  https://podaac.jpl.nasa.gov/dataset/CCMP_MEASU...   \n",
      "\n",
      "                                                 RSS  \\\n",
      "0  http://coastwatch.pfeg.noaa.gov/erddap/rss/jpl...   \n",
      "1  http://coastwatch.pfeg.noaa.gov/erddap/rss/nce...   \n",
      "2  http://coastwatch.pfeg.noaa.gov/erddap/rss/nce...   \n",
      "3  http://coastwatch.pfeg.noaa.gov/erddap/rss/jpl...   \n",
      "4  http://coastwatch.pfeg.noaa.gov/erddap/rss/jpl...   \n",
      "\n",
      "                                               Email  \\\n",
      "0  https://coastwatch.pfeg.noaa.gov/erddap/subscr...   \n",
      "1  https://coastwatch.pfeg.noaa.gov/erddap/subscr...   \n",
      "2  https://coastwatch.pfeg.noaa.gov/erddap/subscr...   \n",
      "3  https://coastwatch.pfeg.noaa.gov/erddap/subscr...   \n",
      "4  https://coastwatch.pfeg.noaa.gov/erddap/subscr...   \n",
      "\n",
      "                          Institution                     Dataset ID  \n",
      "0              Remote Sensing Systems        jplAmsreSstMon_LonPM180  \n",
      "1                                NCEI               nceiPH53sstd1day  \n",
      "2                                NCEI               nceiPH53sstn1day  \n",
      "3  Centre National d'Etudes Spatiales        jplAvisoSshMon_LonPM180  \n",
      "4                     NASA/GSFC, NOAA  jplCcmpL3Wind6Hourly_LonPM180  \n",
      "['erdGtsppBest', 'erdGodaeSfcobs', 'cwwcNDBCMet', 'ndbcSosWTemp', 'ndbcSosWind', 'ndbcSosCurrents', 'ndbcSosSalinity', 'ndbcSosWLevel', 'nosSosATemp', 'nosSosBPres', 'nosSosWLevel', 'nosSosWTemp', 'nosSosCond', 'nosSosSalinity', 'neracoosSos']\n"
     ]
    },
    {
     "data": {
      "application/vnd.jupyter.widget-view+json": {
       "model_id": "",
       "version_major": 2,
       "version_minor": 0
      },
      "text/plain": [
       "FloatProgress(value=2.0, bar_style='info', description='Loading:', max=26.0)"
      ]
     },
     "metadata": {},
     "output_type": "display_data"
    },
    {
     "name": "stdout",
     "output_type": "stream",
     "text": [
      "                                             griddap  Subset  tabledap  \\\n",
      "0  https://apdrc.soest.hawaii.edu/erddap/griddap/...     NaN       NaN   \n",
      "1  https://apdrc.soest.hawaii.edu/erddap/griddap/...     NaN       NaN   \n",
      "2  https://apdrc.soest.hawaii.edu/erddap/griddap/...     NaN       NaN   \n",
      "3  https://apdrc.soest.hawaii.edu/erddap/griddap/...     NaN       NaN   \n",
      "4  https://apdrc.soest.hawaii.edu/erddap/griddap/...     NaN       NaN   \n",
      "\n",
      "                                        Make A Graph  \\\n",
      "0  https://apdrc.soest.hawaii.edu/erddap/griddap/...   \n",
      "1  https://apdrc.soest.hawaii.edu/erddap/griddap/...   \n",
      "2  https://apdrc.soest.hawaii.edu/erddap/griddap/...   \n",
      "3  https://apdrc.soest.hawaii.edu/erddap/griddap/...   \n",
      "4  https://apdrc.soest.hawaii.edu/erddap/griddap/...   \n",
      "\n",
      "                                                 wms  files Accessible  \\\n",
      "0  https://apdrc.soest.hawaii.edu/erddap/wms/hawa...    NaN     public   \n",
      "1  https://apdrc.soest.hawaii.edu/erddap/wms/hawa...    NaN     public   \n",
      "2                                                NaN    NaN     public   \n",
      "3  https://apdrc.soest.hawaii.edu/erddap/wms/hawa...    NaN     public   \n",
      "4                                                NaN    NaN     public   \n",
      "\n",
      "                                               Title  \\\n",
      "0  dask14, DASK1.4 ts [time][depth][latitude][lon...   \n",
      "1     dask14, DASK1.4 ts [time][latitude][longitude]   \n",
      "2  dask14, DASK1.4 uv [time][depth][latitude][lon...   \n",
      "3     dask14, DASK1.4 uv [time][latitude][longitude]   \n",
      "4                                 dask14, DASK1.4 wt   \n",
      "\n",
      "                                             Summary  \\\n",
      "0  dask14, DASK1.4 ts\\n\\ncdm_data_type = Grid\\nVA...   \n",
      "1  dask14, DASK1.4 ts\\n\\ncdm_data_type = Grid\\nVA...   \n",
      "2  dask14, DASK1.4 uv\\n\\ncdm_data_type = Grid\\nVA...   \n",
      "3  dask14, DASK1.4 uv\\n\\ncdm_data_type = Grid\\nVA...   \n",
      "4  dask14, DASK1.4 wt\\n\\ncdm_data_type = Grid\\nVA...   \n",
      "\n",
      "                                                FGDC  \\\n",
      "0  https://apdrc.soest.hawaii.edu/erddap/metadata...   \n",
      "1  https://apdrc.soest.hawaii.edu/erddap/metadata...   \n",
      "2  https://apdrc.soest.hawaii.edu/erddap/metadata...   \n",
      "3  https://apdrc.soest.hawaii.edu/erddap/metadata...   \n",
      "4  https://apdrc.soest.hawaii.edu/erddap/metadata...   \n",
      "\n",
      "                                           ISO 19115  \\\n",
      "0  https://apdrc.soest.hawaii.edu/erddap/metadata...   \n",
      "1  https://apdrc.soest.hawaii.edu/erddap/metadata...   \n",
      "2  https://apdrc.soest.hawaii.edu/erddap/metadata...   \n",
      "3  https://apdrc.soest.hawaii.edu/erddap/metadata...   \n",
      "4  https://apdrc.soest.hawaii.edu/erddap/metadata...   \n",
      "\n",
      "                                                Info  \\\n",
      "0  https://apdrc.soest.hawaii.edu/erddap/info/haw...   \n",
      "1  https://apdrc.soest.hawaii.edu/erddap/info/haw...   \n",
      "2  https://apdrc.soest.hawaii.edu/erddap/info/haw...   \n",
      "3  https://apdrc.soest.hawaii.edu/erddap/info/haw...   \n",
      "4  https://apdrc.soest.hawaii.edu/erddap/info/haw...   \n",
      "\n",
      "                                     Background Info  \\\n",
      "0  http://apdrc.soest.hawaii.edu/thredds/dodsC/la...   \n",
      "1  http://apdrc.soest.hawaii.edu/thredds/dodsC/la...   \n",
      "2  http://apdrc.soest.hawaii.edu/thredds/dodsC/la...   \n",
      "3  http://apdrc.soest.hawaii.edu/thredds/dodsC/la...   \n",
      "4  http://apdrc.soest.hawaii.edu/thredds/dodsC/la...   \n",
      "\n",
      "                                                 RSS  \\\n",
      "0  http://apdrc.soest.hawaii.edu/erddap/rss/hawai...   \n",
      "1  http://apdrc.soest.hawaii.edu/erddap/rss/hawai...   \n",
      "2  http://apdrc.soest.hawaii.edu/erddap/rss/hawai...   \n",
      "3  http://apdrc.soest.hawaii.edu/erddap/rss/hawai...   \n",
      "4  http://apdrc.soest.hawaii.edu/erddap/rss/hawai...   \n",
      "\n",
      "                                               Email Institution  \\\n",
      "0  https://apdrc.soest.hawaii.edu/erddap/subscrip...       APDRC   \n",
      "1  https://apdrc.soest.hawaii.edu/erddap/subscrip...       APDRC   \n",
      "2  https://apdrc.soest.hawaii.edu/erddap/subscrip...       APDRC   \n",
      "3  https://apdrc.soest.hawaii.edu/erddap/subscrip...       APDRC   \n",
      "4  https://apdrc.soest.hawaii.edu/erddap/subscrip...       APDRC   \n",
      "\n",
      "                    Dataset ID  \n",
      "0  hawaii_soest_d2e7_eed1_96fc  \n",
      "1  hawaii_soest_b8f8_bef8_c88a  \n",
      "2  hawaii_soest_f094_859a_1a32  \n",
      "3  hawaii_soest_68af_62e0_1676  \n",
      "4  hawaii_soest_a80d_dd43_b169  \n"
     ]
    },
    {
     "data": {
      "application/vnd.jupyter.widget-view+json": {
       "model_id": "",
       "version_major": 2,
       "version_minor": 0
      },
      "text/plain": [
       "FloatProgress(value=3.0, bar_style='info', description='Loading:', max=26.0)"
      ]
     },
     "metadata": {},
     "output_type": "display_data"
    },
    {
     "data": {
      "application/vnd.jupyter.widget-view+json": {
       "model_id": "",
       "version_major": 2,
       "version_minor": 0
      },
      "text/plain": [
       "FloatProgress(value=4.0, bar_style='info', description='Loading:', max=26.0)"
      ]
     },
     "metadata": {},
     "output_type": "display_data"
    },
    {
     "name": "stdout",
     "output_type": "stream",
     "text": [
      "   griddap                                             Subset  \\\n",
      "0      NaN  https://erddap.emodnet-physics.eu/erddap/table...   \n",
      "1      NaN  https://erddap.emodnet-physics.eu/erddap/table...   \n",
      "2      NaN  https://erddap.emodnet-physics.eu/erddap/table...   \n",
      "3      NaN  https://erddap.emodnet-physics.eu/erddap/table...   \n",
      "4      NaN  https://erddap.emodnet-physics.eu/erddap/table...   \n",
      "\n",
      "                                            tabledap  \\\n",
      "0  https://erddap.emodnet-physics.eu/erddap/table...   \n",
      "1  https://erddap.emodnet-physics.eu/erddap/table...   \n",
      "2  https://erddap.emodnet-physics.eu/erddap/table...   \n",
      "3  https://erddap.emodnet-physics.eu/erddap/table...   \n",
      "4  https://erddap.emodnet-physics.eu/erddap/table...   \n",
      "\n",
      "                                        Make A Graph  wms files Accessible  \\\n",
      "0  https://erddap.emodnet-physics.eu/erddap/table...  NaN   NaN     public   \n",
      "1  https://erddap.emodnet-physics.eu/erddap/table...  NaN   NaN     public   \n",
      "2  https://erddap.emodnet-physics.eu/erddap/table...  NaN   NaN     public   \n",
      "3  https://erddap.emodnet-physics.eu/erddap/table...  NaN   NaN     public   \n",
      "4  https://erddap.emodnet-physics.eu/erddap/table...  NaN   NaN     public   \n",
      "\n",
      "                                               Title  \\\n",
      "0      air temperature in dry bulb (DRYT) TimeSeries   \n",
      "1  atmospheric pressure at altitude (ATMP) TimeSe...   \n",
      "2  atmospheric pressure hourly tendency (ATPT) Ti...   \n",
      "3  Average zero crossing wave period (Tz) (VTZA) ...   \n",
      "4     bottom-top current component (VCSP) TimeSeries   \n",
      "\n",
      "                                             Summary  \\\n",
      "0  air temperature in dry bulb (DRYT) TimeSeries....   \n",
      "1  atmospheric pressure at altitude (ATMP) TimeSe...   \n",
      "2  atmospheric pressure hourly tendency (ATPT) Ti...   \n",
      "3  Average zero crossing wave period (Tz) (VTZA) ...   \n",
      "4  bottom-top current component (VCSP) TimeSeries...   \n",
      "\n",
      "                                                FGDC  \\\n",
      "0  https://erddap.emodnet-physics.eu/erddap/metad...   \n",
      "1  https://erddap.emodnet-physics.eu/erddap/metad...   \n",
      "2  https://erddap.emodnet-physics.eu/erddap/metad...   \n",
      "3  https://erddap.emodnet-physics.eu/erddap/metad...   \n",
      "4  https://erddap.emodnet-physics.eu/erddap/metad...   \n",
      "\n",
      "                                           ISO 19115  \\\n",
      "0  https://erddap.emodnet-physics.eu/erddap/metad...   \n",
      "1  https://erddap.emodnet-physics.eu/erddap/metad...   \n",
      "2  https://erddap.emodnet-physics.eu/erddap/metad...   \n",
      "3  https://erddap.emodnet-physics.eu/erddap/metad...   \n",
      "4  https://erddap.emodnet-physics.eu/erddap/metad...   \n",
      "\n",
      "                                                Info  \\\n",
      "0  https://erddap.emodnet-physics.eu/erddap/info/...   \n",
      "1  https://erddap.emodnet-physics.eu/erddap/info/...   \n",
      "2  https://erddap.emodnet-physics.eu/erddap/info/...   \n",
      "3  https://erddap.emodnet-physics.eu/erddap/info/...   \n",
      "4  https://erddap.emodnet-physics.eu/erddap/info/...   \n",
      "\n",
      "                 Background Info  \\\n",
      "0  http://www.emodnet-physics.eu   \n",
      "1  http://www.emodnet-physics.eu   \n",
      "2  http://www.emodnet-physics.eu   \n",
      "3  http://www.emodnet-physics.eu   \n",
      "4  http://www.emodnet-physics.eu   \n",
      "\n",
      "                                                 RSS  \\\n",
      "0  https://erddap.emodnet-physics.eu/erddap/rss/E...   \n",
      "1  https://erddap.emodnet-physics.eu/erddap/rss/E...   \n",
      "2  https://erddap.emodnet-physics.eu/erddap/rss/E...   \n",
      "3  https://erddap.emodnet-physics.eu/erddap/rss/E...   \n",
      "4  https://erddap.emodnet-physics.eu/erddap/rss/E...   \n",
      "\n",
      "                                               Email      Institution  \\\n",
      "0  https://erddap.emodnet-physics.eu/erddap/subsc...  EMODnet Physics   \n",
      "1  https://erddap.emodnet-physics.eu/erddap/subsc...  EMODnet Physics   \n",
      "2  https://erddap.emodnet-physics.eu/erddap/subsc...  EMODnet Physics   \n",
      "3  https://erddap.emodnet-physics.eu/erddap/subsc...  EMODnet Physics   \n",
      "4  https://erddap.emodnet-physics.eu/erddap/subsc...  EMODnet Physics   \n",
      "\n",
      "          Dataset ID  \n",
      "0  EP_INSITU_DRYT_TS  \n",
      "1  EP_INSITU_ATMP_TS  \n",
      "2  EP_INSITU_ATPT_TS  \n",
      "3  EP_INSITU_VTZA_TS  \n",
      "4  EP_INSITU_VCSP_TS  \n",
      "['EP_INSITU_DRYT_TS', 'EP_INSITU_ATMP_TS', 'EP_INSITU_ATPT_TS', 'EP_INSITU_VTZA_TS', 'EP_INSITU_VCSP_TS', 'EP_INSITU_FLU2_TS', 'EP_INSITU_HCDT_TS', 'EP_INSITU_DEWT_TS', 'EP_INSITU_UDOX_PR', 'EP_INSITU_DOX1_PR', 'EP_INSITU_DOX2_PR', 'EP_INSITU_DOX2_TS', 'EP_INSITU_DOXY_TS', 'EP_INSITU_CHLT_PR', 'EP_INSITU_CNDC_PR', 'EP_INSITU_CNDC_TS', 'EP_INSITU_GSPD_TS', 'EP_INSITU_ALTS_TS', 'EP_INSITU_HCSP_TS', 'EP_INSITU_WSPD_TS', 'EP_INSITU_PRRT_TS', 'EP_INSITU_VZMX_TS', 'MEOP', 'EP_INSITU_OSAT_TS', 'EP_INSITU_PHPH_TS', 'EP_INSITU_PSAL_PR', 'EP_INSITU_PSAL_TS', 'EP_INSITU_PSAL_TR', 'EP_INSITU_RELH_TS', 'EP_INSITU_TEMP_PR', 'EP_INSITU_TEMP_TR', 'EP_INSITU_TEMP_DOXY_PR', 'EP_INSITU_TEMP_DOXY_TS', 'EP_INSITU_VTDH_TS', 'EP_INSITU_NSCT_TS', 'EP_INSITU_SWHT_TS', 'EP_INSITU_SWPR_TS', 'EP_INSITU_CPHL_PR', 'EP_INSITU_TUR4_PR', 'EP_INSITU_TUR4_TS', 'EP_INSITU_SLEV_TS', 'EP_INSITU_VDIR_TS', 'EP_INSITU_EWCT_TS', 'EP_INSITU_WDIR_TS']\n"
     ]
    },
    {
     "data": {
      "application/vnd.jupyter.widget-view+json": {
       "model_id": "",
       "version_major": 2,
       "version_minor": 0
      },
      "text/plain": [
       "FloatProgress(value=5.0, bar_style='info', description='Loading:', max=26.0)"
      ]
     },
     "metadata": {},
     "output_type": "display_data"
    },
    {
     "data": {
      "application/vnd.jupyter.widget-view+json": {
       "model_id": "",
       "version_major": 2,
       "version_minor": 0
      },
      "text/plain": [
       "FloatProgress(value=6.0, bar_style='info', description='Loading:', max=26.0)"
      ]
     },
     "metadata": {},
     "output_type": "display_data"
    },
    {
     "name": "stdout",
     "output_type": "stream",
     "text": [
      "                                             griddap  Subset  tabledap  \\\n",
      "0  https://cwcgom.aoml.noaa.gov/erddap/griddap/no...     NaN       NaN   \n",
      "1  https://cwcgom.aoml.noaa.gov/erddap/griddap/ao...     NaN       NaN   \n",
      "2  https://cwcgom.aoml.noaa.gov/erddap/griddap/ao...     NaN       NaN   \n",
      "3  https://cwcgom.aoml.noaa.gov/erddap/griddap/no...     NaN       NaN   \n",
      "4  https://cwcgom.aoml.noaa.gov/erddap/griddap/no...     NaN       NaN   \n",
      "\n",
      "                                        Make A Graph  \\\n",
      "0  https://cwcgom.aoml.noaa.gov/erddap/griddap/no...   \n",
      "1  https://cwcgom.aoml.noaa.gov/erddap/griddap/ao...   \n",
      "2  https://cwcgom.aoml.noaa.gov/erddap/griddap/ao...   \n",
      "3  https://cwcgom.aoml.noaa.gov/erddap/griddap/no...   \n",
      "4  https://cwcgom.aoml.noaa.gov/erddap/griddap/no...   \n",
      "\n",
      "                                                 wms  files  \\\n",
      "0  https://cwcgom.aoml.noaa.gov/erddap/wms/noaa_a...    NaN   \n",
      "1  https://cwcgom.aoml.noaa.gov/erddap/wms/aomlca...    NaN   \n",
      "2  https://cwcgom.aoml.noaa.gov/erddap/wms/aomlca...    NaN   \n",
      "3  https://cwcgom.aoml.noaa.gov/erddap/wms/noaa_a...    NaN   \n",
      "4  https://cwcgom.aoml.noaa.gov/erddap/wms/noaa_a...    NaN   \n",
      "\n",
      "                                              Title  \\\n",
      "0        CoastWatch SST Blended Analysis NIGHT ONLY   \n",
      "1   EXPERIMENTAL. AOML Monthly Global Carbon Fluxes   \n",
      "2  EXPERIMENTAL. AOML SEASONAL Global Carbon Fluxes   \n",
      "3                  Global Seascapes 8DAY: Prototype   \n",
      "4                       Global Seascapes: Prototype   \n",
      "\n",
      "                                             Summary  \\\n",
      "0  United States Department of Commerce (USDOC)/N...   \n",
      "1  Experimental Global Carbon Fluxes\\n\\ncdm_data_...   \n",
      "2  Experimental SEASONAL Global Carbon Fluxes\\n\\n...   \n",
      "3  Biogeographic framework. Space and time classi...   \n",
      "4  Biogeographic framework. Space and time classi...   \n",
      "\n",
      "                                                FGDC  \\\n",
      "0  https://cwcgom.aoml.noaa.gov/erddap/metadata/f...   \n",
      "1  https://cwcgom.aoml.noaa.gov/erddap/metadata/f...   \n",
      "2  https://cwcgom.aoml.noaa.gov/erddap/metadata/f...   \n",
      "3  https://cwcgom.aoml.noaa.gov/erddap/metadata/f...   \n",
      "4  https://cwcgom.aoml.noaa.gov/erddap/metadata/f...   \n",
      "\n",
      "                                           ISO 19115  \\\n",
      "0  https://cwcgom.aoml.noaa.gov/erddap/metadata/i...   \n",
      "1  https://cwcgom.aoml.noaa.gov/erddap/metadata/i...   \n",
      "2  https://cwcgom.aoml.noaa.gov/erddap/metadata/i...   \n",
      "3  https://cwcgom.aoml.noaa.gov/erddap/metadata/i...   \n",
      "4  https://cwcgom.aoml.noaa.gov/erddap/metadata/i...   \n",
      "\n",
      "                                                Info  \\\n",
      "0  https://cwcgom.aoml.noaa.gov/erddap/info/noaa_...   \n",
      "1  https://cwcgom.aoml.noaa.gov/erddap/info/aomlc...   \n",
      "2  https://cwcgom.aoml.noaa.gov/erddap/info/aomlc...   \n",
      "3  https://cwcgom.aoml.noaa.gov/erddap/info/noaa_...   \n",
      "4  https://cwcgom.aoml.noaa.gov/erddap/info/noaa_...   \n",
      "\n",
      "                                     Background Info  \\\n",
      "0  https://cwcgom.aoml.noaa.gov/thredds/dodsC/CW_...   \n",
      "1         http://www.aoml.noaa.gov/ocd/gcc/index.php   \n",
      "2         http://www.aoml.noaa.gov/ocd/gcc/index.php   \n",
      "3  https://cwcgom.aoml.noaa.gov/thredds/dodsC/SEA...   \n",
      "4  https://cwcgom.aoml.noaa.gov/thredds/dodsC/SEA...   \n",
      "\n",
      "                                                 RSS  \\\n",
      "0  http://cwcgom.aoml.noaa.gov:8080/erddap/rss/no...   \n",
      "1  http://cwcgom.aoml.noaa.gov:8080/erddap/rss/ao...   \n",
      "2  http://cwcgom.aoml.noaa.gov:8080/erddap/rss/ao...   \n",
      "3  http://cwcgom.aoml.noaa.gov:8080/erddap/rss/no...   \n",
      "4  http://cwcgom.aoml.noaa.gov:8080/erddap/rss/no...   \n",
      "\n",
      "                                               Email  \\\n",
      "0  https://cwcgom.aoml.noaa.gov/erddap/subscripti...   \n",
      "1  https://cwcgom.aoml.noaa.gov/erddap/subscripti...   \n",
      "2  https://cwcgom.aoml.noaa.gov/erddap/subscripti...   \n",
      "3  https://cwcgom.aoml.noaa.gov/erddap/subscripti...   \n",
      "4  https://cwcgom.aoml.noaa.gov/erddap/subscripti...   \n",
      "\n",
      "                                       Institution                Dataset ID  \n",
      "0                                  NOAA CoastWatch  noaa_aoml_7041_a3e0_5c73  \n",
      "1                                    NOAA AOML OCD          aomlcarbonfluxes  \n",
      "2                                    NOAA AOML OCD   aomlcarbonfluxes_season  \n",
      "3  NOAA CoastWatch, OSU, USF, NASA, UAF, IOOS, NMS  noaa_aoml_seascapes_8day  \n",
      "4  NOAA CoastWatch, OSU, USF, NASA, UAF, IOOS, NMS  noaa_aoml_4729_9ee6_ab54  \n"
     ]
    },
    {
     "data": {
      "application/vnd.jupyter.widget-view+json": {
       "model_id": "",
       "version_major": 2,
       "version_minor": 0
      },
      "text/plain": [
       "FloatProgress(value=7.0, bar_style='info', description='Loading:', max=26.0)"
      ]
     },
     "metadata": {},
     "output_type": "display_data"
    },
    {
     "data": {
      "application/vnd.jupyter.widget-view+json": {
       "model_id": "",
       "version_major": 2,
       "version_minor": 0
      },
      "text/plain": [
       "FloatProgress(value=8.0, bar_style='info', description='Loading:', max=26.0)"
      ]
     },
     "metadata": {},
     "output_type": "display_data"
    },
    {
     "name": "stdout",
     "output_type": "stream",
     "text": [
      "                                             griddap  Subset  tabledap  \\\n",
      "0  http://erddap.axiomdatascience.com/erddap/grid...     NaN       NaN   \n",
      "\n",
      "                                        Make A Graph  \\\n",
      "0  http://erddap.axiomdatascience.com/erddap/grid...   \n",
      "\n",
      "                                                 wms  files  \\\n",
      "0  http://erddap.axiomdatascience.com/erddap/wms/...    NaN   \n",
      "\n",
      "                          Title  \\\n",
      "0  Daily MUR SST, Final product   \n",
      "\n",
      "                                             Summary  \\\n",
      "0  A merged, multi-sensor L4 Foundation SST analy...   \n",
      "\n",
      "                                                FGDC  \\\n",
      "0  http://erddap.axiomdatascience.com/erddap/meta...   \n",
      "\n",
      "                                           ISO 19115  \\\n",
      "0  http://erddap.axiomdatascience.com/erddap/meta...   \n",
      "\n",
      "                                                Info  \\\n",
      "0  http://erddap.axiomdatascience.com/erddap/info...   \n",
      "\n",
      "            Background Info  \\\n",
      "0  https://mur.jpl.nasa.gov   \n",
      "\n",
      "                                                 RSS  \\\n",
      "0  http://erddap.axiomdatascience.com/erddap/rss/...   \n",
      "\n",
      "                                               Email  \\\n",
      "0  http://erddap.axiomdatascience.com/erddap/subs...   \n",
      "\n",
      "                 Institution Dataset ID  \n",
      "0  Jet Propulsion Laboratory       MUR2  \n"
     ]
    },
    {
     "data": {
      "application/vnd.jupyter.widget-view+json": {
       "model_id": "",
       "version_major": 2,
       "version_minor": 0
      },
      "text/plain": [
       "FloatProgress(value=9.0, bar_style='info', description='Loading:', max=26.0)"
      ]
     },
     "metadata": {},
     "output_type": "display_data"
    },
    {
     "name": "stdout",
     "output_type": "stream",
     "text": [
      "   griddap                                             Subset  \\\n",
      "0      NaN  http://www.neracoos.org/erddap/tabledap/cwwcND...   \n",
      "1      NaN  http://www.neracoos.org/erddap/tabledap/UNH_WB...   \n",
      "\n",
      "                                            tabledap  \\\n",
      "0  http://www.neracoos.org/erddap/tabledap/cwwcND...   \n",
      "1    http://www.neracoos.org/erddap/tabledap/UNH_WBD   \n",
      "\n",
      "                                        Make A Graph  wms  files  \\\n",
      "0  http://www.neracoos.org/erddap/tabledap/cwwcND...  NaN    NaN   \n",
      "1  http://www.neracoos.org/erddap/tabledap/UNH_WB...  NaN    NaN   \n",
      "\n",
      "                                               Title  \\\n",
      "0  NDBC Standard Meteorological Buoy Data, 1970-p...   \n",
      "1                           UNH Appledore Island CO2   \n",
      "\n",
      "                                             Summary  \\\n",
      "0  The National Data Buoy Center (NDBC) distribut...   \n",
      "1  UNH Appledore Island CO2 Buoy2018. Ocean obser...   \n",
      "\n",
      "                                                FGDC  \\\n",
      "0  http://www.neracoos.org/erddap/metadata/fgdc/x...   \n",
      "1  http://www.neracoos.org/erddap/metadata/fgdc/x...   \n",
      "\n",
      "                                           ISO 19115  \\\n",
      "0  http://www.neracoos.org/erddap/metadata/iso191...   \n",
      "1  http://www.neracoos.org/erddap/metadata/iso191...   \n",
      "\n",
      "                                                Info  \\\n",
      "0  http://www.neracoos.org/erddap/info/cwwcNDBCMe...   \n",
      "1  http://www.neracoos.org/erddap/info/UNH_WBD/in...   \n",
      "\n",
      "              Background Info  \\\n",
      "0  https://www.ndbc.noaa.gov/   \n",
      "1    http://www.neracoos.org/   \n",
      "\n",
      "                                                 RSS  \\\n",
      "0  http://www.neracoos.org/erddap/rss/cwwcNDBCMet...   \n",
      "1     http://www.neracoos.org/erddap/rss/UNH_WBD.rss   \n",
      "\n",
      "                                         Institution   Dataset ID  \n",
      "0                     NOAA NDBC, NOAA NMFS SWFSC ERD  cwwcNDBCMet  \n",
      "1  Univ. of New Hampshire Ocean Process Analysis ...      UNH_WBD  \n",
      "['cwwcNDBCMet', 'UNH_WBD']\n"
     ]
    },
    {
     "data": {
      "application/vnd.jupyter.widget-view+json": {
       "model_id": "",
       "version_major": 2,
       "version_minor": 0
      },
      "text/plain": [
       "FloatProgress(value=10.0, bar_style='info', description='Loading:', max=26.0)"
      ]
     },
     "metadata": {},
     "output_type": "display_data"
    },
    {
     "data": {
      "application/vnd.jupyter.widget-view+json": {
       "model_id": "",
       "version_major": 2,
       "version_minor": 0
      },
      "text/plain": [
       "FloatProgress(value=11.0, bar_style='info', description='Loading:', max=26.0)"
      ]
     },
     "metadata": {},
     "output_type": "display_data"
    },
    {
     "name": "stdout",
     "output_type": "stream",
     "text": [
      "                                             griddap  Subset  tabledap  \\\n",
      "0  http://oos.soest.hawaii.edu/erddap/griddap/NOA...     NaN       NaN   \n",
      "\n",
      "                                        Make A Graph  \\\n",
      "0  http://oos.soest.hawaii.edu/erddap/griddap/NOA...   \n",
      "\n",
      "                                                 wms  files  \\\n",
      "0  http://oos.soest.hawaii.edu/erddap/wms/NOAA_DH...    NaN   \n",
      "\n",
      "                                               Title  \\\n",
      "0  NOAA Global Coral Bleaching Monitoring Product...   \n",
      "\n",
      "                                             Summary  \\\n",
      "0  Contains a suite of NOAA Coral Reef Watch (CRW...   \n",
      "\n",
      "                                                FGDC  \\\n",
      "0  http://oos.soest.hawaii.edu/erddap/metadata/fg...   \n",
      "\n",
      "                                           ISO 19115  \\\n",
      "0  http://oos.soest.hawaii.edu/erddap/metadata/is...   \n",
      "\n",
      "                                                Info  \\\n",
      "0  http://oos.soest.hawaii.edu/erddap/info/NOAA_D...   \n",
      "\n",
      "                             Background Info  \\\n",
      "0  http://coralreefwatch.noaa.gov/satellite/   \n",
      "\n",
      "                                                 RSS  \\\n",
      "0  http://oos.soest.hawaii.edu/erddap/rss/NOAA_DH...   \n",
      "\n",
      "                                               Email            Institution  \\\n",
      "0  http://oos.soest.hawaii.edu/erddap/subscriptio...  NOAA Coral Reef Watch   \n",
      "\n",
      "     Dataset ID  \n",
      "0  NOAA_DHW_5km  \n"
     ]
    },
    {
     "data": {
      "application/vnd.jupyter.widget-view+json": {
       "model_id": "",
       "version_major": 2,
       "version_minor": 0
      },
      "text/plain": [
       "FloatProgress(value=12.0, bar_style='info', description='Loading:', max=26.0)"
      ]
     },
     "metadata": {},
     "output_type": "display_data"
    },
    {
     "data": {
      "application/vnd.jupyter.widget-view+json": {
       "model_id": "",
       "version_major": 2,
       "version_minor": 0
      },
      "text/plain": [
       "FloatProgress(value=13.0, bar_style='info', description='Loading:', max=26.0)"
      ]
     },
     "metadata": {},
     "output_type": "display_data"
    },
    {
     "data": {
      "application/vnd.jupyter.widget-view+json": {
       "model_id": "",
       "version_major": 2,
       "version_minor": 0
      },
      "text/plain": [
       "FloatProgress(value=14.0, bar_style='info', description='Loading:', max=26.0)"
      ]
     },
     "metadata": {},
     "output_type": "display_data"
    },
    {
     "name": "stdout",
     "output_type": "stream",
     "text": [
      "                                             griddap  Subset  tabledap  \\\n",
      "0  https://ecowatch.ncddc.noaa.gov/erddap/griddap...     NaN       NaN   \n",
      "1  https://ecowatch.ncddc.noaa.gov/erddap/griddap...     NaN       NaN   \n",
      "\n",
      "                                        Make A Graph  wms  files  \\\n",
      "0  https://ecowatch.ncddc.noaa.gov/erddap/griddap...  NaN    NaN   \n",
      "1  https://ecowatch.ncddc.noaa.gov/erddap/griddap...  NaN    NaN   \n",
      "\n",
      "                                            Title  \\\n",
      "0  Navy Global NCOM for Region 01, 2D aggregation   \n",
      "1  Navy Global NCOM for Region 01, 3D aggregation   \n",
      "\n",
      "                                             Summary  \\\n",
      "0  Navy Global NCOM for Region 1, 2D field aggreg...   \n",
      "1  Navy Global NCOM for Region 1, 3-dimensional t...   \n",
      "\n",
      "                                                FGDC  \\\n",
      "0  https://ecowatch.ncddc.noaa.gov/erddap/metadat...   \n",
      "1  https://ecowatch.ncddc.noaa.gov/erddap/metadat...   \n",
      "\n",
      "                                           ISO 19115  \\\n",
      "0  https://ecowatch.ncddc.noaa.gov/erddap/metadat...   \n",
      "1  https://ecowatch.ncddc.noaa.gov/erddap/metadat...   \n",
      "\n",
      "                                                Info  \\\n",
      "0  https://ecowatch.ncddc.noaa.gov/erddap/info/NC...   \n",
      "1  https://ecowatch.ncddc.noaa.gov/erddap/info/NC...   \n",
      "\n",
      "                                     Background Info  \\\n",
      "0  /thredds/catalog/ncom/ncom_reg1_agg/catalog.ht...   \n",
      "1  /thredds/catalog/ncom/ncom_reg1_agg/catalog.ht...   \n",
      "\n",
      "                                                 RSS  \\\n",
      "0  https://ecowatch.ncddc.noaa.gov/erddap/rss/NCO...   \n",
      "1  https://ecowatch.ncddc.noaa.gov/erddap/rss/NCO...   \n",
      "\n",
      "                                Institution           Dataset ID  \n",
      "0  Naval Oceanographic Office via NOAA NCEI  NCOM_Region1_2D_agg  \n",
      "1  Naval Oceanographic Office via NOAA NCEI  NCOM_Region1_3D_agg  \n"
     ]
    },
    {
     "data": {
      "application/vnd.jupyter.widget-view+json": {
       "model_id": "",
       "version_major": 2,
       "version_minor": 0
      },
      "text/plain": [
       "FloatProgress(value=15.0, bar_style='info', description='Loading:', max=26.0)"
      ]
     },
     "metadata": {},
     "output_type": "display_data"
    },
    {
     "name": "stdout",
     "output_type": "stream",
     "text": [
      "   griddap                                             Subset  \\\n",
      "0      NaN  http://osmc.noaa.gov/erddap/tabledap/MEOP_prof...   \n",
      "\n",
      "                                            tabledap  \\\n",
      "0  http://osmc.noaa.gov/erddap/tabledap/MEOP_prof...   \n",
      "\n",
      "                                        Make A Graph  wms  files  \\\n",
      "0  http://osmc.noaa.gov/erddap/tabledap/MEOP_prof...  NaN    NaN   \n",
      "\n",
      "                  Title                                            Summary  \\\n",
      "0  meop animal profiles  meop animal profiles. meop data from a local s...   \n",
      "\n",
      "                                                FGDC  \\\n",
      "0  http://osmc.noaa.gov/erddap/metadata/fgdc/xml/...   \n",
      "\n",
      "                                           ISO 19115  \\\n",
      "0  http://osmc.noaa.gov/erddap/metadata/iso19115/...   \n",
      "\n",
      "                                                Info      Background Info  \\\n",
      "0  http://osmc.noaa.gov/erddap/info/MEOP_profiles...  http://www.meop.net   \n",
      "\n",
      "                                                 RSS  \\\n",
      "0  http://osmc.noaa.gov/erddap/rss/MEOP_profiles.rss   \n",
      "\n",
      "                                               Email Institution  \\\n",
      "0  http://osmc.noaa.gov/erddap/subscriptions/add....        meop   \n",
      "\n",
      "      Dataset ID  \n",
      "0  MEOP_profiles  \n",
      "['MEOP_profiles']\n"
     ]
    },
    {
     "data": {
      "application/vnd.jupyter.widget-view+json": {
       "model_id": "",
       "version_major": 2,
       "version_minor": 0
      },
      "text/plain": [
       "FloatProgress(value=16.0, bar_style='info', description='Loading:', max=26.0)"
      ]
     },
     "metadata": {},
     "output_type": "display_data"
    },
    {
     "data": {
      "application/vnd.jupyter.widget-view+json": {
       "model_id": "",
       "version_major": 2,
       "version_minor": 0
      },
      "text/plain": [
       "FloatProgress(value=17.0, bar_style='info', description='Loading:', max=26.0)"
      ]
     },
     "metadata": {},
     "output_type": "display_data"
    },
    {
     "data": {
      "application/vnd.jupyter.widget-view+json": {
       "model_id": "",
       "version_major": 2,
       "version_minor": 0
      },
      "text/plain": [
       "FloatProgress(value=18.0, bar_style='info', description='Loading:', max=26.0)"
      ]
     },
     "metadata": {},
     "output_type": "display_data"
    },
    {
     "data": {
      "application/vnd.jupyter.widget-view+json": {
       "model_id": "",
       "version_major": 2,
       "version_minor": 0
      },
      "text/plain": [
       "FloatProgress(value=19.0, bar_style='info', description='Loading:', max=26.0)"
      ]
     },
     "metadata": {},
     "output_type": "display_data"
    },
    {
     "name": "stdout",
     "output_type": "stream",
     "text": [
      "   griddap  Subset                                           tabledap  \\\n",
      "0      NaN     NaN  //members.oceantrack.org/erddap/tabledap/otn_a...   \n",
      "1      NaN     NaN  //members.oceantrack.org/erddap/tabledap/otn_a...   \n",
      "2      NaN     NaN  //members.oceantrack.org/erddap/tabledap/view_...   \n",
      "\n",
      "                                        Make A Graph  wms  files  \\\n",
      "0  //members.oceantrack.org/erddap/tabledap/otn_a...  NaN    NaN   \n",
      "1  //members.oceantrack.org/erddap/tabledap/otn_a...  NaN    NaN   \n",
      "2  //members.oceantrack.org/erddap/tabledap/view_...  NaN    NaN   \n",
      "\n",
      "                        Title  \\\n",
      "0                   Receivers   \n",
      "1                Tag Releases   \n",
      "2  View: Receiver information   \n",
      "\n",
      "                                             Summary  \\\n",
      "0  Receivers.¦¦cdm_data_type = Other¦VARIABLES:¦d...   \n",
      "1  Tag Releases.¦¦cdm_data_type = Other¦VARIABLES...   \n",
      "2  Tagged animal morphology and tag specification...   \n",
      "\n",
      "                                                FGDC  \\\n",
      "0  //members.oceantrack.org/erddap/metadata/fgdc/...   \n",
      "1  //members.oceantrack.org/erddap/metadata/fgdc/...   \n",
      "2  //members.oceantrack.org/erddap/metadata/fgdc/...   \n",
      "\n",
      "                                           ISO 19115  \\\n",
      "0  //members.oceantrack.org/erddap/metadata/iso19...   \n",
      "1  //members.oceantrack.org/erddap/metadata/iso19...   \n",
      "2  //members.oceantrack.org/erddap/metadata/iso19...   \n",
      "\n",
      "                                                Info  \\\n",
      "0  //members.oceantrack.org/erddap/info/otn_aat_r...   \n",
      "1  //members.oceantrack.org/erddap/info/otn_aat_t...   \n",
      "2  //members.oceantrack.org/erddap/info/view_otn_...   \n",
      "\n",
      "                    Background Info  \\\n",
      "0  http://oceantrackingnetwork.org/   \n",
      "1  http://oceantrackingnetwork.org/   \n",
      "2  http://oceantrackingnetwork.org/   \n",
      "\n",
      "                                                 RSS  \\\n",
      "0  //members.oceantrack.org/erddap/rss/otn_aat_re...   \n",
      "1  //members.oceantrack.org/erddap/rss/otn_aat_ta...   \n",
      "2  //members.oceantrack.org/erddap/rss/view_otn_a...   \n",
      "\n",
      "                                               Email             Institution  \\\n",
      "0  //members.oceantrack.org/erddap/subscriptions/...  Ocean Tracking Network   \n",
      "1  //members.oceantrack.org/erddap/subscriptions/...  Ocean Tracking Network   \n",
      "2  //members.oceantrack.org/erddap/subscriptions/...  Ocean Tracking Network   \n",
      "\n",
      "               Dataset ID  \n",
      "0       otn_aat_receivers  \n",
      "1    otn_aat_tag_releases  \n",
      "2  view_otn_aat_receivers  \n",
      "['otn_aat_receivers', 'otn_aat_tag_releases', 'view_otn_aat_receivers']\n"
     ]
    },
    {
     "data": {
      "application/vnd.jupyter.widget-view+json": {
       "model_id": "",
       "version_major": 2,
       "version_minor": 0
      },
      "text/plain": [
       "FloatProgress(value=20.0, bar_style='info', description='Loading:', max=26.0)"
      ]
     },
     "metadata": {},
     "output_type": "display_data"
    },
    {
     "data": {
      "application/vnd.jupyter.widget-view+json": {
       "model_id": "",
       "version_major": 2,
       "version_minor": 0
      },
      "text/plain": [
       "FloatProgress(value=21.0, bar_style='info', description='Loading:', max=26.0)"
      ]
     },
     "metadata": {},
     "output_type": "display_data"
    },
    {
     "name": "stdout",
     "output_type": "stream",
     "text": [
      "   griddap                                             Subset  \\\n",
      "0      NaN                                                NaN   \n",
      "1      NaN                                                NaN   \n",
      "2      NaN  http://tds.marine.rutgers.edu/erddap/tabledap/...   \n",
      "3      NaN  http://tds.marine.rutgers.edu/erddap/tabledap/...   \n",
      "4      NaN  http://tds.marine.rutgers.edu/erddap/tabledap/...   \n",
      "\n",
      "                                            tabledap  \\\n",
      "0  http://tds.marine.rutgers.edu/erddap/tabledap/...   \n",
      "1  http://tds.marine.rutgers.edu/erddap/tabledap/...   \n",
      "2  http://tds.marine.rutgers.edu/erddap/tabledap/...   \n",
      "3  http://tds.marine.rutgers.edu/erddap/tabledap/...   \n",
      "4  http://tds.marine.rutgers.edu/erddap/tabledap/...   \n",
      "\n",
      "                                        Make A Graph  wms  files  \\\n",
      "0  http://tds.marine.rutgers.edu/erddap/tabledap/...  NaN    NaN   \n",
      "1  http://tds.marine.rutgers.edu/erddap/tabledap/...  NaN    NaN   \n",
      "2  http://tds.marine.rutgers.edu/erddap/tabledap/...  NaN    NaN   \n",
      "3  http://tds.marine.rutgers.edu/erddap/tabledap/...  NaN    NaN   \n",
      "4  http://tds.marine.rutgers.edu/erddap/tabledap/...  NaN    NaN   \n",
      "\n",
      "                                           Title  \\\n",
      "0        Environmental Monitors on Lobster Traps   \n",
      "1         NEFSC Archived and processed CTD casts   \n",
      "2  Observations used in Doppio Data Assimilation   \n",
      "3      ROMS DOPPIO Forcing file - Discharge Data   \n",
      "4    SAMOS Thermosalinograph data, DOPPIO DOMAIN   \n",
      "\n",
      "                                             Summary  \\\n",
      "0  This is a collection of hourly bottom temperat...   \n",
      "1  NEFSC Archived and processed CTD casts\\n\\ncdm_...   \n",
      "2  Observations used in Doppio Data Assimilation\\...   \n",
      "3  Discharge data used for ROMS forcing\\n\\ncdm_da...   \n",
      "4  DATA from the SAMOS dataset.\\n\\ncdm_data_type ...   \n",
      "\n",
      "                                                FGDC  \\\n",
      "0  http://tds.marine.rutgers.edu/erddap/metadata/...   \n",
      "1  http://tds.marine.rutgers.edu/erddap/metadata/...   \n",
      "2  http://tds.marine.rutgers.edu/erddap/metadata/...   \n",
      "3  http://tds.marine.rutgers.edu/erddap/metadata/...   \n",
      "4  http://tds.marine.rutgers.edu/erddap/metadata/...   \n",
      "\n",
      "                                           ISO 19115  \\\n",
      "0  http://tds.marine.rutgers.edu/erddap/metadata/...   \n",
      "1  http://tds.marine.rutgers.edu/erddap/metadata/...   \n",
      "2  http://tds.marine.rutgers.edu/erddap/metadata/...   \n",
      "3  http://tds.marine.rutgers.edu/erddap/metadata/...   \n",
      "4  http://tds.marine.rutgers.edu/erddap/metadata/...   \n",
      "\n",
      "                                                Info  \\\n",
      "0  http://tds.marine.rutgers.edu/erddap/info/nefs...   \n",
      "1  http://tds.marine.rutgers.edu/erddap/info/NEFS...   \n",
      "2  http://tds.marine.rutgers.edu/erddap/info/DOPP...   \n",
      "3  http://tds.marine.rutgers.edu/erddap/info/ROMS...   \n",
      "4  http://tds.marine.rutgers.edu/erddap/info/SAMO...   \n",
      "\n",
      "                  Background Info  \\\n",
      "0                http://emolt.org   \n",
      "1              marine.rutgers.edu   \n",
      "2          http://www.myroms.org/   \n",
      "3  http://waterdata.usgs.gov/nwis   \n",
      "4    SAMOS Thermosalinograph data   \n",
      "\n",
      "                                                 RSS  \\\n",
      "0  http://tds.marine.rutgers.edu/erddap/rss/nefsc...   \n",
      "1  http://tds.marine.rutgers.edu/erddap/rss/NEFSC...   \n",
      "2  http://tds.marine.rutgers.edu/erddap/rss/DOPPI...   \n",
      "3  http://tds.marine.rutgers.edu/erddap/rss/ROMS_...   \n",
      "4  http://tds.marine.rutgers.edu/erddap/rss/SAMOS...   \n",
      "\n",
      "                                         Institution  \\\n",
      "0            NOAA Northeast Fisheries Science Center   \n",
      "1                                 Rutgers UNiversity   \n",
      "2                                 Rutgers University   \n",
      "3  Institute for Marine and Coastal Sciences, Rut...   \n",
      "4  Department of Marine And Coastal Sciences, Rut...   \n",
      "\n",
      "                     Dataset ID  \n",
      "0        nefsc_emolt_data_local  \n",
      "1  NEFSC_PROCESSED_CTD_CASTS_QC  \n",
      "2         DOPPIO_REANALYSIS_OBS  \n",
      "3         ROMS_DOPPIO_DISCHARGE  \n",
      "4         SAMOS_TSG_DATA_DOPPIO  \n",
      "['nefsc_emolt_data_local', 'NEFSC_PROCESSED_CTD_CASTS_QC', 'DOPPIO_REANALYSIS_OBS', 'ROMS_DOPPIO_DISCHARGE', 'SAMOS_TSG_DATA_DOPPIO', 'nefsc_study_fleet_data_local', 'nefsc_turtle_data_local']\n"
     ]
    },
    {
     "data": {
      "application/vnd.jupyter.widget-view+json": {
       "model_id": "",
       "version_major": 2,
       "version_minor": 0
      },
      "text/plain": [
       "FloatProgress(value=22.0, bar_style='info', description='Loading:', max=26.0)"
      ]
     },
     "metadata": {},
     "output_type": "display_data"
    },
    {
     "data": {
      "application/vnd.jupyter.widget-view+json": {
       "model_id": "",
       "version_major": 2,
       "version_minor": 0
      },
      "text/plain": [
       "FloatProgress(value=23.0, bar_style='info', description='Loading:', max=26.0)"
      ]
     },
     "metadata": {},
     "output_type": "display_data"
    },
    {
     "name": "stdout",
     "output_type": "stream",
     "text": [
      "   griddap                                             Subset  \\\n",
      "0      NaN  https://spraydata.ucsd.edu/erddap/tabledap/bin...   \n",
      "\n",
      "                                            tabledap  \\\n",
      "0  https://spraydata.ucsd.edu/erddap/tabledap/bin...   \n",
      "\n",
      "                                        Make A Graph  wms  \\\n",
      "0  https://spraydata.ucsd.edu/erddap/tabledap/bin...  NaN   \n",
      "\n",
      "                                               files  \\\n",
      "0  https://spraydata.ucsd.edu/erddap/files/binnedGS/   \n",
      "\n",
      "                        Title  \\\n",
      "0  Gliders in the Gulf Stream   \n",
      "\n",
      "                                             Summary  \\\n",
      "0  The overarching goal of this project is to col...   \n",
      "\n",
      "                                                FGDC  \\\n",
      "0  https://spraydata.ucsd.edu/erddap/metadata/fgd...   \n",
      "\n",
      "                                           ISO 19115  \\\n",
      "0  https://spraydata.ucsd.edu/erddap/metadata/iso...   \n",
      "\n",
      "                                                Info  \\\n",
      "0  https://spraydata.ucsd.edu/erddap/info/binnedG...   \n",
      "\n",
      "                          Background Info  \\\n",
      "0  https://spraydata.ucsd.edu/projects/GS   \n",
      "\n",
      "                                                 RSS  \\\n",
      "0  https://spraydata.ucsd.edu/erddap/rss/binnedGS...   \n",
      "\n",
      "                                               Email  \\\n",
      "0  https://spraydata.ucsd.edu/erddap/subscription...   \n",
      "\n",
      "                                     Institution Dataset ID  \n",
      "0  University of California - San Diego; Scripps   binnedGS  \n",
      "['binnedGS']\n"
     ]
    },
    {
     "data": {
      "application/vnd.jupyter.widget-view+json": {
       "model_id": "",
       "version_major": 2,
       "version_minor": 0
      },
      "text/plain": [
       "FloatProgress(value=24.0, bar_style='info', description='Loading:', max=26.0)"
      ]
     },
     "metadata": {},
     "output_type": "display_data"
    },
    {
     "data": {
      "application/vnd.jupyter.widget-view+json": {
       "model_id": "",
       "version_major": 2,
       "version_minor": 0
      },
      "text/plain": [
       "FloatProgress(value=25.0, bar_style='info', description='Loading:', max=26.0)"
      ]
     },
     "metadata": {},
     "output_type": "display_data"
    },
    {
     "data": {
      "application/vnd.jupyter.widget-view+json": {
       "model_id": "",
       "version_major": 2,
       "version_minor": 0
      },
      "text/plain": [
       "FloatProgress(value=26.0, bar_style='info', description='Loading:', max=26.0)"
      ]
     },
     "metadata": {},
     "output_type": "display_data"
    },
    {
     "name": "stdout",
     "output_type": "stream",
     "text": [
      "                                             griddap Subset tabledap  \\\n",
      "0  https://upwell.pfeg.noaa.gov/erddap/griddap/jp...    NaN      NaN   \n",
      "1  https://upwell.pfeg.noaa.gov/erddap/griddap/na...    NaN      NaN   \n",
      "2  https://upwell.pfeg.noaa.gov/erddap/griddap/no...    NaN      NaN   \n",
      "3  https://upwell.pfeg.noaa.gov/erddap/griddap/no...    NaN      NaN   \n",
      "4  https://upwell.pfeg.noaa.gov/erddap/griddap/no...    NaN      NaN   \n",
      "\n",
      "                                        Make A Graph  \\\n",
      "0  https://upwell.pfeg.noaa.gov/erddap/griddap/jp...   \n",
      "1  https://upwell.pfeg.noaa.gov/erddap/griddap/na...   \n",
      "2  https://upwell.pfeg.noaa.gov/erddap/griddap/no...   \n",
      "3  https://upwell.pfeg.noaa.gov/erddap/griddap/no...   \n",
      "4  https://upwell.pfeg.noaa.gov/erddap/griddap/no...   \n",
      "\n",
      "                                                 wms  files Accessible  \\\n",
      "0  https://upwell.pfeg.noaa.gov/erddap/wms/jplAms...    NaN     public   \n",
      "1  https://upwell.pfeg.noaa.gov/erddap/wms/nasa_j...    NaN     public   \n",
      "2  https://upwell.pfeg.noaa.gov/erddap/wms/noaa_n...    NaN     public   \n",
      "3  https://upwell.pfeg.noaa.gov/erddap/wms/noaa_n...    NaN     public   \n",
      "4  https://upwell.pfeg.noaa.gov/erddap/wms/noaa_n...    NaN     public   \n",
      "\n",
      "                                               Title  \\\n",
      "0  AMSRE Model Output, obs4MIPs NASA-JPL, Global,...   \n",
      "1  Analysed foundation SST over the global ocean ...   \n",
      "2  Archived Suite of NOAA Coral Reef Watch Operat...   \n",
      "3  AVHRR Pathfinder Version 5.2 L3-Collated (L3C)...   \n",
      "4  AVHRR Pathfinder Version 5.2 L3-Collated (L3C)...   \n",
      "\n",
      "                                             Summary  \\\n",
      "0  This data set contains sea surface temperature...   \n",
      "1  Analysed foundation sea surface temperature ov...   \n",
      "2  These are Coral Reef Watch near-real-time sate...   \n",
      "3  Advanced Very High Resolution Radiometer (AVHR...   \n",
      "4  Advanced Very High Resolution Radiometer (AVHR...   \n",
      "\n",
      "                                                FGDC  \\\n",
      "0  https://upwell.pfeg.noaa.gov/erddap/metadata/f...   \n",
      "1  https://upwell.pfeg.noaa.gov/erddap/metadata/f...   \n",
      "2  https://upwell.pfeg.noaa.gov/erddap/metadata/f...   \n",
      "3  https://upwell.pfeg.noaa.gov/erddap/metadata/f...   \n",
      "4  https://upwell.pfeg.noaa.gov/erddap/metadata/f...   \n",
      "\n",
      "                                           ISO 19115  \\\n",
      "0  https://upwell.pfeg.noaa.gov/erddap/metadata/i...   \n",
      "1  https://upwell.pfeg.noaa.gov/erddap/metadata/i...   \n",
      "2  https://upwell.pfeg.noaa.gov/erddap/metadata/i...   \n",
      "3  https://upwell.pfeg.noaa.gov/erddap/metadata/i...   \n",
      "4  https://upwell.pfeg.noaa.gov/erddap/metadata/i...   \n",
      "\n",
      "                                                Info  \\\n",
      "0  https://upwell.pfeg.noaa.gov/erddap/info/jplAm...   \n",
      "1  https://upwell.pfeg.noaa.gov/erddap/info/nasa_...   \n",
      "2  https://upwell.pfeg.noaa.gov/erddap/info/noaa_...   \n",
      "3  https://upwell.pfeg.noaa.gov/erddap/info/noaa_...   \n",
      "4  https://upwell.pfeg.noaa.gov/erddap/info/noaa_...   \n",
      "\n",
      "                                     Background Info  \\\n",
      "0  https://podaac.jpl.nasa.gov/dataset/AMSRE_L3_S...   \n",
      "1  https://podaac.jpl.nasa.gov/dataset/MW_OI-REMS...   \n",
      "2  https://data.nodc.noaa.gov/thredds/dodsC/ncml/...   \n",
      "3  https://pathfinder.nodc.noaa.gov/ISO-AVHRR_Pat...   \n",
      "4  https://pathfinder.nodc.noaa.gov/ISO-AVHRR_Pat...   \n",
      "\n",
      "                                                 RSS  \\\n",
      "0  http://upwell.pfeg.noaa.gov/erddap/rss/jplAmsr...   \n",
      "1  http://upwell.pfeg.noaa.gov/erddap/rss/nasa_jp...   \n",
      "2  http://upwell.pfeg.noaa.gov/erddap/rss/noaa_no...   \n",
      "3  http://upwell.pfeg.noaa.gov/erddap/rss/noaa_no...   \n",
      "4  http://upwell.pfeg.noaa.gov/erddap/rss/noaa_no...   \n",
      "\n",
      "                                               Email  \\\n",
      "0  https://upwell.pfeg.noaa.gov/erddap/subscripti...   \n",
      "1  https://upwell.pfeg.noaa.gov/erddap/subscripti...   \n",
      "2  https://upwell.pfeg.noaa.gov/erddap/subscripti...   \n",
      "3  https://upwell.pfeg.noaa.gov/erddap/subscripti...   \n",
      "4  https://upwell.pfeg.noaa.gov/erddap/subscripti...   \n",
      "\n",
      "                      Institution                Dataset ID  \n",
      "0          Remote Sensing Systems   jplAmsreSstMon_LonPM180  \n",
      "1                           REMSS   nasa_jpl_844f_dc54_9c41  \n",
      "2  U.S. DOC/NOAA Coral Reef Watch  noaa_nodc_da4e_3fc9_f107  \n",
      "3                       NOAA NODC  noaa_nodc_1847_812f_2105  \n",
      "4                       NOAA NODC  noaa_nodc_7071_edc2_c76a  \n",
      "['erdGtsppBest', 'erdGodaeSfcobs', 'cwwcNDBCMet', 'ndbcSosWTemp', 'ndbcSosWind', 'ndbcSosCurrents', 'ndbcSosSalinity', 'ndbcSosWLevel', 'nosSosATemp', 'nosSosBPres', 'nosSosWLevel', 'nosSosWTemp', 'nosSosCond', 'nosSosSalinity', 'neracoosSos']\n"
     ]
    }
   ],
   "source": [
    "from listVars import getVars\n",
    "kw=box.getDict()\n",
    "varNames = getVars(kw)"
   ]
  },
  {
   "cell_type": "code",
   "execution_count": null,
   "metadata": {},
   "outputs": [],
   "source": [
    "# print(len(varNames))\n",
    "# print(varNames)"
   ]
  },
  {
   "cell_type": "code",
   "execution_count": null,
   "metadata": {},
   "outputs": [],
   "source": []
  }
 ],
 "metadata": {
  "kernelspec": {
   "display_name": "Python 3",
   "language": "python",
   "name": "python3"
  },
  "language_info": {
   "codemirror_mode": {
    "name": "ipython",
    "version": 3
   },
   "file_extension": ".py",
   "mimetype": "text/x-python",
   "name": "python",
   "nbconvert_exporter": "python",
   "pygments_lexer": "ipython3",
   "version": "3.7.3"
  }
 },
 "nbformat": 4,
 "nbformat_minor": 2
}
