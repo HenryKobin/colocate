{
 "cells": [
  {
   "cell_type": "code",
   "execution_count": 38,
   "metadata": {
    "scrolled": true
   },
   "outputs": [
    {
     "data": {
      "application/vnd.jupyter.widget-view+json": {
       "model_id": "aa42a75d9b69410fb901c3c3aea57874",
       "version_major": 2,
       "version_minor": 0
      },
      "text/plain": [
       "Map(basemap={'url': 'https://{s}.tile.openstreetmap.org/{z}/{x}/{y}.png', 'max_zoom': 19, 'attribution': 'Map …"
      ]
     },
     "metadata": {},
     "output_type": "display_data"
    }
   ],
   "source": [
    "import ipywidgets as widgets\n",
    "from ipyleaflet import Map, DrawControl\n",
    "\n",
    "m = Map(center=(50, 354), zoom=2)\n",
    "\n",
    "dc = DrawControl(rectangle={'shapeOptions': {'color': '#0000FF'}})\n",
    "\n",
    "coords = None\n",
    "\n",
    "def handle_draw(self, action, geo_json):\n",
    "    global coords\n",
    "    coords = geo_json['geometry']['coordinates']\n",
    "    print(coords)\n",
    "\n",
    "dc.on_draw(handle_draw)\n",
    "m.add_control(dc)\n",
    "\n",
    "m"
   ]
  },
  {
   "cell_type": "code",
   "execution_count": 5,
   "metadata": {},
   "outputs": [],
   "source": [
    "from datetime import date, timedelta\n",
    "\n",
    "start_date = date(1950, 1, 1)\n",
    "end_date = date(2020, 1, 1)\n",
    "\n",
    "days = (end_date - start_date).days\n",
    "dates = []\n",
    "for n_day in range(days):\n",
    "    dates.append(start_date + timedelta(days=n_day))\n",
    "\n",
    "dates = widgets.SelectionRangeSlider(\n",
    "    value=(start_date, end_date-timedelta(days=1)),\n",
    "    options=dates,\n",
    "    description='Starting date',\n",
    "    layout=widgets.Layout(width='90%')\n",
    ")"
   ]
  },
  {
   "cell_type": "code",
   "execution_count": 6,
   "metadata": {},
   "outputs": [
    {
     "data": {
      "application/vnd.jupyter.widget-view+json": {
       "model_id": "603e53c535c248dabbbf9dbce5bd0de8",
       "version_major": 2,
       "version_minor": 0
      },
      "text/plain": [
       "SelectionRangeSlider(description='Starting date', index=(0, 25566), layout=Layout(width='90%'), options=(datet…"
      ]
     },
     "metadata": {},
     "output_type": "display_data"
    }
   ],
   "source": [
    "display(dates)"
   ]
  },
  {
   "cell_type": "code",
   "execution_count": 36,
   "metadata": {},
   "outputs": [],
   "source": [
    "lats = []\n",
    "lons = []\n",
    "\n",
    "for point in coords[-1][:-1]:\n",
    "    lon_180 = ((point[0] - 180) % 360) - 180\n",
    "    lons.append(lon_180)\n",
    "    \n",
    "    lat_180 = ((point[1] - 180) % 360) - 180\n",
    "    lats.append(lat_180)"
   ]
  },
  {
   "cell_type": "code",
   "execution_count": 34,
   "metadata": {},
   "outputs": [],
   "source": [
    "kw = {\n",
    "   'search_for': 'all',\n",
    "   'min_lon': lons[0],\n",
    "   'max_lon': lons[2],\n",
    "   'min_lat': lats[0],\n",
    "   'max_lat': lats[2],\n",
    "   'min_time': dates.value[0].strftime('%Y-%m-%dT%H:%M:%SZ'),\n",
    "   'max_time': dates.value[1].strftime('%Y-%m-%dT%H:%M:%SZ'),\n",
    "}"
   ]
  },
  {
   "cell_type": "code",
   "execution_count": 35,
   "metadata": {},
   "outputs": [
    {
     "data": {
      "text/plain": [
       "{'search_for': 'all',\n",
       " 'min_lon': -22.62634300000002,\n",
       " 'max_lon': -8.168335000000013,\n",
       " 'min_lat': 26.352497999999997,\n",
       " 'max_lat': 31.914868000000013,\n",
       " 'min_time': '1984-08-10T00:00:00Z',\n",
       " 'max_time': '1996-11-18T00:00:00Z'}"
      ]
     },
     "execution_count": 35,
     "metadata": {},
     "output_type": "execute_result"
    }
   ],
   "source": [
    "kw"
   ]
  },
  {
   "cell_type": "code",
   "execution_count": null,
   "metadata": {},
   "outputs": [],
   "source": []
  }
 ],
 "metadata": {
  "kernelspec": {
   "display_name": "Python 3",
   "language": "python",
   "name": "python3"
  },
  "language_info": {
   "codemirror_mode": {
    "name": "ipython",
    "version": 3
   },
   "file_extension": ".py",
   "mimetype": "text/x-python",
   "name": "python",
   "nbconvert_exporter": "python",
   "pygments_lexer": "ipython3",
   "version": "3.7.3"
  }
 },
 "nbformat": 4,
 "nbformat_minor": 4
}
