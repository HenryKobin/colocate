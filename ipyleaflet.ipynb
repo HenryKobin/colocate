{
 "cells": [
  {
   "cell_type": "code",
   "execution_count": 1,
   "metadata": {
    "scrolled": true
   },
   "outputs": [
    {
     "data": {
      "application/vnd.jupyter.widget-view+json": {
       "model_id": "3a31aa8470b34aa0aeea15d55a74f949",
       "version_major": 2,
       "version_minor": 0
      },
      "text/plain": [
       "Map(basemap={'url': 'https://{s}.tile.openstreetmap.org/{z}/{x}/{y}.png', 'max_zoom': 19, 'attribution': 'Map …"
      ]
     },
     "metadata": {},
     "output_type": "display_data"
    }
   ],
   "source": [
    "import ipywidgets as widgets\n",
    "from ipyleaflet import Map, DrawControl\n",
    "\n",
    "m = Map(center=(50, 354), zoom=2)\n",
    "\n",
    "dc = DrawControl(rectangle={'shapeOptions': {'color': '#0000FF'}})\n",
    "\n",
    "coords = None\n",
    "\n",
    "def handle_draw(self, action, geo_json):\n",
    "    global coords\n",
    "    coords = geo_json['geometry']['coordinates']\n",
    "    print(coords)\n",
    "\n",
    "dc.on_draw(handle_draw)\n",
    "m.add_control(dc)\n",
    "\n",
    "m"
   ]
  },
  {
   "cell_type": "code",
   "execution_count": 2,
   "metadata": {},
   "outputs": [],
   "source": [
    "from datetime import date, timedelta\n",
    "\n",
    "start_date = date(1950, 1, 1)\n",
    "end_date = date(2020, 1, 1)\n",
    "\n",
    "days = (end_date - start_date).days\n",
    "dates = []\n",
    "for n_day in range(days):\n",
    "    dates.append(start_date + timedelta(days=n_day))\n",
    "\n",
    "dates = widgets.SelectionRangeSlider(\n",
    "    value=(start_date, end_date-timedelta(days=1)),\n",
    "    options=dates,\n",
    "    description='Starting date',\n",
    "    layout=widgets.Layout(width='90%')\n",
    ")"
   ]
  },
  {
   "cell_type": "code",
   "execution_count": 3,
   "metadata": {},
   "outputs": [
    {
     "data": {
      "application/vnd.jupyter.widget-view+json": {
       "model_id": "75ac528ad9a240548e2541defcf73d0a",
       "version_major": 2,
       "version_minor": 0
      },
      "text/plain": [
       "SelectionRangeSlider(description='Starting date', index=(0, 25566), layout=Layout(width='90%'), options=(datet…"
      ]
     },
     "metadata": {},
     "output_type": "display_data"
    }
   ],
   "source": [
    "display(dates)"
   ]
  },
  {
   "cell_type": "code",
   "execution_count": 6,
   "metadata": {},
   "outputs": [],
   "source": [
    "lats = []\n",
    "lons = []\n",
    "\n",
    "kw = {}\n",
    "\n",
    "if coords:\n",
    "    for point in coords[-1][:-1]:\n",
    "        lon_180 = ((point[0] - 180) % 360) - 180\n",
    "        lons.append(lon_180)\n",
    "\n",
    "        lat_180 = ((point[1] - 180) % 360) - 180\n",
    "        lats.append(lat_180)\n",
    "    kw = {\n",
    "       'search_for': 'all',\n",
    "       'min_lon': lons[0],\n",
    "       'max_lon': lons[2],\n",
    "       'min_lat': lats[0],\n",
    "       'max_lat': lats[2],\n",
    "       'min_time': dates.value[0].strftime('%Y-%m-%dT%H:%M:%SZ'),\n",
    "       'max_time': dates.value[1].strftime('%Y-%m-%dT%H:%M:%SZ'),\n",
    "    }"
   ]
  },
  {
   "cell_type": "code",
   "execution_count": 7,
   "metadata": {},
   "outputs": [
    {
     "data": {
      "text/plain": [
       "{'search_for': 'all',\n",
       " 'min_lon': -78.70605499999999,\n",
       " 'max_lon': 43.28613300000001,\n",
       " 'min_lat': 56.170023000000015,\n",
       " 'max_lat': 73.726595,\n",
       " 'min_time': '1950-01-01T00:00:00Z',\n",
       " 'max_time': '2019-12-31T00:00:00Z'}"
      ]
     },
     "execution_count": 7,
     "metadata": {},
     "output_type": "execute_result"
    }
   ],
   "source": [
    "kw"
   ]
  }
 ],
 "metadata": {
  "kernelspec": {
   "display_name": "Python 3",
   "language": "python",
   "name": "python3"
  },
  "language_info": {
   "codemirror_mode": {
    "name": "ipython",
    "version": 3
   },
   "file_extension": ".py",
   "mimetype": "text/x-python",
   "name": "python",
   "nbconvert_exporter": "python",
   "pygments_lexer": "ipython3",
   "version": "3.7.3"
  }
 },
 "nbformat": 4,
 "nbformat_minor": 4
}
