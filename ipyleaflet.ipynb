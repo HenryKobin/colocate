{
 "cells": [
  {
   "cell_type": "code",
   "execution_count": 5,
   "metadata": {
    "scrolled": true
   },
   "outputs": [
    {
     "data": {
      "application/vnd.jupyter.widget-view+json": {
       "model_id": "dc35089676204235b5a508a06ab272f9",
       "version_major": 2,
       "version_minor": 0
      },
      "text/plain": [
       "Map(basemap={'url': 'https://{s}.tile.openstreetmap.org/{z}/{x}/{y}.png', 'max_zoom': 19, 'attribution': 'Map …"
      ]
     },
     "metadata": {},
     "output_type": "display_data"
    }
   ],
   "source": [
    "from ipyleaflet import Map, DrawControl\n",
    "\n",
    "m = Map(center=(50, 354), zoom=5)\n",
    "\n",
    "dc = DrawControl(rectangle={'shapeOptions': {'color': '#0000FF'}})\n",
    "\n",
    "coords = None\n",
    "\n",
    "def handle_draw(self, action, geo_json):\n",
    "    global coords\n",
    "    coords = geo_json['geometry']['coordinates']\n",
    "    print(coords)\n",
    "\n",
    "dc.on_draw(handle_draw)\n",
    "m.add_control(dc)\n",
    "\n",
    "m"
   ]
  },
  {
   "cell_type": "code",
   "execution_count": 6,
   "metadata": {},
   "outputs": [
    {
     "data": {
      "text/plain": [
       "[[344.653816, 51.663292],\n",
       " [344.653816, 54.357156],\n",
       " [350.968723, 54.357156],\n",
       " [350.968723, 51.663292]]"
      ]
     },
     "execution_count": 6,
     "metadata": {},
     "output_type": "execute_result"
    }
   ],
   "source": [
    "coords[-1][:-1]"
   ]
  },
  {
   "cell_type": "code",
   "execution_count": null,
   "metadata": {},
   "outputs": [],
   "source": []
  }
 ],
 "metadata": {
  "kernelspec": {
   "display_name": "Python 3",
   "language": "python",
   "name": "python3"
  },
  "language_info": {
   "codemirror_mode": {
    "name": "ipython",
    "version": 3
   },
   "file_extension": ".py",
   "mimetype": "text/x-python",
   "name": "python",
   "nbconvert_exporter": "python",
   "pygments_lexer": "ipython3",
   "version": "3.7.3"
  }
 },
 "nbformat": 4,
 "nbformat_minor": 4
}
