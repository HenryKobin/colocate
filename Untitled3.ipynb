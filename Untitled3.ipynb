{
 "cells": [
  {
   "cell_type": "code",
   "execution_count": 1,
   "metadata": {},
   "outputs": [],
   "source": [
    "from makeMetaData import *\n",
    "from classes import constraintClass\n",
    "\n",
    "time_min = '2010-07-10T00:00:00Z'\n",
    "time_max = '2016-08-10T00:00:00Z'\n",
    "bbox = [-72.0, -69, 38, 41]\n",
    "\n",
    "kw = {\n",
    "    'search_for': 'all',\n",
    "    'min_lon': bbox[0],\n",
    "    'max_lon': bbox[1],\n",
    "    'min_lat': bbox[2],\n",
    "    'max_lat': bbox[3],\n",
    "    'min_time': time_min,\n",
    "    'max_time': time_max,\n",
    "    'standard_name': 'sea_water_salinity',\n",
    "}\n",
    "\n",
    "constraint = constraintClass()\n",
    "\n",
    "# constraint.updatelonMin(-180)\n",
    "\n",
    "# constraint.updatelonMax(180)\n",
    "\n",
    "# constraint.updatelatMin(-90)\n",
    "\n",
    "# constraint.updatelatMax(90)\n",
    "\n",
    "MD = initMetadata()\n",
    "#MD = update_tableGridWms_Info(MD)\n"
   ]
  },
  {
   "cell_type": "code",
   "execution_count": 2,
   "metadata": {},
   "outputs": [],
   "source": [
    "from makeMetaData import *\n",
    "MD = fill_info_in_meta_acc_to_constrains(MD, kw)\n"
   ]
  },
  {
   "cell_type": "code",
   "execution_count": 3,
   "metadata": {},
   "outputs": [
    {
     "name": "stdout",
     "output_type": "stream",
     "text": [
      "28\n",
      "18\n"
     ]
    }
   ],
   "source": [
    "print(len(MD.servers))\n",
    "print(len(MD.servers[0].datasets))"
   ]
  },
  {
   "cell_type": "code",
   "execution_count": null,
   "metadata": {},
   "outputs": [],
   "source": [
    "MD = fill_lat_lonValue_to_AllDataset(MD,kw,constraint)\n",
    "#dataset_out = fill_lat_lonValue_to_Dataset(MD.servers[0], \\\n",
    "#                                                        MD.servers[0].datasets[2], kw, constraint)"
   ]
  },
  {
   "cell_type": "code",
   "execution_count": null,
   "metadata": {},
   "outputs": [],
   "source": [
    "%matplotlib inline\n",
    "import matplotlib.pyplot as plt\n",
    "plt.scatter(MD.servers[0].datasets[0].lat, MD.servers[0].datasets[0].lon)\n",
    "\n",
    "#plt.scatter(dataset_out.lon, dataset_out.lat)\n",
    "\n",
    "\n"
   ]
  },
  {
   "cell_type": "code",
   "execution_count": null,
   "metadata": {},
   "outputs": [],
   "source": [
    "plt.scatter(MD.servers[6].datasets[0].lat, MD.servers[6].datasets[0].lon)\n"
   ]
  },
  {
   "cell_type": "code",
   "execution_count": null,
   "metadata": {},
   "outputs": [],
   "source": [
    "MD.servers[0].datasets[0].dataset_ID"
   ]
  },
  {
   "cell_type": "code",
   "execution_count": null,
   "metadata": {},
   "outputs": [],
   "source": [
    "len(MD.servers)\n"
   ]
  },
  {
   "cell_type": "code",
   "execution_count": null,
   "metadata": {},
   "outputs": [],
   "source": [
    "len(MD.servers[0].datasets)"
   ]
  },
  {
   "cell_type": "code",
   "execution_count": null,
   "metadata": {},
   "outputs": [],
   "source": [
    "for ii in range(len(MD.servers)):\n",
    "    print(len(MD.servers[ii].datasets))\n",
    "    "
   ]
  },
  {
   "cell_type": "code",
   "execution_count": null,
   "metadata": {
    "scrolled": false
   },
   "outputs": [],
   "source": [
    "for ii in range(len(MD.servers)):\n",
    "    print(MD.servers[ii].url)\n",
    "    print(len(MD.servers[ii].datasets))\n",
    "    if len(MD.servers[ii].datasets) !=0 :\n",
    "        for jj in range(len(MD.servers[ii].datasets)):\n",
    "            plt.scatter(MD.servers[ii].datasets[jj].lat, MD.servers[ii].datasets[jj].lon)\n",
    "            print(MD.servers[ii].datasets[jj].dataset_ID)\n",
    "        plt.show()"
   ]
  },
  {
   "cell_type": "code",
   "execution_count": null,
   "metadata": {
    "scrolled": true
   },
   "outputs": [],
   "source": [
    "MD.server2[27].url"
   ]
  },
  {
   "cell_type": "code",
   "execution_count": null,
   "metadata": {},
   "outputs": [],
   "source": [
    "for ii in range(len(MD.servers)):\n",
    "    print(MD.servers[ii].url)\n",
    "    print(len(MD.servers[ii].datasets))\n",
    "    \n",
    "    # if len(MD.servers[ii].datasets) == 0 --> remove this\n",
    "    \n",
    "    if len(MD.servers[ii].datasets) !=0 :\n",
    "        for jj in range(len(MD.servers[ii].datasets)):\n",
    "            plt.scatter(MD.servers[ii].datasets[jj].lat, MD.servers[ii].datasets[jj].lon)\n",
    "            print(MD.servers[ii].datasets[jj].dataset_ID)\n",
    "        plt.show()\n",
    "        \n",
    "        \n"
   ]
  },
  {
   "cell_type": "code",
   "execution_count": null,
   "metadata": {},
   "outputs": [],
   "source": []
  }
 ],
 "metadata": {
  "kernelspec": {
   "display_name": "Python 3",
   "language": "python",
   "name": "python3"
  },
  "language_info": {
   "codemirror_mode": {
    "name": "ipython",
    "version": 3
   },
   "file_extension": ".py",
   "mimetype": "text/x-python",
   "name": "python",
   "nbconvert_exporter": "python",
   "pygments_lexer": "ipython3",
   "version": "3.7.3"
  }
 },
 "nbformat": 4,
 "nbformat_minor": 2
}
