{
 "cells": [
  {
   "cell_type": "code",
   "execution_count": 1,
   "metadata": {},
   "outputs": [],
   "source": [
    "from makeMetaData import *\n",
    "from classes import constraintClass\n",
    "\n",
    "time_min = '2010-07-10T00:00:00Z'\n",
    "time_max = '2016-08-10T00:00:00Z'\n",
    "bbox = [-72.0, -69, 38, 41]\n",
    "\n",
    "kw = {\n",
    "    'search_for': 'all',\n",
    "    'min_lon': bbox[0],\n",
    "    'max_lon': bbox[1],\n",
    "    'min_lat': bbox[2],\n",
    "    'max_lat': bbox[3],\n",
    "    'min_time': time_min,\n",
    "    'max_time': time_max,\n",
    "}\n",
    "\n",
    "constraint = constraintClass()\n",
    "\n",
    "# constraint.updatelonMin(-180)\n",
    "\n",
    "# constraint.updatelonMax(180)\n",
    "\n",
    "# constraint.updatelatMin(-90)\n",
    "\n",
    "# constraint.updatelatMax(90)\n",
    "\n",
    "MD = initMetadata()\n",
    "#MD = update_tableGridWms_Info(MD)\n"
   ]
  },
  {
   "cell_type": "code",
   "execution_count": 2,
   "metadata": {},
   "outputs": [],
   "source": [
    "from makeMetaData import *\n",
    "MD = fill_info_in_meta_acc_to_constrains(MD, kw)\n"
   ]
  },
  {
   "cell_type": "code",
   "execution_count": 3,
   "metadata": {},
   "outputs": [
    {
     "data": {
      "text/plain": [
       "'scrippsGliders'"
      ]
     },
     "execution_count": 3,
     "metadata": {},
     "output_type": "execute_result"
    }
   ],
   "source": [
    "MD.servers[0].datasets[0].dataset_ID"
   ]
  },
  {
   "cell_type": "code",
   "execution_count": 4,
   "metadata": {},
   "outputs": [
    {
     "name": "stdout",
     "output_type": "stream",
     "text": [
      "could not get lon lat for dataset erdGtsppBest in server https://coastwatch.pfeg.noaa.gov/erddap\n",
      "could not get lon lat for dataset erdGodaeSfcobs in server https://coastwatch.pfeg.noaa.gov/erddap\n",
      "could not get lon lat for dataset LiquidR_HBG3_2015_ais in server https://coastwatch.pfeg.noaa.gov/erddap\n",
      "could not get lon lat for dataset LiquidR_HBG3_2015_mose_v2 in server https://coastwatch.pfeg.noaa.gov/erddap\n",
      "could not get lon lat for dataset cwwcNDBCMet in server https://coastwatch.pfeg.noaa.gov/erddap\n",
      "could not get lon lat for dataset ndbcSosWTemp in server https://coastwatch.pfeg.noaa.gov/erddap\n",
      "could not get lon lat for dataset ndbcSosWind in server https://coastwatch.pfeg.noaa.gov/erddap\n",
      "could not get lon lat for dataset ndbcSosCurrents in server https://coastwatch.pfeg.noaa.gov/erddap\n",
      "could not get lon lat for dataset ndbcSosSalinity in server https://coastwatch.pfeg.noaa.gov/erddap\n",
      "could not get lon lat for dataset ndbcSosWLevel in server https://coastwatch.pfeg.noaa.gov/erddap\n",
      "could not get lon lat for dataset nosSosATemp in server https://coastwatch.pfeg.noaa.gov/erddap\n",
      "could not get lon lat for dataset nosSosBPres in server https://coastwatch.pfeg.noaa.gov/erddap\n",
      "could not get lon lat for dataset nosSosWLevel in server https://coastwatch.pfeg.noaa.gov/erddap\n",
      "could not get lon lat for dataset nosSosWTemp in server https://coastwatch.pfeg.noaa.gov/erddap\n",
      "could not get lon lat for dataset nosSosCond in server https://coastwatch.pfeg.noaa.gov/erddap\n",
      "could not get lon lat for dataset nosSosSalinity in server https://coastwatch.pfeg.noaa.gov/erddap\n",
      "could not get lon lat for dataset neracoosSos in server https://coastwatch.pfeg.noaa.gov/erddap\n",
      "could not get lon lat for dataset bcodmo_dataset_549122 in server https://erddap.bco-dmo.org/erddap\n",
      "could not get lon lat for dataset EP_INSITU_DRYT_TS in server http://erddap.emodnet-physics.eu/erddap\n",
      "could not get lon lat for dataset EP_INSITU_DRYT_TR in server http://erddap.emodnet-physics.eu/erddap\n",
      "could not get lon lat for dataset EP_INSITU_ATMP_TS in server http://erddap.emodnet-physics.eu/erddap\n",
      "could not get lon lat for dataset EP_INSITU_ATMP_TR in server http://erddap.emodnet-physics.eu/erddap\n",
      "could not get lon lat for dataset EP_INSITU_ATMS_TR in server http://erddap.emodnet-physics.eu/erddap\n",
      "could not get lon lat for dataset EP_INSITU_ATPT_TS in server http://erddap.emodnet-physics.eu/erddap\n",
      "could not get lon lat for dataset EP_INSITU_ATPT_TR in server http://erddap.emodnet-physics.eu/erddap\n",
      "could not get lon lat for dataset EP_INSITU_VTZA_TS in server http://erddap.emodnet-physics.eu/erddap\n",
      "could not get lon lat for dataset EP_INSITU_VCSP_TS in server http://erddap.emodnet-physics.eu/erddap\n",
      "could not get lon lat for dataset EP_INSITU_FLU2_PR in server http://erddap.emodnet-physics.eu/erddap\n",
      "could not get lon lat for dataset EP_INSITU_FLU2_TS in server http://erddap.emodnet-physics.eu/erddap\n",
      "could not get lon lat for dataset EP_INSITU_CDOM_PR in server http://erddap.emodnet-physics.eu/erddap\n",
      "could not get lon lat for dataset EP_INSITU_CDOM_TS in server http://erddap.emodnet-physics.eu/erddap\n",
      "could not get lon lat for dataset EP_INSITU_HCDT_PR in server http://erddap.emodnet-physics.eu/erddap\n",
      "could not get lon lat for dataset EP_INSITU_HCDT_TS in server http://erddap.emodnet-physics.eu/erddap\n",
      "could not get lon lat for dataset EP_INSITU_HCDT_TR in server http://erddap.emodnet-physics.eu/erddap\n",
      "could not get lon lat for dataset EP_INSITU_DEWT_TS in server http://erddap.emodnet-physics.eu/erddap\n",
      "could not get lon lat for dataset EP_INSITU_DEWT_TR in server http://erddap.emodnet-physics.eu/erddap\n",
      "could not get lon lat for dataset EP_INSITU_UDOX_PR in server http://erddap.emodnet-physics.eu/erddap\n",
      "could not get lon lat for dataset EP_INSITU_DOX1_PR in server http://erddap.emodnet-physics.eu/erddap\n",
      "could not get lon lat for dataset EP_INSITU_DOX2_PR in server http://erddap.emodnet-physics.eu/erddap\n",
      "could not get lon lat for dataset EP_INSITU_DOX2_TS in server http://erddap.emodnet-physics.eu/erddap\n",
      "could not get lon lat for dataset EP_INSITU_DOXY_PR in server http://erddap.emodnet-physics.eu/erddap\n",
      "could not get lon lat for dataset EP_INSITU_DOXY_TS in server http://erddap.emodnet-physics.eu/erddap\n",
      "could not get lon lat for dataset EP_INSITU_CHLT_PR in server http://erddap.emodnet-physics.eu/erddap\n",
      "could not get lon lat for dataset EP_INSITU_CNDC_PR in server http://erddap.emodnet-physics.eu/erddap\n",
      "could not get lon lat for dataset EP_INSITU_CNDC_TS in server http://erddap.emodnet-physics.eu/erddap\n",
      "could not get lon lat for dataset EP_INSITU_CNDC_TR in server http://erddap.emodnet-physics.eu/erddap\n",
      "could not get lon lat for dataset EP_INSITU_VGTA_TS in server http://erddap.emodnet-physics.eu/erddap\n",
      "could not get lon lat for dataset EP_INSITU_VGTA_TR in server http://erddap.emodnet-physics.eu/erddap\n",
      "could not get lon lat for dataset EP_INSITU_VGHS_TS in server http://erddap.emodnet-physics.eu/erddap\n",
      "could not get lon lat for dataset EP_INSITU_VGHS_TR in server http://erddap.emodnet-physics.eu/erddap\n",
      "could not get lon lat for dataset EP_INSITU_GSPD_TS in server http://erddap.emodnet-physics.eu/erddap\n",
      "could not get lon lat for dataset EP_INSITU_ALTS_TS in server http://erddap.emodnet-physics.eu/erddap\n",
      "could not get lon lat for dataset EP_INSITU_HCSP_PR in server http://erddap.emodnet-physics.eu/erddap\n",
      "could not get lon lat for dataset EP_INSITU_HCSP_TS in server http://erddap.emodnet-physics.eu/erddap\n",
      "could not get lon lat for dataset EP_INSITU_HCSP_TR in server http://erddap.emodnet-physics.eu/erddap\n",
      "could not get lon lat for dataset EP_INSITU_WSPD_TS in server http://erddap.emodnet-physics.eu/erddap\n",
      "could not get lon lat for dataset EP_INSITU_WSPD_TR in server http://erddap.emodnet-physics.eu/erddap\n",
      "could not get lon lat for dataset EP_INSITU_PRRT_TS in server http://erddap.emodnet-physics.eu/erddap\n",
      "could not get lon lat for dataset EP_INSITU_LGHT_PR in server http://erddap.emodnet-physics.eu/erddap\n",
      "could not get lon lat for dataset EP_INSITU_VZMX_TS in server http://erddap.emodnet-physics.eu/erddap\n",
      "could not get lon lat for dataset EP_INSITU_VMDR_TS in server http://erddap.emodnet-physics.eu/erddap\n",
      "could not get lon lat for dataset MEOP in server http://erddap.emodnet-physics.eu/erddap\n",
      "could not get lon lat for dataset EP_INSITU_NTAW_PR in server http://erddap.emodnet-physics.eu/erddap\n",
      "could not get lon lat for dataset EP_INSITU_OSAT_TS in server http://erddap.emodnet-physics.eu/erddap\n",
      "could not get lon lat for dataset EP_INSITU_VTZM_TS in server http://erddap.emodnet-physics.eu/erddap\n",
      "could not get lon lat for dataset EP_INSITU_PHPH_PR in server http://erddap.emodnet-physics.eu/erddap\n",
      "could not get lon lat for dataset EP_INSITU_PHPH_TS in server http://erddap.emodnet-physics.eu/erddap\n",
      "could not get lon lat for dataset EP_INSITU_PSAL_PR in server http://erddap.emodnet-physics.eu/erddap\n",
      "could not get lon lat for dataset EP_INSITU_PSAL_TS in server http://erddap.emodnet-physics.eu/erddap\n",
      "could not get lon lat for dataset EP_INSITU_PSAL_TR in server http://erddap.emodnet-physics.eu/erddap\n",
      "could not get lon lat for dataset EP_INSITU_RELH_TS in server http://erddap.emodnet-physics.eu/erddap\n",
      "could not get lon lat for dataset EP_INSITU_RELH_TR in server http://erddap.emodnet-physics.eu/erddap\n",
      "could not get lon lat for dataset EP_INSITU_TEMP_PR in server http://erddap.emodnet-physics.eu/erddap\n",
      "could not get lon lat for dataset EP_INSITU_TEMP_TR in server http://erddap.emodnet-physics.eu/erddap\n",
      "could not get lon lat for dataset EP_INSITU_TEMP_DOXY_PR in server http://erddap.emodnet-physics.eu/erddap\n",
      "could not get lon lat for dataset EP_INSITU_TEMP_DOXY_TS in server http://erddap.emodnet-physics.eu/erddap\n",
      "could not get lon lat for dataset EP_INSITU_SSJT_TS in server http://erddap.emodnet-physics.eu/erddap\n",
      "could not get lon lat for dataset EP_INSITU_SSJT_TR in server http://erddap.emodnet-physics.eu/erddap\n",
      "could not get lon lat for dataset EP_INSITU_DENS_TS in server http://erddap.emodnet-physics.eu/erddap\n",
      "could not get lon lat for dataset EP_INSITU_VTDH_TS in server http://erddap.emodnet-physics.eu/erddap\n",
      "could not get lon lat for dataset EP_INSITU_SVEL_TS in server http://erddap.emodnet-physics.eu/erddap\n"
     ]
    },
    {
     "name": "stdout",
     "output_type": "stream",
     "text": [
      "could not get lon lat for dataset EP_INSITU_NSCT_TS in server http://erddap.emodnet-physics.eu/erddap\n",
      "could not get lon lat for dataset EP_INSITU_NSCT_TR in server http://erddap.emodnet-physics.eu/erddap\n",
      "could not get lon lat for dataset EP_INSITU_VTM02_TS in server http://erddap.emodnet-physics.eu/erddap\n",
      "could not get lon lat for dataset EP_INSITU_SWHT_TS in server http://erddap.emodnet-physics.eu/erddap\n",
      "could not get lon lat for dataset EP_INSITU_SWPR_TS in server http://erddap.emodnet-physics.eu/erddap\n",
      "could not get lon lat for dataset EP_INSITU_CPHL_PR in server http://erddap.emodnet-physics.eu/erddap\n",
      "could not get lon lat for dataset EP_INSITU_TUR4_PR in server http://erddap.emodnet-physics.eu/erddap\n",
      "could not get lon lat for dataset EP_INSITU_TUR4_TS in server http://erddap.emodnet-physics.eu/erddap\n",
      "could not get lon lat for dataset EP_INSITU_SLEV_TS in server http://erddap.emodnet-physics.eu/erddap\n",
      "could not get lon lat for dataset EP_INSITU_VDIR_TS in server http://erddap.emodnet-physics.eu/erddap\n",
      "could not get lon lat for dataset EP_INSITU_EWCT_TS in server http://erddap.emodnet-physics.eu/erddap\n",
      "could not get lon lat for dataset EP_INSITU_EWCT_TR in server http://erddap.emodnet-physics.eu/erddap\n",
      "could not get lon lat for dataset EP_INSITU_WDIR_TS in server http://erddap.emodnet-physics.eu/erddap\n",
      "could not get lon lat for dataset EP_INSITU_WDIR_TR in server http://erddap.emodnet-physics.eu/erddap\n",
      "could not get lon lat for dataset CO2_SHIPS_EQNX in server https://cwcgom.aoml.noaa.gov/erddap\n",
      "could not get lon lat for dataset CO2_SHIPS_Sko in server https://cwcgom.aoml.noaa.gov/erddap\n",
      "could not get lon lat for dataset CO2_SHIPS_Gunter in server https://cwcgom.aoml.noaa.gov/erddap\n",
      "could not get lon lat for dataset CO2_SHIPS_HBig in server https://cwcgom.aoml.noaa.gov/erddap\n",
      "could not get lon lat for dataset CO2_SHIPS_RBrown in server https://cwcgom.aoml.noaa.gov/erddap\n",
      "could not get lon lat for dataset wmo_44008 in server http://erddap.sensors.ioos.us/erddap\n",
      "could not get lon lat for dataset edu_ucsd_cdip_44097 in server http://erddap.sensors.ioos.us/erddap\n",
      "could not get lon lat for dataset wmo_44402 in server http://erddap.sensors.ioos.us/erddap\n",
      "could not get lon lat for dataset silbo_20160413t1534 in server http://erddap.sensors.ioos.us/erddap\n",
      "could not get lon lat for dataset silbo_20160413t1534 in server http://erddap.axiomdatascience.com/erddap\n",
      "could not get lon lat for dataset cwwcNDBCMet in server http://www.neracoos.org/erddap\n",
      "could not get lon lat for dataset UNH_WBD in server http://www.neracoos.org/erddap\n",
      "could not get lon lat for dataset silbo-20160413T1534 in server https://data.ioos.us/gliders/erddap\n",
      "could not get lon lat for dataset MEOP_profiles in server http://osmc.noaa.gov/erddap\n",
      "could not get lon lat for dataset otn_aat_receivers in server https://members.oceantrack.org/erddap\n",
      "could not get lon lat for dataset otn_aat_tag_releases in server https://members.oceantrack.org/erddap\n",
      "could not get lon lat for dataset view_otn_aat_receivers in server https://members.oceantrack.org/erddap\n",
      "could not get lon lat for dataset PIONNER_MET_CP01CNSM in server http://www.myroms.org:8080/erddap\n",
      "could not get lon lat for dataset PIONNER_MET_CP03ISSM in server http://www.myroms.org:8080/erddap\n",
      "could not get lon lat for dataset PIONNER_MET_CP04OSSM in server http://www.myroms.org:8080/erddap\n",
      "could not get lon lat for dataset PIONEER_WFP_TEMP_SALT_CP02PMCI in server http://www.myroms.org:8080/erddap\n",
      "could not get lon lat for dataset PIONEER_WFP_TEMP_SALT_CP02PMCO in server http://www.myroms.org:8080/erddap\n",
      "could not get lon lat for dataset PIONEER_WFP_TEMP_SALT_CP02PMUI in server http://www.myroms.org:8080/erddap\n",
      "could not get lon lat for dataset PIONEER_WFP_TEMP_SALT_CP02PMUO in server http://www.myroms.org:8080/erddap\n",
      "could not get lon lat for dataset PIONEER_WFP_TEMP_SALT_CP04OSPM in server http://www.myroms.org:8080/erddap\n",
      "could not get lon lat for dataset PIONEER_MOAS_TEMP_SALT_GL335 in server http://www.myroms.org:8080/erddap\n",
      "could not get lon lat for dataset PIONEER_MOAS_TEMP_SALT_GL336 in server http://www.myroms.org:8080/erddap\n",
      "could not get lon lat for dataset PIONEER_MOAS_TEMP_SALT_GL339 in server http://www.myroms.org:8080/erddap\n",
      "could not get lon lat for dataset PIONEER_MOAS_TEMP_SALT_GL340 in server http://www.myroms.org:8080/erddap\n",
      "could not get lon lat for dataset PIONEER_MOAS_TEMP_SALT_GL374 in server http://www.myroms.org:8080/erddap\n",
      "could not get lon lat for dataset PIONEER_MOAS_TEMP_SALT_GL375 in server http://www.myroms.org:8080/erddap\n",
      "could not get lon lat for dataset PIONEER_MOAS_TEMP_SALT_GL376 in server http://www.myroms.org:8080/erddap\n",
      "could not get lon lat for dataset PIONEER_MOAS_TEMP_SALT_GL379 in server http://www.myroms.org:8080/erddap\n",
      "could not get lon lat for dataset PIONEER_MOAS_TEMP_SALT_GL387 in server http://www.myroms.org:8080/erddap\n",
      "could not get lon lat for dataset PIONEER_MOAS_TEMP_SALT_GL388 in server http://www.myroms.org:8080/erddap\n",
      "could not get lon lat for dataset PIONEER_MOAS_TEMP_SALT_GL389 in server http://www.myroms.org:8080/erddap\n",
      "could not get lon lat for dataset CMEMS_CORA_DATA in server http://tds.marine.rutgers.edu/erddap\n",
      "could not get lon lat for dataset nefsc_emolt_data_local in server http://tds.marine.rutgers.edu/erddap\n",
      "could not get lon lat for dataset nefsc_emolt_haul in server http://tds.marine.rutgers.edu/erddap\n",
      "could not get lon lat for dataset NEFSC_PROCESSED_CTD_CASTS_QC in server http://tds.marine.rutgers.edu/erddap\n",
      "could not get lon lat for dataset DOPPIO_REANALYSIS_OBS in server http://tds.marine.rutgers.edu/erddap\n",
      "could not get lon lat for dataset ROMS_DOPPIO_DISCHARGE in server http://tds.marine.rutgers.edu/erddap\n",
      "could not get lon lat for dataset DOPPIOobs in server http://tds.marine.rutgers.edu/erddap\n",
      "could not get lon lat for dataset ROMSSobs in server http://tds.marine.rutgers.edu/erddap\n",
      "could not get lon lat for dataset SAMOS_TSG_DATA_DOPPIO in server http://tds.marine.rutgers.edu/erddap\n",
      "could not get lon lat for dataset nefsc_study_fleet_data_local in server http://tds.marine.rutgers.edu/erddap\n",
      "could not get lon lat for dataset nefsc_turtle_data_local in server http://tds.marine.rutgers.edu/erddap\n",
      "could not get lon lat for dataset binnedGS in server https://spraydata.ucsd.edu/erddap\n",
      "could not get lon lat for dataset erdGtsppBest in server https://upwell.pfeg.noaa.gov/erddap\n",
      "could not get lon lat for dataset erdGodaeSfcobs in server https://upwell.pfeg.noaa.gov/erddap\n",
      "could not get lon lat for dataset LiquidR_HBG3_2015_ais in server https://upwell.pfeg.noaa.gov/erddap\n",
      "could not get lon lat for dataset cwwcNDBCMet in server https://upwell.pfeg.noaa.gov/erddap\n",
      "could not get lon lat for dataset ndbcSosWTemp in server https://upwell.pfeg.noaa.gov/erddap\n",
      "could not get lon lat for dataset ndbcSosWind in server https://upwell.pfeg.noaa.gov/erddap\n",
      "could not get lon lat for dataset ndbcSosCurrents in server https://upwell.pfeg.noaa.gov/erddap\n",
      "could not get lon lat for dataset ndbcSosSalinity in server https://upwell.pfeg.noaa.gov/erddap\n",
      "could not get lon lat for dataset ndbcSosWLevel in server https://upwell.pfeg.noaa.gov/erddap\n",
      "could not get lon lat for dataset nosSosATemp in server https://upwell.pfeg.noaa.gov/erddap\n",
      "could not get lon lat for dataset nosSosBPres in server https://upwell.pfeg.noaa.gov/erddap\n",
      "could not get lon lat for dataset nosSosWLevel in server https://upwell.pfeg.noaa.gov/erddap\n",
      "could not get lon lat for dataset nosSosWTemp in server https://upwell.pfeg.noaa.gov/erddap\n",
      "could not get lon lat for dataset nosSosCond in server https://upwell.pfeg.noaa.gov/erddap\n",
      "could not get lon lat for dataset nosSosSalinity in server https://upwell.pfeg.noaa.gov/erddap\n",
      "could not get lon lat for dataset neracoosSos in server https://upwell.pfeg.noaa.gov/erddap\n"
     ]
    }
   ],
   "source": [
    "MD = fill_lat_lonValue_to_AllDataset(MD,kw,constraint)\n",
    "#dataset_out = fill_lat_lonValue_to_Dataset(MD.servers[0], \\\n",
    "#                                                         MD.servers[0].datasets[0], kw, constraint)"
   ]
  },
  {
   "cell_type": "code",
   "execution_count": 5,
   "metadata": {},
   "outputs": [
    {
     "data": {
      "text/plain": [
       "<matplotlib.collections.PathCollection at 0x125fa6908>"
      ]
     },
     "execution_count": 5,
     "metadata": {},
     "output_type": "execute_result"
    },
    {
     "data": {
      "image/png": "[encoded data removed]",
      "text/plain": [
       "<Figure size 432x288 with 1 Axes>"
      ]
     },
     "metadata": {
      "needs_background": "light"
     },
     "output_type": "display_data"
    }
   ],
   "source": [
    "%matplotlib inline\n",
    "import matplotlib.pyplot as plt\n",
    "plt.scatter(MD.servers[0].datasets[0].lat, MD.servers[0].datasets[0].lon)\n",
    "\n",
    "#plt.scatter(dataset_out.lon, dataset_out.lat)\n",
    "\n",
    "\n"
   ]
  },
  {
   "cell_type": "code",
   "execution_count": 6,
   "metadata": {},
   "outputs": [
    {
     "data": {
      "text/plain": [
       "'https://coastwatch.pfeg.noaa.gov/erddap'"
      ]
     },
     "execution_count": 6,
     "metadata": {},
     "output_type": "execute_result"
    }
   ],
   "source": [
    "MD.servers[0].url"
   ]
  },
  {
   "cell_type": "code",
   "execution_count": 7,
   "metadata": {},
   "outputs": [
    {
     "data": {
      "text/plain": [
       "'scrippsGliders'"
      ]
     },
     "execution_count": 7,
     "metadata": {},
     "output_type": "execute_result"
    }
   ],
   "source": [
    "MD.servers[0].datasets[0].dataset_ID"
   ]
  },
  {
   "cell_type": "code",
   "execution_count": null,
   "metadata": {},
   "outputs": [],
   "source": []
  }
 ],
 "metadata": {
  "kernelspec": {
   "display_name": "Python 3",
   "language": "python",
   "name": "python3"
  },
  "language_info": {
   "codemirror_mode": {
    "name": "ipython",
    "version": 3
   },
   "file_extension": ".py",
   "mimetype": "text/x-python",
   "name": "python",
   "nbconvert_exporter": "python",
   "pygments_lexer": "ipython3",
   "version": "3.7.3"
  }
 },
 "nbformat": 4,
 "nbformat_minor": 2
}
