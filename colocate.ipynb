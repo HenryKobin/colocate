{
 "cells": [
  {
   "cell_type": "code",
   "execution_count": 1,
   "metadata": {},
   "outputs": [],
   "source": [
    "from colocate import erddap_query, run, ui"
   ]
  },
  {
   "cell_type": "code",
   "execution_count": 2,
   "metadata": {},
   "outputs": [
    {
     "data": {
      "application/vnd.jupyter.widget-view+json": {
       "model_id": "92d9896b82f24064bae43330b9370e7c",
       "version_major": 2,
       "version_minor": 0
      },
      "text/plain": [
       "Map(basemap={'url': 'https://{s}.tile.openstreetmap.org/{z}/{x}/{y}.png', 'max_zoom': 19, 'attribution': 'Map …"
      ]
     },
     "metadata": {},
     "output_type": "display_data"
    }
   ],
   "source": [
    "display(ui.m)"
   ]
  },
  {
   "cell_type": "code",
   "execution_count": 3,
   "metadata": {},
   "outputs": [
    {
     "data": {
      "application/vnd.jupyter.widget-view+json": {
       "model_id": "20755cef366048b28bb39ab52aea4d87",
       "version_major": 2,
       "version_minor": 0
      },
      "text/plain": [
       "SelectionRangeSlider(description='Starting date', index=(0, 25566), layout=Layout(width='90%'), options=(datet…"
      ]
     },
     "metadata": {},
     "output_type": "display_data"
    }
   ],
   "source": [
    "ui.dates"
   ]
  },
  {
   "cell_type": "code",
   "execution_count": 4,
   "metadata": {},
   "outputs": [
    {
     "data": {
      "application/vnd.jupyter.widget-view+json": {
       "model_id": "9e140f6d061b454cb553f6d06e33775f",
       "version_major": 2,
       "version_minor": 0
      },
      "text/plain": [
       "VBox(children=(Button(description='Get data', style=ButtonStyle()), Output()))"
      ]
     },
     "metadata": {},
     "output_type": "display_data"
    }
   ],
   "source": [
    "ui.button"
   ]
  },
  {
   "cell_type": "code",
   "execution_count": 6,
   "metadata": {},
   "outputs": [
    {
     "name": "stdout",
     "output_type": "stream",
     "text": [
      "Can I haz ERDDAPs???\n",
      "name: CoastWatch West Coast Node\n",
      "url: https://coastwatch.pfeg.noaa.gov/erddap/\n",
      "public: True\n",
      "name: ERDDAP at the Asia-Pacific Data-Research Center\n",
      "url: https://apdrc.soest.hawaii.edu/erddap/\n",
      "public: True\n",
      "name: NOAA's National Centers for Environmental Information (NCEI)\n",
      "url: https://www.ncei.noaa.gov/erddap/\n",
      "public: True\n",
      "name: Biological and Chemical Oceanography Data Management Office (BCO-DMO) ERDDAP\n",
      "url: https://erddap.bco-dmo.org/erddap/\n",
      "public: True\n",
      "name: European Marine Observation and Data Network (EMODnet) Physics ERDDAP\n",
      "url: https://erddap.emodnet-physics.eu/erddap/\n",
      "public: True\n",
      "name: Marine Institute - Ireland\n",
      "url: https://erddap.marine.ie/erddap/\n",
      "public: True\n",
      "name: CoastWatch Caribbean/Gulf of Mexico Node\n",
      "url: https://cwcgom.aoml.noaa.gov/erddap/\n",
      "public: True\n",
      "name: NOAA IOOS Sensors ERDDAP\n",
      "url: http://erddap.sensors.ioos.us/erddap/\n",
      "public: True\n",
      "name: NOAA IOOS CeNCOOS (Central and Northern California Ocean Observing System)\n",
      "url: http://erddap.axiomdatascience.com/erddap/\n",
      "public: True\n",
      "name: NOAA IOOS NERACOOS (Northeastern Regional Association of Coastal and Ocean Observing Systems)\n",
      "url: http://www.neracoos.org/erddap/\n",
      "public: True\n",
      "name: NOAA IOOS NGDAC (National Glider Data Assembly Center)\n",
      "url: https://data.ioos.us/gliders/erddap/\n",
      "public: True\n",
      "name: NOAA IOOS PacIOOS (Pacific Islands Ocean Observing System) at the University of Hawaii (UH)\n",
      "url: http://oos.soest.hawaii.edu/erddap/\n",
      "public: True\n",
      "name: Southern California Coastal Ocean Observing System (SCCOOS)\n",
      "url: http://sccoos.org/erddap/\n",
      "public: True\n",
      "name: NOAA IOOS SECOORA (Southeast Coastal Ocean Observing Regional Association)\n",
      "url: http://erddap.secoora.org/erddap/\n",
      "public: True\n",
      "name: NOAA NCEI (National Centers for Environmental Information) / NCDDC\n",
      "url: https://ecowatch.ncddc.noaa.gov/erddap/\n",
      "public: True\n",
      "name: NOAA OSMC (Observing System Monitoring Center)\n",
      "url: http://osmc.noaa.gov/erddap/\n",
      "public: True\n",
      "name: ONC (Ocean Networks Canada)\n",
      "url: http://dap.onc.uvic.ca/erddap/\n",
      "public: True\n",
      "name: \n",
      "url: https://oceanwatch.pifsc.noaa.gov/erddap/\n",
      "public: False\n",
      "name: Ocean Observatories Initiative (OOI)\n",
      "url: https://erddap-uncabled.oceanobservatories.org/uncabled/erddap/\n",
      "public: True\n",
      "name: Ocean Tracking Network\n",
      "url: https://members.oceantrack.org/erddap/\n",
      "public: True\n",
      "name: \n",
      "url: http://www.myroms.org:8080/erddap/\n",
      "public: False\n",
      "name: Department of Marine and Coastal Sciences, School of Environmental and Biological Sciences, Rutgers, The State University of New Jersey\n",
      "url: http://tds.marine.rutgers.edu/erddap/\n",
      "public: True\n",
      "name: \n",
      "url: https://comet.nefsc.noaa.gov/erddap/\n",
      "public: False\n",
      "name: NOAA's Center for Operational Oceanographic Products and Services\n",
      "url: https://opendap.co-ops.nos.noaa.gov/erddap/\n",
      "public: True\n",
      "name: \n",
      "url: http://gcoos5.geos.tamu.edu:6060/erddap/\n",
      "public: False\n",
      "name: \n",
      "url: http://gcoos4.tamu.edu:8080/erddap/\n",
      "public: False\n",
      "name: NOAA CoastWatch Great Lakes Node\n",
      "url: https://coastwatch.glerl.noaa.gov/erddap/\n",
      "public: True\n",
      "name: \n",
      "url: http://sfbaynutrients.sfei.org/erddap/\n",
      "public: False\n",
      "name: Spray Underwater Glider data from Instrument Development Group, Scripps Institute of Oceanography, University of California, San Diego\n",
      "url: https://spraydata.ucsd.edu/erddap/\n",
      "public: True\n",
      "name: UBC Earth, Ocean & Atmospheric Sciences SalishSeaCast Project\n",
      "url: https://salishsea.eos.ubc.ca/erddap/\n",
      "public: True\n",
      "name: UC Davis BML (University of California at Davis, Bodega Marine Laboratory)\n",
      "url: http://bmlsc.ucdavis.edu:8080/erddap/\n",
      "public: True\n",
      "name: NOAA UAF (Unified Access Framework)\n",
      "url: https://upwell.pfeg.noaa.gov/erddap/\n",
      "public: True\n",
      "name: Marine Domain Awareness (MDA) - Italy\n",
      "url: https://bluehub.jrc.ec.europa.eu/erddap/\n",
      "public: True\n",
      "name: R.Tech Engineering\n",
      "url: https://meteo.rtech.fr/erddap/\n",
      "public: True\n",
      "name: French Research Institute for the Exploitation of the Sea\n",
      "url: http://www.ifremer.fr/erddap/\n",
      "public: True\n",
      "\n",
      "\n",
      "********Run ERDDAP Advanced Serach via erddapy to find datasets***********\n",
      "35\n",
      "url: https://coastwatch.pfeg.noaa.gov/erddap/\n",
      "Bad ERDDAP!!! https://coastwatch.pfeg.noaa.gov/erddap\n",
      "Encountered: requests.exceptions.RequestException\n",
      "url: https://apdrc.soest.hawaii.edu/erddap/\n",
      "Bad ERDDAP!!! https://apdrc.soest.hawaii.edu/erddap\n",
      "Encountered: requests.exceptions.RequestException\n",
      "url: https://www.ncei.noaa.gov/erddap/\n",
      "Bad ERDDAP!!! https://www.ncei.noaa.gov/erddap\n",
      "Encountered: requests.exceptions.RequestException\n",
      "url: https://erddap.bco-dmo.org/erddap/\n",
      "Bad ERDDAP!!! https://erddap.bco-dmo.org/erddap\n",
      "Encountered: requests.exceptions.RequestException\n",
      "url: https://erddap.emodnet-physics.eu/erddap/\n",
      "Bad ERDDAP!!! https://erddap.emodnet-physics.eu/erddap\n",
      "Encountered: requests.exceptions.RequestException\n",
      "url: https://erddap.marine.ie/erddap/\n",
      "Bad ERDDAP!!! https://erddap.marine.ie/erddap\n",
      "Encountered: requests.exceptions.RequestException\n",
      "url: https://cwcgom.aoml.noaa.gov/erddap/\n",
      "Bad ERDDAP!!! https://cwcgom.aoml.noaa.gov/erddap\n",
      "Encountered: requests.exceptions.RequestException\n",
      "url: http://erddap.sensors.ioos.us/erddap/\n",
      "Bad ERDDAP!!! http://erddap.sensors.ioos.us/erddap\n",
      "Encountered: requests.exceptions.RequestException\n",
      "url: http://erddap.axiomdatascience.com/erddap/\n",
      "Bad ERDDAP!!! http://erddap.axiomdatascience.com/erddap\n",
      "Encountered: requests.exceptions.RequestException\n",
      "url: http://www.neracoos.org/erddap/\n",
      "Bad ERDDAP!!! http://www.neracoos.org/erddap\n",
      "Encountered: requests.exceptions.RequestException\n",
      "url: https://data.ioos.us/gliders/erddap/\n",
      "Bad ERDDAP!!! https://data.ioos.us/gliders/erddap\n",
      "Encountered: requests.exceptions.RequestException\n",
      "url: http://oos.soest.hawaii.edu/erddap/\n",
      "Bad ERDDAP!!! http://oos.soest.hawaii.edu/erddap\n",
      "Encountered: requests.exceptions.RequestException\n",
      "url: http://sccoos.org/erddap/\n",
      "Bad ERDDAP!!! http://sccoos.org/erddap\n",
      "Encountered: requests.exceptions.RequestException\n",
      "url: http://erddap.secoora.org/erddap/\n",
      "Bad ERDDAP!!! http://erddap.secoora.org/erddap\n",
      "Encountered: requests.exceptions.RequestException\n",
      "url: https://ecowatch.ncddc.noaa.gov/erddap/\n",
      "Bad ERDDAP!!! https://ecowatch.ncddc.noaa.gov/erddap\n",
      "Encountered: requests.exceptions.RequestException\n",
      "url: http://osmc.noaa.gov/erddap/\n",
      "Bad ERDDAP!!! http://osmc.noaa.gov/erddap\n",
      "Encountered: requests.exceptions.RequestException\n",
      "url: http://dap.onc.uvic.ca/erddap/\n",
      "Bad ERDDAP!!! http://dap.onc.uvic.ca/erddap\n",
      "Encountered: requests.exceptions.RequestException\n",
      "url: https://oceanwatch.pifsc.noaa.gov/erddap/\n",
      "Bad ERDDAP!!! https://oceanwatch.pifsc.noaa.gov/erddap\n",
      "Encountered: requests.exceptions.RequestException\n",
      "url: https://erddap-uncabled.oceanobservatories.org/uncabled/erddap/\n",
      "Bad ERDDAP!!! https://erddap-uncabled.oceanobservatories.org/uncabled/erddap\n",
      "Encountered: requests.exceptions.RequestException\n",
      "url: https://members.oceantrack.org/erddap/\n",
      "Bad ERDDAP!!! https://members.oceantrack.org/erddap\n",
      "Encountered: requests.exceptions.RequestException\n",
      "url: http://www.myroms.org:8080/erddap/\n",
      "Bad ERDDAP!!! http://www.myroms.org:8080/erddap\n",
      "Encountered: requests.exceptions.RequestException\n",
      "url: http://tds.marine.rutgers.edu/erddap/\n",
      "Bad ERDDAP!!! http://tds.marine.rutgers.edu/erddap\n",
      "Encountered: requests.exceptions.RequestException\n",
      "url: https://comet.nefsc.noaa.gov/erddap/\n",
      "Bad ERDDAP!!! https://comet.nefsc.noaa.gov/erddap\n",
      "Encountered: requests.exceptions.RequestException\n",
      "url: https://opendap.co-ops.nos.noaa.gov/erddap/\n",
      "Bad ERDDAP!!! https://opendap.co-ops.nos.noaa.gov/erddap\n",
      "Encountered: requests.exceptions.RequestException\n",
      "url: http://gcoos5.geos.tamu.edu:6060/erddap/\n",
      "Bad ERDDAP!!! http://gcoos5.geos.tamu.edu:6060/erddap\n",
      "Encountered: requests.exceptions.RequestException\n",
      "url: http://gcoos4.tamu.edu:8080/erddap/\n",
      "Bad ERDDAP!!! http://gcoos4.tamu.edu:8080/erddap\n",
      "Encountered: requests.exceptions.RequestException\n",
      "url: https://coastwatch.glerl.noaa.gov/erddap/\n",
      "Bad ERDDAP!!! https://coastwatch.glerl.noaa.gov/erddap\n",
      "Encountered: requests.exceptions.RequestException\n",
      "url: http://sfbaynutrients.sfei.org/erddap/\n",
      "Bad ERDDAP!!! http://sfbaynutrients.sfei.org/erddap\n",
      "Encountered: requests.exceptions.RequestException\n",
      "url: https://spraydata.ucsd.edu/erddap/\n",
      "Bad ERDDAP!!! https://spraydata.ucsd.edu/erddap\n",
      "Encountered: requests.exceptions.RequestException\n",
      "url: https://salishsea.eos.ubc.ca/erddap/\n",
      "Bad ERDDAP!!! https://salishsea.eos.ubc.ca/erddap\n",
      "Encountered: requests.exceptions.RequestException\n",
      "url: http://bmlsc.ucdavis.edu:8080/erddap/\n",
      "Bad ERDDAP!!! http://bmlsc.ucdavis.edu:8080/erddap\n",
      "Encountered: requests.exceptions.RequestException\n",
      "url: https://upwell.pfeg.noaa.gov/erddap/\n"
     ]
    },
    {
     "name": "stdout",
     "output_type": "stream",
     "text": [
      "Bad ERDDAP!!! https://upwell.pfeg.noaa.gov/erddap\n",
      "Encountered: requests.exceptions.RequestException\n",
      "url: https://bluehub.jrc.ec.europa.eu/erddap/\n",
      "Bad ERDDAP!!! https://bluehub.jrc.ec.europa.eu/erddap\n",
      "Encountered: requests.exceptions.RequestException\n",
      "url: https://meteo.rtech.fr/erddap/\n",
      "Bad ERDDAP!!! https://meteo.rtech.fr/erddap\n",
      "Encountered: requests.exceptions.RequestException\n"
     ]
    }
   ],
   "source": [
    "ds = run.ui_query(ui.kw)\n"
   ]
  },
  {
   "cell_type": "code",
   "execution_count": null,
   "metadata": {},
   "outputs": [],
   "source": [
    "ds"
   ]
  },
  {
   "cell_type": "code",
   "execution_count": null,
   "metadata": {},
   "outputs": [],
   "source": []
  }
 ],
 "metadata": {
  "kernelspec": {
   "display_name": "Python 3",
   "language": "python",
   "name": "python3"
  },
  "language_info": {
   "codemirror_mode": {
    "name": "ipython",
    "version": 3
   },
   "file_extension": ".py",
   "mimetype": "text/x-python",
   "name": "python",
   "nbconvert_exporter": "python",
   "pygments_lexer": "ipython3",
   "version": "3.7.3"
  }
 },
 "nbformat": 4,
 "nbformat_minor": 4
}
