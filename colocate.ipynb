{
 "cells": [
  {
   "cell_type": "code",
   "execution_count": 1,
   "metadata": {},
   "outputs": [],
   "source": [
    "from colocate import ui, erddap_query"
   ]
  },
  {
   "cell_type": "code",
   "execution_count": 2,
   "metadata": {},
   "outputs": [
    {
     "data": {
      "application/vnd.jupyter.widget-view+json": {
       "model_id": "d0f6479acd0a4bf1968383ae430476a7",
       "version_major": 2,
       "version_minor": 0
      },
      "text/plain": [
       "Map(basemap={'url': 'https://{s}.tile.openstreetmap.org/{z}/{x}/{y}.png', 'max_zoom': 19, 'attribution': 'Map …"
      ]
     },
     "metadata": {},
     "output_type": "display_data"
    }
   ],
   "source": [
    "ui.m"
   ]
  },
  {
   "cell_type": "code",
   "execution_count": 3,
   "metadata": {},
   "outputs": [
    {
     "data": {
      "application/vnd.jupyter.widget-view+json": {
       "model_id": "683abcfb78db4199a1ef95aa2bbddd5c",
       "version_major": 2,
       "version_minor": 0
      },
      "text/plain": [
       "SelectionRangeSlider(description='Starting date', index=(0, 25566), layout=Layout(width='90%'), options=(datet…"
      ]
     },
     "metadata": {},
     "output_type": "display_data"
    }
   ],
   "source": [
    "ui.dates"
   ]
  },
  {
   "cell_type": "code",
   "execution_count": 4,
   "metadata": {},
   "outputs": [
    {
     "data": {
      "application/vnd.jupyter.widget-view+json": {
       "model_id": "f64e446d8bf34e65ac6380c07dd73bc3",
       "version_major": 2,
       "version_minor": 0
      },
      "text/plain": [
       "Dropdown(description='CF Standard Names:', options=('sea_water_salinity', 'sea_water_temperature', 'mass_conce…"
      ]
     },
     "metadata": {},
     "output_type": "display_data"
    }
   ],
   "source": [
    "ui.drpdwn"
   ]
  },
  {
   "cell_type": "code",
   "execution_count": 5,
   "metadata": {},
   "outputs": [
    {
     "data": {
      "application/vnd.jupyter.widget-view+json": {
       "model_id": "dcd95076f73d44048ad01bc9af2488dd",
       "version_major": 2,
       "version_minor": 0
      },
      "text/plain": [
       "VBox(children=(Button(description='Get data', style=ButtonStyle()), Output()))"
      ]
     },
     "metadata": {},
     "output_type": "display_data"
    },
    {
     "name": "stdout",
     "output_type": "stream",
     "text": [
      "Can I haz ERDDAPs???\n",
      "i: 0\n",
      "name: CoastWatch West Coast Node\n",
      "url: https://coastwatch.pfeg.noaa.gov/erddap/\n",
      "public: True\n",
      "i: 1\n",
      "name: ERDDAP at the Asia-Pacific Data-Research Center\n",
      "url: https://apdrc.soest.hawaii.edu/erddap/\n",
      "public: True\n",
      "i: 2\n",
      "name: NOAA's National Centers for Environmental Information (NCEI)\n",
      "url: https://www.ncei.noaa.gov/erddap/\n",
      "public: True\n",
      "i: 3\n",
      "name: Biological and Chemical Oceanography Data Management Office (BCO-DMO) ERDDAP\n",
      "url: https://erddap.bco-dmo.org/erddap/\n",
      "public: True\n",
      "i: 4\n",
      "name: European Marine Observation and Data Network (EMODnet) Physics ERDDAP\n",
      "url: https://erddap.emodnet-physics.eu/erddap/\n",
      "public: True\n",
      "i: 5\n",
      "name: Marine Institute - Ireland\n",
      "url: https://erddap.marine.ie/erddap/\n",
      "public: True\n",
      "i: 6\n",
      "name: CoastWatch Caribbean/Gulf of Mexico Node\n",
      "url: https://cwcgom.aoml.noaa.gov/erddap/\n",
      "public: True\n",
      "i: 7\n",
      "name: NOAA IOOS Sensors ERDDAP\n",
      "url: http://erddap.sensors.ioos.us/erddap/\n",
      "public: True\n",
      "i: 8\n",
      "name: NOAA IOOS CeNCOOS (Central and Northern California Ocean Observing System)\n",
      "url: http://erddap.axiomdatascience.com/erddap/\n",
      "public: True\n",
      "i: 9\n",
      "name: NOAA IOOS NERACOOS (Northeastern Regional Association of Coastal and Ocean Observing Systems)\n",
      "url: http://www.neracoos.org/erddap/\n",
      "public: True\n",
      "i: 10\n",
      "name: NOAA IOOS NGDAC (National Glider Data Assembly Center)\n",
      "url: https://data.ioos.us/gliders/erddap/\n",
      "public: True\n",
      "i: 11\n",
      "name: NOAA IOOS PacIOOS (Pacific Islands Ocean Observing System) at the University of Hawaii (UH)\n",
      "url: http://oos.soest.hawaii.edu/erddap/\n",
      "public: True\n",
      "i: 12\n",
      "name: Southern California Coastal Ocean Observing System (SCCOOS)\n",
      "url: http://sccoos.org/erddap/\n",
      "public: True\n",
      "i: 13\n",
      "name: NOAA IOOS SECOORA (Southeast Coastal Ocean Observing Regional Association)\n",
      "url: http://erddap.secoora.org/erddap/\n",
      "public: True\n",
      "i: 14\n",
      "name: NOAA NCEI (National Centers for Environmental Information) / NCDDC\n",
      "url: https://ecowatch.ncddc.noaa.gov/erddap/\n",
      "public: True\n",
      "i: 15\n",
      "name: NOAA OSMC (Observing System Monitoring Center)\n",
      "url: http://osmc.noaa.gov/erddap/\n",
      "public: True\n",
      "i: 16\n",
      "name: ONC (Ocean Networks Canada)\n",
      "url: http://dap.onc.uvic.ca/erddap/\n",
      "public: True\n",
      "i: 17\n",
      "name: \n",
      "url: https://oceanwatch.pifsc.noaa.gov/erddap/\n",
      "public: False\n",
      "i: 18\n",
      "name: Ocean Observatories Initiative (OOI)\n",
      "url: https://erddap-uncabled.oceanobservatories.org/uncabled/erddap/\n",
      "public: True\n",
      "i: 19\n",
      "name: Ocean Tracking Network\n",
      "url: https://members.oceantrack.org/erddap/\n",
      "public: True\n",
      "i: 20\n",
      "name: \n",
      "url: http://www.myroms.org:8080/erddap/\n",
      "public: False\n",
      "i: 21\n",
      "name: Department of Marine and Coastal Sciences, School of Environmental and Biological Sciences, Rutgers, The State University of New Jersey\n",
      "url: http://tds.marine.rutgers.edu/erddap/\n",
      "public: True\n",
      "i: 22\n",
      "name: \n",
      "url: https://comet.nefsc.noaa.gov/erddap/\n",
      "public: False\n",
      "i: 23\n",
      "name: NOAA's Center for Operational Oceanographic Products and Services\n",
      "url: https://opendap.co-ops.nos.noaa.gov/erddap/\n",
      "public: True\n",
      "i: 24\n",
      "name: \n",
      "url: http://gcoos5.geos.tamu.edu:6060/erddap/\n",
      "public: False\n",
      "i: 25\n",
      "name: \n",
      "url: http://gcoos4.tamu.edu:8080/erddap/\n",
      "public: False\n",
      "i: 26\n",
      "name: NOAA CoastWatch Great Lakes Node\n",
      "url: https://coastwatch.glerl.noaa.gov/erddap/\n",
      "public: True\n",
      "i: 27\n",
      "name: \n",
      "url: http://sfbaynutrients.sfei.org/erddap/\n",
      "public: False\n",
      "i: 28\n",
      "name: Spray Underwater Glider data from Instrument Development Group, Scripps Institute of Oceanography, University of California, San Diego\n",
      "url: https://spraydata.ucsd.edu/erddap/\n",
      "public: True\n",
      "i: 29\n",
      "name: UBC Earth, Ocean & Atmospheric Sciences SalishSeaCast Project\n",
      "url: https://salishsea.eos.ubc.ca/erddap/\n",
      "public: True\n",
      "i: 30\n",
      "name: UC Davis BML (University of California at Davis, Bodega Marine Laboratory)\n",
      "url: http://bmlsc.ucdavis.edu:8080/erddap/\n",
      "public: True\n",
      "i: 31\n",
      "name: NOAA UAF (Unified Access Framework)\n",
      "url: https://upwell.pfeg.noaa.gov/erddap/\n",
      "public: True\n",
      "i: 32\n",
      "name: Marine Domain Awareness (MDA) - Italy\n",
      "url: https://bluehub.jrc.ec.europa.eu/erddap/\n",
      "public: True\n",
      "i: 33\n",
      "name: R.Tech Engineering\n",
      "url: https://meteo.rtech.fr/erddap/\n",
      "public: True\n",
      "i: 34\n",
      "name: French Research Institute for the Exploitation of the Sea\n",
      "url: http://www.ifremer.fr/erddap/\n",
      "public: True\n",
      "\n",
      "\n",
      "********Run ERDDAP Advanced Serach via erddapy to find datasets***********\n",
      "35\n",
      "url: https://salishsea.eos.ubc.ca/erddap/\n",
      "https://salishsea.eos.ubc.ca/erddap/search/advanced.csv?page=1&itemsPerPage=1000&protocol=(ANY)&cdm_data_type=(ANY)&institution=(ANY)&ioos_category=(ANY)&keywords=(ANY)&long_name=(ANY)&standard_name=sea_water_salinity&variableName=(ANY)&minLon=-123.77792899999997&maxLon=-119.733003&minLat=49.04459&maxLat=51.26833099999999&minTime=1448668800.0&maxTime=1577750400.0&searchFor=all\n"
     ]
    }
   ],
   "source": [
    "ui.button"
   ]
  },
  {
   "cell_type": "code",
   "execution_count": 9,
   "metadata": {},
   "outputs": [
    {
     "data": {
      "text/plain": [
       "{'search_for': 'all',\n",
       " 'min_lon': -123.77792899999997,\n",
       " 'max_lon': -119.733003,\n",
       " 'min_lat': 49.04459,\n",
       " 'max_lat': 51.26833099999999,\n",
       " 'min_time': '2015-11-28T00:00:00Z',\n",
       " 'max_time': '2019-12-31T00:00:00Z',\n",
       " 'standard_name': 'sea_water_salinity'}"
      ]
     },
     "execution_count": 9,
     "metadata": {},
     "output_type": "execute_result"
    }
   ],
   "source": [
    "ui.kw"
   ]
  },
  {
   "cell_type": "code",
   "execution_count": 10,
   "metadata": {},
   "outputs": [
    {
     "data": {
      "text/html": [
       "<div>\n",
       "<style scoped>\n",
       "    .dataframe tbody tr th:only-of-type {\n",
       "        vertical-align: middle;\n",
       "    }\n",
       "\n",
       "    .dataframe tbody tr th {\n",
       "        vertical-align: top;\n",
       "    }\n",
       "\n",
       "    .dataframe thead th {\n",
       "        text-align: right;\n",
       "    }\n",
       "</style>\n",
       "<table border=\"1\" class=\"dataframe\">\n",
       "  <thead>\n",
       "    <tr style=\"text-align: right;\">\n",
       "      <th></th>\n",
       "      <th>server</th>\n",
       "      <th>Dataset ID</th>\n",
       "      <th>tabledap</th>\n",
       "      <th>Institution</th>\n",
       "      <th>Summary</th>\n",
       "    </tr>\n",
       "  </thead>\n",
       "  <tbody>\n",
       "    <tr>\n",
       "      <td>6</td>\n",
       "      <td>https://salishsea.eos.ubc.ca/erddap</td>\n",
       "      <td>ubcONCTWDP1mV18-01</td>\n",
       "      <td>https://salishsea.eos.ubc.ca/erddap/tabledap/u...</td>\n",
       "      <td>UBC EOAS</td>\n",
       "      <td>ONC, Strait of Georgia, BC Ferries, Tsawwassen...</td>\n",
       "    </tr>\n",
       "    <tr>\n",
       "      <td>7</td>\n",
       "      <td>https://salishsea.eos.ubc.ca/erddap</td>\n",
       "      <td>ubcONCLSBBLCTD15mV1</td>\n",
       "      <td>https://salishsea.eos.ubc.ca/erddap/tabledap/u...</td>\n",
       "      <td>UBC EOAS</td>\n",
       "      <td>ONC, Strait of Georgia, Fraser River Delta Low...</td>\n",
       "    </tr>\n",
       "    <tr>\n",
       "      <td>8</td>\n",
       "      <td>https://salishsea.eos.ubc.ca/erddap</td>\n",
       "      <td>ubcONCUSDDLCTD15mV1</td>\n",
       "      <td>https://salishsea.eos.ubc.ca/erddap/tabledap/u...</td>\n",
       "      <td>UBC EOAS</td>\n",
       "      <td>ONC, Strait of Georgia, Fraser River Delta Upp...</td>\n",
       "    </tr>\n",
       "    <tr>\n",
       "      <td>9</td>\n",
       "      <td>https://salishsea.eos.ubc.ca/erddap</td>\n",
       "      <td>ubcVFPA2ndNarrowsCurrent2sV1</td>\n",
       "      <td>https://salishsea.eos.ubc.ca/erddap/tabledap/u...</td>\n",
       "      <td>UCB EOAS &amp; DFO IOS</td>\n",
       "      <td>VFPA, Vancouver Harbour, 2nd Narrows Rail Brid...</td>\n",
       "    </tr>\n",
       "  </tbody>\n",
       "</table>\n",
       "</div>"
      ],
      "text/plain": [
       "                                server                    Dataset ID  \\\n",
       "6  https://salishsea.eos.ubc.ca/erddap            ubcONCTWDP1mV18-01   \n",
       "7  https://salishsea.eos.ubc.ca/erddap           ubcONCLSBBLCTD15mV1   \n",
       "8  https://salishsea.eos.ubc.ca/erddap           ubcONCUSDDLCTD15mV1   \n",
       "9  https://salishsea.eos.ubc.ca/erddap  ubcVFPA2ndNarrowsCurrent2sV1   \n",
       "\n",
       "                                            tabledap         Institution  \\\n",
       "6  https://salishsea.eos.ubc.ca/erddap/tabledap/u...            UBC EOAS   \n",
       "7  https://salishsea.eos.ubc.ca/erddap/tabledap/u...            UBC EOAS   \n",
       "8  https://salishsea.eos.ubc.ca/erddap/tabledap/u...            UBC EOAS   \n",
       "9  https://salishsea.eos.ubc.ca/erddap/tabledap/u...  UCB EOAS & DFO IOS   \n",
       "\n",
       "                                             Summary  \n",
       "6  ONC, Strait of Georgia, BC Ferries, Tsawwassen...  \n",
       "7  ONC, Strait of Georgia, Fraser River Delta Low...  \n",
       "8  ONC, Strait of Georgia, Fraser River Delta Upp...  \n",
       "9  VFPA, Vancouver Harbour, 2nd Narrows Rail Brid...  "
      ]
     },
     "execution_count": 10,
     "metadata": {},
     "output_type": "execute_result"
    }
   ],
   "source": [
    "ui.df"
   ]
  },
  {
   "cell_type": "code",
   "execution_count": 11,
   "metadata": {},
   "outputs": [],
   "source": [
    "all_coords = erddap_query.get_coordinates(ui.df,ui.kw)"
   ]
  },
  {
   "cell_type": "code",
   "execution_count": 12,
   "metadata": {},
   "outputs": [
    {
     "data": {
      "text/html": [
       "<div>\n",
       "<style scoped>\n",
       "    .dataframe tbody tr th:only-of-type {\n",
       "        vertical-align: middle;\n",
       "    }\n",
       "\n",
       "    .dataframe tbody tr th {\n",
       "        vertical-align: top;\n",
       "    }\n",
       "\n",
       "    .dataframe thead th {\n",
       "        text-align: right;\n",
       "    }\n",
       "</style>\n",
       "<table border=\"1\" class=\"dataframe\">\n",
       "  <thead>\n",
       "    <tr style=\"text-align: right;\">\n",
       "      <th></th>\n",
       "      <th>latitude (degrees_north)</th>\n",
       "      <th>longitude (degrees_east)</th>\n",
       "      <th>dataset_count</th>\n",
       "      <th>dataset_download_url</th>\n",
       "      <th>Dataset ID</th>\n",
       "    </tr>\n",
       "  </thead>\n",
       "  <tbody>\n",
       "    <tr>\n",
       "      <td>0</td>\n",
       "      <td>49.044590</td>\n",
       "      <td>-123.304562</td>\n",
       "      <td>0</td>\n",
       "      <td>https://salishsea.eos.ubc.ca/erddap/tabledap/u...</td>\n",
       "      <td>ubcONCTWDP1mV18-01</td>\n",
       "    </tr>\n",
       "    <tr>\n",
       "      <td>1</td>\n",
       "      <td>49.044591</td>\n",
       "      <td>-123.381424</td>\n",
       "      <td>0</td>\n",
       "      <td>https://salishsea.eos.ubc.ca/erddap/tabledap/u...</td>\n",
       "      <td>ubcONCTWDP1mV18-01</td>\n",
       "    </tr>\n",
       "    <tr>\n",
       "      <td>2</td>\n",
       "      <td>49.044593</td>\n",
       "      <td>-123.380439</td>\n",
       "      <td>0</td>\n",
       "      <td>https://salishsea.eos.ubc.ca/erddap/tabledap/u...</td>\n",
       "      <td>ubcONCTWDP1mV18-01</td>\n",
       "    </tr>\n",
       "    <tr>\n",
       "      <td>3</td>\n",
       "      <td>49.044594</td>\n",
       "      <td>-123.371066</td>\n",
       "      <td>0</td>\n",
       "      <td>https://salishsea.eos.ubc.ca/erddap/tabledap/u...</td>\n",
       "      <td>ubcONCTWDP1mV18-01</td>\n",
       "    </tr>\n",
       "    <tr>\n",
       "      <td>4</td>\n",
       "      <td>49.044594</td>\n",
       "      <td>-123.301185</td>\n",
       "      <td>0</td>\n",
       "      <td>https://salishsea.eos.ubc.ca/erddap/tabledap/u...</td>\n",
       "      <td>ubcONCTWDP1mV18-01</td>\n",
       "    </tr>\n",
       "  </tbody>\n",
       "</table>\n",
       "</div>"
      ],
      "text/plain": [
       "   latitude (degrees_north)  longitude (degrees_east)  dataset_count  \\\n",
       "0                 49.044590               -123.304562              0   \n",
       "1                 49.044591               -123.381424              0   \n",
       "2                 49.044593               -123.380439              0   \n",
       "3                 49.044594               -123.371066              0   \n",
       "4                 49.044594               -123.301185              0   \n",
       "\n",
       "                                dataset_download_url          Dataset ID  \n",
       "0  https://salishsea.eos.ubc.ca/erddap/tabledap/u...  ubcONCTWDP1mV18-01  \n",
       "1  https://salishsea.eos.ubc.ca/erddap/tabledap/u...  ubcONCTWDP1mV18-01  \n",
       "2  https://salishsea.eos.ubc.ca/erddap/tabledap/u...  ubcONCTWDP1mV18-01  \n",
       "3  https://salishsea.eos.ubc.ca/erddap/tabledap/u...  ubcONCTWDP1mV18-01  \n",
       "4  https://salishsea.eos.ubc.ca/erddap/tabledap/u...  ubcONCTWDP1mV18-01  "
      ]
     },
     "execution_count": 12,
     "metadata": {},
     "output_type": "execute_result"
    }
   ],
   "source": [
    "all_coords.head()"
   ]
  },
  {
   "cell_type": "code",
   "execution_count": null,
   "metadata": {},
   "outputs": [],
   "source": []
  }
 ],
 "metadata": {
  "kernelspec": {
   "display_name": "Python 3",
   "language": "python",
   "name": "python3"
  },
  "language_info": {
   "codemirror_mode": {
    "name": "ipython",
    "version": 3
   },
   "file_extension": ".py",
   "mimetype": "text/x-python",
   "name": "python",
   "nbconvert_exporter": "python",
   "pygments_lexer": "ipython3",
   "version": "3.7.3"
  }
 },
 "nbformat": 4,
 "nbformat_minor": 4
}
