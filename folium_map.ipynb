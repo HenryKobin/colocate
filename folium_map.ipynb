{
 "cells": [
  {
   "cell_type": "markdown",
   "metadata": {},
   "source": [
    "### Folium Map for output lat/lon\n",
    "Making a test map and then a map with test data"
   ]
  },
  {
   "cell_type": "code",
   "execution_count": 1,
   "metadata": {},
   "outputs": [],
   "source": [
    "import folium\n",
    "import pandas as pd"
   ]
  },
  {
   "cell_type": "code",
   "execution_count": 2,
   "metadata": {
    "scrolled": true
   },
   "outputs": [
    {
     "data": {
      "text/html": [
       "<div style=\"width:100%;\"><div style=\"position:relative;width:100%;height:0;padding-bottom:60%;\"><iframe src=\"data:text/html;charset=utf-8;base64,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\" style=\"position:absolute;width:100%;height:100%;left:0;top:0;border:none !important;\" allowfullscreen webkitallowfullscreen mozallowfullscreen></iframe></div></div>"
      ],
      "text/plain": [
       "<folium.folium.Map at 0x10f7bbcf8>"
      ]
     },
     "execution_count": 2,
     "metadata": {},
     "output_type": "execute_result"
    }
   ],
   "source": [
    "# Make an empty map\n",
    "m = folium.Map(location=[20, 0], zoom_start=2)\n",
    "\n",
    "# Make a data frame with dots to show on the map\n",
    "data = pd.DataFrame({\n",
    "    'lat':[-122, -122.1, -125, -125, -4.03, -73.57, 36.82, -38.5],\n",
    "    'lon':[47, 47.3, 47.99, 50, 5.33, 45.52, -1.29, -12.97],\n",
    "    'name':['one', 'two', 'three', 'four', 'five', 'six', 'seven', 'eight']\n",
    "    })\n",
    "\n",
    "# Add data markers onto the map\n",
    "for i in range(0,len(data)):\n",
    "    folium.Marker([data.iloc[i]['lon'], data.iloc[i]['lat']], popup=data.iloc[i]['name']).add_to(m)\n",
    "\n",
    "# Display the box for the search query\n",
    "locations = [\n",
    "    [(47, -122), (47, -150)],\n",
    "    [(47, -122), (40, -122)],\n",
    "    [(47, -150), (40, -150)],\n",
    "    [(40, -150), (40, -122)]]\n",
    "folium.PolyLine(\n",
    "    locations=locations,\n",
    "    color=\"blue\",\n",
    "    weight=4,\n",
    "    opacity=1,\n",
    "    smooth_factor=0,\n",
    ").add_to(m)\n",
    "\n",
    "m\n",
    "# Save it as html\n",
    "#m.save('markers_on_folium_map.html')\n"
   ]
  },
  {
   "cell_type": "markdown",
   "metadata": {},
   "source": [
    "### Making with preliminary data"
   ]
  },
  {
   "cell_type": "code",
   "execution_count": 5,
   "metadata": {
    "scrolled": true
   },
   "outputs": [
    {
     "data": {
      "text/html": [
       "<div>\n",
       "<style scoped>\n",
       "    .dataframe tbody tr th:only-of-type {\n",
       "        vertical-align: middle;\n",
       "    }\n",
       "\n",
       "    .dataframe tbody tr th {\n",
       "        vertical-align: top;\n",
       "    }\n",
       "\n",
       "    .dataframe thead th {\n",
       "        text-align: right;\n",
       "    }\n",
       "</style>\n",
       "<table border=\"1\" class=\"dataframe\">\n",
       "  <thead>\n",
       "    <tr style=\"text-align: right;\">\n",
       "      <th></th>\n",
       "      <th>Unnamed: 0</th>\n",
       "      <th>latitude (degrees_north)</th>\n",
       "      <th>longitude (degrees_east)</th>\n",
       "      <th>dataset_count</th>\n",
       "      <th>dataset_download_url</th>\n",
       "      <th>Dataset ID</th>\n",
       "    </tr>\n",
       "  </thead>\n",
       "  <tbody>\n",
       "    <tr>\n",
       "      <td>0</td>\n",
       "      <td>0</td>\n",
       "      <td>39.025</td>\n",
       "      <td>-71.711</td>\n",
       "      <td>1</td>\n",
       "      <td>https://coastwatch.pfeg.noaa.gov/erddap/tabled...</td>\n",
       "      <td>erdGtsppBest</td>\n",
       "    </tr>\n",
       "    <tr>\n",
       "      <td>1</td>\n",
       "      <td>1</td>\n",
       "      <td>39.244</td>\n",
       "      <td>-71.315</td>\n",
       "      <td>1</td>\n",
       "      <td>https://coastwatch.pfeg.noaa.gov/erddap/tabled...</td>\n",
       "      <td>erdGtsppBest</td>\n",
       "    </tr>\n",
       "    <tr>\n",
       "      <td>2</td>\n",
       "      <td>2</td>\n",
       "      <td>39.296</td>\n",
       "      <td>-70.464</td>\n",
       "      <td>1</td>\n",
       "      <td>https://coastwatch.pfeg.noaa.gov/erddap/tabled...</td>\n",
       "      <td>erdGtsppBest</td>\n",
       "    </tr>\n",
       "    <tr>\n",
       "      <td>3</td>\n",
       "      <td>3</td>\n",
       "      <td>39.645</td>\n",
       "      <td>-71.664</td>\n",
       "      <td>1</td>\n",
       "      <td>https://coastwatch.pfeg.noaa.gov/erddap/tabled...</td>\n",
       "      <td>erdGtsppBest</td>\n",
       "    </tr>\n",
       "    <tr>\n",
       "      <td>4</td>\n",
       "      <td>4</td>\n",
       "      <td>39.668</td>\n",
       "      <td>-70.735</td>\n",
       "      <td>1</td>\n",
       "      <td>https://coastwatch.pfeg.noaa.gov/erddap/tabled...</td>\n",
       "      <td>erdGtsppBest</td>\n",
       "    </tr>\n",
       "    <tr>\n",
       "      <td>5</td>\n",
       "      <td>5</td>\n",
       "      <td>39.706</td>\n",
       "      <td>-71.464</td>\n",
       "      <td>1</td>\n",
       "      <td>https://coastwatch.pfeg.noaa.gov/erddap/tabled...</td>\n",
       "      <td>erdGtsppBest</td>\n",
       "    </tr>\n",
       "    <tr>\n",
       "      <td>6</td>\n",
       "      <td>0</td>\n",
       "      <td>40.503</td>\n",
       "      <td>-69.248</td>\n",
       "      <td>3</td>\n",
       "      <td>http://erddap.emodnet-physics.eu/erddap/tabled...</td>\n",
       "      <td>EP_INSITU_DRYT_TS</td>\n",
       "    </tr>\n",
       "  </tbody>\n",
       "</table>\n",
       "</div>"
      ],
      "text/plain": [
       "   Unnamed: 0  latitude (degrees_north)  longitude (degrees_east)  \\\n",
       "0           0                    39.025                   -71.711   \n",
       "1           1                    39.244                   -71.315   \n",
       "2           2                    39.296                   -70.464   \n",
       "3           3                    39.645                   -71.664   \n",
       "4           4                    39.668                   -70.735   \n",
       "5           5                    39.706                   -71.464   \n",
       "6           0                    40.503                   -69.248   \n",
       "\n",
       "   dataset_count                               dataset_download_url  \\\n",
       "0              1  https://coastwatch.pfeg.noaa.gov/erddap/tabled...   \n",
       "1              1  https://coastwatch.pfeg.noaa.gov/erddap/tabled...   \n",
       "2              1  https://coastwatch.pfeg.noaa.gov/erddap/tabled...   \n",
       "3              1  https://coastwatch.pfeg.noaa.gov/erddap/tabled...   \n",
       "4              1  https://coastwatch.pfeg.noaa.gov/erddap/tabled...   \n",
       "5              1  https://coastwatch.pfeg.noaa.gov/erddap/tabled...   \n",
       "6              3  http://erddap.emodnet-physics.eu/erddap/tabled...   \n",
       "\n",
       "          Dataset ID  \n",
       "0       erdGtsppBest  \n",
       "1       erdGtsppBest  \n",
       "2       erdGtsppBest  \n",
       "3       erdGtsppBest  \n",
       "4       erdGtsppBest  \n",
       "5       erdGtsppBest  \n",
       "6  EP_INSITU_DRYT_TS  "
      ]
     },
     "execution_count": 5,
     "metadata": {},
     "output_type": "execute_result"
    }
   ],
   "source": [
    "coordinates = pd.read_csv('coordinates.csv')\n",
    "coordinates"
   ]
  },
  {
   "cell_type": "code",
   "execution_count": 13,
   "metadata": {},
   "outputs": [
    {
     "data": {
      "text/plain": [
       "[(40.503, -71.711), (40.503, -69.248), (39.025, -71.711), (39.025, -69.248)]"
      ]
     },
     "execution_count": 13,
     "metadata": {},
     "output_type": "execute_result"
    }
   ],
   "source": [
    "# Make bounding box for query\n",
    "bbox=[0,0,0,0]\n",
    "bbox[0]=(max(coordinates['latitude (degrees_north)']),min(coordinates['longitude (degrees_east)']))\n",
    "bbox[1]=(max(coordinates['latitude (degrees_north)']),max(coordinates['longitude (degrees_east)']))\n",
    "bbox[2]=(min(coordinates['latitude (degrees_north)']),min(coordinates['longitude (degrees_east)']))\n",
    "bbox[3]=(min(coordinates['latitude (degrees_north)']),max(coordinates['longitude (degrees_east)']))\n",
    "bbox"
   ]
  },
  {
   "cell_type": "code",
   "execution_count": 14,
   "metadata": {},
   "outputs": [
    {
     "data": {
      "text/html": [
       "<div style=\"width:100%;\"><div style=\"position:relative;width:100%;height:0;padding-bottom:60%;\"><iframe src=\"data:text/html;charset=utf-8;base64,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\" style=\"position:absolute;width:100%;height:100%;left:0;top:0;border:none !important;\" allowfullscreen webkitallowfullscreen mozallowfullscreen></iframe></div></div>"
      ],
      "text/plain": [
       "<folium.folium.Map at 0x10f9431d0>"
      ]
     },
     "execution_count": 14,
     "metadata": {},
     "output_type": "execute_result"
    }
   ],
   "source": [
    "# Make an empty map\n",
    "m = folium.Map(location=[20, 0], zoom_start=2)\n",
    "\n",
    "# Add data markers onto the map\n",
    "for i in range(0,len(coordinates)):\n",
    "    folium.Marker([coordinates.iloc[i]['latitude (degrees_north)'], \n",
    "                   coordinates.iloc[i]['longitude (degrees_east)']],\n",
    "                   popup=coordinates.iloc[i]['dataset_download_url']).add_to(m)\n",
    "\n",
    "# Display the box for the search query\n",
    "locations = [\n",
    "    (bbox[1], bbox[0]),\n",
    "    (bbox[2], bbox[0]),\n",
    "    (bbox[3], bbox[1]),\n",
    "    (bbox[2], bbox[3])]\n",
    "folium.PolyLine(\n",
    "    locations=locations,\n",
    "    color=\"blue\",\n",
    "    weight=4,\n",
    "    opacity=1,\n",
    "    smooth_factor=0,\n",
    ").add_to(m)\n",
    "\n",
    "m\n",
    "# Save it as html\n",
    "#m.save('markers_on_folium_map.html')\n"
   ]
  },
  {
   "cell_type": "code",
   "execution_count": null,
   "metadata": {},
   "outputs": [],
   "source": []
  }
 ],
 "metadata": {
  "kernelspec": {
   "display_name": "Python 3",
   "language": "python",
   "name": "python3"
  },
  "language_info": {
   "codemirror_mode": {
    "name": "ipython",
    "version": 3
   },
   "file_extension": ".py",
   "mimetype": "text/x-python",
   "name": "python",
   "nbconvert_exporter": "python",
   "pygments_lexer": "ipython3",
   "version": "3.7.3"
  }
 },
 "nbformat": 4,
 "nbformat_minor": 2
}
