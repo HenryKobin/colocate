{
 "cells": [
  {
   "cell_type": "markdown",
   "metadata": {},
   "source": [
    "### Folium Map for output lat/lon\n",
    "Making a test map and then a map with test data"
   ]
  },
  {
   "cell_type": "code",
   "execution_count": null,
   "metadata": {},
   "outputs": [],
   "source": [
    "import folium\n",
    "import pandas as pd"
   ]
  },
  {
   "cell_type": "code",
   "execution_count": null,
   "metadata": {},
   "outputs": [],
   "source": [
    "# Make an empty map\n",
    "m = folium.Map(location=[20, 0], zoom_start=2)\n",
    "\n",
    "# Make a data frame with dots to show on the map\n",
    "data = pd.DataFrame({\n",
    "    'lat':[-122, -122.1, -125, -125, -4.03, -73.57, 36.82, -38.5],\n",
    "    'lon':[47, 47.3, 47.99, 50, 5.33, 45.52, -1.29, -12.97],\n",
    "    'name':['one', 'two', 'three', 'four', 'five', 'six', 'seven', 'eight']\n",
    "    })\n",
    "\n",
    "# Add data markers onto the map\n",
    "for i in range(0,len(data)):\n",
    "    folium.Marker([data.iloc[i]['lon'], data.iloc[i]['lat']], popup=data.iloc[i]['name']).add_to(m)\n",
    "\n",
    "# Display the box for the search query\n",
    "locations = [\n",
    "    [(47, -122), (47, -150)],\n",
    "    [(47, -122), (40, -122)],\n",
    "    [(47, -150), (40, -150)],\n",
    "    [(40, -150), (40, -122)]]\n",
    "folium.PolyLine(\n",
    "    locations=locations,\n",
    "    color=\"blue\",\n",
    "    weight=4,\n",
    "    opacity=1,\n",
    "    smooth_factor=0,\n",
    ").add_to(m)\n",
    "\n",
    "m\n",
    "# Save it as html\n",
    "#m.save('markers_on_folium_map.html')\n"
   ]
  },
  {
   "cell_type": "markdown",
   "metadata": {},
   "source": [
    "### Making with preliminary data"
   ]
  },
  {
   "cell_type": "code",
   "execution_count": null,
   "metadata": {},
   "outputs": [],
   "source": [
    "coordinates = pd.read_csv('coordinates.csv')\n",
    "coordinates"
   ]
  },
  {
   "cell_type": "code",
   "execution_count": null,
   "metadata": {},
   "outputs": [],
   "source": [
    "# Make bounding box for query\n",
    "bbox=[0,0,0,0]\n",
    "bbox[0]=(max(coordinates['latitude (degrees_north)']),min(coordinates['longitude (degrees_east)']))\n",
    "bbox[1]=(max(coordinates['latitude (degrees_north)']),max(coordinates['longitude (degrees_east)']))\n",
    "bbox[2]=(min(coordinates['latitude (degrees_north)']),min(coordinates['longitude (degrees_east)']))\n",
    "bbox[3]=(min(coordinates['latitude (degrees_north)']),max(coordinates['longitude (degrees_east)']))\n",
    "bbox"
   ]
  },
  {
   "cell_type": "code",
   "execution_count": null,
   "metadata": {},
   "outputs": [],
   "source": [
    "# Make an empty map\n",
    "m = folium.Map(location=[20, 0], zoom_start=2)\n",
    "\n",
    "# Add data markers onto the map\n",
    "for i in range(0,len(coordinates)):\n",
    "    folium.Marker([coordinates.iloc[i]['latitude (degrees_north)'], \n",
    "                   coordinates.iloc[i]['longitude (degrees_east)']],\n",
    "                   popup=coordinates.iloc[i]['dataset_download_url']).add_to(m)\n",
    "\n",
    "# Display the box for the search query\n",
    "locations = [\n",
    "    (bbox[1], bbox[0]),\n",
    "    (bbox[2], bbox[0]),\n",
    "    (bbox[3], bbox[1]),\n",
    "    (bbox[2], bbox[3])]\n",
    "folium.PolyLine(\n",
    "    locations=locations,\n",
    "    color=\"blue\",\n",
    "    weight=4,\n",
    "    opacity=1,\n",
    "    smooth_factor=0,\n",
    ").add_to(m)\n",
    "\n",
    "m\n",
    "# Save it as html\n",
    "#m.save('markers_on_folium_map.html')\n"
   ]
  },
  {
   "cell_type": "markdown",
   "metadata": {},
   "source": [
    "### trying with the zipped big test data\n"
   ]
  },
  {
   "cell_type": "code",
   "execution_count": null,
   "metadata": {},
   "outputs": [],
   "source": [
    "bigcoords = pd.read_csv('coordinates.zip')"
   ]
  },
  {
   "cell_type": "code",
   "execution_count": null,
   "metadata": {},
   "outputs": [],
   "source": [
    "bigcoords"
   ]
  },
  {
   "cell_type": "code",
   "execution_count": null,
   "metadata": {},
   "outputs": [],
   "source": [
    "# Make bounding box for query\n",
    "bbox=[0,0,0,0]\n",
    "bbox[0]=(max(bigcoords['latitude (degrees_north)']),min(bigcoords['longitude (degrees_east)']))\n",
    "bbox[1]=(max(bigcoords['latitude (degrees_north)']),max(bigcoords['longitude (degrees_east)']))\n",
    "bbox[2]=(min(bigcoords['latitude (degrees_north)']),min(bigcoords['longitude (degrees_east)']))\n",
    "bbox[3]=(min(bigcoords['latitude (degrees_north)']),max(bigcoords['longitude (degrees_east)']))\n",
    "bbox"
   ]
  },
  {
   "cell_type": "code",
   "execution_count": null,
   "metadata": {},
   "outputs": [],
   "source": [
    "# very large dataset... folium cannot handle it\n",
    "round(len(bigcoords)/5000)"
   ]
  },
  {
   "cell_type": "code",
   "execution_count": null,
   "metadata": {},
   "outputs": [],
   "source": [
    "# Make an empty map\n",
    "m = folium.Map(location=bbox[1], zoom_start=6)\n",
    "\n",
    "# Add data markers onto the map\n",
    "for i in range(0,round(len(bigcoords)/5000)):\n",
    "    folium.Marker([bigcoords.iloc[i]['latitude (degrees_north)'], \n",
    "                   bigcoords.iloc[i]['longitude (degrees_east)']],\n",
    "                   popup=bigcoords.iloc[i]['dataset_download_url']).add_to(m)\n",
    "\n",
    "# Display the box for the search query\n",
    "locations = [\n",
    "    (bbox[1], bbox[0]),\n",
    "    (bbox[2], bbox[0]),\n",
    "    (bbox[3], bbox[1]),\n",
    "    (bbox[2], bbox[3])]\n",
    "folium.PolyLine(\n",
    "    locations=locations,\n",
    "    color=\"blue\",\n",
    "    weight=4,\n",
    "    opacity=1,\n",
    "    smooth_factor=0,\n",
    ").add_to(m)\n",
    "\n",
    "display(m)\n",
    "# Save it as html\n",
    "#m.save('markers_on_folium_map.html')\n"
   ]
  },
  {
   "cell_type": "code",
   "execution_count": null,
   "metadata": {},
   "outputs": [],
   "source": []
  }
 ],
 "metadata": {
  "kernelspec": {
   "display_name": "Python 3",
   "language": "python",
   "name": "python3"
  },
  "language_info": {
   "codemirror_mode": {
    "name": "ipython",
    "version": 3
   },
   "file_extension": ".py",
   "mimetype": "text/x-python",
   "name": "python",
   "nbconvert_exporter": "python",
   "pygments_lexer": "ipython3",
   "version": "3.7.3"
  }
 },
 "nbformat": 4,
 "nbformat_minor": 2
}
