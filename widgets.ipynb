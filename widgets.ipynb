{
 "cells": [
  {
   "cell_type": "code",
   "execution_count": 1,
   "metadata": {},
   "outputs": [],
   "source": [
    "import ipywidgets as widgets"
   ]
  },
  {
   "cell_type": "code",
   "execution_count": 2,
   "metadata": {},
   "outputs": [],
   "source": [
    "latitude = widgets.FloatRangeSlider(\n",
    "    value=[30, 39],\n",
    "    min=-90,\n",
    "    max=90,\n",
    "    description='Latitude:',\n",
    "    layout=widgets.Layout(width='90%')\n",
    ")\n",
    "\n",
    "longitude = widgets.FloatRangeSlider(\n",
    "    value=[30, 39],\n",
    "    min=-180,\n",
    "    max=180,\n",
    "    description='Latitude:',\n",
    "    layout=widgets.Layout(width='90%')\n",
    ")"
   ]
  },
  {
   "cell_type": "code",
   "execution_count": 3,
   "metadata": {},
   "outputs": [
    {
     "data": {
      "application/vnd.jupyter.widget-view+json": {
       "model_id": "e7e1faf59a3d47cda1a36c710e0ca1f2",
       "version_major": 2,
       "version_minor": 0
      },
      "text/plain": [
       "FloatRangeSlider(value=(30.0, 39.0), description='Latitude:', layout=Layout(width='90%'), max=90.0, min=-90.0)"
      ]
     },
     "metadata": {},
     "output_type": "display_data"
    },
    {
     "data": {
      "application/vnd.jupyter.widget-view+json": {
       "model_id": "14445d7a6d814c3fb0796b0ec9094023",
       "version_major": 2,
       "version_minor": 0
      },
      "text/plain": [
       "FloatRangeSlider(value=(30.0, 39.0), description='Latitude:', layout=Layout(width='90%'), max=180.0, min=-180.…"
      ]
     },
     "metadata": {},
     "output_type": "display_data"
    }
   ],
   "source": [
    "display(latitude, longitude)"
   ]
  },
  {
   "cell_type": "code",
   "execution_count": 4,
   "metadata": {},
   "outputs": [],
   "source": [
    "from datetime import date, timedelta\n",
    "\n",
    "start_date = date(1950, 1, 1)\n",
    "end_date = date(2020, 1, 1)\n",
    "\n",
    "days = (end_date - start_date).days\n",
    "dates = []\n",
    "for n_day in range(days):\n",
    "    dates.append(start_date + timedelta(days=n_day))\n",
    "\n",
    "dates = widgets.SelectionRangeSlider(\n",
    "    value=(start_date, end_date-timedelta(days=1)),\n",
    "    options=dates,\n",
    "    description='Starting date',\n",
    "    layout=widgets.Layout(width='90%')\n",
    ")"
   ]
  },
  {
   "cell_type": "code",
   "execution_count": 5,
   "metadata": {},
   "outputs": [
    {
     "data": {
      "application/vnd.jupyter.widget-view+json": {
       "model_id": "4050ee80837c44bb9ad0e36635c03226",
       "version_major": 2,
       "version_minor": 0
      },
      "text/plain": [
       "SelectionRangeSlider(description='Starting date', index=(0, 25566), layout=Layout(width='90%'), options=(datet…"
      ]
     },
     "metadata": {},
     "output_type": "display_data"
    }
   ],
   "source": [
    "display(dates)"
   ]
  },
  {
   "cell_type": "code",
   "execution_count": 6,
   "metadata": {},
   "outputs": [],
   "source": [
    "kw = {\n",
    "   'search_for': 'all',\n",
    "   'min_lon': longitude.value[0],\n",
    "   'max_lon': longitude.value[1],\n",
    "   'min_lat': latitude.value[0],\n",
    "   'max_lat': latitude.value[1],\n",
    "   'min_time': dates.value[0].strftime('%Y-%m-%dT%H:%M:%SZ'),\n",
    "   'max_time': dates.value[1].strftime('%Y-%m-%dT%H:%M:%SZ'),\n",
    "}"
   ]
  },
  {
   "cell_type": "code",
   "execution_count": 7,
   "metadata": {},
   "outputs": [
    {
     "data": {
      "text/plain": [
       "{'search_for': 'all',\n",
       " 'min_lon': 30.0,\n",
       " 'max_lon': 39.0,\n",
       " 'min_lat': 30.0,\n",
       " 'max_lat': 39.0,\n",
       " 'min_time': '1950-01-01T00:00:00Z',\n",
       " 'max_time': '2019-12-31T00:00:00Z'}"
      ]
     },
     "execution_count": 7,
     "metadata": {},
     "output_type": "execute_result"
    }
   ],
   "source": [
    "kw"
   ]
  },
  {
   "cell_type": "code",
   "execution_count": null,
   "metadata": {},
   "outputs": [],
   "source": []
  }
 ],
 "metadata": {
  "kernelspec": {
   "display_name": "Python 3",
   "language": "python",
   "name": "python3"
  },
  "language_info": {
   "codemirror_mode": {
    "name": "ipython",
    "version": 3
   },
   "file_extension": ".py",
   "mimetype": "text/x-python",
   "name": "python",
   "nbconvert_exporter": "python",
   "pygments_lexer": "ipython3",
   "version": "3.7.3"
  }
 },
 "nbformat": 4,
 "nbformat_minor": 2
}
