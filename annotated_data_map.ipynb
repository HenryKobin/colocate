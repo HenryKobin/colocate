{
 "cells": [
  {
   "cell_type": "markdown",
   "metadata": {},
   "source": [
    "### Making a map for interactive data points\n",
    "@mollyjames\n",
    "8/28/19\n",
    "\n",
    "\n",
    "Started using folium, but now considering hvplot because it is interactive..."
   ]
  },
  {
   "cell_type": "code",
   "execution_count": 1,
   "metadata": {},
   "outputs": [],
   "source": [
    "import folium\n",
    "import pandas as pd"
   ]
  },
  {
   "cell_type": "code",
   "execution_count": 2,
   "metadata": {
    "scrolled": true
   },
   "outputs": [
    {
     "data": {
      "text/html": [
       "<div style=\"width:100%;\"><div style=\"position:relative;width:100%;height:0;padding-bottom:60%;\"><iframe src=\"data:text/html;charset=utf-8;base64,PCFET0NUWVBFIGh0bWw+CjxoZWFkPiAgICAKICAgIDxtZXRhIGh0dHAtZXF1aXY9ImNvbnRlbnQtdHlwZSIgY29udGVudD0idGV4dC9odG1sOyBjaGFyc2V0PVVURi04IiAvPgogICAgCiAgICAgICAgPHNjcmlwdD4KICAgICAgICAgICAgTF9OT19UT1VDSCA9IGZhbHNlOwogICAgICAgICAgICBMX0RJU0FCTEVfM0QgPSBmYWxzZTsKICAgICAgICA8L3NjcmlwdD4KICAgIAogICAgPHNjcmlwdCBzcmM9Imh0dHBzOi8vY2RuLmpzZGVsaXZyLm5ldC9ucG0vbGVhZmxldEAxLjUuMS9kaXN0L2xlYWZsZXQuanMiPjwvc2NyaXB0PgogICAgPHNjcmlwdCBzcmM9Imh0dHBzOi8vY29kZS5qcXVlcnkuY29tL2pxdWVyeS0xLjEyLjQubWluLmpzIj48L3NjcmlwdD4KICAgIDxzY3JpcHQgc3JjPSJodHRwczovL21heGNkbi5ib290c3RyYXBjZG4uY29tL2Jvb3RzdHJhcC8zLjIuMC9qcy9ib290c3RyYXAubWluLmpzIj48L3NjcmlwdD4KICAgIDxzY3JpcHQgc3JjPSJodHRwczovL2NkbmpzLmNsb3VkZmxhcmUuY29tL2FqYXgvbGlicy9MZWFmbGV0LmF3ZXNvbWUtbWFya2Vycy8yLjAuMi9sZWFmbGV0LmF3ZXNvbWUtbWFya2Vycy5qcyI+PC9zY3JpcHQ+CiAgICA8bGluayByZWw9InN0eWxlc2hlZXQiIGhyZWY9Imh0dHBzOi8vY2RuLmpzZGVsaXZyLm5ldC9ucG0vbGVhZmxldEAxLjUuMS9kaXN0L2xlYWZsZXQuY3NzIi8+CiAgICA8bGluayByZWw9InN0eWxlc2hlZXQiIGhyZWY9Imh0dHBzOi8vbWF4Y2RuLmJvb3RzdHJhcGNkbi5jb20vYm9vdHN0cmFwLzMuMi4wL2Nzcy9ib290c3RyYXAubWluLmNzcyIvPgogICAgPGxpbmsgcmVsPSJzdHlsZXNoZWV0IiBocmVmPSJodHRwczovL21heGNkbi5ib290c3RyYXBjZG4uY29tL2Jvb3RzdHJhcC8zLjIuMC9jc3MvYm9vdHN0cmFwLXRoZW1lLm1pbi5jc3MiLz4KICAgIDxsaW5rIHJlbD0ic3R5bGVzaGVldCIgaHJlZj0iaHR0cHM6Ly9tYXhjZG4uYm9vdHN0cmFwY2RuLmNvbS9mb250LWF3ZXNvbWUvNC42LjMvY3NzL2ZvbnQtYXdlc29tZS5taW4uY3NzIi8+CiAgICA8bGluayByZWw9InN0eWxlc2hlZXQiIGhyZWY9Imh0dHBzOi8vY2RuanMuY2xvdWRmbGFyZS5jb20vYWpheC9saWJzL0xlYWZsZXQuYXdlc29tZS1tYXJrZXJzLzIuMC4yL2xlYWZsZXQuYXdlc29tZS1tYXJrZXJzLmNzcyIvPgogICAgPGxpbmsgcmVsPSJzdHlsZXNoZWV0IiBocmVmPSJodHRwczovL3Jhd2Nkbi5naXRoYWNrLmNvbS9weXRob24tdmlzdWFsaXphdGlvbi9mb2xpdW0vbWFzdGVyL2ZvbGl1bS90ZW1wbGF0ZXMvbGVhZmxldC5hd2Vzb21lLnJvdGF0ZS5jc3MiLz4KICAgIDxzdHlsZT5odG1sLCBib2R5IHt3aWR0aDogMTAwJTtoZWlnaHQ6IDEwMCU7bWFyZ2luOiAwO3BhZGRpbmc6IDA7fTwvc3R5bGU+CiAgICA8c3R5bGU+I21hcCB7cG9zaXRpb246YWJzb2x1dGU7dG9wOjA7Ym90dG9tOjA7cmlnaHQ6MDtsZWZ0OjA7fTwvc3R5bGU+CiAgICAKICAgICAgICAgICAgPG1ldGEgbmFtZT0idmlld3BvcnQiIGNvbnRlbnQ9IndpZHRoPWRldmljZS13aWR0aCwKICAgICAgICAgICAgICAgIGluaXRpYWwtc2NhbGU9MS4wLCBtYXhpbXVtLXNjYWxlPTEuMCwgdXNlci1zY2FsYWJsZT1ubyIgLz4KICAgICAgICAgICAgPHN0eWxlPgogICAgICAgICAgICAgICAgI21hcF9mYzQzOWUzZDUyMTM0MGZhYjc1OThkYWY3MzUyY2YxMCB7CiAgICAgICAgICAgICAgICAgICAgcG9zaXRpb246IHJlbGF0aXZlOwogICAgICAgICAgICAgICAgICAgIHdpZHRoOiAxMDAuMCU7CiAgICAgICAgICAgICAgICAgICAgaGVpZ2h0OiAxMDAuMCU7CiAgICAgICAgICAgICAgICAgICAgbGVmdDogMC4wJTsKICAgICAgICAgICAgICAgICAgICB0b3A6IDAuMCU7CiAgICAgICAgICAgICAgICB9CiAgICAgICAgICAgIDwvc3R5bGU+CiAgICAgICAgCjwvaGVhZD4KPGJvZHk+ICAgIAogICAgCiAgICAgICAgICAgIDxkaXYgY2xhc3M9ImZvbGl1bS1tYXAiIGlkPSJtYXBfZmM0MzllM2Q1MjEzNDBmYWI3NTk4ZGFmNzM1MmNmMTAiID48L2Rpdj4KICAgICAgICAKPC9ib2R5Pgo8c2NyaXB0PiAgICAKICAgIAogICAgICAgICAgICB2YXIgbWFwX2ZjNDM5ZTNkNTIxMzQwZmFiNzU5OGRhZjczNTJjZjEwID0gTC5tYXAoCiAgICAgICAgICAgICAgICAibWFwX2ZjNDM5ZTNkNTIxMzQwZmFiNzU5OGRhZjczNTJjZjEwIiwKICAgICAgICAgICAgICAgIHsKICAgICAgICAgICAgICAgICAgICBjZW50ZXI6IFsyMC4wLCAwLjBdLAogICAgICAgICAgICAgICAgICAgIGNyczogTC5DUlMuRVBTRzM4NTcsCiAgICAgICAgICAgICAgICAgICAgem9vbTogMiwKICAgICAgICAgICAgICAgICAgICB6b29tQ29udHJvbDogdHJ1ZSwKICAgICAgICAgICAgICAgICAgICBwcmVmZXJDYW52YXM6IGZhbHNlLAogICAgICAgICAgICAgICAgfQogICAgICAgICAgICApOwoKICAgICAgICAgICAgCgogICAgICAgIAogICAgCiAgICAgICAgICAgIHZhciB0aWxlX2xheWVyX2M1N2JmNjkxNTBkZTRhNTA4M2YwMjIwZWZlZDllYjVjID0gTC50aWxlTGF5ZXIoCiAgICAgICAgICAgICAgICAiaHR0cHM6Ly97c30udGlsZS5vcGVuc3RyZWV0bWFwLm9yZy97en0ve3h9L3t5fS5wbmciLAogICAgICAgICAgICAgICAgeyJhdHRyaWJ1dGlvbiI6ICJEYXRhIGJ5IFx1MDAyNmNvcHk7IFx1MDAzY2EgaHJlZj1cImh0dHA6Ly9vcGVuc3RyZWV0bWFwLm9yZ1wiXHUwMDNlT3BlblN0cmVldE1hcFx1MDAzYy9hXHUwMDNlLCB1bmRlciBcdTAwM2NhIGhyZWY9XCJodHRwOi8vd3d3Lm9wZW5zdHJlZXRtYXAub3JnL2NvcHlyaWdodFwiXHUwMDNlT0RiTFx1MDAzYy9hXHUwMDNlLiIsICJkZXRlY3RSZXRpbmEiOiBmYWxzZSwgIm1heE5hdGl2ZVpvb20iOiAxOCwgIm1heFpvb20iOiAxOCwgIm1pblpvb20iOiAwLCAibm9XcmFwIjogZmFsc2UsICJvcGFjaXR5IjogMSwgInN1YmRvbWFpbnMiOiAiYWJjIiwgInRtcyI6IGZhbHNlfQogICAgICAgICAgICApLmFkZFRvKG1hcF9mYzQzOWUzZDUyMTM0MGZhYjc1OThkYWY3MzUyY2YxMCk7CiAgICAgICAgCiAgICAKICAgICAgICAgICAgdmFyIG1hcmtlcl9mZjEyZjhkNzZmODk0MTU2OGI0YWY0ZjA3OTBiM2ViNyA9IEwubWFya2VyKAogICAgICAgICAgICAgICAgWzQ3LjAsIC0xMjIuMF0sCiAgICAgICAgICAgICAgICB7fQogICAgICAgICAgICApLmFkZFRvKG1hcF9mYzQzOWUzZDUyMTM0MGZhYjc1OThkYWY3MzUyY2YxMCk7CiAgICAgICAgCiAgICAKICAgICAgICB2YXIgcG9wdXBfODJkZDJkMjQ3ZDA3NDJiMzgyMzA3ZTY3YTNiNjQ1MzcgPSBMLnBvcHVwKHsibWF4V2lkdGgiOiAiMTAwJSJ9KTsKCiAgICAgICAgCiAgICAgICAgICAgIHZhciBodG1sX2RkZjgzYzZkZWVlZDRlYjNiZWVlNmUwOGNiZGMyOGM4ID0gJChgPGRpdiBpZD0iaHRtbF9kZGY4M2M2ZGVlZWQ0ZWIzYmVlZTZlMDhjYmRjMjhjOCIgc3R5bGU9IndpZHRoOiAxMDAuMCU7IGhlaWdodDogMTAwLjAlOyI+b25lPC9kaXY+YClbMF07CiAgICAgICAgICAgIHBvcHVwXzgyZGQyZDI0N2QwNzQyYjM4MjMwN2U2N2EzYjY0NTM3LnNldENvbnRlbnQoaHRtbF9kZGY4M2M2ZGVlZWQ0ZWIzYmVlZTZlMDhjYmRjMjhjOCk7CiAgICAgICAgCgogICAgICAgIG1hcmtlcl9mZjEyZjhkNzZmODk0MTU2OGI0YWY0ZjA3OTBiM2ViNy5iaW5kUG9wdXAocG9wdXBfODJkZDJkMjQ3ZDA3NDJiMzgyMzA3ZTY3YTNiNjQ1MzcpCiAgICAgICAgOwoKICAgICAgICAKICAgIAogICAgCiAgICAgICAgICAgIHZhciBtYXJrZXJfYjg3MjNlYjIzMjVjNDU5ZDgwMzllYTQwOGI0ZjYyNDQgPSBMLm1hcmtlcigKICAgICAgICAgICAgICAgIFs0Ny4zLCAtMTIyLjFdLAogICAgICAgICAgICAgICAge30KICAgICAgICAgICAgKS5hZGRUbyhtYXBfZmM0MzllM2Q1MjEzNDBmYWI3NTk4ZGFmNzM1MmNmMTApOwogICAgICAgIAogICAgCiAgICAgICAgdmFyIHBvcHVwXzYzZjMzMzNlNjdlNzQzNDVhNDI4MGViYWM2YjM3NmNjID0gTC5wb3B1cCh7Im1heFdpZHRoIjogIjEwMCUifSk7CgogICAgICAgIAogICAgICAgICAgICB2YXIgaHRtbF8wNmU3MzVhZDExYmY0ODgyODhlNzgwOGUzMGRkYzM0MSA9ICQoYDxkaXYgaWQ9Imh0bWxfMDZlNzM1YWQxMWJmNDg4Mjg4ZTc4MDhlMzBkZGMzNDEiIHN0eWxlPSJ3aWR0aDogMTAwLjAlOyBoZWlnaHQ6IDEwMC4wJTsiPnR3bzwvZGl2PmApWzBdOwogICAgICAgICAgICBwb3B1cF82M2YzMzMzZTY3ZTc0MzQ1YTQyODBlYmFjNmIzNzZjYy5zZXRDb250ZW50KGh0bWxfMDZlNzM1YWQxMWJmNDg4Mjg4ZTc4MDhlMzBkZGMzNDEpOwogICAgICAgIAoKICAgICAgICBtYXJrZXJfYjg3MjNlYjIzMjVjNDU5ZDgwMzllYTQwOGI0ZjYyNDQuYmluZFBvcHVwKHBvcHVwXzYzZjMzMzNlNjdlNzQzNDVhNDI4MGViYWM2YjM3NmNjKQogICAgICAgIDsKCiAgICAgICAgCiAgICAKICAgIAogICAgICAgICAgICB2YXIgbWFya2VyXzY2ZDdiMDVlYzljYjQ5MjViNjJiYzJkZGYyNGNjNjZlID0gTC5tYXJrZXIoCiAgICAgICAgICAgICAgICBbNDcuOTksIC0xMjUuMF0sCiAgICAgICAgICAgICAgICB7fQogICAgICAgICAgICApLmFkZFRvKG1hcF9mYzQzOWUzZDUyMTM0MGZhYjc1OThkYWY3MzUyY2YxMCk7CiAgICAgICAgCiAgICAKICAgICAgICB2YXIgcG9wdXBfMjQ5NjE0M2Q1ZGVjNGNlOWE2ZDU4Yzc4MmJkNGRhY2IgPSBMLnBvcHVwKHsibWF4V2lkdGgiOiAiMTAwJSJ9KTsKCiAgICAgICAgCiAgICAgICAgICAgIHZhciBodG1sXzYxMDczYTQxZmJkNzQ3ZjFiODkwZDUxNGEzYTIwMjc4ID0gJChgPGRpdiBpZD0iaHRtbF82MTA3M2E0MWZiZDc0N2YxYjg5MGQ1MTRhM2EyMDI3OCIgc3R5bGU9IndpZHRoOiAxMDAuMCU7IGhlaWdodDogMTAwLjAlOyI+dGhyZWU8L2Rpdj5gKVswXTsKICAgICAgICAgICAgcG9wdXBfMjQ5NjE0M2Q1ZGVjNGNlOWE2ZDU4Yzc4MmJkNGRhY2Iuc2V0Q29udGVudChodG1sXzYxMDczYTQxZmJkNzQ3ZjFiODkwZDUxNGEzYTIwMjc4KTsKICAgICAgICAKCiAgICAgICAgbWFya2VyXzY2ZDdiMDVlYzljYjQ5MjViNjJiYzJkZGYyNGNjNjZlLmJpbmRQb3B1cChwb3B1cF8yNDk2MTQzZDVkZWM0Y2U5YTZkNThjNzgyYmQ0ZGFjYikKICAgICAgICA7CgogICAgICAgIAogICAgCiAgICAKICAgICAgICAgICAgdmFyIG1hcmtlcl8zMWM2YzMxNzNlMjU0ZWJjODQ4ZjQ3MDA1N2NlNzIyOCA9IEwubWFya2VyKAogICAgICAgICAgICAgICAgWzUwLjAsIC0xMjUuMF0sCiAgICAgICAgICAgICAgICB7fQogICAgICAgICAgICApLmFkZFRvKG1hcF9mYzQzOWUzZDUyMTM0MGZhYjc1OThkYWY3MzUyY2YxMCk7CiAgICAgICAgCiAgICAKICAgICAgICB2YXIgcG9wdXBfZjQwOWY5ZGUxNGU3NDI3ZWI0ZTE3NTU2MzJkOTA0ZmEgPSBMLnBvcHVwKHsibWF4V2lkdGgiOiAiMTAwJSJ9KTsKCiAgICAgICAgCiAgICAgICAgICAgIHZhciBodG1sX2E3MTE3OGNjNTVkNjQyMmQ5NTZjODNlZTJjNDcwZTgxID0gJChgPGRpdiBpZD0iaHRtbF9hNzExNzhjYzU1ZDY0MjJkOTU2YzgzZWUyYzQ3MGU4MSIgc3R5bGU9IndpZHRoOiAxMDAuMCU7IGhlaWdodDogMTAwLjAlOyI+Zm91cjwvZGl2PmApWzBdOwogICAgICAgICAgICBwb3B1cF9mNDA5ZjlkZTE0ZTc0MjdlYjRlMTc1NTYzMmQ5MDRmYS5zZXRDb250ZW50KGh0bWxfYTcxMTc4Y2M1NWQ2NDIyZDk1NmM4M2VlMmM0NzBlODEpOwogICAgICAgIAoKICAgICAgICBtYXJrZXJfMzFjNmMzMTczZTI1NGViYzg0OGY0NzAwNTdjZTcyMjguYmluZFBvcHVwKHBvcHVwX2Y0MDlmOWRlMTRlNzQyN2ViNGUxNzU1NjMyZDkwNGZhKQogICAgICAgIDsKCiAgICAgICAgCiAgICAKICAgIAogICAgICAgICAgICB2YXIgbWFya2VyXzkxYWZhYmE1ZDFjYTQwMTFhMGI4OGUyM2I3NjUxNmRmID0gTC5tYXJrZXIoCiAgICAgICAgICAgICAgICBbNS4zMywgLTQuMDNdLAogICAgICAgICAgICAgICAge30KICAgICAgICAgICAgKS5hZGRUbyhtYXBfZmM0MzllM2Q1MjEzNDBmYWI3NTk4ZGFmNzM1MmNmMTApOwogICAgICAgIAogICAgCiAgICAgICAgdmFyIHBvcHVwX2NjODE5NTQzNTA1OTRhZGVhMTVmOTNkNTE0YmZkYTIzID0gTC5wb3B1cCh7Im1heFdpZHRoIjogIjEwMCUifSk7CgogICAgICAgIAogICAgICAgICAgICB2YXIgaHRtbF85MzMxM2FjM2VlMDA0YzgxOTgwNzMyNmI2YWEyZWE4MiA9ICQoYDxkaXYgaWQ9Imh0bWxfOTMzMTNhYzNlZTAwNGM4MTk4MDczMjZiNmFhMmVhODIiIHN0eWxlPSJ3aWR0aDogMTAwLjAlOyBoZWlnaHQ6IDEwMC4wJTsiPmZpdmU8L2Rpdj5gKVswXTsKICAgICAgICAgICAgcG9wdXBfY2M4MTk1NDM1MDU5NGFkZWExNWY5M2Q1MTRiZmRhMjMuc2V0Q29udGVudChodG1sXzkzMzEzYWMzZWUwMDRjODE5ODA3MzI2YjZhYTJlYTgyKTsKICAgICAgICAKCiAgICAgICAgbWFya2VyXzkxYWZhYmE1ZDFjYTQwMTFhMGI4OGUyM2I3NjUxNmRmLmJpbmRQb3B1cChwb3B1cF9jYzgxOTU0MzUwNTk0YWRlYTE1ZjkzZDUxNGJmZGEyMykKICAgICAgICA7CgogICAgICAgIAogICAgCiAgICAKICAgICAgICAgICAgdmFyIG1hcmtlcl9iMzRlODgxNDE3ZGU0YzAzYjYxYmNiZmEzMGQ2ZTEwZCA9IEwubWFya2VyKAogICAgICAgICAgICAgICAgWzQ1LjUyLCAtNzMuNTddLAogICAgICAgICAgICAgICAge30KICAgICAgICAgICAgKS5hZGRUbyhtYXBfZmM0MzllM2Q1MjEzNDBmYWI3NTk4ZGFmNzM1MmNmMTApOwogICAgICAgIAogICAgCiAgICAgICAgdmFyIHBvcHVwXzRiNDNjMzA1YWQzODQ2NWY5YzJkYmE1ZWZjZTgzYWNkID0gTC5wb3B1cCh7Im1heFdpZHRoIjogIjEwMCUifSk7CgogICAgICAgIAogICAgICAgICAgICB2YXIgaHRtbF8yNDhlNmFkYzBmNTU0OTM0OTRiMmJkMDRjOTQ2MTRiYyA9ICQoYDxkaXYgaWQ9Imh0bWxfMjQ4ZTZhZGMwZjU1NDkzNDk0YjJiZDA0Yzk0NjE0YmMiIHN0eWxlPSJ3aWR0aDogMTAwLjAlOyBoZWlnaHQ6IDEwMC4wJTsiPnNpeDwvZGl2PmApWzBdOwogICAgICAgICAgICBwb3B1cF80YjQzYzMwNWFkMzg0NjVmOWMyZGJhNWVmY2U4M2FjZC5zZXRDb250ZW50KGh0bWxfMjQ4ZTZhZGMwZjU1NDkzNDk0YjJiZDA0Yzk0NjE0YmMpOwogICAgICAgIAoKICAgICAgICBtYXJrZXJfYjM0ZTg4MTQxN2RlNGMwM2I2MWJjYmZhMzBkNmUxMGQuYmluZFBvcHVwKHBvcHVwXzRiNDNjMzA1YWQzODQ2NWY5YzJkYmE1ZWZjZTgzYWNkKQogICAgICAgIDsKCiAgICAgICAgCiAgICAKICAgIAogICAgICAgICAgICB2YXIgbWFya2VyXzg3OWIyMDE0MGE5MDRkOWNhZmQzNzA1MjZlZjM0OWI5ID0gTC5tYXJrZXIoCiAgICAgICAgICAgICAgICBbLTEuMjksIDM2LjgyXSwKICAgICAgICAgICAgICAgIHt9CiAgICAgICAgICAgICkuYWRkVG8obWFwX2ZjNDM5ZTNkNTIxMzQwZmFiNzU5OGRhZjczNTJjZjEwKTsKICAgICAgICAKICAgIAogICAgICAgIHZhciBwb3B1cF84OTczMjg5M2Y2ZmU0YmE2YmQ2ZDkwY2FkYTQ4MWUwOSA9IEwucG9wdXAoeyJtYXhXaWR0aCI6ICIxMDAlIn0pOwoKICAgICAgICAKICAgICAgICAgICAgdmFyIGh0bWxfNmFlNGVkYzJkYzhhNDI0YWEwOTA0OWM1MTYwOGNjMzQgPSAkKGA8ZGl2IGlkPSJodG1sXzZhZTRlZGMyZGM4YTQyNGFhMDkwNDljNTE2MDhjYzM0IiBzdHlsZT0id2lkdGg6IDEwMC4wJTsgaGVpZ2h0OiAxMDAuMCU7Ij5zZXZlbjwvZGl2PmApWzBdOwogICAgICAgICAgICBwb3B1cF84OTczMjg5M2Y2ZmU0YmE2YmQ2ZDkwY2FkYTQ4MWUwOS5zZXRDb250ZW50KGh0bWxfNmFlNGVkYzJkYzhhNDI0YWEwOTA0OWM1MTYwOGNjMzQpOwogICAgICAgIAoKICAgICAgICBtYXJrZXJfODc5YjIwMTQwYTkwNGQ5Y2FmZDM3MDUyNmVmMzQ5YjkuYmluZFBvcHVwKHBvcHVwXzg5NzMyODkzZjZmZTRiYTZiZDZkOTBjYWRhNDgxZTA5KQogICAgICAgIDsKCiAgICAgICAgCiAgICAKICAgIAogICAgICAgICAgICB2YXIgbWFya2VyXzk0MjJmZTQ3NWExMjQ4MzNhYTNiMzNlNzU5OGQyOTRiID0gTC5tYXJrZXIoCiAgICAgICAgICAgICAgICBbLTEyLjk3LCAtMzguNV0sCiAgICAgICAgICAgICAgICB7fQogICAgICAgICAgICApLmFkZFRvKG1hcF9mYzQzOWUzZDUyMTM0MGZhYjc1OThkYWY3MzUyY2YxMCk7CiAgICAgICAgCiAgICAKICAgICAgICB2YXIgcG9wdXBfY2I1ZWEwZTIwMzY5NGQ5OWE4M2JjNjg5ODRhZjA5MTIgPSBMLnBvcHVwKHsibWF4V2lkdGgiOiAiMTAwJSJ9KTsKCiAgICAgICAgCiAgICAgICAgICAgIHZhciBodG1sX2ZlNmE5MmQyNTRlYzQ4NmY5ZDA5NmVjY2RjZDQ1YmRhID0gJChgPGRpdiBpZD0iaHRtbF9mZTZhOTJkMjU0ZWM0ODZmOWQwOTZlY2NkY2Q0NWJkYSIgc3R5bGU9IndpZHRoOiAxMDAuMCU7IGhlaWdodDogMTAwLjAlOyI+ZWlnaHQ8L2Rpdj5gKVswXTsKICAgICAgICAgICAgcG9wdXBfY2I1ZWEwZTIwMzY5NGQ5OWE4M2JjNjg5ODRhZjA5MTIuc2V0Q29udGVudChodG1sX2ZlNmE5MmQyNTRlYzQ4NmY5ZDA5NmVjY2RjZDQ1YmRhKTsKICAgICAgICAKCiAgICAgICAgbWFya2VyXzk0MjJmZTQ3NWExMjQ4MzNhYTNiMzNlNzU5OGQyOTRiLmJpbmRQb3B1cChwb3B1cF9jYjVlYTBlMjAzNjk0ZDk5YTgzYmM2ODk4NGFmMDkxMikKICAgICAgICA7CgogICAgICAgIAogICAgCiAgICAKICAgICAgICAgICAgdmFyIHBvbHlfbGluZV84Yjg5OWNlM2E1NmE0N2IyOTQzNDVlMmJiYThkNzliNiA9IEwucG9seWxpbmUoCiAgICAgICAgICAgICAgICBbW1s0Ny4wLCAtMTIyLjBdLCBbNDcuMCwgLTE1MC4wXV0sIFtbNDcuMCwgLTEyMi4wXSwgWzQwLjAsIC0xMjIuMF1dLCBbWzQ3LjAsIC0xNTAuMF0sIFs0MC4wLCAtMTUwLjBdXSwgW1s0MC4wLCAtMTUwLjBdLCBbNDAuMCwgLTEyMi4wXV1dLAogICAgICAgICAgICAgICAgeyJidWJibGluZ01vdXNlRXZlbnRzIjogdHJ1ZSwgImNvbG9yIjogImJsdWUiLCAiZGFzaEFycmF5IjogbnVsbCwgImRhc2hPZmZzZXQiOiBudWxsLCAiZmlsbCI6IGZhbHNlLCAiZmlsbENvbG9yIjogImJsdWUiLCAiZmlsbE9wYWNpdHkiOiAwLjIsICJmaWxsUnVsZSI6ICJldmVub2RkIiwgImxpbmVDYXAiOiAicm91bmQiLCAibGluZUpvaW4iOiAicm91bmQiLCAibm9DbGlwIjogZmFsc2UsICJvcGFjaXR5IjogMSwgInNtb290aEZhY3RvciI6IDAsICJzdHJva2UiOiB0cnVlLCAid2VpZ2h0IjogNH0KICAgICAgICAgICAgKS5hZGRUbyhtYXBfZmM0MzllM2Q1MjEzNDBmYWI3NTk4ZGFmNzM1MmNmMTApOwogICAgICAgIAo8L3NjcmlwdD4=\" style=\"position:absolute;width:100%;height:100%;left:0;top:0;border:none !important;\" allowfullscreen webkitallowfullscreen mozallowfullscreen></iframe></div></div>"
      ],
      "text/plain": [
       "<folium.folium.Map at 0x111b20eb8>"
      ]
     },
     "execution_count": 2,
     "metadata": {},
     "output_type": "execute_result"
    }
   ],
   "source": [
    "# Make an empty map\n",
    "m = folium.Map(location=[20, 0], zoom_start=2)\n",
    "\n",
    "# Make a data frame with dots to show on the map\n",
    "data = pd.DataFrame({\n",
    "    'lat':[-122, -122.1, -125, -125, -4.03, -73.57, 36.82, -38.5],\n",
    "    'lon':[47, 47.3, 47.99, 50, 5.33, 45.52, -1.29, -12.97],\n",
    "    'name':['one', 'two', 'three', 'four', 'five', 'six', 'seven', 'eight']\n",
    "    })\n",
    "\n",
    "# Add data markers onto the map\n",
    "for i in range(0,len(data)):\n",
    "    folium.Marker([data.iloc[i]['lon'], data.iloc[i]['lat']], popup=data.iloc[i]['name']).add_to(m)\n",
    "\n",
    "# Display the box for the search query\n",
    "locations = [\n",
    "    [(47, -122), (47, -150)],\n",
    "    [(47, -122), (40, -122)],\n",
    "    [(47, -150), (40, -150)],\n",
    "    [(40, -150), (40, -122)]]\n",
    "folium.PolyLine(\n",
    "    locations=locations,\n",
    "    color=\"blue\",\n",
    "    weight=4,\n",
    "    opacity=1,\n",
    "    smooth_factor=0,\n",
    ").add_to(m)\n",
    "\n",
    "# Display map\n",
    "m\n",
    "\n",
    "# Save it as html\n",
    "#m.save('markers_on_folium_map.html')\n"
   ]
  },
  {
   "cell_type": "markdown",
   "metadata": {},
   "source": [
    "### Making a plot from example data\n"
   ]
  },
  {
   "cell_type": "code",
   "execution_count": 21,
   "metadata": {},
   "outputs": [
    {
     "data": {
      "text/html": [
       "<div>\n",
       "<style scoped>\n",
       "    .dataframe tbody tr th:only-of-type {\n",
       "        vertical-align: middle;\n",
       "    }\n",
       "\n",
       "    .dataframe tbody tr th {\n",
       "        vertical-align: top;\n",
       "    }\n",
       "\n",
       "    .dataframe thead th {\n",
       "        text-align: right;\n",
       "    }\n",
       "</style>\n",
       "<table border=\"1\" class=\"dataframe\">\n",
       "  <thead>\n",
       "    <tr style=\"text-align: right;\">\n",
       "      <th></th>\n",
       "      <th>Unnamed: 0</th>\n",
       "      <th>latitude (degrees_north)</th>\n",
       "      <th>longitude (degrees_east)</th>\n",
       "      <th>dataset_count</th>\n",
       "      <th>dataset_download_url</th>\n",
       "      <th>Dataset ID</th>\n",
       "    </tr>\n",
       "  </thead>\n",
       "  <tbody>\n",
       "    <tr>\n",
       "      <td>0</td>\n",
       "      <td>0</td>\n",
       "      <td>39.025</td>\n",
       "      <td>-71.711</td>\n",
       "      <td>1</td>\n",
       "      <td>https://coastwatch.pfeg.noaa.gov/erddap/tabled...</td>\n",
       "      <td>erdGtsppBest</td>\n",
       "    </tr>\n",
       "    <tr>\n",
       "      <td>1</td>\n",
       "      <td>1</td>\n",
       "      <td>39.244</td>\n",
       "      <td>-71.315</td>\n",
       "      <td>1</td>\n",
       "      <td>https://coastwatch.pfeg.noaa.gov/erddap/tabled...</td>\n",
       "      <td>erdGtsppBest</td>\n",
       "    </tr>\n",
       "    <tr>\n",
       "      <td>2</td>\n",
       "      <td>2</td>\n",
       "      <td>39.296</td>\n",
       "      <td>-70.464</td>\n",
       "      <td>1</td>\n",
       "      <td>https://coastwatch.pfeg.noaa.gov/erddap/tabled...</td>\n",
       "      <td>erdGtsppBest</td>\n",
       "    </tr>\n",
       "    <tr>\n",
       "      <td>3</td>\n",
       "      <td>3</td>\n",
       "      <td>39.645</td>\n",
       "      <td>-71.664</td>\n",
       "      <td>1</td>\n",
       "      <td>https://coastwatch.pfeg.noaa.gov/erddap/tabled...</td>\n",
       "      <td>erdGtsppBest</td>\n",
       "    </tr>\n",
       "    <tr>\n",
       "      <td>4</td>\n",
       "      <td>4</td>\n",
       "      <td>39.668</td>\n",
       "      <td>-70.735</td>\n",
       "      <td>1</td>\n",
       "      <td>https://coastwatch.pfeg.noaa.gov/erddap/tabled...</td>\n",
       "      <td>erdGtsppBest</td>\n",
       "    </tr>\n",
       "    <tr>\n",
       "      <td>5</td>\n",
       "      <td>5</td>\n",
       "      <td>39.706</td>\n",
       "      <td>-71.464</td>\n",
       "      <td>1</td>\n",
       "      <td>https://coastwatch.pfeg.noaa.gov/erddap/tabled...</td>\n",
       "      <td>erdGtsppBest</td>\n",
       "    </tr>\n",
       "    <tr>\n",
       "      <td>6</td>\n",
       "      <td>0</td>\n",
       "      <td>40.503</td>\n",
       "      <td>-69.248</td>\n",
       "      <td>3</td>\n",
       "      <td>http://erddap.emodnet-physics.eu/erddap/tabled...</td>\n",
       "      <td>EP_INSITU_DRYT_TS</td>\n",
       "    </tr>\n",
       "  </tbody>\n",
       "</table>\n",
       "</div>"
      ],
      "text/plain": [
       "   Unnamed: 0  latitude (degrees_north)  longitude (degrees_east)  \\\n",
       "0           0                    39.025                   -71.711   \n",
       "1           1                    39.244                   -71.315   \n",
       "2           2                    39.296                   -70.464   \n",
       "3           3                    39.645                   -71.664   \n",
       "4           4                    39.668                   -70.735   \n",
       "5           5                    39.706                   -71.464   \n",
       "6           0                    40.503                   -69.248   \n",
       "\n",
       "   dataset_count                               dataset_download_url  \\\n",
       "0              1  https://coastwatch.pfeg.noaa.gov/erddap/tabled...   \n",
       "1              1  https://coastwatch.pfeg.noaa.gov/erddap/tabled...   \n",
       "2              1  https://coastwatch.pfeg.noaa.gov/erddap/tabled...   \n",
       "3              1  https://coastwatch.pfeg.noaa.gov/erddap/tabled...   \n",
       "4              1  https://coastwatch.pfeg.noaa.gov/erddap/tabled...   \n",
       "5              1  https://coastwatch.pfeg.noaa.gov/erddap/tabled...   \n",
       "6              3  http://erddap.emodnet-physics.eu/erddap/tabled...   \n",
       "\n",
       "          Dataset ID  \n",
       "0       erdGtsppBest  \n",
       "1       erdGtsppBest  \n",
       "2       erdGtsppBest  \n",
       "3       erdGtsppBest  \n",
       "4       erdGtsppBest  \n",
       "5       erdGtsppBest  \n",
       "6  EP_INSITU_DRYT_TS  "
      ]
     },
     "execution_count": 21,
     "metadata": {},
     "output_type": "execute_result"
    }
   ],
   "source": [
    "coordinates =pd.read_csv('coordinates.csv')\n",
    "coordinates"
   ]
  },
  {
   "cell_type": "code",
   "execution_count": 36,
   "metadata": {},
   "outputs": [
    {
     "data": {
      "text/plain": [
       "[(40.503, -71.711), (40.503, -69.248), (39.025, -69.248), (39.025, -71.711)]"
      ]
     },
     "execution_count": 36,
     "metadata": {},
     "output_type": "execute_result"
    }
   ],
   "source": [
    "# making the boundary box for the data query\n",
    "bbox=[0,0,0,0]\n",
    "bbox[0]=(max(coordinates['latitude (degrees_north)']),min(coordinates['longitude (degrees_east)']))\n",
    "bbox[1]=(max(coordinates['latitude (degrees_north)']),max(coordinates['longitude (degrees_east)']))\n",
    "bbox[2]=(min(coordinates['latitude (degrees_north)']),max(coordinates['longitude (degrees_east)']))\n",
    "bbox[3]=(min(coordinates['latitude (degrees_north)']),min(coordinates['longitude (degrees_east)']))\n",
    "bbox"
   ]
  },
  {
   "cell_type": "code",
   "execution_count": 43,
   "metadata": {},
   "outputs": [
    {
     "data": {
      "text/html": [
       "<div style=\"width:100%;\"><div style=\"position:relative;width:100%;height:0;padding-bottom:60%;\"><iframe src=\"data:text/html;charset=utf-8;base64,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\" style=\"position:absolute;width:100%;height:100%;left:0;top:0;border:none !important;\" allowfullscreen webkitallowfullscreen mozallowfullscreen></iframe></div></div>"
      ],
      "text/plain": [
       "<folium.folium.Map at 0x112b212e8>"
      ]
     },
     "execution_count": 43,
     "metadata": {},
     "output_type": "execute_result"
    }
   ],
   "source": [
    "# Make an empty map\n",
    "m = folium.Map(location=[0, 0], zoom_start=2)\n",
    "\n",
    "# Add data markers onto the map\n",
    "for i in range(0,len(coordinates)):\n",
    "    folium.Marker([coordinates.iloc[i]['latitude (degrees_north)'], \n",
    "                   coordinates.iloc[i]['longitude (degrees_east)']], \n",
    "                   popup=coordinates.iloc[i]['dataset_download_url']).add_to(m)\n",
    "\n",
    "# Display the box for the search query\n",
    "locations = [\n",
    "    [bbox[0], bbox[1]],\n",
    "    [bbox[0], bbox[3]],\n",
    "    [bbox[1], bbox[2]],\n",
    "    [bbox[2], bbox[3]]]\n",
    "folium.PolyLine(\n",
    "    locations=locations,\n",
    "    color=\"blue\",\n",
    "    weight=4,\n",
    "    opacity=1,\n",
    "    smooth_factor=0,\n",
    ").add_to(m)\n",
    "\n",
    "# Display map\n",
    "m\n",
    "\n",
    "# Save it as html\n",
    "#m.save('markers_on_folium_map.html')\n"
   ]
  },
  {
   "cell_type": "code",
   "execution_count": null,
   "metadata": {},
   "outputs": [],
   "source": []
  }
 ],
 "metadata": {
  "kernelspec": {
   "display_name": "Python 3",
   "language": "python",
   "name": "python3"
  },
  "language_info": {
   "codemirror_mode": {
    "name": "ipython",
    "version": 3
   },
   "file_extension": ".py",
   "mimetype": "text/x-python",
   "name": "python",
   "nbconvert_exporter": "python",
   "pygments_lexer": "ipython3",
   "version": "3.7.3"
  }
 },
 "nbformat": 4,
 "nbformat_minor": 4
}
