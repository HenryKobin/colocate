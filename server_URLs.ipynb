{
 "cells": [
  {
   "cell_type": "markdown",
   "metadata": {},
   "source": [
    "# This is a list of ERDDAP servers"
   ]
  },
  {
   "cell_type": "markdown",
   "metadata": {},
   "source": [
    "# this is from the utilities.py from ioos/erddapy \n",
    "servers = {\n",
    "    \"MDA\": _server(\n",
    "        \"Marine Domain Awareness (MDA) - Italy\",\n",
    "        \"https://bluehub.jrc.ec.europa.eu/erddap/\",\n",
    "    ),\n",
    "    \"MII\": _server(\n",
    "        \"Marine Institute - Ireland\", \"https://erddap.marine.ie/erddap/\"\n",
    "    ),\n",
    "    \"CSCGOM\": _server(\n",
    "        \"CoastWatch Caribbean/Gulf of Mexico Node\",\n",
    "        \"http://cwcgom.aoml.noaa.gov/erddap/\",\n",
    "    ),\n",
    "    \"CSWC\": _server(\n",
    "        \"CoastWatch West Coast Node\",\n",
    "        \"https://coastwatch.pfeg.noaa.gov/erddap/\",\n",
    "    ),\n",
    "    \"CeNCOOS\": _server(\n",
    "        \"NOAA IOOS CeNCOOS (Central and Northern California Ocean Observing System)\",\n",
    "        \"http://erddap.axiomalaska.com/erddap/\",\n",
    "    ),\n",
    "    \"NERACOOS\": _server(\n",
    "        \"NOAA IOOS NERACOOS (Northeastern Regional Association of Coastal and Ocean Observing Systems)\",\n",
    "        \"http://www.neracoos.org/erddap/\",\n",
    "    ),\n",
    "    \"NGDAC\": _server(\n",
    "        \"NOAA IOOS NGDAC (National Glider Data Assembly Center)\",\n",
    "        \"https://data.ioos.us/gliders/erddap/\",\n",
    "    ),\n",
    "    \"PacIOOS\": _server(\n",
    "        \"NOAA IOOS PacIOOS (Pacific Islands Ocean Observing System) at the University of Hawaii (UH)\",\n",
    "        \"http://oos.soest.hawaii.edu/erddap/\",\n",
    "    ),\n",
    "    \"SECOORA\": _server(\n",
    "        \"NOAA IOOS SECOORA (Southeast Coastal Ocean Observing Regional Association)\",\n",
    "        \"http://erddap.secoora.org/erddap/\",\n",
    "    ),\n",
    "    \"NCEI\": _server(\n",
    "        \"NOAA NCEI (National Centers for Environmental Information) / NCDDC\",\n",
    "        \"https://ecowatch.ncddc.noaa.gov/erddap/\",\n",
    "    ),\n",
    "    \"OSMC\": _server(\n",
    "        \"NOAA OSMC (Observing System Monitoring Center)\",\n",
    "        \"http://osmc.noaa.gov/erddap/\",\n",
    "    ),\n",
    "    \"UAF\": _server(\n",
    "        \"NOAA UAF (Unified Access Framework)\",\n",
    "        \"https://upwell.pfeg.noaa.gov/erddap/\",\n",
    "    ),\n",
    "    \"ONC\": _server(\n",
    "        \"ONC (Ocean Networks Canada)\", \"http://dap.onc.uvic.ca/erddap/\"\n",
    "    ),\n",
    "    \"BMLSC\": _server(\n",
    "        \"UC Davis BML (University of California at Davis, Bodega Marine Laboratory)\",\n",
    "        \"http://bmlsc.ucdavis.edu:8080/erddap/\",\n",
    "    ),\n",
    "    \"RTECH\": _server(\"R.Tech Engineering\", \"https://meteo.rtech.fr/erddap/\"),\n",
    "    \"IFREMER\": _server(\n",
    "        \"French Research Institute for the Exploitation of the Sea\",\n",
    "        \"http://www.ifremer.fr/erddap/\",\n",
    "    ),\n",
    "    \"UBC\": _server(\n",
    "        \"UBC Earth, Ocean & Atmospheric Sciences SalishSeaCast Project\",\n",
    "        \"https://salishsea.eos.ubc.ca/erddap/\",\n",
    "    ),\n",
    "}"
   ]
  }
 ],
 "metadata": {
  "kernelspec": {
   "display_name": "Python 3",
   "language": "python",
   "name": "python3"
  },
  "language_info": {
   "codemirror_mode": {
    "name": "ipython",
    "version": 3
   },
   "file_extension": ".py",
   "mimetype": "text/x-python",
   "name": "python",
   "nbconvert_exporter": "python",
   "pygments_lexer": "ipython3",
   "version": "3.7.3"
  }
 },
 "nbformat": 4,
 "nbformat_minor": 2
}
